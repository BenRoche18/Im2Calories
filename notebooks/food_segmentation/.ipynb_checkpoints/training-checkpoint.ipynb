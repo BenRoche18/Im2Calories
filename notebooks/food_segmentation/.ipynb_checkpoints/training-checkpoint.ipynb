{
 "cells": [
  {
   "cell_type": "markdown",
   "metadata": {
    "colab_type": "text",
    "id": "i_nLyDv8Vm2C"
   },
   "source": [
    "# Set up environment"
   ]
  },
  {
   "cell_type": "code",
   "execution_count": 1,
   "metadata": {
    "colab": {},
    "colab_type": "code",
    "id": "ISJ0ihdNdjhS"
   },
   "outputs": [],
   "source": [
    "import torch\n",
    "import torchvision\n",
    "import torchvision.transforms as transforms\n",
    "from torchsummary import summary\n",
    "\n",
    "import os\n",
    "import re\n",
    "import matplotlib.pyplot as plt\n",
    "import matplotlib.patches as patches\n",
    "import numpy as np\n",
    "import copy\n",
    "import shutil\n",
    "from PIL import Image\n",
    "from tqdm.autonotebook import tqdm\n",
    "import sys"
   ]
  },
  {
   "cell_type": "markdown",
   "metadata": {},
   "source": [
    "## Import utility functions from Pytorch"
   ]
  },
  {
   "cell_type": "code",
   "execution_count": 2,
   "metadata": {},
   "outputs": [],
   "source": [
    "ROOT_DIR = os.path.dirname(os.path.dirname(os.getcwd()))\n",
    "\n",
    "sys.path.append(os.path.join(ROOT_DIR, \"utilities\"))\n",
    "\n",
    "from engine import train_one_epoch, evaluate\n",
    "import utils"
   ]
  },
  {
   "cell_type": "markdown",
   "metadata": {
    "colab_type": "text",
    "id": "0wjsABqdVyKa"
   },
   "source": [
    "## Enable GPU"
   ]
  },
  {
   "cell_type": "code",
   "execution_count": 3,
   "metadata": {
    "colab": {},
    "colab_type": "code",
    "id": "7rQNqPXEV4Ad"
   },
   "outputs": [
    {
     "name": "stdout",
     "output_type": "stream",
     "text": [
      "Running on cuda:0\n"
     ]
    }
   ],
   "source": [
    "device = torch.device(\"cuda:0\" if torch.cuda.is_available() else \"cpu\")\n",
    "print(\"Running on\", device)"
   ]
  },
  {
   "cell_type": "markdown",
   "metadata": {
    "colab_type": "text",
    "id": "C8eHVTWDif9d"
   },
   "source": [
    "## Declare parameters"
   ]
  },
  {
   "cell_type": "code",
   "execution_count": 4,
   "metadata": {
    "colab": {},
    "colab_type": "code",
    "id": "-Y0qqicdirJ_"
   },
   "outputs": [],
   "source": [
    "IMAGE_SIZE = 512\n",
    "BATCH_SIZE = 4"
   ]
  },
  {
   "cell_type": "markdown",
   "metadata": {
    "colab_type": "text",
    "id": "WUlZthLcWNJT"
   },
   "source": [
    "# Input data"
   ]
  },
  {
   "cell_type": "markdown",
   "metadata": {},
   "source": [
    "## Define BurgerFriesDataset class"
   ]
  },
  {
   "cell_type": "code",
   "execution_count": 14,
   "metadata": {},
   "outputs": [],
   "source": [
    "BURGER_FRIES_DIR = os.path.join(os.path.abspath(os.sep), \"Datasets\", \"burger_fries\")\n",
    "\n",
    "class BurgerFriesDataset(torch.utils.data.Dataset):\n",
    "    def __init__(self, root, transform=None):\n",
    "        self.root = root\n",
    "        self.transform = transform\n",
    "        self.images = list(sorted(os.listdir(os.path.join(root, \"Images\"))))\n",
    "        self.masks = list(sorted(os.listdir(os.path.join(root, \"Masks\"))))\n",
    "        self.classes = ['background', 'burger', 'fries']\n",
    "        \n",
    "    def __getitem__(self, index):\n",
    "        # image\n",
    "        img = Image.open(os.path.join(self.root, \"Images\", self.images[index])).convert(\"RGB\")\n",
    "            \n",
    "        labels = []\n",
    "        boxes = []\n",
    "        areas = []\n",
    "        masks = []\n",
    "        \n",
    "        for mask_path in filter(lambda x: x.split('_')[0] == self.images[index].split('.')[0], self.masks):\n",
    "            # label\n",
    "            lbl = int(re.split('[_.]', mask_path)[2]) + 1\n",
    "            labels.append(lbl)\n",
    "            \n",
    "            # segmentation mask\n",
    "            mask = Image.open(os.path.join(self.root, \"Masks\", mask_path))\n",
    "            \n",
    "            # resize to a max of IMAGE_SIZE\n",
    "            w, h = mask.size\n",
    "            scale = min(IMAGE_SIZE/w, IMAGE_SIZE/h)\n",
    "            mask = transforms.functional.resize(mask, (int(h*scale), int(w*scale)))\n",
    "        \n",
    "            # add padding to a size of IMAGE_SIZE\n",
    "            mask = transforms.functional.pad(mask, (0, 0, IMAGE_SIZE-int(w*scale), IMAGE_SIZE-int(h*scale)))\n",
    "\n",
    "            # read mask as binary array\n",
    "            mask = np.array(mask)[:,:,3]\n",
    "            mask[mask > 0] = 1\n",
    "            masks.append(mask)\n",
    "            \n",
    "            # bounding box\n",
    "            pos = np.where(mask)\n",
    "            x1 = np.min(pos[1])\n",
    "            y1 = np.min(pos[0])\n",
    "            x2 = np.max(pos[1])\n",
    "            y2 = np.max(pos[0])\n",
    "            boxes.append([x1, y1, x2, y2])\n",
    "            \n",
    "            # area\n",
    "            areas.append((x2-x1)*(y2-y1))\n",
    "\n",
    "        target = {\n",
    "            \"image_id\": torch.as_tensor([index]),\n",
    "            \"labels\": torch.as_tensor(labels, dtype=torch.int64),\n",
    "            \"boxes\": torch.as_tensor(boxes, dtype=torch.float32),\n",
    "            \"area\": torch.as_tensor(areas),\n",
    "            \"iscrowd\": torch.zeros(len(labels), dtype=torch.int64),\n",
    "            \"masks\": torch.as_tensor(masks)\n",
    "        }\n",
    "        \n",
    "        if self.transform is not None:\n",
    "            img, target = self.transform(img, target)\n",
    "            \n",
    "        return img, target\n",
    "        \n",
    "    \n",
    "    def __len__(self):\n",
    "        return len(self.images)"
   ]
  },
  {
   "cell_type": "markdown",
   "metadata": {},
   "source": [
    "## Format images"
   ]
  },
  {
   "cell_type": "code",
   "execution_count": 15,
   "metadata": {},
   "outputs": [],
   "source": [
    "# custom transform for R-CNN input\n",
    "class CustomTransform:\n",
    "    def __init__(self, image_size):\n",
    "        self.image_size = image_size\n",
    "        \n",
    "    def __call__(self, img, target):\n",
    "        # resize to a max of IMAGE_SIZE\n",
    "        w, h = img.size\n",
    "        scale = min(IMAGE_SIZE/w, IMAGE_SIZE/h)\n",
    "        img = transforms.functional.resize(img, (int(h*scale), int(w*scale)))\n",
    "        \n",
    "        # add padding to a size of IMAGE_SIZE\n",
    "        img = transforms.functional.pad(img, (0, 0, IMAGE_SIZE-int(w*scale), IMAGE_SIZE-int(h*scale)))\n",
    "        \n",
    "        # convert to tensor\n",
    "        img = transforms.functional.to_tensor(img)\n",
    "        \n",
    "        # normalize\n",
    "        img = transforms.functional.normalize(img, [0.485, 0.456, 0.406], [0.229, 0.224, 0.225])\n",
    "        \n",
    "        return img, target\n",
    "\n",
    "transform = CustomTransform(image_size=IMAGE_SIZE)\n",
    "\n",
    "train_raw = BurgerFriesDataset(BURGER_FRIES_DIR, transform=transform)\n",
    "\n",
    "class_names = train_raw.classes"
   ]
  },
  {
   "cell_type": "markdown",
   "metadata": {},
   "source": [
    "## Split dataset into train and val sets"
   ]
  },
  {
   "cell_type": "code",
   "execution_count": 16,
   "metadata": {},
   "outputs": [],
   "source": [
    "# define how to batch data (i.e not combine target dicitonaries)\n",
    "def collate_fn(batch):\n",
    "    return tuple(zip(*batch))\n",
    "\n",
    "train_size = len(train_raw)\n",
    "train_loader = torch.utils.data.DataLoader(train_raw, batch_size=BATCH_SIZE, shuffle=True, collate_fn=collate_fn)"
   ]
  },
  {
   "cell_type": "markdown",
   "metadata": {},
   "source": [
    "## Show example image with bounding boxes"
   ]
  },
  {
   "cell_type": "code",
   "execution_count": 18,
   "metadata": {
    "colab": {},
    "colab_type": "code",
    "id": "pXJIlUvAmRJO"
   },
   "outputs": [
    {
     "data": {
      "image/png": "[encoded data removed]",
      "text/plain": [
       "<Figure size 432x288 with 1 Axes>"
      ]
     },
     "execution_count": 18,
     "metadata": {},
     "output_type": "execute_result"
    }
   ],
   "source": [
    "fig, axis= plt.subplots(1)\n",
    "\n",
    "#randomly select image from dataset\n",
    "i = np.random.randint(train_size)\n",
    "img = train_raw[i][0].numpy()\n",
    "img = np.transpose(img, (1,2,0))\n",
    "img = np.clip(img, 0, 1)\n",
    "plt.imshow(img)\n",
    "\n",
    "# draw bounding box\n",
    "x1, y1, x2, y2 = train_raw[i][1][\"boxes\"][0]\n",
    "box = patches.Rectangle((x1, y1), x2-x1, y2-y1, linewidth=2, edgecolor='r', facecolor='none')\n",
    "axis.add_patch(box)\n",
    "\n",
    "plt.title(class_names[train_raw[i][1][\"labels\"][0]])\n",
    "\n",
    "fig"
   ]
  },
  {
   "cell_type": "markdown",
   "metadata": {
    "colab_type": "text",
    "id": "Xzgyw9d1YtJx"
   },
   "source": [
    "# Model"
   ]
  },
  {
   "cell_type": "markdown",
   "metadata": {},
   "source": [
    "## Create Mask R-CNN from resnet backbone\n",
    "\n",
    "Template taken from [1]."
   ]
  },
  {
   "cell_type": "code",
   "execution_count": 19,
   "metadata": {},
   "outputs": [
    {
     "name": "stdout",
     "output_type": "stream",
     "text": [
      "Creating mask R-CNN... done\n"
     ]
    }
   ],
   "source": [
    "print(\"Creating mask R-CNN... \", end=\"\")\n",
    "\n",
    "# load pretrained model\n",
    "model = torchvision.models.detection.maskrcnn_resnet50_fpn(pretrained=True)\n",
    "\n",
    "# replace classification head\n",
    "in_features = model.roi_heads.box_predictor.cls_score.in_features\n",
    "model.roi_heads.box_predictor = torchvision.models.detection.faster_rcnn.FastRCNNPredictor(in_features, len(class_names))\n",
    "\n",
    "# create mask classifier\n",
    "in_features_mask = model.roi_heads.mask_predictor.conv5_mask.in_channels\n",
    "hidden_layer = 256\n",
    "\n",
    "# replace mask predictor\n",
    "model.roi_heads.mask_predictor = torchvision.models.detection.mask_rcnn.MaskRCNNPredictor(in_features_mask, hidden_layer, len(class_names))\n",
    "\n",
    "model = model.to(device)\n",
    "print(\"done\") "
   ]
  },
  {
   "cell_type": "markdown",
   "metadata": {},
   "source": [
    "## Load checkpoint if weights file exists"
   ]
  },
  {
   "cell_type": "code",
   "execution_count": null,
   "metadata": {},
   "outputs": [],
   "source": [
    "MODEL_PATH = os.path.join(ROOT_DIR, \"models\", \"food_segmentation\", MODEL_NAME, \"fine_tuning.pt\")\n",
    "\n",
    "if os.path.exists(MODEL_PATH):\n",
    "    print(\"Loading weights from checkpoint...\", end=\"\")\n",
    "    model.load_state_dict(torch.load(MODEL_PATH))\n",
    "    print(\"done\")"
   ]
  },
  {
   "cell_type": "markdown",
   "metadata": {
    "colab_type": "text",
    "id": "uvnnS8hWjPSV"
   },
   "source": [
    "# Train"
   ]
  },
  {
   "cell_type": "markdown",
   "metadata": {
    "colab_type": "text",
    "id": "xGOLOjPWHxtO"
   },
   "source": [
    "## Declare training parameters"
   ]
  },
  {
   "cell_type": "code",
   "execution_count": 20,
   "metadata": {
    "colab": {},
    "colab_type": "code",
    "id": "iK1NBW85H1q0"
   },
   "outputs": [],
   "source": [
    "learning_rate = 0.01\n",
    "epochs = 5\n",
    "\n",
    "# fetch trainable parameters for transfer learning(where requires_grad = true)\n",
    "params = [p for p in model.parameters() if p.requires_grad]\n",
    "\n",
    "optimizer = torch.optim.SGD(params, lr=learning_rate)"
   ]
  },
  {
   "cell_type": "markdown",
   "metadata": {
    "colab_type": "text",
    "id": "sg6d4uuPkWUM"
   },
   "source": [
    "## Train and save model"
   ]
  },
  {
   "cell_type": "code",
   "execution_count": 21,
   "metadata": {},
   "outputs": [
    {
     "name": "stdout",
     "output_type": "stream",
     "text": [
      "Epoch: [0]  [ 0/44]  eta: 0:00:35  lr: 0.000242  loss: 2.9124 (2.9124)  loss_classifier: 1.0228 (1.0228)  loss_box_reg: 0.0532 (0.0532)  loss_mask: 1.8033 (1.8033)  loss_objectness: 0.0247 (0.0247)  loss_rpn_box_reg: 0.0084 (0.0084)  time: 0.8031  data: 0.1107  max mem: 3148\n",
      "Epoch: [0]  [10/44]  eta: 0:00:27  lr: 0.002566  loss: 1.2359 (1.9698)  loss_classifier: 0.2773 (0.4455)  loss_box_reg: 0.0532 (0.0591)  loss_mask: 0.8390 (1.4078)  loss_objectness: 0.0354 (0.0456)  loss_rpn_box_reg: 0.0100 (0.0117)  time: 0.7985  data: 0.1328  max mem: 3148\n",
      "Epoch: [0]  [20/44]  eta: 0:00:19  lr: 0.004889  loss: 1.0390 (1.4538)  loss_classifier: 0.1523 (0.2906)  loss_box_reg: 0.0624 (0.0712)  loss_mask: 0.7117 (1.0418)  loss_objectness: 0.0268 (0.0372)  loss_rpn_box_reg: 0.0126 (0.0131)  time: 0.8079  data: 0.1403  max mem: 3148\n",
      "Epoch: [0]  [30/44]  eta: 0:00:11  lr: 0.007212  loss: 0.7529 (1.2110)  loss_classifier: 0.0988 (0.2266)  loss_box_reg: 0.0767 (0.0755)  loss_mask: 0.5519 (0.8663)  loss_objectness: 0.0189 (0.0302)  loss_rpn_box_reg: 0.0099 (0.0124)  time: 0.8107  data: 0.1352  max mem: 3148\n",
      "Epoch: [0]  [40/44]  eta: 0:00:03  lr: 0.009535  loss: 0.6745 (1.0944)  loss_classifier: 0.0898 (0.1957)  loss_box_reg: 0.0803 (0.0772)  loss_mask: 0.4746 (0.7833)  loss_objectness: 0.0143 (0.0265)  loss_rpn_box_reg: 0.0089 (0.0116)  time: 0.8023  data: 0.1247  max mem: 3148\n",
      "Epoch: [0]  [43/44]  eta: 0:00:00  lr: 0.010000  loss: 0.6583 (1.0567)  loss_classifier: 0.0878 (0.1880)  loss_box_reg: 0.0803 (0.0774)  loss_mask: 0.4532 (0.7547)  loss_objectness: 0.0105 (0.0253)  loss_rpn_box_reg: 0.0085 (0.0113)  time: 0.8024  data: 0.1239  max mem: 3148\n",
      "Epoch: [0] Total time: 0:00:35 (0.8051 s / it)\n",
      "Epoch: [1]  [ 0/44]  eta: 0:00:37  lr: 0.010000  loss: 0.9828 (0.9828)  loss_classifier: 0.1540 (0.1540)  loss_box_reg: 0.1346 (0.1346)  loss_mask: 0.6648 (0.6648)  loss_objectness: 0.0173 (0.0173)  loss_rpn_box_reg: 0.0121 (0.0121)  time: 0.8419  data: 0.1451  max mem: 3148\n",
      "Epoch: [1]  [10/44]  eta: 0:00:27  lr: 0.010000  loss: 0.5614 (0.6175)  loss_classifier: 0.0840 (0.0969)  loss_box_reg: 0.0807 (0.0852)  loss_mask: 0.3600 (0.4126)  loss_objectness: 0.0095 (0.0108)  loss_rpn_box_reg: 0.0120 (0.0120)  time: 0.8161  data: 0.1311  max mem: 3148\n",
      "Epoch: [1]  [20/44]  eta: 0:00:19  lr: 0.010000  loss: 0.5642 (0.6974)  loss_classifier: 0.0794 (0.0910)  loss_box_reg: 0.0751 (0.0798)  loss_mask: 0.4243 (0.4982)  loss_objectness: 0.0107 (0.0177)  loss_rpn_box_reg: 0.0081 (0.0107)  time: 0.8115  data: 0.1277  max mem: 3148\n",
      "Epoch: [1]  [30/44]  eta: 0:00:11  lr: 0.010000  loss: 0.6553 (0.6707)  loss_classifier: 0.0830 (0.0947)  loss_box_reg: 0.0822 (0.0824)  loss_mask: 0.4112 (0.4666)  loss_objectness: 0.0142 (0.0169)  loss_rpn_box_reg: 0.0074 (0.0101)  time: 0.8191  data: 0.1312  max mem: 3148\n",
      "Epoch: [1]  [40/44]  eta: 0:00:03  lr: 0.010000  loss: 0.5312 (0.6334)  loss_classifier: 0.0885 (0.0949)  loss_box_reg: 0.0823 (0.0845)  loss_mask: 0.3408 (0.4296)  loss_objectness: 0.0088 (0.0147)  loss_rpn_box_reg: 0.0074 (0.0097)  time: 0.8274  data: 0.1338  max mem: 3148\n",
      "Epoch: [1]  [43/44]  eta: 0:00:00  lr: 0.010000  loss: 0.5312 (0.6203)  loss_classifier: 0.0865 (0.0952)  loss_box_reg: 0.0822 (0.0854)  loss_mask: 0.3404 (0.4161)  loss_objectness: 0.0074 (0.0142)  loss_rpn_box_reg: 0.0074 (0.0094)  time: 0.8273  data: 0.1328  max mem: 3148\n",
      "Epoch: [1] Total time: 0:00:36 (0.8204 s / it)\n",
      "Epoch: [2]  [ 0/44]  eta: 0:00:37  lr: 0.010000  loss: 0.6613 (0.6613)  loss_classifier: 0.1288 (0.1288)  loss_box_reg: 0.1178 (0.1178)  loss_mask: 0.4037 (0.4037)  loss_objectness: 0.0067 (0.0067)  loss_rpn_box_reg: 0.0044 (0.0044)  time: 0.8538  data: 0.1525  max mem: 3148\n",
      "Epoch: [2]  [10/44]  eta: 0:00:28  lr: 0.010000  loss: 0.4692 (0.4688)  loss_classifier: 0.0841 (0.0867)  loss_box_reg: 0.0844 (0.0892)  loss_mask: 0.2878 (0.2788)  loss_objectness: 0.0065 (0.0061)  loss_rpn_box_reg: 0.0069 (0.0080)  time: 0.8320  data: 0.1346  max mem: 3148\n",
      "Epoch: [2]  [20/44]  eta: 0:00:19  lr: 0.010000  loss: 0.4081 (0.4347)  loss_classifier: 0.0708 (0.0797)  loss_box_reg: 0.0739 (0.0816)  loss_mask: 0.2262 (0.2589)  loss_objectness: 0.0054 (0.0064)  loss_rpn_box_reg: 0.0069 (0.0080)  time: 0.8300  data: 0.1323  max mem: 3148\n",
      "Epoch: [2]  [30/44]  eta: 0:00:11  lr: 0.010000  loss: 0.3837 (0.4250)  loss_classifier: 0.0697 (0.0774)  loss_box_reg: 0.0662 (0.0788)  loss_mask: 0.2262 (0.2545)  loss_objectness: 0.0034 (0.0064)  loss_rpn_box_reg: 0.0069 (0.0079)  time: 0.8305  data: 0.1315  max mem: 3148\n",
      "Epoch: [2]  [40/44]  eta: 0:00:03  lr: 0.010000  loss: 0.3392 (0.4049)  loss_classifier: 0.0574 (0.0747)  loss_box_reg: 0.0607 (0.0761)  loss_mask: 0.2085 (0.2408)  loss_objectness: 0.0028 (0.0056)  loss_rpn_box_reg: 0.0069 (0.0076)  time: 0.8300  data: 0.1302  max mem: 3148\n",
      "Epoch: [2]  [43/44]  eta: 0:00:00  lr: 0.010000  loss: 0.3502 (0.4050)  loss_classifier: 0.0571 (0.0736)  loss_box_reg: 0.0617 (0.0760)  loss_mask: 0.2139 (0.2418)  loss_objectness: 0.0028 (0.0058)  loss_rpn_box_reg: 0.0073 (0.0077)  time: 0.8295  data: 0.1299  max mem: 3148\n",
      "Epoch: [2] Total time: 0:00:36 (0.8306 s / it)\n",
      "Epoch: [3]  [ 0/44]  eta: 0:00:37  lr: 0.010000  loss: 0.4128 (0.4128)  loss_classifier: 0.0750 (0.0750)  loss_box_reg: 0.0866 (0.0866)  loss_mask: 0.2429 (0.2429)  loss_objectness: 0.0029 (0.0029)  loss_rpn_box_reg: 0.0054 (0.0054)  time: 0.8439  data: 0.1366  max mem: 3148\n",
      "Epoch: [3]  [10/44]  eta: 0:00:29  lr: 0.010000  loss: 0.3343 (0.3666)  loss_classifier: 0.0641 (0.0748)  loss_box_reg: 0.0633 (0.0757)  loss_mask: 0.2009 (0.2036)  loss_objectness: 0.0045 (0.0049)  loss_rpn_box_reg: 0.0080 (0.0076)  time: 0.8563  data: 0.1461  max mem: 3163\n",
      "Epoch: [3]  [20/44]  eta: 0:00:20  lr: 0.010000  loss: 0.3187 (0.3535)  loss_classifier: 0.0522 (0.0644)  loss_box_reg: 0.0549 (0.0673)  loss_mask: 0.1920 (0.2097)  loss_objectness: 0.0039 (0.0043)  loss_rpn_box_reg: 0.0068 (0.0077)  time: 0.8491  data: 0.1391  max mem: 3163\n",
      "Epoch: [3]  [30/44]  eta: 0:00:11  lr: 0.010000  loss: 0.2641 (0.3198)  loss_classifier: 0.0429 (0.0591)  loss_box_reg: 0.0504 (0.0627)  loss_mask: 0.1479 (0.1867)  loss_objectness: 0.0033 (0.0038)  loss_rpn_box_reg: 0.0068 (0.0074)  time: 0.8408  data: 0.1285  max mem: 3163\n",
      "Epoch: [3]  [40/44]  eta: 0:00:03  lr: 0.010000  loss: 0.3056 (0.3247)  loss_classifier: 0.0453 (0.0565)  loss_box_reg: 0.0504 (0.0607)  loss_mask: 0.1575 (0.1960)  loss_objectness: 0.0030 (0.0039)  loss_rpn_box_reg: 0.0070 (0.0075)  time: 0.8376  data: 0.1252  max mem: 3163\n",
      "Epoch: [3]  [43/44]  eta: 0:00:00  lr: 0.010000  loss: 0.3067 (0.3230)  loss_classifier: 0.0417 (0.0559)  loss_box_reg: 0.0499 (0.0594)  loss_mask: 0.1700 (0.1961)  loss_objectness: 0.0030 (0.0041)  loss_rpn_box_reg: 0.0066 (0.0074)  time: 0.8350  data: 0.1228  max mem: 3163\n",
      "Epoch: [3] Total time: 0:00:37 (0.8427 s / it)\n",
      "Epoch: [4]  [ 0/44]  eta: 0:00:36  lr: 0.010000  loss: 0.2086 (0.2086)  loss_classifier: 0.0327 (0.0327)  loss_box_reg: 0.0364 (0.0364)  loss_mask: 0.1333 (0.1333)  loss_objectness: 0.0015 (0.0015)  loss_rpn_box_reg: 0.0047 (0.0047)  time: 0.8308  data: 0.1117  max mem: 3163\n",
      "Epoch: [4]  [10/44]  eta: 0:00:29  lr: 0.010000  loss: 0.2322 (0.2392)  loss_classifier: 0.0415 (0.0488)  loss_box_reg: 0.0423 (0.0457)  loss_mask: 0.1265 (0.1348)  loss_objectness: 0.0021 (0.0025)  loss_rpn_box_reg: 0.0064 (0.0074)  time: 0.8601  data: 0.1366  max mem: 3163\n",
      "Epoch: [4]  [20/44]  eta: 0:00:20  lr: 0.010000  loss: 0.2337 (0.2547)  loss_classifier: 0.0415 (0.0484)  loss_box_reg: 0.0359 (0.0430)  loss_mask: 0.1497 (0.1532)  loss_objectness: 0.0022 (0.0029)  loss_rpn_box_reg: 0.0064 (0.0072)  time: 0.8526  data: 0.1329  max mem: 3163\n",
      "Epoch: [4]  [30/44]  eta: 0:00:11  lr: 0.010000  loss: 0.2321 (0.2503)  loss_classifier: 0.0375 (0.0463)  loss_box_reg: 0.0337 (0.0411)  loss_mask: 0.1523 (0.1530)  loss_objectness: 0.0024 (0.0028)  loss_rpn_box_reg: 0.0062 (0.0072)  time: 0.8486  data: 0.1289  max mem: 3163\n",
      "Epoch: [4]  [40/44]  eta: 0:00:03  lr: 0.010000  loss: 0.2136 (0.2448)  loss_classifier: 0.0374 (0.0448)  loss_box_reg: 0.0314 (0.0389)  loss_mask: 0.1437 (0.1512)  loss_objectness: 0.0020 (0.0027)  loss_rpn_box_reg: 0.0064 (0.0071)  time: 0.8554  data: 0.1315  max mem: 3163\n",
      "Epoch: [4]  [43/44]  eta: 0:00:00  lr: 0.010000  loss: 0.2234 (0.2442)  loss_classifier: 0.0381 (0.0442)  loss_box_reg: 0.0322 (0.0384)  loss_mask: 0.1451 (0.1519)  loss_objectness: 0.0022 (0.0027)  loss_rpn_box_reg: 0.0063 (0.0070)  time: 0.8570  data: 0.1328  max mem: 3163\n",
      "Epoch: [4] Total time: 0:00:37 (0.8531 s / it)\n"
     ]
    }
   ],
   "source": [
    "for epoch in range(epochs):\n",
    "    train_one_epoch(model, optimizer, train_loader, device, epoch, print_freq=10)\n",
    "    \n",
    "    # save weights with extension .pt-x where x represents epoch\n",
    "    torch.save(model.state_dict(), MODEL_PATH+\"-{0}\".format(epoch))"
   ]
  },
  {
   "cell_type": "markdown",
   "metadata": {},
   "source": [
    "# References"
   ]
  },
  {
   "cell_type": "markdown",
   "metadata": {},
   "source": [
    "1.    Torchvision Object Detection Finetuning Tutorial. 2019 *Pytorch*"
   ]
  }
 ],
 "metadata": {
  "accelerator": "GPU",
  "colab": {
   "authorship_tag": "ABX9TyMEED9oymhB2SYDFZhAXOf8",
   "collapsed_sections": [],
   "include_colab_link": true,
   "name": "food_classification_v1.ipynb",
   "private_outputs": true,
   "provenance": [],
   "toc_visible": true
  },
  "kernelspec": {
   "display_name": "Python 3",
   "language": "python",
   "name": "python3"
  },
  "language_info": {
   "codemirror_mode": {
    "name": "ipython",
    "version": 3
   },
   "file_extension": ".py",
   "mimetype": "text/x-python",
   "name": "python",
   "nbconvert_exporter": "python",
   "pygments_lexer": "ipython3",
   "version": "3.7.5"
  }
 },
 "nbformat": 4,
 "nbformat_minor": 1
}
