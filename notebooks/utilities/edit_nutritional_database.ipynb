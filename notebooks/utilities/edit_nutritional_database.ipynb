{
 "cells": [
  {
   "cell_type": "markdown",
   "metadata": {},
   "source": [
    "# Setup environment"
   ]
  },
  {
   "cell_type": "code",
   "execution_count": 1,
   "metadata": {},
   "outputs": [],
   "source": [
    "import os\n",
    "import requests\n",
    "import sqlite3"
   ]
  },
  {
   "cell_type": "markdown",
   "metadata": {},
   "source": [
    "## Define parameters"
   ]
  },
  {
   "cell_type": "code",
   "execution_count": 2,
   "metadata": {},
   "outputs": [],
   "source": [
    "ROOT_DIR = os.path.dirname(os.path.dirname(os.getcwd()))\n",
    "DATABASE_PATH = os.path.join(ROOT_DIR, \"databases\", \"food.db\")\n",
    "\n",
    "API_KEY = \"4INghUtThsIBWPTIcvfKyf0kNS6MtSXcC4R6mpNB\"\n",
    "BASE_URL = \"https://api.nal.usda.gov/fdc/v1/\""
   ]
  },
  {
   "cell_type": "markdown",
   "metadata": {},
   "source": [
    "# Edit nutritional information in .db file"
   ]
  },
  {
   "cell_type": "markdown",
   "metadata": {},
   "source": [
    "## Update SQLite database"
   ]
  },
  {
   "cell_type": "code",
   "execution_count": 45,
   "metadata": {},
   "outputs": [],
   "source": [
    "connection = sqlite3.connect(DATABASE_PATH)\n",
    "c = connection.cursor()\n",
    "\n",
    "sql = ''' UPDATE food\n",
    "          SET energy = 197\n",
    "          WHERE name = \"egg sunny-side up\"'''\n",
    "\n",
    "c.execute(sql)\n",
    "\n",
    "connection.commit()\n",
    "connection.close()"
   ]
  },
  {
   "cell_type": "markdown",
   "metadata": {},
   "source": [
    "## Query SQLite database"
   ]
  },
  {
   "cell_type": "code",
   "execution_count": 3,
   "metadata": {},
   "outputs": [
    {
     "name": "stdout",
     "output_type": "stream",
     "text": [
      "| id |            name            | energy | protein | fats | carbohydrates | sugars | density | depth |\n",
      "--------------------------------------------------------------------------------------------------------\n",
      "| 18 |           pizza            |  264   |  13.6   | 13.6 |     22.4      |  1.6   |  0.611  |  1.0  |\n"
     ]
    }
   ],
   "source": [
    "connection = sqlite3.connect(DATABASE_PATH)\n",
    "c = connection.cursor()\n",
    "\n",
    "sql = ''' SELECT *\n",
    "          FROM food\n",
    "          WHERE name = \"pizza\"'''\n",
    "\n",
    "c.execute(sql)\n",
    "                \n",
    "print(\"| id |            name            | energy | protein | fats | carbohydrates | sugars | density | depth |\")\n",
    "print(\"-\"*104)\n",
    "print(\"| {0[0]:^2} | {0[1]:^26} | {0[2]:^6} | {0[3]:^7} | {0[4]:^4} | {0[5]:^13} | {0[6]:^6} | {0[7]:^7} | {0[8]:^5} |\".format(c.fetchone()))\n",
    "\n",
    "connection.close()"
   ]
  },
  {
   "cell_type": "code",
   "execution_count": null,
   "metadata": {},
   "outputs": [],
   "source": []
  }
 ],
 "metadata": {
  "kernelspec": {
   "display_name": "Python 3",
   "language": "python",
   "name": "python3"
  },
  "language_info": {
   "codemirror_mode": {
    "name": "ipython",
    "version": 3
   },
   "file_extension": ".py",
   "mimetype": "text/x-python",
   "name": "python",
   "nbconvert_exporter": "python",
   "pygments_lexer": "ipython3",
   "version": "3.7.5"
  }
 },
 "nbformat": 4,
 "nbformat_minor": 4
}
