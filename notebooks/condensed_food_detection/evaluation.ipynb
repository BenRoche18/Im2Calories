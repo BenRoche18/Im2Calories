{
 "cells": [
  {
   "cell_type": "markdown",
   "metadata": {},
   "source": [
    "# Set up environment"
   ]
  },
  {
   "cell_type": "code",
   "execution_count": 1,
   "metadata": {},
   "outputs": [],
   "source": [
    "import torch\n",
    "import torchvision\n",
    "import torchvision.transforms as transforms\n",
    "\n",
    "import os\n",
    "import sys\n",
    "import PIL.Image as Image\n",
    "import numpy as np\n",
    "import matplotlib.pyplot as plt\n",
    "import matplotlib.patches as patches\n",
    "import sqlite3\n",
    "import xml.etree.cElementTree as ET"
   ]
  },
  {
   "cell_type": "markdown",
   "metadata": {},
   "source": [
    "## Import utility functions from Pytorch"
   ]
  },
  {
   "cell_type": "code",
   "execution_count": 2,
   "metadata": {},
   "outputs": [],
   "source": [
    "ROOT_DIR = os.path.dirname(os.path.dirname(os.getcwd()))\n",
    "\n",
    "sys.path.append(os.path.join(ROOT_DIR, \"utilities\"))\n",
    "\n",
    "from engine import evaluate"
   ]
  },
  {
   "cell_type": "markdown",
   "metadata": {},
   "source": [
    "## Declare parameters"
   ]
  },
  {
   "cell_type": "code",
   "execution_count": 3,
   "metadata": {},
   "outputs": [],
   "source": [
    "FOOD256_DIR = os.path.join(os.path.abspath(os.sep), \"Datasets\", \"food256\")\n",
    "\n",
    "IMAGE_SIZE = 512\n",
    "BATCH_SIZE = 1"
   ]
  },
  {
   "cell_type": "markdown",
   "metadata": {},
   "source": [
    "## Enable GPU"
   ]
  },
  {
   "cell_type": "code",
   "execution_count": 4,
   "metadata": {},
   "outputs": [
    {
     "name": "stdout",
     "output_type": "stream",
     "text": [
      "Running on cuda:0\n"
     ]
    }
   ],
   "source": [
    "device = torch.device(\"cuda:0\" if torch.cuda.is_available() else \"cpu\")\n",
    "print(\"Running on\", device)"
   ]
  },
  {
   "cell_type": "markdown",
   "metadata": {},
   "source": [
    "# Input testing data"
   ]
  },
  {
   "cell_type": "markdown",
   "metadata": {},
   "source": [
    "## Define FoodDataset class"
   ]
  },
  {
   "cell_type": "code",
   "execution_count": 5,
   "metadata": {},
   "outputs": [],
   "source": [
    "class FoodDataset(torch.utils.data.Dataset):\n",
    "    def __init__(self, root, images, transform=None):\n",
    "        self.root = root\n",
    "        self.transform = transform\n",
    "        self.classes = self.getClasses()\n",
    "        self.images = self.condense(images)\n",
    "            \n",
    "            \n",
    "    def getClasses(self):\n",
    "        classes = []\n",
    "        with open(\"condensed_category.txt\", 'r') as file:\n",
    "            file.readline()\n",
    "            for line in file.readlines():\n",
    "                classes.append(line.strip().split(\"\\t\")[1])\n",
    "        return classes\n",
    "            \n",
    "        \n",
    "    def condense(self, images):\n",
    "        condensed = []\n",
    "        \n",
    "        for img in images:\n",
    "            # open annotations file\n",
    "            tree = ET.parse(os.path.join(self.root, \"Annotations\", img.replace('.jpg', '.xml')))\n",
    "            root = tree.getroot()\n",
    "                            \n",
    "            # add to condensed only if contains class in condensed classed\n",
    "            for obj in root.findall('object'):\n",
    "                class_name = obj.find('name').text\n",
    "                if class_name in self.classes:\n",
    "                    condensed.append(img)\n",
    "                    break\n",
    "                            \n",
    "        return condensed\n",
    "            \n",
    "                \n",
    "    def getLabels(self, img_id):\n",
    "        # open annotations file\n",
    "        tree = ET.parse(os.path.join(self.root, \"Annotations\", img_id+'.xml'))\n",
    "        root = tree.getroot()\n",
    "        \n",
    "        boxes = []\n",
    "        areas = []\n",
    "        labels = []\n",
    "    \n",
    "        # read bounding boxes\n",
    "        for obj in root.findall('object'):\n",
    "            class_name = obj.find('name').text\n",
    "            \n",
    "            if class_name in self.classes:\n",
    "                # get bounding box\n",
    "                box = obj.find('bndbox')\n",
    "                x1 = float(box.find('xmin').text)\n",
    "                y1 = float(box.find('ymin').text)\n",
    "                x2 = float(box.find('xmax').text)\n",
    "                y2 = float(box.find('ymax').text)\n",
    "\n",
    "                boxes.append([x1, y1, x2, y2])\n",
    "                areas.append((x2-x1)*(y2-y1))\n",
    "                labels.append(self.classes.index(class_name))\n",
    "        \n",
    "        return boxes, areas, labels\n",
    "\n",
    "        \n",
    "    def __getitem__(self, index):\n",
    "        # image\n",
    "        img_path = os.path.join(self.root, \"JPEGImages\", self.images[index])\n",
    "        img = Image.open(img_path).convert(\"RGB\")\n",
    "        \n",
    "        # annotations\n",
    "        boxes, areas, labels = self.getLabels(self.images[index].split('.')[0])\n",
    "\n",
    "        target = {\n",
    "            \"image_id\": torch.as_tensor([index]),\n",
    "            \"labels\": torch.as_tensor(labels, dtype=torch.int64),\n",
    "            \"boxes\": torch.as_tensor(boxes, dtype=torch.float32),\n",
    "            \"area\": torch.as_tensor(areas),\n",
    "            \"iscrowd\": torch.zeros((len(labels)), dtype=torch.int64)\n",
    "        }\n",
    "        \n",
    "        if self.transform is not None:\n",
    "            img, target = self.transform(img, target)\n",
    "            \n",
    "        return img, target\n",
    "        \n",
    "    \n",
    "    def __len__(self):\n",
    "        return len(self.images)"
   ]
  },
  {
   "cell_type": "markdown",
   "metadata": {},
   "source": [
    "## Format images for model input"
   ]
  },
  {
   "cell_type": "code",
   "execution_count": 6,
   "metadata": {},
   "outputs": [],
   "source": [
    "# custom transform for R-CNN input\n",
    "class CustomTransform:\n",
    "    def __init__(self, image_size):\n",
    "        self.image_size = image_size\n",
    "        \n",
    "    def __call__(self, img, target):\n",
    "        # resize to a max of IMAGE_SIZE\n",
    "        w, h = img.size\n",
    "        scale = min(IMAGE_SIZE/w, IMAGE_SIZE/h)\n",
    "        img = transforms.functional.resize(img, (int(h*scale), int(w*scale)))\n",
    "        \n",
    "        # update bounding boxes\n",
    "        target[\"boxes\"] *= scale\n",
    "        \n",
    "        # update areas\n",
    "        target[\"area\"] *= scale**2\n",
    "        \n",
    "        # add padding to a size of IMAGE_SIZE\n",
    "        img = transforms.functional.pad(img, (0, 0, IMAGE_SIZE-int(w*scale), IMAGE_SIZE-int(h*scale)))\n",
    "        \n",
    "        # convert to tensor\n",
    "        img = transforms.functional.to_tensor(img)\n",
    "\n",
    "        # normalize\n",
    "        img = transforms.functional.normalize(img, [0.485, 0.456, 0.406], [0.229, 0.224, 0.225])\n",
    "        \n",
    "        return img, target\n",
    "\n",
    "transform = CustomTransform(image_size=IMAGE_SIZE)"
   ]
  },
  {
   "cell_type": "markdown",
   "metadata": {},
   "source": [
    "## Read testing split"
   ]
  },
  {
   "cell_type": "code",
   "execution_count": 7,
   "metadata": {},
   "outputs": [
    {
     "name": "stdout",
     "output_type": "stream",
     "text": [
      "Number of validation images: 932\n"
     ]
    }
   ],
   "source": [
    "SPLIT_DIR = os.path.join(FOOD256_DIR, \"ImageSets\", \"Main\")\n",
    "\n",
    "with open(os.path.join(SPLIT_DIR, \"val.txt\"), 'r') as file:\n",
    "    images = [x.strip() for x in file.readlines()]\n",
    "    test_raw = FoodDataset(FOOD256_DIR, images, transform=transform)\n",
    "    \n",
    "\n",
    "test_size = len(test_raw)\n",
    "\n",
    "class_names = test_raw.classes\n",
    "\n",
    "print(\"Number of validation images: {0}\".format(test_size))\n",
    "\n",
    "# define how to batch data (i.e not combine target dicitonaries)\n",
    "def collate_fn(batch):\n",
    "    return tuple(zip(*batch))\n",
    "\n",
    "test_loader = torch.utils.data.DataLoader(test_raw, batch_size=BATCH_SIZE, shuffle=True, collate_fn=collate_fn)"
   ]
  },
  {
   "cell_type": "markdown",
   "metadata": {},
   "source": [
    "## Show example testing image with bounding boxes"
   ]
  },
  {
   "cell_type": "code",
   "execution_count": 8,
   "metadata": {},
   "outputs": [
    {
     "data": {
      "image/png": "[encoded data removed]",
      "text/plain": [
       "<Figure size 432x288 with 1 Axes>"
      ]
     },
     "execution_count": 8,
     "metadata": {},
     "output_type": "execute_result"
    }
   ],
   "source": [
    "fig, axis= plt.subplots(1)\n",
    "\n",
    "#randomly select image from dataset\n",
    "i = np.random.randint(test_size)\n",
    "img = test_raw[i][0].clone().numpy()\n",
    "\n",
    "# unnormalize\n",
    "img[0] = img[0] * 0.229\n",
    "img[1] = img[1] * 0.224 \n",
    "img[2] = img[2] * 0.225 \n",
    "img[0] += 0.485 \n",
    "img[1] += 0.456 \n",
    "img[2] += 0.406\n",
    "    \n",
    "img = np.transpose(img, (1,2,0))\n",
    "img = np.clip(img, 0, 1)\n",
    "plt.imshow(img)\n",
    "\n",
    "labels = test_raw[i][1][\"labels\"]\n",
    "boxes = test_raw[i][1][\"boxes\"]\n",
    "\n",
    "# draw bounding boxes\n",
    "for i in range(len(labels)):\n",
    "    x1, y1, x2, y2 = boxes[i]\n",
    "    box = patches.Rectangle((x1, y1), x2-x1, y2-y1, linewidth=2, edgecolor='r', facecolor='none')\n",
    "    axis.add_patch(box)\n",
    "    axis.text(x1, y2, class_names[labels[i]], fontdict=dict(color='w', weight='bold'), bbox=dict(facecolor='r', edgecolor='none'))\n",
    "    \n",
    "fig"
   ]
  },
  {
   "cell_type": "markdown",
   "metadata": {},
   "source": [
    "# Backbone Model"
   ]
  },
  {
   "cell_type": "markdown",
   "metadata": {},
   "source": [
    "## Declare backbone model architecture\n",
    "\n",
    "Currently supports:\n",
    "    - resnet_50\n",
    "    - mobilenet_v2\n",
    "    - wide_resnet_101"
   ]
  },
  {
   "cell_type": "code",
   "execution_count": 9,
   "metadata": {},
   "outputs": [],
   "source": [
    "MODEL_NAME = \"resnet_50\""
   ]
  },
  {
   "cell_type": "markdown",
   "metadata": {},
   "source": [
    "## Fetch backbone model"
   ]
  },
  {
   "cell_type": "code",
   "execution_count": 10,
   "metadata": {},
   "outputs": [
    {
     "name": "stdout",
     "output_type": "stream",
     "text": [
      "Fetching backbone architecture... done\n"
     ]
    }
   ],
   "source": [
    "print(\"Fetching backbone architecture... \", end=\"\")\n",
    "\n",
    "if MODEL_NAME == \"wide_resnet_101\":\n",
    "    # fetch backbone model architecture\n",
    "    backbone = torchvision.models.wide_resnet101_2(pretrained=False)\n",
    "\n",
    "    # replace classification head\n",
    "    num_features = backbone.fc.in_features\n",
    "    backbone.fc = torch.nn.Linear(num_features, len(class_names))\n",
    "    \n",
    "    backbone = backbone.to(device)\n",
    "    \n",
    "    \n",
    "elif MODEL_NAME == \"mobilenet_v2\":\n",
    "    # fetch backbone model architecture\n",
    "    backbone = torchvision.models.mobilenet_v2(pretrained=False)\n",
    "\n",
    "    # replace classification head\n",
    "    num_features = backbone.classifier[1].in_features\n",
    "    backbone.classifier[1] = torch.nn.Linear(num_features, len(class_names))\n",
    "    \n",
    "    backbone = backbone.to(device)\n",
    "\n",
    "print(\"done\")"
   ]
  },
  {
   "cell_type": "markdown",
   "metadata": {},
   "source": [
    "## Load backbone weights"
   ]
  },
  {
   "cell_type": "code",
   "execution_count": 11,
   "metadata": {},
   "outputs": [],
   "source": [
    "BACKBONE_PATH = os.path.join(ROOT_DIR, \"models\", \"condensed_food_detection\", \"backbones\", MODEL_NAME, \"fine_tuning.pt\")\n",
    "\n",
    "if os.path.exists(BACKBONE_PATH):\n",
    "    print(\"Loading weights from checkpoint...\", end=\"\")\n",
    "    backbone.load_state_dict(torch.load(BACKBONE_PATH))\n",
    "    print(\"done\")"
   ]
  },
  {
   "cell_type": "markdown",
   "metadata": {},
   "source": [
    "## Evaluate backbone model"
   ]
  },
  {
   "cell_type": "code",
   "execution_count": 12,
   "metadata": {},
   "outputs": [],
   "source": [
    "def test():\n",
    "  backbone.eval()\n",
    "  top1_corrects = 0\n",
    "  top5_corrects = 0\n",
    "\n",
    "  for images, targets in test_loader:\n",
    "    for image, target in zip(images, targets):\n",
    "      image = image.to(device).unsqueeze(0)\n",
    "      labels = target[\"labels\"]\n",
    "      labels = labels.to(device)\n",
    "\n",
    "      # fit image on model\n",
    "      with torch.no_grad():\n",
    "        outputs = backbone(image)\n",
    "\n",
    "        # fetch top 5 results\n",
    "        _, predictions = outputs.topk(5, 1, True, True)\n",
    "        predictions = predictions.t()\n",
    "        \n",
    "        # correct results if predicted label matches with any one object label\n",
    "        correct = torch.zeros(predictions.shape, dtype=bool, device=device)\n",
    "        for lbl in labels:\n",
    "          correct += predictions.eq(lbl.data.view(1, -1).expand_as(predictions))\n",
    "\n",
    "        top1_corrects += correct[:1].sum()\n",
    "        top5_corrects += correct.sum()\n",
    "\n",
    "  # calculate statistics\n",
    "  top1 = top1_corrects.double() / test_size\n",
    "  top5 = top5_corrects.double() / test_size\n",
    "\n",
    "  return top1, top5"
   ]
  },
  {
   "cell_type": "code",
   "execution_count": 13,
   "metadata": {},
   "outputs": [],
   "source": [
    "# resnet_50 used pretrained weights on COCO dataset\n",
    "if MODEL_NAME != \"resnet_50\":\n",
    "    top1, top5 = test()\n",
    "    print(\"Top-1 accuracy: {0}\\nTop-5 accuracy {1}\".format(top1, top5))"
   ]
  },
  {
   "cell_type": "markdown",
   "metadata": {},
   "source": [
    "# Faster R-CNN model"
   ]
  },
  {
   "cell_type": "markdown",
   "metadata": {},
   "source": [
    "## Fetch model architecture"
   ]
  },
  {
   "cell_type": "code",
   "execution_count": 14,
   "metadata": {},
   "outputs": [
    {
     "name": "stdout",
     "output_type": "stream",
     "text": [
      "Fetching model architecture... done\n"
     ]
    }
   ],
   "source": [
    "print(\"Fetching model architecture... \", end=\"\")\n",
    "\n",
    "if MODEL_NAME == \"resnet_50\":\n",
    "    model = torchvision.models.detection.fasterrcnn_resnet50_fpn(pretrained=False)\n",
    "    in_features = model.roi_heads.box_predictor.cls_score.in_features\n",
    "    model.roi_heads.box_predictor = torchvision.models.detection.faster_rcnn.FastRCNNPredictor(in_features, len(class_names))\n",
    "    \n",
    "    \n",
    "elif MODEL_NAME == \"wide_resnet_101\":\n",
    "    # remove classification head\n",
    "    backbone = torch.nn.Sequential(*list(backbone.children())[:-2])\n",
    "    backbone.out_channels = 2048\n",
    "    \n",
    "    # encapsulate backbone within faster RCNN model\n",
    "    anchor_generator = torchvision.models.detection.rpn.AnchorGenerator(sizes=((32, 64, 128, 256, 512),), aspect_ratios=((0.5, 1.0, 2.0),))\n",
    "    roi_pooler = torchvision.ops.MultiScaleRoIAlign(featmap_names=['0'], output_size=7, sampling_ratio=2)\n",
    "    model = torchvision.models.detection.FasterRCNN(backbone, num_classes=len(class_names), rpn_anchor_generator=anchor_generator, box_roi_pool=roi_pooler)\n",
    "\n",
    "    \n",
    "elif MODEL_NAME == \"mobilenet_v2\":\n",
    "    # remove classification head\n",
    "    backbone = backbone.features\n",
    "    backbone.out_channels = 1280\n",
    "    \n",
    "    # encapsulate backbone within faster RCNN model\n",
    "    anchor_generator = torchvision.models.detection.rpn.AnchorGenerator(sizes=((32, 64, 128, 256, 512),), aspect_ratios=((0.5, 1.0, 2.0),))\n",
    "    roi_pooler = torchvision.ops.MultiScaleRoIAlign(featmap_names=['0'], output_size=7, sampling_ratio=2)\n",
    "    model = torchvision.models.detection.FasterRCNN(backbone, num_classes=len(class_names), rpn_anchor_generator=anchor_generator, box_roi_pool=roi_pooler)\n",
    "\n",
    "\n",
    "model = model.to(device)\n",
    "print(\"done\")"
   ]
  },
  {
   "cell_type": "markdown",
   "metadata": {},
   "source": [
    "## Load model weights"
   ]
  },
  {
   "cell_type": "code",
   "execution_count": 15,
   "metadata": {},
   "outputs": [
    {
     "name": "stdout",
     "output_type": "stream",
     "text": [
      "Loading learnt model weights...done\n"
     ]
    }
   ],
   "source": [
    "MODEL_PATH = os.path.join(ROOT_DIR, \"models\", \"condensed_food_detection\", MODEL_NAME, \"fine_tuning.pt\")\n",
    "\n",
    "print(\"Loading learnt model weights...\", end=\"\")\n",
    "model.load_state_dict(torch.load(MODEL_PATH))\n",
    "print(\"done\")"
   ]
  },
  {
   "cell_type": "markdown",
   "metadata": {},
   "source": [
    "## Evaluate Faster R-CNN model"
   ]
  },
  {
   "cell_type": "code",
   "execution_count": 16,
   "metadata": {},
   "outputs": [
    {
     "name": "stdout",
     "output_type": "stream",
     "text": [
      "creating index...\n",
      "index created!\n",
      "Test:  [  0/932]  eta: 0:21:20  model_time: 1.3426 (1.3426)  evaluator_time: 0.0020 (0.0020)  time: 1.3735  data: 0.0279  max mem: 427\n",
      "Test:  [100/932]  eta: 0:01:28  model_time: 0.0798 (0.0930)  evaluator_time: 0.0020 (0.0019)  time: 0.0930  data: 0.0103  max mem: 427\n",
      "Test:  [200/932]  eta: 0:01:13  model_time: 0.0808 (0.0870)  evaluator_time: 0.0020 (0.0019)  time: 0.0939  data: 0.0101  max mem: 427\n",
      "Test:  [300/932]  eta: 0:01:01  model_time: 0.0798 (0.0848)  evaluator_time: 0.0020 (0.0019)  time: 0.0926  data: 0.0095  max mem: 427\n",
      "Test:  [400/932]  eta: 0:00:51  model_time: 0.0818 (0.0839)  evaluator_time: 0.0020 (0.0019)  time: 0.0943  data: 0.0097  max mem: 427\n",
      "Test:  [500/932]  eta: 0:00:41  model_time: 0.0798 (0.0832)  evaluator_time: 0.0020 (0.0019)  time: 0.0930  data: 0.0096  max mem: 427\n",
      "Test:  [600/932]  eta: 0:00:31  model_time: 0.0808 (0.0829)  evaluator_time: 0.0020 (0.0018)  time: 0.0936  data: 0.0102  max mem: 427\n",
      "Test:  [700/932]  eta: 0:00:22  model_time: 0.0808 (0.0826)  evaluator_time: 0.0020 (0.0018)  time: 0.0941  data: 0.0098  max mem: 427\n",
      "Test:  [800/932]  eta: 0:00:12  model_time: 0.0823 (0.0828)  evaluator_time: 0.0020 (0.0018)  time: 0.0961  data: 0.0095  max mem: 427\n",
      "Test:  [900/932]  eta: 0:00:03  model_time: 0.0838 (0.0828)  evaluator_time: 0.0020 (0.0019)  time: 0.0975  data: 0.0100  max mem: 427\n",
      "Test:  [931/932]  eta: 0:00:00  model_time: 0.0808 (0.0827)  evaluator_time: 0.0020 (0.0019)  time: 0.0946  data: 0.0104  max mem: 427\n",
      "Test: Total time: 0:01:29 (0.0956 s / it)\n",
      "Averaged stats: model_time: 0.0808 (0.0827)  evaluator_time: 0.0020 (0.0019)\n",
      "Accumulating evaluation results...\n",
      "DONE (t=0.50s).\n",
      "IoU metric: bbox\n",
      " Average Precision  (AP) @[ IoU=0.50:0.95 | area=   all | maxDets=100 ] = 0.405\n",
      " Average Precision  (AP) @[ IoU=0.50      | area=   all | maxDets=100 ] = 0.629\n",
      " Average Precision  (AP) @[ IoU=0.75      | area=   all | maxDets=100 ] = 0.468\n",
      " Average Precision  (AP) @[ IoU=0.50:0.95 | area= small | maxDets=100 ] = -1.000\n",
      " Average Precision  (AP) @[ IoU=0.50:0.95 | area=medium | maxDets=100 ] = 0.058\n",
      " Average Precision  (AP) @[ IoU=0.50:0.95 | area= large | maxDets=100 ] = 0.407\n",
      " Average Recall     (AR) @[ IoU=0.50:0.95 | area=   all | maxDets=  1 ] = 0.593\n",
      " Average Recall     (AR) @[ IoU=0.50:0.95 | area=   all | maxDets= 10 ] = 0.601\n",
      " Average Recall     (AR) @[ IoU=0.50:0.95 | area=   all | maxDets=100 ] = 0.601\n",
      " Average Recall     (AR) @[ IoU=0.50:0.95 | area= small | maxDets=100 ] = -1.000\n",
      " Average Recall     (AR) @[ IoU=0.50:0.95 | area=medium | maxDets=100 ] = 0.057\n",
      " Average Recall     (AR) @[ IoU=0.50:0.95 | area= large | maxDets=100 ] = 0.604\n"
     ]
    },
    {
     "data": {
      "text/plain": [
       "<coco_eval.CocoEvaluator at 0x1618dbf4d08>"
      ]
     },
     "execution_count": 16,
     "metadata": {},
     "output_type": "execute_result"
    }
   ],
   "source": [
    "evaluate(model, test_loader, device)"
   ]
  }
 ],
 "metadata": {
  "kernelspec": {
   "display_name": "Python 3",
   "language": "python",
   "name": "python3"
  },
  "language_info": {
   "codemirror_mode": {
    "name": "ipython",
    "version": 3
   },
   "file_extension": ".py",
   "mimetype": "text/x-python",
   "name": "python",
   "nbconvert_exporter": "python",
   "pygments_lexer": "ipython3",
   "version": "3.7.5"
  }
 },
 "nbformat": 4,
 "nbformat_minor": 4
}
