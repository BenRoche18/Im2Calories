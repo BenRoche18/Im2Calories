{
 "cells": [
  {
   "cell_type": "markdown",
   "metadata": {
    "colab_type": "text",
    "id": "i_nLyDv8Vm2C"
   },
   "source": [
    "# Set up environment"
   ]
  },
  {
   "cell_type": "code",
   "execution_count": 1,
   "metadata": {
    "colab": {},
    "colab_type": "code",
    "id": "ISJ0ihdNdjhS"
   },
   "outputs": [],
   "source": [
    "import torch\n",
    "import torchvision\n",
    "import torchvision.transforms as transforms\n",
    "from torchsummary import summary\n",
    "\n",
    "import os\n",
    "import matplotlib.pyplot as plt\n",
    "import matplotlib.patches as patches\n",
    "import numpy as np\n",
    "import copy\n",
    "import shutil\n",
    "from PIL import Image\n",
    "from tqdm.autonotebook import tqdm\n",
    "import sys\n",
    "import xml.etree.cElementTree as ET"
   ]
  },
  {
   "cell_type": "markdown",
   "metadata": {},
   "source": [
    "## Import utility functions from Pytorch"
   ]
  },
  {
   "cell_type": "code",
   "execution_count": 2,
   "metadata": {},
   "outputs": [],
   "source": [
    "ROOT_DIR = os.path.dirname(os.path.dirname(os.getcwd()))\n",
    "\n",
    "sys.path.append(os.path.join(ROOT_DIR, \"utilities\"))\n",
    "\n",
    "from engine import train_one_epoch, evaluate\n",
    "import utils"
   ]
  },
  {
   "cell_type": "markdown",
   "metadata": {
    "colab_type": "text",
    "id": "0wjsABqdVyKa"
   },
   "source": [
    "## Enable GPU"
   ]
  },
  {
   "cell_type": "code",
   "execution_count": 3,
   "metadata": {
    "colab": {},
    "colab_type": "code",
    "id": "7rQNqPXEV4Ad"
   },
   "outputs": [
    {
     "name": "stdout",
     "output_type": "stream",
     "text": [
      "Running on cuda:0\n"
     ]
    }
   ],
   "source": [
    "device = torch.device(\"cuda:0\" if torch.cuda.is_available() else \"cpu\")\n",
    "print(\"Running on\", device)"
   ]
  },
  {
   "cell_type": "markdown",
   "metadata": {
    "colab_type": "text",
    "id": "C8eHVTWDif9d"
   },
   "source": [
    "## Declare parameters"
   ]
  },
  {
   "cell_type": "code",
   "execution_count": 4,
   "metadata": {
    "colab": {},
    "colab_type": "code",
    "id": "-Y0qqicdirJ_"
   },
   "outputs": [],
   "source": [
    "IMAGE_SIZE = 512\n",
    "BATCH_SIZE = 1"
   ]
  },
  {
   "cell_type": "markdown",
   "metadata": {
    "colab_type": "text",
    "id": "WUlZthLcWNJT"
   },
   "source": [
    "# Input data"
   ]
  },
  {
   "cell_type": "markdown",
   "metadata": {
    "colab_type": "text",
    "id": "ylfT9aiQe-6J"
   },
   "source": [
    "## Download Food256 dataset\n",
    "\n",
    "To extend the food classification into food detection I will need a dataset that includes bounding boxes, thus I have used food-256 including 256 different classes that contain atleast 100 images each. If the given directory not found then dataset is downloaded and extracted."
   ]
  },
  {
   "cell_type": "code",
   "execution_count": 5,
   "metadata": {
    "colab": {},
    "colab_type": "code",
    "id": "zXbE44oDfDGm"
   },
   "outputs": [],
   "source": [
    "FOOD256_DIR = os.path.join(os.path.abspath(os.sep), \"Datasets\", \"food256\")\n",
    "\n",
    "if not os.path.exists(FOOD256_DIR):\n",
    "  print(\"Downloading Food-256 dataset... \", end=\"\")\n",
    "  !wget http://foodcam.mobi/dataset256.zip\n",
    "  print(\"Done\")\n",
    "\n",
    "\n",
    "  print(\"Extracting data... \", end=\"\")\n",
    "  !unzip dataset256.zip\n",
    "  print(\"Done\")"
   ]
  },
  {
   "cell_type": "markdown",
   "metadata": {},
   "source": [
    "## Format dataset in VOC Format\n",
    "\n",
    "Please refer to format_voc notebook in utilities directory."
   ]
  },
  {
   "cell_type": "markdown",
   "metadata": {},
   "source": [
    "## Define FoodDataset class\n",
    "\n",
    "In the condensed version we read a list of condensed classes in the current working directory and only include images containing such catergories."
   ]
  },
  {
   "cell_type": "code",
   "execution_count": 6,
   "metadata": {},
   "outputs": [],
   "source": [
    "class FoodDataset(torch.utils.data.Dataset):\n",
    "    def __init__(self, root, images, transform=None):\n",
    "        self.root = root\n",
    "        self.transform = transform\n",
    "        self.classes = self.getClasses()\n",
    "        self.images = self.condense(images)\n",
    "            \n",
    "            \n",
    "    def getClasses(self):\n",
    "        classes = []\n",
    "        with open(\"condensed_category.txt\", 'r') as file:\n",
    "            file.readline()\n",
    "            for line in file.readlines():\n",
    "                classes.append(line.strip().split(\"\\t\")[1])\n",
    "        return classes\n",
    "            \n",
    "        \n",
    "    def condense(self, images):\n",
    "        condensed = []\n",
    "        \n",
    "        for img in images:\n",
    "            # open annotations file\n",
    "            tree = ET.parse(os.path.join(self.root, \"Annotations\", img.replace('.jpg', '.xml')))\n",
    "            root = tree.getroot()\n",
    "                            \n",
    "            # add to condensed only if contains class in condensed classed\n",
    "            for obj in root.findall('object'):\n",
    "                class_name = obj.find('name').text\n",
    "                if class_name in self.classes:\n",
    "                    condensed.append(img)\n",
    "                    break\n",
    "                            \n",
    "        return condensed\n",
    "            \n",
    "                \n",
    "    def getLabels(self, img_id):\n",
    "        # open annotations file\n",
    "        tree = ET.parse(os.path.join(self.root, \"Annotations\", img_id+'.xml'))\n",
    "        root = tree.getroot()\n",
    "        \n",
    "        boxes = []\n",
    "        areas = []\n",
    "        labels = []\n",
    "    \n",
    "        # read bounding boxes\n",
    "        for obj in root.findall('object'):\n",
    "            class_name = obj.find('name').text\n",
    "            \n",
    "            if class_name in self.classes:\n",
    "                # get bounding box\n",
    "                box = obj.find('bndbox')\n",
    "                x1 = float(box.find('xmin').text)\n",
    "                y1 = float(box.find('ymin').text)\n",
    "                x2 = float(box.find('xmax').text)\n",
    "                y2 = float(box.find('ymax').text)\n",
    "\n",
    "                boxes.append([x1, y1, x2, y2])\n",
    "                areas.append((x2-x1)*(y2-y1))\n",
    "                labels.append(self.classes.index(class_name))\n",
    "        \n",
    "        return boxes, areas, labels\n",
    "\n",
    "        \n",
    "    def __getitem__(self, index):\n",
    "        # image\n",
    "        img_path = os.path.join(self.root, \"JPEGImages\", self.images[index])\n",
    "        img = Image.open(img_path).convert(\"RGB\")\n",
    "        \n",
    "        # annotations\n",
    "        boxes, areas, labels = self.getLabels(self.images[index].split('.')[0])\n",
    "\n",
    "        target = {\n",
    "            \"image_id\": torch.as_tensor([index]),\n",
    "            \"labels\": torch.as_tensor(labels, dtype=torch.int64),\n",
    "            \"boxes\": torch.as_tensor(boxes, dtype=torch.float32),\n",
    "            \"area\": torch.as_tensor(areas),\n",
    "            \"iscrowd\": torch.zeros((len(labels)), dtype=torch.int64)\n",
    "        }\n",
    "        \n",
    "        if self.transform is not None:\n",
    "            img, target = self.transform(img, target)\n",
    "            \n",
    "        return img, target\n",
    "        \n",
    "    \n",
    "    def __len__(self):\n",
    "        return len(self.images)"
   ]
  },
  {
   "cell_type": "markdown",
   "metadata": {},
   "source": [
    "## Format images for model input"
   ]
  },
  {
   "cell_type": "code",
   "execution_count": 7,
   "metadata": {},
   "outputs": [],
   "source": [
    "# custom transform for R-CNN input\n",
    "class CustomTransform:\n",
    "    def __init__(self, image_size):\n",
    "        self.image_size = image_size\n",
    "        \n",
    "    def __call__(self, img, target):\n",
    "        # resize to a max of IMAGE_SIZE\n",
    "        w, h = img.size\n",
    "        scale = min(IMAGE_SIZE/w, IMAGE_SIZE/h)\n",
    "        img = transforms.functional.resize(img, (int(h*scale), int(w*scale)))\n",
    "        \n",
    "        \n",
    "        # update bounding boxes\n",
    "        target[\"boxes\"] *= scale\n",
    "        \n",
    "        # update areas\n",
    "        target[\"area\"] *= scale**2\n",
    "        \n",
    "        # add padding to a size of IMAGE_SIZE\n",
    "        img = transforms.functional.pad(img, (0, 0, IMAGE_SIZE-int(w*scale), IMAGE_SIZE-int(h*scale)))\n",
    "        \n",
    "        # convert to tensor\n",
    "        img = transforms.functional.to_tensor(img)\n",
    "\n",
    "        # normalize\n",
    "        img = transforms.functional.normalize(img, [0.485, 0.456, 0.406], [0.229, 0.224, 0.225])\n",
    "        \n",
    "        return img, target\n",
    "\n",
    "transform = CustomTransform(image_size=IMAGE_SIZE)"
   ]
  },
  {
   "cell_type": "markdown",
   "metadata": {},
   "source": [
    "## Read training and validations splits"
   ]
  },
  {
   "cell_type": "code",
   "execution_count": 8,
   "metadata": {},
   "outputs": [
    {
     "name": "stdout",
     "output_type": "stream",
     "text": [
      "Number of training images: 8361\n",
      "Number of validation images: 932\n"
     ]
    }
   ],
   "source": [
    "SPLIT_DIR = os.path.join(FOOD256_DIR, \"ImageSets\", \"Main\")\n",
    "\n",
    "with open(os.path.join(SPLIT_DIR, \"train.txt\"), 'r') as file:\n",
    "    images = [x.strip() for x in file.readlines()]\n",
    "    train_raw = FoodDataset(FOOD256_DIR, images, transform=transform)\n",
    "    \n",
    "with open(os.path.join(SPLIT_DIR, \"val.txt\"), 'r') as file:\n",
    "    images = [x.strip() for x in file.readlines()]\n",
    "    val_raw = FoodDataset(FOOD256_DIR, images, transform=transform)\n",
    "\n",
    "train_size = len(train_raw)\n",
    "val_size = len(val_raw)\n",
    "\n",
    "class_names = train_raw.classes\n",
    "\n",
    "print(\"Number of training images: {0}\".format(train_size))\n",
    "print(\"Number of validation images: {0}\".format(val_size))"
   ]
  },
  {
   "cell_type": "markdown",
   "metadata": {},
   "source": [
    "## Batch datasets for training and evaluation"
   ]
  },
  {
   "cell_type": "code",
   "execution_count": 9,
   "metadata": {},
   "outputs": [],
   "source": [
    "# define how to batch data (i.e not combine target dicitonaries)\n",
    "def collate_fn(batch):\n",
    "    return tuple(zip(*batch))\n",
    "\n",
    "train_loader = torch.utils.data.DataLoader(train_raw, batch_size=BATCH_SIZE, shuffle=True, collate_fn=collate_fn)\n",
    "val_loader = torch.utils.data.DataLoader(val_raw, batch_size=BATCH_SIZE, shuffle=True, collate_fn=collate_fn)"
   ]
  },
  {
   "cell_type": "markdown",
   "metadata": {},
   "source": [
    "## Show example training image with bounding boxes"
   ]
  },
  {
   "cell_type": "code",
   "execution_count": 10,
   "metadata": {
    "colab": {},
    "colab_type": "code",
    "id": "pXJIlUvAmRJO"
   },
   "outputs": [
    {
     "data": {
      "image/png": "[encoded data removed]",
      "text/plain": [
       "<Figure size 432x288 with 1 Axes>"
      ]
     },
     "execution_count": 10,
     "metadata": {},
     "output_type": "execute_result"
    }
   ],
   "source": [
    "fig, axis= plt.subplots(1)\n",
    "\n",
    "#randomly select image from dataset\n",
    "i = np.random.randint(train_size)\n",
    "img = train_raw[i][0].clone().numpy()\n",
    "\n",
    "# unnormalize\n",
    "img[0] = img[0] * 0.229\n",
    "img[1] = img[1] * 0.224 \n",
    "img[2] = img[2] * 0.225 \n",
    "img[0] += 0.485 \n",
    "img[1] += 0.456 \n",
    "img[2] += 0.406\n",
    "\n",
    "img = np.transpose(img, (1,2,0))\n",
    "img = np.clip(img, 0, 1)\n",
    "plt.imshow(img)\n",
    "\n",
    "labels = train_raw[i][1][\"labels\"]\n",
    "boxes = train_raw[i][1][\"boxes\"]\n",
    "\n",
    "# draw bounding boxes\n",
    "for i in range(len(labels)):\n",
    "    x1, y1, x2, y2 = boxes[i]\n",
    "    box = patches.Rectangle((x1, y1), x2-x1, y2-y1, linewidth=2, edgecolor='r', facecolor='none')\n",
    "    axis.add_patch(box)\n",
    "    axis.text(x1, y2, class_names[labels[i]], fontdict=dict(color='w', weight='bold'), bbox=dict(facecolor='r', edgecolor='none'))\n",
    "\n",
    "fig"
   ]
  },
  {
   "cell_type": "markdown",
   "metadata": {
    "colab_type": "text",
    "id": "Xzgyw9d1YtJx"
   },
   "source": [
    "# Model\n",
    "\n",
    "In order to train the food detector I will train from a pretrained Faster R-CNN model."
   ]
  },
  {
   "cell_type": "markdown",
   "metadata": {},
   "source": [
    "## Declare backbone model architecture\n",
    "\n",
    "Currently supports:\n",
    "    - mobilenet_v2\n",
    "    - wide_resnet_101\n",
    "    - resnet_50"
   ]
  },
  {
   "cell_type": "code",
   "execution_count": 18,
   "metadata": {},
   "outputs": [],
   "source": [
    "MODEL_NAME = \"resnet_50\""
   ]
  },
  {
   "cell_type": "markdown",
   "metadata": {},
   "source": [
    "## Fetch pretrainied backbone"
   ]
  },
  {
   "cell_type": "code",
   "execution_count": 19,
   "metadata": {},
   "outputs": [
    {
     "name": "stdout",
     "output_type": "stream",
     "text": [
      "Fetching pretrained backbone model... done\n"
     ]
    }
   ],
   "source": [
    "BACKBONE_PATH = os.path.join(ROOT_DIR, \"models\", \"condensed_food_detection\", \"backbones\", MODEL_NAME, \"fine_tuning.pt\")\n",
    "\n",
    "print(\"Fetching pretrained backbone model... \", end=\"\")\n",
    "\n",
    "if MODEL_NAME == \"wide_resnet_101\":\n",
    "    # fetch backbone model architecture\n",
    "    backbone = torchvision.models.wide_resnet101_2(pretrained=False)\n",
    "\n",
    "    # replace classification head\n",
    "    num_features = backbone.fc.in_features\n",
    "    backbone.fc = torch.nn.Linear(num_features, len(class_names))\n",
    "\n",
    "    # load trained weights\n",
    "    backbone.load_state_dict(torch.load(BACKBONE_PATH))\n",
    "\n",
    "    # remove classification head\n",
    "    backbone = torch.nn.Sequential(*list(backbone.children())[:-2])\n",
    "    backbone.out_channels = 2048\n",
    "    \n",
    "elif MODEL_NAME == \"mobilenet_v2\":\n",
    "    # fetch backbone model architecture\n",
    "    backbone = torchvision.models.mobilenet_v2(pretrained=False)\n",
    "    \n",
    "    # replace classification head\n",
    "    num_features = backbone.classifier[1].in_features\n",
    "    backbone.classifier[1] = torch.nn.Linear(num_features, len(class_names))\n",
    "\n",
    "    # load trained weights\n",
    "    backbone.load_state_dict(torch.load(BACKBONE_PATH))\n",
    "\n",
    "    # remove classification head\n",
    "    backbone = backbone.features\n",
    "    backbone.out_channels = 1280\n",
    "\n",
    "print(\"done\")"
   ]
  },
  {
   "cell_type": "markdown",
   "metadata": {},
   "source": [
    "## Embed into Faster R-CNN"
   ]
  },
  {
   "cell_type": "code",
   "execution_count": 20,
   "metadata": {},
   "outputs": [
    {
     "name": "stdout",
     "output_type": "stream",
     "text": [
      "Creating model... done\n"
     ]
    }
   ],
   "source": [
    "print(\"Creating model... \", end=\"\")\n",
    "\n",
    "if MODEL_NAME == \"resnet_50\":\n",
    "    model = torchvision.models.detection.fasterrcnn_resnet50_fpn(pretrained=True)\n",
    "    in_features = model.roi_heads.box_predictor.cls_score.in_features\n",
    "    model.roi_heads.box_predictor = torchvision.models.detection.faster_rcnn.FastRCNNPredictor(in_features, len(class_names))\n",
    "    \n",
    "else:\n",
    "    # encapsulate backbone within faster RCNN model\n",
    "    anchor_generator = torchvision.models.detection.rpn.AnchorGenerator(sizes=((32, 64, 128, 256, 512),), aspect_ratios=((0.5, 1.0, 2.0),))\n",
    "    roi_pooler = torchvision.ops.MultiScaleRoIAlign(featmap_names=['0'], output_size=7, sampling_ratio=2)\n",
    "    model = torchvision.models.detection.FasterRCNN(backbone, num_classes=len(class_names), rpn_anchor_generator=anchor_generator, box_roi_pool=roi_pooler)\n",
    "\n",
    "model = model.to(device)\n",
    "print(\"done\")"
   ]
  },
  {
   "cell_type": "markdown",
   "metadata": {},
   "source": [
    "## Load checkpoint if weights file exists"
   ]
  },
  {
   "cell_type": "code",
   "execution_count": 21,
   "metadata": {},
   "outputs": [
    {
     "name": "stdout",
     "output_type": "stream",
     "text": [
      "Loading weights from checkpoint...done\n"
     ]
    }
   ],
   "source": [
    "MODEL_PATH = os.path.join(ROOT_DIR, \"models\", \"condensed_food_detection\", MODEL_NAME, \"fine_tuning.pt\")\n",
    "\n",
    "if os.path.exists(MODEL_PATH):\n",
    "    print(\"Loading weights from checkpoint...\", end=\"\")\n",
    "    model.load_state_dict(torch.load(MODEL_PATH))\n",
    "    print(\"done\")"
   ]
  },
  {
   "cell_type": "markdown",
   "metadata": {
    "colab_type": "text",
    "id": "uvnnS8hWjPSV"
   },
   "source": [
    "# Train via fine-tuning"
   ]
  },
  {
   "cell_type": "markdown",
   "metadata": {
    "colab_type": "text",
    "id": "xGOLOjPWHxtO"
   },
   "source": [
    "## Declare training parameters"
   ]
  },
  {
   "cell_type": "code",
   "execution_count": 24,
   "metadata": {
    "colab": {},
    "colab_type": "code",
    "id": "iK1NBW85H1q0"
   },
   "outputs": [],
   "source": [
    "learning_rate = 0.001\n",
    "epochs = 3\n",
    "\n",
    "# fetch trainable parameters for transfer learning(where requires_grad = true)\n",
    "params = [p for p in model.parameters() if p.requires_grad]\n",
    "\n",
    "optimizer = torch.optim.SGD(params, lr=learning_rate)"
   ]
  },
  {
   "cell_type": "markdown",
   "metadata": {
    "colab_type": "text",
    "id": "sg6d4uuPkWUM"
   },
   "source": [
    "## Train and save model"
   ]
  },
  {
   "cell_type": "code",
   "execution_count": null,
   "metadata": {},
   "outputs": [
    {
     "name": "stdout",
     "output_type": "stream",
     "text": [
      "Epoch: [0]  [   0/8361]  eta: 4:31:52  lr: 0.000002  loss: 0.0468 (0.0468)  loss_classifier: 0.0327 (0.0327)  loss_box_reg: 0.0093 (0.0093)  loss_objectness: 0.0001 (0.0001)  loss_rpn_box_reg: 0.0048 (0.0048)  time: 1.9510  data: 0.0850  max mem: 4910\n"
     ]
    }
   ],
   "source": [
    "for epoch in range(epochs):\n",
    "    train_one_epoch(model, optimizer, train_loader, device, epoch, print_freq=1000)\n",
    "    evaluate(model, val_loader, device)\n",
    "    \n",
    "    # overwrite model weights file\n",
    "    torch.save(model.state_dict(), MODEL_PATH+str(epoch))"
   ]
  },
  {
   "cell_type": "code",
   "execution_count": null,
   "metadata": {},
   "outputs": [],
   "source": []
  }
 ],
 "metadata": {
  "accelerator": "GPU",
  "colab": {
   "authorship_tag": "ABX9TyMEED9oymhB2SYDFZhAXOf8",
   "collapsed_sections": [],
   "include_colab_link": true,
   "name": "food_classification_v1.ipynb",
   "private_outputs": true,
   "provenance": [],
   "toc_visible": true
  },
  "kernelspec": {
   "display_name": "Python 3",
   "language": "python",
   "name": "python3"
  },
  "language_info": {
   "codemirror_mode": {
    "name": "ipython",
    "version": 3
   },
   "file_extension": ".py",
   "mimetype": "text/x-python",
   "name": "python",
   "nbconvert_exporter": "python",
   "pygments_lexer": "ipython3",
   "version": "3.7.5"
  }
 },
 "nbformat": 4,
 "nbformat_minor": 1
}
