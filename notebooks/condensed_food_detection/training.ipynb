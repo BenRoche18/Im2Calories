{
 "cells": [
  {
   "cell_type": "markdown",
   "metadata": {
    "colab_type": "text",
    "id": "i_nLyDv8Vm2C"
   },
   "source": [
    "# Set up environment"
   ]
  },
  {
   "cell_type": "code",
   "execution_count": 1,
   "metadata": {
    "colab": {},
    "colab_type": "code",
    "id": "ISJ0ihdNdjhS"
   },
   "outputs": [],
   "source": [
    "import torch\n",
    "import torchvision\n",
    "import torchvision.transforms as transforms\n",
    "from torchsummary import summary\n",
    "\n",
    "import os\n",
    "import matplotlib.pyplot as plt\n",
    "import matplotlib.patches as patches\n",
    "import numpy as np\n",
    "import copy\n",
    "import shutil\n",
    "from PIL import Image\n",
    "from tqdm.autonotebook import tqdm\n",
    "import sys\n",
    "import xml.etree.cElementTree as ET"
   ]
  },
  {
   "cell_type": "markdown",
   "metadata": {},
   "source": [
    "## Import utility functions from Pytorch"
   ]
  },
  {
   "cell_type": "code",
   "execution_count": 2,
   "metadata": {},
   "outputs": [],
   "source": [
    "ROOT_DIR = os.path.dirname(os.path.dirname(os.getcwd()))\n",
    "\n",
    "sys.path.append(os.path.join(ROOT_DIR, \"utilities\"))\n",
    "\n",
    "from engine import train_one_epoch, evaluate\n",
    "import utils"
   ]
  },
  {
   "cell_type": "markdown",
   "metadata": {
    "colab_type": "text",
    "id": "0wjsABqdVyKa"
   },
   "source": [
    "## Enable GPU"
   ]
  },
  {
   "cell_type": "code",
   "execution_count": 3,
   "metadata": {
    "colab": {},
    "colab_type": "code",
    "id": "7rQNqPXEV4Ad"
   },
   "outputs": [
    {
     "name": "stdout",
     "output_type": "stream",
     "text": [
      "Running on cuda:0\n"
     ]
    }
   ],
   "source": [
    "device = torch.device(\"cuda:0\" if torch.cuda.is_available() else \"cpu\")\n",
    "print(\"Running on\", device)"
   ]
  },
  {
   "cell_type": "markdown",
   "metadata": {
    "colab_type": "text",
    "id": "C8eHVTWDif9d"
   },
   "source": [
    "## Declare parameters"
   ]
  },
  {
   "cell_type": "code",
   "execution_count": 4,
   "metadata": {
    "colab": {},
    "colab_type": "code",
    "id": "-Y0qqicdirJ_"
   },
   "outputs": [],
   "source": [
    "IMAGE_SIZE = 512\n",
    "BATCH_SIZE = 1"
   ]
  },
  {
   "cell_type": "markdown",
   "metadata": {
    "colab_type": "text",
    "id": "WUlZthLcWNJT"
   },
   "source": [
    "# Input data"
   ]
  },
  {
   "cell_type": "markdown",
   "metadata": {
    "colab_type": "text",
    "id": "ylfT9aiQe-6J"
   },
   "source": [
    "## Download Food256 dataset\n",
    "\n",
    "To extend the food classification into food detection I will need a dataset that includes bounding boxes, thus I have used food-256 including 256 different classes that contain atleast 100 images each. If the given directory not found then dataset is downloaded and extracted."
   ]
  },
  {
   "cell_type": "code",
   "execution_count": 5,
   "metadata": {
    "colab": {},
    "colab_type": "code",
    "id": "zXbE44oDfDGm"
   },
   "outputs": [],
   "source": [
    "FOOD256_DIR = os.path.join(os.path.abspath(os.sep), \"Datasets\", \"food256\")\n",
    "\n",
    "if not os.path.exists(FOOD256_DIR):\n",
    "  print(\"Downloading Food-256 dataset... \", end=\"\")\n",
    "  !wget http://foodcam.mobi/dataset256.zip\n",
    "  print(\"Done\")\n",
    "\n",
    "\n",
    "  print(\"Extracting data... \", end=\"\")\n",
    "  !unzip dataset256.zip\n",
    "  print(\"Done\")"
   ]
  },
  {
   "cell_type": "markdown",
   "metadata": {},
   "source": [
    "## Format dataset in VOC Format\n",
    "\n",
    "Please refer to format_voc notebook in utilities directory."
   ]
  },
  {
   "cell_type": "markdown",
   "metadata": {},
   "source": [
    "## Define FoodDataset class\n",
    "\n",
    "In the condensed version we read a list of condensed classes in the current working directory and only include images containing such catergories."
   ]
  },
  {
   "cell_type": "code",
   "execution_count": 6,
   "metadata": {},
   "outputs": [],
   "source": [
    "class FoodDataset(torch.utils.data.Dataset):\n",
    "    def __init__(self, root, images, transform=None):\n",
    "        self.root = root\n",
    "        self.transform = transform\n",
    "        self.classes = self.getClasses()\n",
    "        self.images = self.condense(images)\n",
    "            \n",
    "            \n",
    "    def getClasses(self):\n",
    "        classes = []\n",
    "        with open(\"condensed_category.txt\", 'r') as file:\n",
    "            file.readline()\n",
    "            for line in file.readlines():\n",
    "                classes.append(line.strip().split(\"\\t\")[1])\n",
    "        return classes\n",
    "            \n",
    "        \n",
    "    def condense(self, images):\n",
    "        condensed = []\n",
    "        \n",
    "        for img in images:\n",
    "            # open annotations file\n",
    "            tree = ET.parse(os.path.join(self.root, \"Annotations\", img.replace('.jpg', '.xml')))\n",
    "            root = tree.getroot()\n",
    "                            \n",
    "            # add to condensed only if contains class in condensed classed\n",
    "            for obj in root.findall('object'):\n",
    "                class_name = obj.find('name').text\n",
    "                if class_name in self.classes:\n",
    "                    condensed.append(img)\n",
    "                    break\n",
    "                            \n",
    "        return condensed\n",
    "            \n",
    "                \n",
    "    def getLabels(self, img_id):\n",
    "        # open annotations file\n",
    "        tree = ET.parse(os.path.join(self.root, \"Annotations\", img_id+'.xml'))\n",
    "        root = tree.getroot()\n",
    "        \n",
    "        boxes = []\n",
    "        areas = []\n",
    "        labels = []\n",
    "    \n",
    "        # read bounding boxes\n",
    "        for obj in root.findall('object'):\n",
    "            class_name = obj.find('name').text\n",
    "            \n",
    "            if class_name in self.classes:\n",
    "                # get bounding box\n",
    "                box = obj.find('bndbox')\n",
    "                x1 = float(box.find('xmin').text)\n",
    "                y1 = float(box.find('ymin').text)\n",
    "                x2 = float(box.find('xmax').text)\n",
    "                y2 = float(box.find('ymax').text)\n",
    "\n",
    "                boxes.append([x1, y1, x2, y2])\n",
    "                areas.append((x2-x1)*(y2-y1))\n",
    "                labels.append(self.classes.index(class_name))\n",
    "        \n",
    "        return boxes, areas, labels\n",
    "\n",
    "        \n",
    "    def __getitem__(self, index):\n",
    "        # image\n",
    "        img_path = os.path.join(self.root, \"JPEGImages\", self.images[index])\n",
    "        img = Image.open(img_path).convert(\"RGB\")\n",
    "        \n",
    "        # annotations\n",
    "        boxes, areas, labels = self.getLabels(self.images[index].split('.')[0])\n",
    "\n",
    "        target = {\n",
    "            \"image_id\": torch.as_tensor([index]),\n",
    "            \"labels\": torch.as_tensor(labels, dtype=torch.int64),\n",
    "            \"boxes\": torch.as_tensor(boxes, dtype=torch.float32),\n",
    "            \"area\": torch.as_tensor(areas),\n",
    "            \"iscrowd\": torch.zeros((len(labels)), dtype=torch.int64)\n",
    "        }\n",
    "        \n",
    "        if self.transform is not None:\n",
    "            img, target = self.transform(img, target)\n",
    "            \n",
    "        return img, target\n",
    "        \n",
    "    \n",
    "    def __len__(self):\n",
    "        return len(self.images)"
   ]
  },
  {
   "cell_type": "markdown",
   "metadata": {},
   "source": [
    "## Format images for model input"
   ]
  },
  {
   "cell_type": "code",
   "execution_count": 7,
   "metadata": {},
   "outputs": [],
   "source": [
    "# custom transform for R-CNN input\n",
    "class CustomTransform:\n",
    "    def __init__(self, image_size):\n",
    "        self.image_size = image_size\n",
    "        \n",
    "    def __call__(self, img, target):\n",
    "        # resize to a max of IMAGE_SIZE\n",
    "        w, h = img.size\n",
    "        scale = min(IMAGE_SIZE/w, IMAGE_SIZE/h)\n",
    "        img = transforms.functional.resize(img, (int(h*scale), int(w*scale)))\n",
    "        \n",
    "        \n",
    "        # update bounding boxes\n",
    "        target[\"boxes\"] *= scale\n",
    "        \n",
    "        # update areas\n",
    "        target[\"area\"] *= scale**2\n",
    "        \n",
    "        # add padding to a size of IMAGE_SIZE\n",
    "        img = transforms.functional.pad(img, (0, 0, IMAGE_SIZE-int(w*scale), IMAGE_SIZE-int(h*scale)))\n",
    "        \n",
    "        # convert to tensor\n",
    "        img = transforms.functional.to_tensor(img)\n",
    "\n",
    "        # normalize\n",
    "        img = transforms.functional.normalize(img, [0.485, 0.456, 0.406], [0.229, 0.224, 0.225])\n",
    "        \n",
    "        return img, target\n",
    "\n",
    "transform = CustomTransform(image_size=IMAGE_SIZE)"
   ]
  },
  {
   "cell_type": "markdown",
   "metadata": {},
   "source": [
    "## Read training and validations splits"
   ]
  },
  {
   "cell_type": "code",
   "execution_count": 8,
   "metadata": {},
   "outputs": [
    {
     "name": "stdout",
     "output_type": "stream",
     "text": [
      "Number of training images: 8361\n",
      "Number of validation images: 932\n"
     ]
    }
   ],
   "source": [
    "SPLIT_DIR = os.path.join(FOOD256_DIR, \"ImageSets\", \"Main\")\n",
    "\n",
    "with open(os.path.join(SPLIT_DIR, \"train.txt\"), 'r') as file:\n",
    "    images = [x.strip() for x in file.readlines()]\n",
    "    train_raw = FoodDataset(FOOD256_DIR, images, transform=transform)\n",
    "    \n",
    "with open(os.path.join(SPLIT_DIR, \"val.txt\"), 'r') as file:\n",
    "    images = [x.strip() for x in file.readlines()]\n",
    "    val_raw = FoodDataset(FOOD256_DIR, images, transform=transform)\n",
    "\n",
    "train_size = len(train_raw)\n",
    "val_size = len(val_raw)\n",
    "\n",
    "class_names = train_raw.classes\n",
    "\n",
    "print(\"Number of training images: {0}\".format(train_size))\n",
    "print(\"Number of validation images: {0}\".format(val_size))"
   ]
  },
  {
   "cell_type": "markdown",
   "metadata": {},
   "source": [
    "## Batch datasets for training and evaluation"
   ]
  },
  {
   "cell_type": "code",
   "execution_count": 9,
   "metadata": {},
   "outputs": [],
   "source": [
    "# define how to batch data (i.e not combine target dicitonaries)\n",
    "def collate_fn(batch):\n",
    "    return tuple(zip(*batch))\n",
    "\n",
    "train_loader = torch.utils.data.DataLoader(train_raw, batch_size=BATCH_SIZE, shuffle=True, collate_fn=collate_fn)\n",
    "val_loader = torch.utils.data.DataLoader(val_raw, batch_size=BATCH_SIZE, shuffle=True, collate_fn=collate_fn)"
   ]
  },
  {
   "cell_type": "markdown",
   "metadata": {},
   "source": [
    "## Show example training image with bounding boxes"
   ]
  },
  {
   "cell_type": "code",
   "execution_count": 10,
   "metadata": {
    "colab": {},
    "colab_type": "code",
    "id": "pXJIlUvAmRJO"
   },
   "outputs": [
    {
     "data": {
      "image/png": "[encoded data removed]",
      "text/plain": [
       "<Figure size 432x288 with 1 Axes>"
      ]
     },
     "execution_count": 10,
     "metadata": {},
     "output_type": "execute_result"
    }
   ],
   "source": [
    "fig, axis= plt.subplots(1)\n",
    "\n",
    "#randomly select image from dataset\n",
    "i = np.random.randint(train_size)\n",
    "img = train_raw[i][0].clone().numpy()\n",
    "\n",
    "# unnormalize\n",
    "img[0] = img[0] * 0.229\n",
    "img[1] = img[1] * 0.224 \n",
    "img[2] = img[2] * 0.225 \n",
    "img[0] += 0.485 \n",
    "img[1] += 0.456 \n",
    "img[2] += 0.406\n",
    "\n",
    "img = np.transpose(img, (1,2,0))\n",
    "img = np.clip(img, 0, 1)\n",
    "plt.imshow(img)\n",
    "\n",
    "labels = train_raw[i][1][\"labels\"]\n",
    "boxes = train_raw[i][1][\"boxes\"]\n",
    "\n",
    "# draw bounding boxes\n",
    "for i in range(len(labels)):\n",
    "    x1, y1, x2, y2 = boxes[i]\n",
    "    box = patches.Rectangle((x1, y1), x2-x1, y2-y1, linewidth=2, edgecolor='r', facecolor='none')\n",
    "    axis.add_patch(box)\n",
    "    axis.text(x1, y2, class_names[labels[i]], fontdict=dict(color='w', weight='bold'), bbox=dict(facecolor='r', edgecolor='none'))\n",
    "\n",
    "fig"
   ]
  },
  {
   "cell_type": "markdown",
   "metadata": {
    "colab_type": "text",
    "id": "Xzgyw9d1YtJx"
   },
   "source": [
    "# Model\n",
    "\n",
    "In order to train the food detector I will train from a pretrained Faster R-CNN model."
   ]
  },
  {
   "cell_type": "markdown",
   "metadata": {},
   "source": [
    "## Declare backbone model architecture\n",
    "\n",
    "Currently supports:\n",
    "    - mobilenet_v2\n",
    "    - wide_resnet_101\n",
    "    - resnet_50"
   ]
  },
  {
   "cell_type": "code",
   "execution_count": 17,
   "metadata": {},
   "outputs": [],
   "source": [
    "MODEL_NAME = \"mobilenet_v2\""
   ]
  },
  {
   "cell_type": "markdown",
   "metadata": {},
   "source": [
    "## Fetch pretrainied backbone"
   ]
  },
  {
   "cell_type": "code",
   "execution_count": 18,
   "metadata": {},
   "outputs": [
    {
     "name": "stdout",
     "output_type": "stream",
     "text": [
      "Fetching pretrained backbone model... done\n"
     ]
    }
   ],
   "source": [
    "BACKBONE_PATH = os.path.join(ROOT_DIR, \"models\", \"condensed_food_detection\", \"backbones\", MODEL_NAME, \"fine_tuning.pt\")\n",
    "\n",
    "print(\"Fetching pretrained backbone model... \", end=\"\")\n",
    "\n",
    "if MODEL_NAME == \"wide_resnet_101\":\n",
    "    # fetch backbone model architecture\n",
    "    backbone = torchvision.models.wide_resnet101_2(pretrained=False)\n",
    "\n",
    "    # replace classification head\n",
    "    num_features = backbone.fc.in_features\n",
    "    backbone.fc = torch.nn.Linear(num_features, len(class_names))\n",
    "\n",
    "    # load trained weights\n",
    "    backbone.load_state_dict(torch.load(BACKBONE_PATH))\n",
    "\n",
    "    # remove classification head\n",
    "    backbone = torch.nn.Sequential(*list(backbone.children())[:-2])\n",
    "    backbone.out_channels = 2048\n",
    "    \n",
    "elif MODEL_NAME == \"mobilenet_v2\":\n",
    "    # fetch backbone model architecture\n",
    "    backbone = torchvision.models.mobilenet_v2(pretrained=False)\n",
    "    \n",
    "    # replace classification head\n",
    "    num_features = backbone.classifier[1].in_features\n",
    "    backbone.classifier[1] = torch.nn.Linear(num_features, len(class_names))\n",
    "\n",
    "    # load trained weights\n",
    "    backbone.load_state_dict(torch.load(BACKBONE_PATH))\n",
    "\n",
    "    # remove classification head\n",
    "    backbone = backbone.features\n",
    "    backbone.out_channels = 1280\n",
    "\n",
    "print(\"done\")"
   ]
  },
  {
   "cell_type": "markdown",
   "metadata": {},
   "source": [
    "## Embed into Faster R-CNN"
   ]
  },
  {
   "cell_type": "code",
   "execution_count": 19,
   "metadata": {},
   "outputs": [
    {
     "name": "stdout",
     "output_type": "stream",
     "text": [
      "Creating model... done\n"
     ]
    }
   ],
   "source": [
    "print(\"Creating model... \", end=\"\")\n",
    "\n",
    "if MODEL_NAME == \"resnet_50\":\n",
    "    model = torchvision.models.detection.fasterrcnn_resnet50_fpn(pretrained=True)\n",
    "    in_features = model.roi_heads.box_predictor.cls_score.in_features\n",
    "    model.roi_heads.box_predictor = torchvision.models.detection.faster_rcnn.FastRCNNPredictor(in_features, len(class_names))\n",
    "    \n",
    "else:\n",
    "    # encapsulate backbone within faster RCNN model\n",
    "    anchor_generator = torchvision.models.detection.rpn.AnchorGenerator(sizes=((32, 64, 128, 256, 512),), aspect_ratios=((0.5, 1.0, 2.0),))\n",
    "    roi_pooler = torchvision.ops.MultiScaleRoIAlign(featmap_names=['0'], output_size=7, sampling_ratio=2)\n",
    "    model = torchvision.models.detection.FasterRCNN(backbone, num_classes=len(class_names), rpn_anchor_generator=anchor_generator, box_roi_pool=roi_pooler)\n",
    "\n",
    "model = model.to(device)\n",
    "print(\"done\")"
   ]
  },
  {
   "cell_type": "markdown",
   "metadata": {},
   "source": [
    "## Load checkpoint if weights file exists"
   ]
  },
  {
   "cell_type": "code",
   "execution_count": 20,
   "metadata": {},
   "outputs": [
    {
     "name": "stdout",
     "output_type": "stream",
     "text": [
      "Loading weights from checkpoint...done\n"
     ]
    }
   ],
   "source": [
    "MODEL_PATH = os.path.join(ROOT_DIR, \"models\", \"condensed_food_detection\", MODEL_NAME, \"fine_tuning.pt\")\n",
    "\n",
    "if os.path.exists(MODEL_PATH):\n",
    "    print(\"Loading weights from checkpoint...\", end=\"\")\n",
    "    model.load_state_dict(torch.load(MODEL_PATH))\n",
    "    print(\"done\")"
   ]
  },
  {
   "cell_type": "markdown",
   "metadata": {
    "colab_type": "text",
    "id": "uvnnS8hWjPSV"
   },
   "source": [
    "# Train via fine-tuning"
   ]
  },
  {
   "cell_type": "markdown",
   "metadata": {
    "colab_type": "text",
    "id": "xGOLOjPWHxtO"
   },
   "source": [
    "## Declare training parameters"
   ]
  },
  {
   "cell_type": "code",
   "execution_count": 21,
   "metadata": {
    "colab": {},
    "colab_type": "code",
    "id": "iK1NBW85H1q0"
   },
   "outputs": [],
   "source": [
    "learning_rate = 0.001\n",
    "epochs = 5\n",
    "\n",
    "# fetch trainable parameters for transfer learning(where requires_grad = true)\n",
    "params = [p for p in model.parameters() if p.requires_grad]\n",
    "\n",
    "optimizer = torch.optim.SGD(params, lr=learning_rate)"
   ]
  },
  {
   "cell_type": "markdown",
   "metadata": {
    "colab_type": "text",
    "id": "sg6d4uuPkWUM"
   },
   "source": [
    "## Train and save model"
   ]
  },
  {
   "cell_type": "code",
   "execution_count": 22,
   "metadata": {},
   "outputs": [
    {
     "name": "stdout",
     "output_type": "stream",
     "text": [
      "Epoch: [0]  [   0/8361]  eta: 0:28:18  lr: 0.000002  loss: 0.0367 (0.0367)  loss_classifier: 0.0270 (0.0270)  loss_box_reg: 0.0071 (0.0071)  loss_objectness: 0.0013 (0.0013)  loss_rpn_box_reg: 0.0013 (0.0013)  time: 0.2031  data: 0.0146  max mem: 1546\n",
      "Epoch: [0]  [1000/8361]  eta: 0:19:44  lr: 0.001000  loss: 0.0464 (0.0590)  loss_classifier: 0.0235 (0.0314)  loss_box_reg: 0.0065 (0.0097)  loss_objectness: 0.0004 (0.0043)  loss_rpn_box_reg: 0.0086 (0.0136)  time: 0.1629  data: 0.0065  max mem: 1803\n",
      "Epoch: [0]  [2000/8361]  eta: 0:17:25  lr: 0.001000  loss: 0.0560 (0.0586)  loss_classifier: 0.0325 (0.0310)  loss_box_reg: 0.0067 (0.0097)  loss_objectness: 0.0017 (0.0041)  loss_rpn_box_reg: 0.0096 (0.0138)  time: 0.1661  data: 0.0066  max mem: 1803\n",
      "Epoch: [0]  [3000/8361]  eta: 0:14:51  lr: 0.001000  loss: 0.0378 (0.0594)  loss_classifier: 0.0186 (0.0313)  loss_box_reg: 0.0038 (0.0098)  loss_objectness: 0.0006 (0.0043)  loss_rpn_box_reg: 0.0064 (0.0140)  time: 0.1671  data: 0.0065  max mem: 1803\n",
      "Epoch: [0]  [4000/8361]  eta: 0:12:12  lr: 0.001000  loss: 0.0439 (0.0598)  loss_classifier: 0.0270 (0.0314)  loss_box_reg: 0.0068 (0.0099)  loss_objectness: 0.0006 (0.0044)  loss_rpn_box_reg: 0.0124 (0.0141)  time: 0.1721  data: 0.0067  max mem: 1803\n",
      "Epoch: [0]  [5000/8361]  eta: 0:09:27  lr: 0.001000  loss: 0.0433 (0.0597)  loss_classifier: 0.0249 (0.0316)  loss_box_reg: 0.0087 (0.0098)  loss_objectness: 0.0006 (0.0043)  loss_rpn_box_reg: 0.0078 (0.0141)  time: 0.1687  data: 0.0074  max mem: 1803\n",
      "Epoch: [0]  [6000/8361]  eta: 0:06:39  lr: 0.001000  loss: 0.0424 (0.0600)  loss_classifier: 0.0224 (0.0318)  loss_box_reg: 0.0055 (0.0098)  loss_objectness: 0.0006 (0.0042)  loss_rpn_box_reg: 0.0110 (0.0142)  time: 0.1702  data: 0.0071  max mem: 1803\n",
      "Epoch: [0]  [7000/8361]  eta: 0:03:51  lr: 0.001000  loss: 0.0472 (0.0600)  loss_classifier: 0.0253 (0.0318)  loss_box_reg: 0.0058 (0.0098)  loss_objectness: 0.0006 (0.0042)  loss_rpn_box_reg: 0.0101 (0.0142)  time: 0.1871  data: 0.0254  max mem: 1803\n",
      "Epoch: [0]  [8000/8361]  eta: 0:01:02  lr: 0.001000  loss: 0.0590 (0.0600)  loss_classifier: 0.0330 (0.0317)  loss_box_reg: 0.0071 (0.0098)  loss_objectness: 0.0009 (0.0042)  loss_rpn_box_reg: 0.0130 (0.0142)  time: 0.1921  data: 0.0314  max mem: 1803\n",
      "Epoch: [0]  [8360/8361]  eta: 0:00:00  lr: 0.001000  loss: 0.0609 (0.0599)  loss_classifier: 0.0274 (0.0317)  loss_box_reg: 0.0094 (0.0098)  loss_objectness: 0.0004 (0.0042)  loss_rpn_box_reg: 0.0119 (0.0142)  time: 0.1956  data: 0.0357  max mem: 1803\n",
      "Epoch: [0] Total time: 0:24:13 (0.1739 s / it)\n",
      "creating index...\n",
      "index created!\n",
      "Test:  [  0/932]  eta: 0:01:13  model_time: 0.0496 (0.0496)  evaluator_time: 0.0020 (0.0020)  time: 0.0785  data: 0.0100  max mem: 1803\n",
      "Test:  [100/932]  eta: 0:00:40  model_time: 0.0349 (0.0356)  evaluator_time: 0.0010 (0.0015)  time: 0.0469  data: 0.0094  max mem: 1803\n",
      "Test:  [200/932]  eta: 0:00:35  model_time: 0.0359 (0.0357)  evaluator_time: 0.0020 (0.0015)  time: 0.0488  data: 0.0101  max mem: 1803\n",
      "Test:  [300/932]  eta: 0:00:30  model_time: 0.0349 (0.0356)  evaluator_time: 0.0010 (0.0015)  time: 0.0473  data: 0.0096  max mem: 1803\n",
      "Test:  [400/932]  eta: 0:00:25  model_time: 0.0349 (0.0354)  evaluator_time: 0.0010 (0.0014)  time: 0.0468  data: 0.0098  max mem: 1803\n",
      "Test:  [500/932]  eta: 0:00:20  model_time: 0.0349 (0.0353)  evaluator_time: 0.0010 (0.0015)  time: 0.0478  data: 0.0099  max mem: 1803\n",
      "Test:  [600/932]  eta: 0:00:15  model_time: 0.0349 (0.0353)  evaluator_time: 0.0010 (0.0015)  time: 0.0466  data: 0.0094  max mem: 1803\n",
      "Test:  [700/932]  eta: 0:00:11  model_time: 0.0374 (0.0354)  evaluator_time: 0.0010 (0.0015)  time: 0.0536  data: 0.0111  max mem: 1803\n",
      "Test:  [800/932]  eta: 0:00:06  model_time: 0.0349 (0.0354)  evaluator_time: 0.0010 (0.0015)  time: 0.0480  data: 0.0098  max mem: 1803\n",
      "Test:  [900/932]  eta: 0:00:01  model_time: 0.0379 (0.0356)  evaluator_time: 0.0020 (0.0015)  time: 0.0508  data: 0.0098  max mem: 1803\n",
      "Test:  [931/932]  eta: 0:00:00  model_time: 0.0359 (0.0356)  evaluator_time: 0.0020 (0.0015)  time: 0.0495  data: 0.0102  max mem: 1803\n",
      "Test: Total time: 0:00:44 (0.0482 s / it)\n",
      "Averaged stats: model_time: 0.0359 (0.0356)  evaluator_time: 0.0020 (0.0015)\n",
      "Accumulating evaluation results...\n",
      "DONE (t=0.39s).\n",
      "IoU metric: bbox\n",
      " Average Precision  (AP) @[ IoU=0.50:0.95 | area=   all | maxDets=100 ] = 0.403\n",
      " Average Precision  (AP) @[ IoU=0.50      | area=   all | maxDets=100 ] = 0.627\n",
      " Average Precision  (AP) @[ IoU=0.75      | area=   all | maxDets=100 ] = 0.463\n",
      " Average Precision  (AP) @[ IoU=0.50:0.95 | area= small | maxDets=100 ] = -1.000\n",
      " Average Precision  (AP) @[ IoU=0.50:0.95 | area=medium | maxDets=100 ] = 0.000\n",
      " Average Precision  (AP) @[ IoU=0.50:0.95 | area= large | maxDets=100 ] = 0.406\n",
      " Average Recall     (AR) @[ IoU=0.50:0.95 | area=   all | maxDets=  1 ] = 0.545\n",
      " Average Recall     (AR) @[ IoU=0.50:0.95 | area=   all | maxDets= 10 ] = 0.547\n",
      " Average Recall     (AR) @[ IoU=0.50:0.95 | area=   all | maxDets=100 ] = 0.547\n",
      " Average Recall     (AR) @[ IoU=0.50:0.95 | area= small | maxDets=100 ] = -1.000\n",
      " Average Recall     (AR) @[ IoU=0.50:0.95 | area=medium | maxDets=100 ] = 0.000\n",
      " Average Recall     (AR) @[ IoU=0.50:0.95 | area= large | maxDets=100 ] = 0.551\n",
      "Epoch: [1]  [   0/8361]  eta: 0:26:49  lr: 0.001000  loss: 0.0615 (0.0615)  loss_classifier: 0.0392 (0.0392)  loss_box_reg: 0.0062 (0.0062)  loss_objectness: 0.0009 (0.0009)  loss_rpn_box_reg: 0.0152 (0.0152)  time: 0.1925  data: 0.0120  max mem: 1803\n",
      "Epoch: [1]  [1000/8361]  eta: 0:20:58  lr: 0.001000  loss: 0.0482 (0.0571)  loss_classifier: 0.0244 (0.0303)  loss_box_reg: 0.0044 (0.0097)  loss_objectness: 0.0009 (0.0032)  loss_rpn_box_reg: 0.0068 (0.0139)  time: 0.1673  data: 0.0071  max mem: 1803\n",
      "Epoch: [1]  [2000/8361]  eta: 0:17:54  lr: 0.001000  loss: 0.0377 (0.0576)  loss_classifier: 0.0219 (0.0306)  loss_box_reg: 0.0062 (0.0095)  loss_objectness: 0.0004 (0.0035)  loss_rpn_box_reg: 0.0098 (0.0141)  time: 0.1660  data: 0.0069  max mem: 1803\n",
      "Epoch: [1]  [3000/8361]  eta: 0:15:01  lr: 0.001000  loss: 0.0555 (0.0569)  loss_classifier: 0.0292 (0.0302)  loss_box_reg: 0.0061 (0.0093)  loss_objectness: 0.0011 (0.0036)  loss_rpn_box_reg: 0.0100 (0.0138)  time: 0.1670  data: 0.0071  max mem: 1803\n",
      "Epoch: [1]  [4000/8361]  eta: 0:12:12  lr: 0.001000  loss: 0.0445 (0.0578)  loss_classifier: 0.0281 (0.0308)  loss_box_reg: 0.0067 (0.0093)  loss_objectness: 0.0014 (0.0038)  loss_rpn_box_reg: 0.0123 (0.0139)  time: 0.1662  data: 0.0067  max mem: 1803\n",
      "Epoch: [1]  [5000/8361]  eta: 0:09:23  lr: 0.001000  loss: 0.0322 (0.0577)  loss_classifier: 0.0150 (0.0308)  loss_box_reg: 0.0047 (0.0094)  loss_objectness: 0.0003 (0.0038)  loss_rpn_box_reg: 0.0090 (0.0137)  time: 0.1669  data: 0.0068  max mem: 1803\n",
      "Epoch: [1]  [6000/8361]  eta: 0:06:35  lr: 0.001000  loss: 0.0533 (0.0582)  loss_classifier: 0.0232 (0.0308)  loss_box_reg: 0.0068 (0.0095)  loss_objectness: 0.0003 (0.0040)  loss_rpn_box_reg: 0.0129 (0.0139)  time: 0.1664  data: 0.0067  max mem: 1803\n",
      "Epoch: [1]  [7000/8361]  eta: 0:03:47  lr: 0.001000  loss: 0.0499 (0.0581)  loss_classifier: 0.0308 (0.0307)  loss_box_reg: 0.0060 (0.0095)  loss_objectness: 0.0007 (0.0040)  loss_rpn_box_reg: 0.0073 (0.0139)  time: 0.1686  data: 0.0068  max mem: 1803\n",
      "Epoch: [1]  [8000/8361]  eta: 0:01:00  lr: 0.001000  loss: 0.0630 (0.0587)  loss_classifier: 0.0300 (0.0309)  loss_box_reg: 0.0071 (0.0096)  loss_objectness: 0.0008 (0.0041)  loss_rpn_box_reg: 0.0100 (0.0140)  time: 0.1790  data: 0.0089  max mem: 1803\n",
      "Epoch: [1]  [8360/8361]  eta: 0:00:00  lr: 0.001000  loss: 0.0503 (0.0588)  loss_classifier: 0.0283 (0.0310)  loss_box_reg: 0.0056 (0.0096)  loss_objectness: 0.0008 (0.0041)  loss_rpn_box_reg: 0.0111 (0.0141)  time: 0.1726  data: 0.0075  max mem: 1803\n",
      "Epoch: [1] Total time: 0:23:25 (0.1681 s / it)\n",
      "creating index...\n",
      "index created!\n",
      "Test:  [  0/932]  eta: 0:00:46  model_time: 0.0369 (0.0369)  evaluator_time: 0.0020 (0.0020)  time: 0.0498  data: 0.0090  max mem: 1803\n",
      "Test:  [100/932]  eta: 0:00:39  model_time: 0.0369 (0.0356)  evaluator_time: 0.0020 (0.0015)  time: 0.0488  data: 0.0094  max mem: 1803\n",
      "Test:  [200/932]  eta: 0:00:35  model_time: 0.0389 (0.0363)  evaluator_time: 0.0010 (0.0015)  time: 0.0511  data: 0.0100  max mem: 1803\n"
     ]
    },
    {
     "name": "stdout",
     "output_type": "stream",
     "text": [
      "Test:  [300/932]  eta: 0:00:30  model_time: 0.0368 (0.0366)  evaluator_time: 0.0010 (0.0015)  time: 0.0499  data: 0.0101  max mem: 1803\n",
      "Test:  [400/932]  eta: 0:00:25  model_time: 0.0359 (0.0364)  evaluator_time: 0.0020 (0.0015)  time: 0.0481  data: 0.0096  max mem: 1803\n",
      "Test:  [500/932]  eta: 0:00:21  model_time: 0.0369 (0.0364)  evaluator_time: 0.0010 (0.0015)  time: 0.0487  data: 0.0094  max mem: 1803\n",
      "Test:  [600/932]  eta: 0:00:16  model_time: 0.0359 (0.0363)  evaluator_time: 0.0020 (0.0015)  time: 0.0481  data: 0.0090  max mem: 1803\n",
      "Test:  [700/932]  eta: 0:00:11  model_time: 0.0359 (0.0362)  evaluator_time: 0.0020 (0.0015)  time: 0.0481  data: 0.0098  max mem: 1803\n",
      "Test:  [800/932]  eta: 0:00:06  model_time: 0.0329 (0.0362)  evaluator_time: 0.0010 (0.0015)  time: 0.0466  data: 0.0095  max mem: 1803\n",
      "Test:  [900/932]  eta: 0:00:01  model_time: 0.0369 (0.0361)  evaluator_time: 0.0010 (0.0015)  time: 0.0486  data: 0.0097  max mem: 1803\n",
      "Test:  [931/932]  eta: 0:00:00  model_time: 0.0349 (0.0361)  evaluator_time: 0.0020 (0.0015)  time: 0.0486  data: 0.0098  max mem: 1803\n",
      "Test: Total time: 0:00:45 (0.0485 s / it)\n",
      "Averaged stats: model_time: 0.0349 (0.0361)  evaluator_time: 0.0020 (0.0015)\n",
      "Accumulating evaluation results...\n",
      "DONE (t=0.40s).\n",
      "IoU metric: bbox\n",
      " Average Precision  (AP) @[ IoU=0.50:0.95 | area=   all | maxDets=100 ] = 0.390\n",
      " Average Precision  (AP) @[ IoU=0.50      | area=   all | maxDets=100 ] = 0.610\n",
      " Average Precision  (AP) @[ IoU=0.75      | area=   all | maxDets=100 ] = 0.442\n",
      " Average Precision  (AP) @[ IoU=0.50:0.95 | area= small | maxDets=100 ] = -1.000\n",
      " Average Precision  (AP) @[ IoU=0.50:0.95 | area=medium | maxDets=100 ] = 0.000\n",
      " Average Precision  (AP) @[ IoU=0.50:0.95 | area= large | maxDets=100 ] = 0.394\n",
      " Average Recall     (AR) @[ IoU=0.50:0.95 | area=   all | maxDets=  1 ] = 0.535\n",
      " Average Recall     (AR) @[ IoU=0.50:0.95 | area=   all | maxDets= 10 ] = 0.538\n",
      " Average Recall     (AR) @[ IoU=0.50:0.95 | area=   all | maxDets=100 ] = 0.538\n",
      " Average Recall     (AR) @[ IoU=0.50:0.95 | area= small | maxDets=100 ] = -1.000\n",
      " Average Recall     (AR) @[ IoU=0.50:0.95 | area=medium | maxDets=100 ] = 0.000\n",
      " Average Recall     (AR) @[ IoU=0.50:0.95 | area= large | maxDets=100 ] = 0.542\n",
      "Epoch: [2]  [   0/8361]  eta: 0:25:00  lr: 0.001000  loss: 0.0055 (0.0055)  loss_classifier: 0.0013 (0.0013)  loss_box_reg: 0.0000 (0.0000)  loss_objectness: 0.0019 (0.0019)  loss_rpn_box_reg: 0.0023 (0.0023)  time: 0.1795  data: 0.0070  max mem: 1803\n",
      "Epoch: [2]  [1000/8361]  eta: 0:20:33  lr: 0.001000  loss: 0.0367 (0.0624)  loss_classifier: 0.0222 (0.0321)  loss_box_reg: 0.0046 (0.0101)  loss_objectness: 0.0005 (0.0047)  loss_rpn_box_reg: 0.0076 (0.0155)  time: 0.1686  data: 0.0075  max mem: 1803\n",
      "Epoch: [2]  [2000/8361]  eta: 0:17:49  lr: 0.001000  loss: 0.0411 (0.0589)  loss_classifier: 0.0205 (0.0310)  loss_box_reg: 0.0065 (0.0095)  loss_objectness: 0.0003 (0.0040)  loss_rpn_box_reg: 0.0085 (0.0144)  time: 0.1673  data: 0.0069  max mem: 1803\n",
      "Epoch: [2]  [3000/8361]  eta: 0:15:05  lr: 0.001000  loss: 0.0381 (0.0586)  loss_classifier: 0.0197 (0.0308)  loss_box_reg: 0.0081 (0.0093)  loss_objectness: 0.0009 (0.0040)  loss_rpn_box_reg: 0.0077 (0.0145)  time: 0.1700  data: 0.0068  max mem: 1803\n",
      "Epoch: [2]  [4000/8361]  eta: 0:12:16  lr: 0.001000  loss: 0.0470 (0.0578)  loss_classifier: 0.0266 (0.0304)  loss_box_reg: 0.0090 (0.0093)  loss_objectness: 0.0005 (0.0039)  loss_rpn_box_reg: 0.0095 (0.0142)  time: 0.1687  data: 0.0067  max mem: 1803\n",
      "Epoch: [2]  [5000/8361]  eta: 0:09:28  lr: 0.001000  loss: 0.0439 (0.0580)  loss_classifier: 0.0221 (0.0306)  loss_box_reg: 0.0049 (0.0095)  loss_objectness: 0.0006 (0.0038)  loss_rpn_box_reg: 0.0100 (0.0141)  time: 0.1692  data: 0.0070  max mem: 1803\n",
      "Epoch: [2]  [6000/8361]  eta: 0:06:39  lr: 0.001000  loss: 0.0502 (0.0576)  loss_classifier: 0.0302 (0.0302)  loss_box_reg: 0.0067 (0.0094)  loss_objectness: 0.0010 (0.0039)  loss_rpn_box_reg: 0.0084 (0.0141)  time: 0.1735  data: 0.0070  max mem: 1803\n",
      "Epoch: [2]  [7000/8361]  eta: 0:03:50  lr: 0.001000  loss: 0.0473 (0.0574)  loss_classifier: 0.0191 (0.0301)  loss_box_reg: 0.0057 (0.0094)  loss_objectness: 0.0007 (0.0039)  loss_rpn_box_reg: 0.0097 (0.0140)  time: 0.1668  data: 0.0067  max mem: 1803\n",
      "Epoch: [2]  [8000/8361]  eta: 0:01:01  lr: 0.001000  loss: 0.0415 (0.0575)  loss_classifier: 0.0231 (0.0301)  loss_box_reg: 0.0044 (0.0095)  loss_objectness: 0.0006 (0.0039)  loss_rpn_box_reg: 0.0077 (0.0140)  time: 0.1727  data: 0.0073  max mem: 1803\n",
      "Epoch: [2]  [8360/8361]  eta: 0:00:00  lr: 0.001000  loss: 0.0553 (0.0574)  loss_classifier: 0.0286 (0.0301)  loss_box_reg: 0.0042 (0.0094)  loss_objectness: 0.0004 (0.0039)  loss_rpn_box_reg: 0.0143 (0.0140)  time: 0.1680  data: 0.0070  max mem: 1803\n",
      "Epoch: [2] Total time: 0:23:39 (0.1698 s / it)\n",
      "creating index...\n",
      "index created!\n",
      "Test:  [  0/932]  eta: 0:00:45  model_time: 0.0369 (0.0369)  evaluator_time: 0.0010 (0.0010)  time: 0.0488  data: 0.0090  max mem: 1803\n",
      "Test:  [100/932]  eta: 0:00:40  model_time: 0.0359 (0.0364)  evaluator_time: 0.0020 (0.0015)  time: 0.0480  data: 0.0097  max mem: 1803\n",
      "Test:  [200/932]  eta: 0:00:35  model_time: 0.0359 (0.0363)  evaluator_time: 0.0010 (0.0015)  time: 0.0493  data: 0.0093  max mem: 1803\n",
      "Test:  [300/932]  eta: 0:00:30  model_time: 0.0369 (0.0363)  evaluator_time: 0.0020 (0.0015)  time: 0.0496  data: 0.0093  max mem: 1803\n",
      "Test:  [400/932]  eta: 0:00:25  model_time: 0.0365 (0.0363)  evaluator_time: 0.0010 (0.0015)  time: 0.0479  data: 0.0092  max mem: 1803\n",
      "Test:  [500/932]  eta: 0:00:20  model_time: 0.0369 (0.0364)  evaluator_time: 0.0010 (0.0015)  time: 0.0495  data: 0.0097  max mem: 1803\n",
      "Test:  [600/932]  eta: 0:00:16  model_time: 0.0389 (0.0365)  evaluator_time: 0.0020 (0.0015)  time: 0.0501  data: 0.0094  max mem: 1803\n",
      "Test:  [700/932]  eta: 0:00:11  model_time: 0.0359 (0.0365)  evaluator_time: 0.0010 (0.0015)  time: 0.0485  data: 0.0096  max mem: 1803\n",
      "Test:  [800/932]  eta: 0:00:06  model_time: 0.0359 (0.0365)  evaluator_time: 0.0010 (0.0015)  time: 0.0473  data: 0.0092  max mem: 1803\n",
      "Test:  [900/932]  eta: 0:00:01  model_time: 0.0359 (0.0365)  evaluator_time: 0.0010 (0.0015)  time: 0.0480  data: 0.0092  max mem: 1803\n",
      "Test:  [931/932]  eta: 0:00:00  model_time: 0.0349 (0.0364)  evaluator_time: 0.0010 (0.0015)  time: 0.0473  data: 0.0097  max mem: 1803\n",
      "Test: Total time: 0:00:45 (0.0486 s / it)\n",
      "Averaged stats: model_time: 0.0349 (0.0364)  evaluator_time: 0.0010 (0.0015)\n",
      "Accumulating evaluation results...\n",
      "DONE (t=0.40s).\n",
      "IoU metric: bbox\n",
      " Average Precision  (AP) @[ IoU=0.50:0.95 | area=   all | maxDets=100 ] = 0.394\n",
      " Average Precision  (AP) @[ IoU=0.50      | area=   all | maxDets=100 ] = 0.617\n",
      " Average Precision  (AP) @[ IoU=0.75      | area=   all | maxDets=100 ] = 0.450\n",
      " Average Precision  (AP) @[ IoU=0.50:0.95 | area= small | maxDets=100 ] = -1.000\n",
      " Average Precision  (AP) @[ IoU=0.50:0.95 | area=medium | maxDets=100 ] = 0.000\n",
      " Average Precision  (AP) @[ IoU=0.50:0.95 | area= large | maxDets=100 ] = 0.396\n",
      " Average Recall     (AR) @[ IoU=0.50:0.95 | area=   all | maxDets=  1 ] = 0.538\n",
      " Average Recall     (AR) @[ IoU=0.50:0.95 | area=   all | maxDets= 10 ] = 0.543\n",
      " Average Recall     (AR) @[ IoU=0.50:0.95 | area=   all | maxDets=100 ] = 0.543\n",
      " Average Recall     (AR) @[ IoU=0.50:0.95 | area= small | maxDets=100 ] = -1.000\n",
      " Average Recall     (AR) @[ IoU=0.50:0.95 | area=medium | maxDets=100 ] = 0.000\n",
      " Average Recall     (AR) @[ IoU=0.50:0.95 | area= large | maxDets=100 ] = 0.546\n",
      "Epoch: [3]  [   0/8361]  eta: 0:26:32  lr: 0.001000  loss: 0.0542 (0.0542)  loss_classifier: 0.0359 (0.0359)  loss_box_reg: 0.0076 (0.0076)  loss_objectness: 0.0010 (0.0010)  loss_rpn_box_reg: 0.0097 (0.0097)  time: 0.1905  data: 0.0050  max mem: 1803\n"
     ]
    },
    {
     "ename": "KeyboardInterrupt",
     "evalue": "",
     "output_type": "error",
     "traceback": [
      "\u001b[1;31m---------------------------------------------------------------------------\u001b[0m",
      "\u001b[1;31mKeyboardInterrupt\u001b[0m                         Traceback (most recent call last)",
      "\u001b[1;32m<ipython-input-22-28e3bb2c5cc1>\u001b[0m in \u001b[0;36m<module>\u001b[1;34m\u001b[0m\n\u001b[0;32m      1\u001b[0m \u001b[1;32mfor\u001b[0m \u001b[0mepoch\u001b[0m \u001b[1;32min\u001b[0m \u001b[0mrange\u001b[0m\u001b[1;33m(\u001b[0m\u001b[0mepochs\u001b[0m\u001b[1;33m)\u001b[0m\u001b[1;33m:\u001b[0m\u001b[1;33m\u001b[0m\u001b[1;33m\u001b[0m\u001b[0m\n\u001b[1;32m----> 2\u001b[1;33m     \u001b[0mtrain_one_epoch\u001b[0m\u001b[1;33m(\u001b[0m\u001b[0mmodel\u001b[0m\u001b[1;33m,\u001b[0m \u001b[0moptimizer\u001b[0m\u001b[1;33m,\u001b[0m \u001b[0mtrain_loader\u001b[0m\u001b[1;33m,\u001b[0m \u001b[0mdevice\u001b[0m\u001b[1;33m,\u001b[0m \u001b[0mepoch\u001b[0m\u001b[1;33m,\u001b[0m \u001b[0mprint_freq\u001b[0m\u001b[1;33m=\u001b[0m\u001b[1;36m1000\u001b[0m\u001b[1;33m)\u001b[0m\u001b[1;33m\u001b[0m\u001b[1;33m\u001b[0m\u001b[0m\n\u001b[0m\u001b[0;32m      3\u001b[0m     \u001b[0mevaluate\u001b[0m\u001b[1;33m(\u001b[0m\u001b[0mmodel\u001b[0m\u001b[1;33m,\u001b[0m \u001b[0mval_loader\u001b[0m\u001b[1;33m,\u001b[0m \u001b[0mdevice\u001b[0m\u001b[1;33m)\u001b[0m\u001b[1;33m\u001b[0m\u001b[1;33m\u001b[0m\u001b[0m\n\u001b[0;32m      4\u001b[0m \u001b[1;33m\u001b[0m\u001b[0m\n\u001b[0;32m      5\u001b[0m     \u001b[1;31m# overwrite model weights file\u001b[0m\u001b[1;33m\u001b[0m\u001b[1;33m\u001b[0m\u001b[1;33m\u001b[0m\u001b[0m\n",
      "\u001b[1;32mD:\\OneDrive - Durham University\\Year 3\\Project\\Im2Calories\\utilities\\engine.py\u001b[0m in \u001b[0;36mtrain_one_epoch\u001b[1;34m(model, optimizer, data_loader, device, epoch, print_freq)\u001b[0m\n\u001b[0;32m     50\u001b[0m             \u001b[0mlr_scheduler\u001b[0m\u001b[1;33m.\u001b[0m\u001b[0mstep\u001b[0m\u001b[1;33m(\u001b[0m\u001b[1;33m)\u001b[0m\u001b[1;33m\u001b[0m\u001b[1;33m\u001b[0m\u001b[0m\n\u001b[0;32m     51\u001b[0m \u001b[1;33m\u001b[0m\u001b[0m\n\u001b[1;32m---> 52\u001b[1;33m         \u001b[0mmetric_logger\u001b[0m\u001b[1;33m.\u001b[0m\u001b[0mupdate\u001b[0m\u001b[1;33m(\u001b[0m\u001b[0mloss\u001b[0m\u001b[1;33m=\u001b[0m\u001b[0mlosses_reduced\u001b[0m\u001b[1;33m,\u001b[0m \u001b[1;33m**\u001b[0m\u001b[0mloss_dict_reduced\u001b[0m\u001b[1;33m)\u001b[0m\u001b[1;33m\u001b[0m\u001b[1;33m\u001b[0m\u001b[0m\n\u001b[0m\u001b[0;32m     53\u001b[0m         \u001b[0mmetric_logger\u001b[0m\u001b[1;33m.\u001b[0m\u001b[0mupdate\u001b[0m\u001b[1;33m(\u001b[0m\u001b[0mlr\u001b[0m\u001b[1;33m=\u001b[0m\u001b[0moptimizer\u001b[0m\u001b[1;33m.\u001b[0m\u001b[0mparam_groups\u001b[0m\u001b[1;33m[\u001b[0m\u001b[1;36m0\u001b[0m\u001b[1;33m]\u001b[0m\u001b[1;33m[\u001b[0m\u001b[1;34m\"lr\"\u001b[0m\u001b[1;33m]\u001b[0m\u001b[1;33m)\u001b[0m\u001b[1;33m\u001b[0m\u001b[1;33m\u001b[0m\u001b[0m\n\u001b[0;32m     54\u001b[0m \u001b[1;33m\u001b[0m\u001b[0m\n",
      "\u001b[1;32mD:\\OneDrive - Durham University\\Year 3\\Project\\Im2Calories\\utilities\\utils.py\u001b[0m in \u001b[0;36mupdate\u001b[1;34m(self, **kwargs)\u001b[0m\n\u001b[0;32m    153\u001b[0m         \u001b[1;32mfor\u001b[0m \u001b[0mk\u001b[0m\u001b[1;33m,\u001b[0m \u001b[0mv\u001b[0m \u001b[1;32min\u001b[0m \u001b[0mkwargs\u001b[0m\u001b[1;33m.\u001b[0m\u001b[0mitems\u001b[0m\u001b[1;33m(\u001b[0m\u001b[1;33m)\u001b[0m\u001b[1;33m:\u001b[0m\u001b[1;33m\u001b[0m\u001b[1;33m\u001b[0m\u001b[0m\n\u001b[0;32m    154\u001b[0m             \u001b[1;32mif\u001b[0m \u001b[0misinstance\u001b[0m\u001b[1;33m(\u001b[0m\u001b[0mv\u001b[0m\u001b[1;33m,\u001b[0m \u001b[0mtorch\u001b[0m\u001b[1;33m.\u001b[0m\u001b[0mTensor\u001b[0m\u001b[1;33m)\u001b[0m\u001b[1;33m:\u001b[0m\u001b[1;33m\u001b[0m\u001b[1;33m\u001b[0m\u001b[0m\n\u001b[1;32m--> 155\u001b[1;33m                 \u001b[0mv\u001b[0m \u001b[1;33m=\u001b[0m \u001b[0mv\u001b[0m\u001b[1;33m.\u001b[0m\u001b[0mitem\u001b[0m\u001b[1;33m(\u001b[0m\u001b[1;33m)\u001b[0m\u001b[1;33m\u001b[0m\u001b[1;33m\u001b[0m\u001b[0m\n\u001b[0m\u001b[0;32m    156\u001b[0m             \u001b[1;32massert\u001b[0m \u001b[0misinstance\u001b[0m\u001b[1;33m(\u001b[0m\u001b[0mv\u001b[0m\u001b[1;33m,\u001b[0m \u001b[1;33m(\u001b[0m\u001b[0mfloat\u001b[0m\u001b[1;33m,\u001b[0m \u001b[0mint\u001b[0m\u001b[1;33m)\u001b[0m\u001b[1;33m)\u001b[0m\u001b[1;33m\u001b[0m\u001b[1;33m\u001b[0m\u001b[0m\n\u001b[0;32m    157\u001b[0m             \u001b[0mself\u001b[0m\u001b[1;33m.\u001b[0m\u001b[0mmeters\u001b[0m\u001b[1;33m[\u001b[0m\u001b[0mk\u001b[0m\u001b[1;33m]\u001b[0m\u001b[1;33m.\u001b[0m\u001b[0mupdate\u001b[0m\u001b[1;33m(\u001b[0m\u001b[0mv\u001b[0m\u001b[1;33m)\u001b[0m\u001b[1;33m\u001b[0m\u001b[1;33m\u001b[0m\u001b[0m\n",
      "\u001b[1;31mKeyboardInterrupt\u001b[0m: "
     ]
    }
   ],
   "source": [
    "for epoch in range(epochs):\n",
    "    train_one_epoch(model, optimizer, train_loader, device, epoch, print_freq=1000)\n",
    "    evaluate(model, val_loader, device)\n",
    "    \n",
    "    # overwrite model weights file\n",
    "    torch.save(model.state_dict(), MODEL_PATH+str(epoch))"
   ]
  }
 ],
 "metadata": {
  "accelerator": "GPU",
  "colab": {
   "authorship_tag": "ABX9TyMEED9oymhB2SYDFZhAXOf8",
   "collapsed_sections": [],
   "include_colab_link": true,
   "name": "food_classification_v1.ipynb",
   "private_outputs": true,
   "provenance": [],
   "toc_visible": true
  },
  "kernelspec": {
   "display_name": "Python 3",
   "language": "python",
   "name": "python3"
  },
  "language_info": {
   "codemirror_mode": {
    "name": "ipython",
    "version": 3
   },
   "file_extension": ".py",
   "mimetype": "text/x-python",
   "name": "python",
   "nbconvert_exporter": "python",
   "pygments_lexer": "ipython3",
   "version": "3.7.5"
  }
 },
 "nbformat": 4,
 "nbformat_minor": 1
}
