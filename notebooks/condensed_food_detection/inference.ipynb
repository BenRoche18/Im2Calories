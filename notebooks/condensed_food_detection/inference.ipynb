{
 "cells": [
  {
   "cell_type": "markdown",
   "metadata": {},
   "source": [
    "# Set up environment"
   ]
  },
  {
   "cell_type": "code",
   "execution_count": 1,
   "metadata": {},
   "outputs": [],
   "source": [
    "import torch\n",
    "import torchvision\n",
    "import torchvision.transforms as transforms\n",
    "import tensorflow.keras.utils as utils\n",
    "\n",
    "import os\n",
    "import PIL.Image as Image\n",
    "import numpy as np\n",
    "import matplotlib.pyplot as plt\n",
    "import matplotlib.patches as patches\n",
    "from usda import UsdaClient"
   ]
  },
  {
   "cell_type": "markdown",
   "metadata": {},
   "source": [
    "**Declare parameters**"
   ]
  },
  {
   "cell_type": "code",
   "execution_count": 6,
   "metadata": {},
   "outputs": [],
   "source": [
    "ROOT_DIR = os.path.dirname(os.path.dirname(os.getcwd()))\n",
    "\n",
    "IMAGE_SIZE = 512\n",
    "\n",
    "API_KEY = \"4INghUtThsIBWPTIcvfKyf0kNS6MtSXcC4R6mpNB\""
   ]
  },
  {
   "cell_type": "markdown",
   "metadata": {},
   "source": [
    "**Enable GPU**"
   ]
  },
  {
   "cell_type": "code",
   "execution_count": 7,
   "metadata": {},
   "outputs": [
    {
     "name": "stdout",
     "output_type": "stream",
     "text": [
      "Running on cuda:0\n"
     ]
    }
   ],
   "source": [
    "device = torch.device(\"cuda:0\" if torch.cuda.is_available() else \"cpu\")\n",
    "print(\"Running on\", device)"
   ]
  },
  {
   "cell_type": "markdown",
   "metadata": {},
   "source": [
    "# Input model"
   ]
  },
  {
   "cell_type": "markdown",
   "metadata": {},
   "source": [
    "**Fetch model architecture**"
   ]
  },
  {
   "cell_type": "code",
   "execution_count": 4,
   "metadata": {},
   "outputs": [
    {
     "name": "stdout",
     "output_type": "stream",
     "text": [
      "Fetching model architecture... done\n"
     ]
    }
   ],
   "source": [
    "print(\"Fetching model architecture... \", end=\"\")\n",
    "\n",
    "backbone = torchvision.models.wide_resnet101_2(pretrained=False)\n",
    "\n",
    "# remove classification head\n",
    "backbone = torch.nn.Sequential(*list(backbone.children())[:-2])\n",
    "backbone.out_channels = 2048\n",
    "\n",
    "model = torchvision.models.detection.FasterRCNN(backbone, num_classes=256)\n",
    "\n",
    "model = model.to(device)\n",
    "\n",
    "print(\"done\")"
   ]
  },
  {
   "cell_type": "markdown",
   "metadata": {},
   "source": [
    "**Load model weights**"
   ]
  },
  {
   "cell_type": "code",
   "execution_count": 8,
   "metadata": {},
   "outputs": [
    {
     "name": "stdout",
     "output_type": "stream",
     "text": [
      "Loading learnt model weights..."
     ]
    },
    {
     "ename": "RuntimeError",
     "evalue": "Error(s) in loading state_dict for FasterRCNN:\n\tMissing key(s) in state_dict: \"backbone.0.weight\", \"backbone.1.weight\", \"backbone.1.bias\", \"backbone.1.running_mean\", \"backbone.1.running_var\", \"backbone.4.0.conv1.weight\", \"backbone.4.0.bn1.weight\", \"backbone.4.0.bn1.bias\", \"backbone.4.0.bn1.running_mean\", \"backbone.4.0.bn1.running_var\", \"backbone.4.0.conv2.weight\", \"backbone.4.0.bn2.weight\", \"backbone.4.0.bn2.bias\", \"backbone.4.0.bn2.running_mean\", \"backbone.4.0.bn2.running_var\", \"backbone.4.0.conv3.weight\", \"backbone.4.0.bn3.weight\", \"backbone.4.0.bn3.bias\", \"backbone.4.0.bn3.running_mean\", \"backbone.4.0.bn3.running_var\", \"backbone.4.0.downsample.0.weight\", \"backbone.4.0.downsample.1.weight\", \"backbone.4.0.downsample.1.bias\", \"backbone.4.0.downsample.1.running_mean\", \"backbone.4.0.downsample.1.running_var\", \"backbone.4.1.conv1.weight\", \"backbone.4.1.bn1.weight\", \"backbone.4.1.bn1.bias\", \"backbone.4.1.bn1.running_mean\", \"backbone.4.1.bn1.running_var\", \"backbone.4.1.conv2.weight\", \"backbone.4.1.bn2.weight\", \"backbone.4.1.bn2.bias\", \"backbone.4.1.bn2.running_mean\", \"backbone.4.1.bn2.running_var\", \"backbone.4.1.conv3.weight\", \"backbone.4.1.bn3.weight\", \"backbone.4.1.bn3.bias\", \"backbone.4.1.bn3.running_mean\", \"backbone.4.1.bn3.running_var\", \"backbone.4.2.conv1.weight\", \"backbone.4.2.bn1.weight\", \"backbone.4.2.bn1.bias\", \"backbone.4.2.bn1.running_mean\", \"backbone.4.2.bn1.running_var\", \"backbone.4.2.conv2.weight\", \"backbone.4.2.bn2.weight\", \"backbone.4.2.bn2.bias\", \"backbone.4.2.bn2.running_mean\", \"backbone.4.2.bn2.running_var\", \"backbone.4.2.conv3.weight\", \"backbone.4.2.bn3.weight\", \"backbone.4.2.bn3.bias\", \"backbone.4.2.bn3.running_mean\", \"backbone.4.2.bn3.running_var\", \"backbone.5.0.conv1.weight\", \"backbone.5.0.bn1.weight\", \"backbone.5.0.bn1.bias\", \"backbone.5.0.bn1.running_mean\", \"backbone.5.0.bn1.running_var\", \"backbone.5.0.conv2.weight\", \"backbone.5.0.bn2.weight\", \"backbone.5.0.bn2.bias\", \"backbone.5.0.bn2.running_mean\", \"backbone.5.0.bn2.running_var\", \"backbone.5.0.conv3.weight\", \"backbone.5.0.bn3.weight\", \"backbone.5.0.bn3.bias\", \"backbone.5.0.bn3.running_mean\", \"backbone.5.0.bn3.running_var\", \"backbone.5.0.downsample.0.weight\", \"backbone.5.0.downsample.1.weight\", \"backbone.5.0.downsample.1.bias\", \"backbone.5.0.downsample.1.running_mean\", \"backbone.5.0.downsample.1.running_var\", \"backbone.5.1.conv1.weight\", \"backbone.5.1.bn1.weight\", \"backbone.5.1.bn1.bias\", \"backbone.5.1.bn1.running_mean\", \"backbone.5.1.bn1.running_var\", \"backbone.5.1.conv2.weight\", \"backbone.5.1.bn2.weight\", \"backbone.5.1.bn2.bias\", \"backbone.5.1.bn2.running_mean\", \"backbone.5.1.bn2.running_var\", \"backbone.5.1.conv3.weight\", \"backbone.5.1.bn3.weight\", \"backbone.5.1.bn3.bias\", \"backbone.5.1.bn3.running_mean\", \"backbone.5.1.bn3.running_var\", \"backbone.5.2.conv1.weight\", \"backbone.5.2.bn1.weight\", \"backbone.5.2.bn1.bias\", \"backbone.5.2.bn1.running_mean\", \"backbone.5.2.bn1.running_var\", \"backbone.5.2.conv2.weight\", \"backbone.5.2.bn2.weight\", \"backbone.5.2.bn2.bias\", \"backbone.5.2.bn2.running_mean\", \"backbone.5.2.bn2.running_var\", \"backbone.5.2.conv3.weight\", \"backbone.5.2.bn3.weight\", \"backbone.5.2.bn3.bias\", \"backbone.5.2.bn3.running_mean\", \"backbone.5.2.bn3.running_var\", \"backbone.5.3.conv1.weight\", \"backbone.5.3.bn1.weight\", \"backbone.5.3.bn1.bias\", \"backbone.5.3.bn1.running_mean\", \"backbone.5.3.bn1.running_var\", \"backbone.5.3.conv2.weight\", \"backbone.5.3.bn2.weight\", \"backbone.5.3.bn2.bias\", \"backbone.5.3.bn2.running_mean\", \"backbone.5.3.bn2.running_var\", \"backbone.5.3.conv3.weight\", \"backbone.5.3.bn3.weight\", \"backbone.5.3.bn3.bias\", \"backbone.5.3.bn3.running_mean\", \"backbone.5.3.bn3.running_var\", \"backbone.6.0.conv1.weight\", \"backbone.6.0.bn1.weight\", \"backbone.6.0.bn1.bias\", \"backbone.6.0.bn1.running_mean\", \"backbone.6.0.bn1.running_var\", \"backbone.6.0.conv2.weight\", \"backbone.6.0.bn2.weight\", \"backbone.6.0.bn2.bias\", \"backbone.6.0.bn2.running_mean\", \"backbone.6.0.bn2.running_var\", \"backbone.6.0.conv3.weight\", \"backbone.6.0.bn3.weight\", \"backbone.6.0.bn3.bias\", \"backbone.6.0.bn3.running_mean\", \"backbone.6.0.bn3.running_var\", \"backbone.6.0.downsample.0.weight\", \"backbone.6.0.downsample.1.weight\", \"backbone.6.0.downsample.1.bias\", \"backbone.6.0.downsample.1.running_mean\", \"backbone.6.0.downsample.1.running_var\", \"backbone.6.1.conv1.weight\", \"backbone.6.1.bn1.weight\", \"backbone.6.1.bn1.bias\", \"backbone.6.1.bn1.running_mean\", \"backbone.6.1.bn1.running_var\", \"backbone.6.1.conv2.weight\", \"backbone.6.1.bn2.weight\", \"backbone.6.1.bn2.bias\", \"backbone.6.1.bn2.running_mean\", \"backbone.6.1.bn2.running_var\", \"backbone.6.1.conv3.weight\", \"backbone.6.1.bn3.weight\", \"backbone.6.1.bn3.bias\", \"backbone.6.1.bn3.running_mean\", \"backbone.6.1.bn3.running_var\", \"backbone.6.2.conv1.weight\", \"backbone.6.2.bn1.weight\", \"backbone.6.2.bn1.bias\", \"backbone.6.2.bn1.running_mean\", \"backbone.6.2.bn1.running_var\", \"backbone.6.2.conv2.weight\", \"backbone.6.2.bn2.weight\", \"backbone.6.2.bn2.bias\", \"backbone.6.2.bn2.running_mean\", \"backbone.6.2.bn2.running_var\", \"backbone.6.2.conv3.weight\", \"backbone.6.2.bn3.weight\", \"backbone.6.2.bn3.bias\", \"backbone.6.2.bn3.running_mean\", \"backbone.6.2.bn3.running_var\", \"backbone.6.3.conv1.weight\", \"backbone.6.3.bn1.weight\", \"backbone.6.3.bn1.bias\", \"backbone.6.3.bn1.running_mean\", \"backbone.6.3.bn1.running_var\", \"backbone.6.3.conv2.weight\", \"backbone.6.3.bn2.weight\", \"backbone.6.3.bn2.bias\", \"backbone.6.3.bn2.running_mean\", \"backbone.6.3.bn2.running_var\", \"backbone.6.3.conv3.weight\", \"backbone.6.3.bn3.weight\", \"backbone.6.3.bn3.bias\", \"backbone.6.3.bn3.running_mean\", \"backbone.6.3.bn3.running_var\", \"backbone.6.4.conv1.weight\", \"backbone.6.4.bn1.weight\", \"backbone.6.4.bn1.bias\", \"backbone.6.4.bn1.running_mean\", \"backbone.6.4.bn1.running_var\", \"backbone.6.4.conv2.weight\", \"backbone.6.4.bn2.weight\", \"backbone.6.4.bn2.bias\", \"backbone.6.4.bn2.running_mean\", \"backbone.6.4.bn2.running_var\", \"backbone.6.4.conv3.weight\", \"backbone.6.4.bn3.weight\", \"backbone.6.4.bn3.bias\", \"backbone.6.4.bn3.running_mean\", \"backbone.6.4.bn3.running_var\", \"backbone.6.5.conv1.weight\", \"backbone.6.5.bn1.weight\", \"backbone.6.5.bn1.bias\", \"backbone.6.5.bn1.running_mean\", \"backbone.6.5.bn1.running_var\", \"backbone.6.5.conv2.weight\", \"backbone.6.5.bn2.weight\", \"backbone.6.5.bn2.bias\", \"backbone.6.5.bn2.running_mean\", \"backbone.6.5.bn2.running_var\", \"backbone.6.5.conv3.weight\", \"backbone.6.5.bn3.weight\", \"backbone.6.5.bn3.bias\", \"backbone.6.5.bn3.running_mean\", \"backbone.6.5.bn3.running_var\", \"backbone.6.6.conv1.weight\", \"backbone.6.6.bn1.weight\", \"backbone.6.6.bn1.bias\", \"backbone.6.6.bn1.running_mean\", \"backbone.6.6.bn1.running_var\", \"backbone.6.6.conv2.weight\", \"backbone.6.6.bn2.weight\", \"backbone.6.6.bn2.bias\", \"backbone.6.6.bn2.running_mean\", \"backbone.6.6.bn2.running_var\", \"backbone.6.6.conv3.weight\", \"backbone.6.6.bn3.weight\", \"backbone.6.6.bn3.bias\", \"backbone.6.6.bn3.running_mean\", \"backbone.6.6.bn3.running_var\", \"backbone.6.7.conv1.weight\", \"backbone.6.7.bn1.weight\", \"backbone.6.7.bn1.bias\", \"backbone.6.7.bn1.running_mean\", \"backbone.6.7.bn1.running_var\", \"backbone.6.7.conv2.weight\", \"backbone.6.7.bn2.weight\", \"backbone.6.7.bn2.bias\", \"backbone.6.7.bn2.running_mean\", \"backbone.6.7.bn2.running_var\", \"backbone.6.7.conv3.weight\", \"backbone.6.7.bn3.weight\", \"backbone.6.7.bn3.bias\", \"backbone.6.7.bn3.running_mean\", \"backbone.6.7.bn3.running_var\", \"backbone.6.8.conv1.weight\", \"backbone.6.8.bn1.weight\", \"backbone.6.8.bn1.bias\", \"backbone.6.8.bn1.running_mean\", \"backbone.6.8.bn1.running_var\", \"backbone.6.8.conv2.weight\", \"backbone.6.8.bn2.weight\", \"backbone.6.8.bn2.bias\", \"backbone.6.8.bn2.running_mean\", \"backbone.6.8.bn2.running_var\", \"backbone.6.8.conv3.weight\", \"backbone.6.8.bn3.weight\", \"backbone.6.8.bn3.bias\", \"backbone.6.8.bn3.running_mean\", \"backbone.6.8.bn3.running_var\", \"backbone.6.9.conv1.weight\", \"backbone.6.9.bn1.weight\", \"backbone.6.9.bn1.bias\", \"backbone.6.9.bn1.running_mean\", \"backbone.6.9.bn1.running_var\", \"backbone.6.9.conv2.weight\", \"backbone.6.9.bn2.weight\", \"backbone.6.9.bn2.bias\", \"backbone.6.9.bn2.running_mean\", \"backbone.6.9.bn2.running_var\", \"backbone.6.9.conv3.weight\", \"backbone.6.9.bn3.weight\", \"backbone.6.9.bn3.bias\", \"backbone.6.9.bn3.running_mean\", \"backbone.6.9.bn3.running_var\", \"backbone.6.10.conv1.weight\", \"backbone.6.10.bn1.weight\", \"backbone.6.10.bn1.bias\", \"backbone.6.10.bn1.running_mean\", \"backbone.6.10.bn1.running_var\", \"backbone.6.10.conv2.weight\", \"backbone.6.10.bn2.weight\", \"backbone.6.10.bn2.bias\", \"backbone.6.10.bn2.running_mean\", \"backbone.6.10.bn2.running_var\", \"backbone.6.10.conv3.weight\", \"backbone.6.10.bn3.weight\", \"backbone.6.10.bn3.bias\", \"backbone.6.10.bn3.running_mean\", \"backbone.6.10.bn3.running_var\", \"backbone.6.11.conv1.weight\", \"backbone.6.11.bn1.weight\", \"backbone.6.11.bn1.bias\", \"backbone.6.11.bn1.running_mean\", \"backbone.6.11.bn1.running_var\", \"backbone.6.11.conv2.weight\", \"backbone.6.11.bn2.weight\", \"backbone.6.11.bn2.bias\", \"backbone.6.11.bn2.running_mean\", \"backbone.6.11.bn2.running_var\", \"backbone.6.11.conv3.weight\", \"backbone.6.11.bn3.weight\", \"backbone.6.11.bn3.bias\", \"backbone.6.11.bn3.running_mean\", \"backbone.6.11.bn3.running_var\", \"backbone.6.12.conv1.weight\", \"backbone.6.12.bn1.weight\", \"backbone.6.12.bn1.bias\", \"backbone.6.12.bn1.running_mean\", \"backbone.6.12.bn1.running_var\", \"backbone.6.12.conv2.weight\", \"backbone.6.12.bn2.weight\", \"backbone.6.12.bn2.bias\", \"backbone.6.12.bn2.running_mean\", \"backbone.6.12.bn2.running_var\", \"backbone.6.12.conv3.weight\", \"backbone.6.12.bn3.weight\", \"backbone.6.12.bn3.bias\", \"backbone.6.12.bn3.running_mean\", \"backbone.6.12.bn3.running_var\", \"backbone.6.13.conv1.weight\", \"backbone.6.13.bn1.weight\", \"backbone.6.13.bn1.bias\", \"backbone.6.13.bn1.running_mean\", \"backbone.6.13.bn1.running_var\", \"backbone.6.13.conv2.weight\", \"backbone.6.13.bn2.weight\", \"backbone.6.13.bn2.bias\", \"backbone.6.13.bn2.running_mean\", \"backbone.6.13.bn2.running_var\", \"backbone.6.13.conv3.weight\", \"backbone.6.13.bn3.weight\", \"backbone.6.13.bn3.bias\", \"backbone.6.13.bn3.running_mean\", \"backbone.6.13.bn3.running_var\", \"backbone.6.14.conv1.weight\", \"backbone.6.14.bn1.weight\", \"backbone.6.14.bn1.bias\", \"backbone.6.14.bn1.running_mean\", \"backbone.6.14.bn1.running_var\", \"backbone.6.14.conv2.weight\", \"backbone.6.14.bn2.weight\", \"backbone.6.14.bn2.bias\", \"backbone.6.14.bn2.running_mean\", \"backbone.6.14.bn2.running_var\", \"backbone.6.14.conv3.weight\", \"backbone.6.14.bn3.weight\", \"backbone.6.14.bn3.bias\", \"backbone.6.14.bn3.running_mean\", \"backbone.6.14.bn3.running_var\", \"backbone.6.15.conv1.weight\", \"backbone.6.15.bn1.weight\", \"backbone.6.15.bn1.bias\", \"backbone.6.15.bn1.running_mean\", \"backbone.6.15.bn1.running_var\", \"backbone.6.15.conv2.weight\", \"backbone.6.15.bn2.weight\", \"backbone.6.15.bn2.bias\", \"backbone.6.15.bn2.running_mean\", \"backbone.6.15.bn2.running_var\", \"backbone.6.15.conv3.weight\", \"backbone.6.15.bn3.weight\", \"backbone.6.15.bn3.bias\", \"backbone.6.15.bn3.running_mean\", \"backbone.6.15.bn3.running_var\", \"backbone.6.16.conv1.weight\", \"backbone.6.16.bn1.weight\", \"backbone.6.16.bn1.bias\", \"backbone.6.16.bn1.running_mean\", \"backbone.6.16.bn1.running_var\", \"backbone.6.16.conv2.weight\", \"backbone.6.16.bn2.weight\", \"backbone.6.16.bn2.bias\", \"backbone.6.16.bn2.running_mean\", \"backbone.6.16.bn2.running_var\", \"backbone.6.16.conv3.weight\", \"backbone.6.16.bn3.weight\", \"backbone.6.16.bn3.bias\", \"backbone.6.16.bn3.running_mean\", \"backbone.6.16.bn3.running_var\", \"backbone.6.17.conv1.weight\", \"backbone.6.17.bn1.weight\", \"backbone.6.17.bn1.bias\", \"backbone.6.17.bn1.running_mean\", \"backbone.6.17.bn1.running_var\", \"backbone.6.17.conv2.weight\", \"backbone.6.17.bn2.weight\", \"backbone.6.17.bn2.bias\", \"backbone.6.17.bn2.running_mean\", \"backbone.6.17.bn2.running_var\", \"backbone.6.17.conv3.weight\", \"backbone.6.17.bn3.weight\", \"backbone.6.17.bn3.bias\", \"backbone.6.17.bn3.running_mean\", \"backbone.6.17.bn3.running_var\", \"backbone.6.18.conv1.weight\", \"backbone.6.18.bn1.weight\", \"backbone.6.18.bn1.bias\", \"backbone.6.18.bn1.running_mean\", \"backbone.6.18.bn1.running_var\", \"backbone.6.18.conv2.weight\", \"backbone.6.18.bn2.weight\", \"backbone.6.18.bn2.bias\", \"backbone.6.18.bn2.running_mean\", \"backbone.6.18.bn2.running_var\", \"backbone.6.18.conv3.weight\", \"backbone.6.18.bn3.weight\", \"backbone.6.18.bn3.bias\", \"backbone.6.18.bn3.running_mean\", \"backbone.6.18.bn3.running_var\", \"backbone.6.19.conv1.weight\", \"backbone.6.19.bn1.weight\", \"backbone.6.19.bn1.bias\", \"backbone.6.19.bn1.running_mean\", \"backbone.6.19.bn1.running_var\", \"backbone.6.19.conv2.weight\", \"backbone.6.19.bn2.weight\", \"backbone.6.19.bn2.bias\", \"backbone.6.19.bn2.running_mean\", \"backbone.6.19.bn2.running_var\", \"backbone.6.19.conv3.weight\", \"backbone.6.19.bn3.weight\", \"backbone.6.19.bn3.bias\", \"backbone.6.19.bn3.running_mean\", \"backbone.6.19.bn3.running_var\", \"backbone.6.20.conv1.weight\", \"backbone.6.20.bn1.weight\", \"backbone.6.20.bn1.bias\", \"backbone.6.20.bn1.running_mean\", \"backbone.6.20.bn1.running_var\", \"backbone.6.20.conv2.weight\", \"backbone.6.20.bn2.weight\", \"backbone.6.20.bn2.bias\", \"backbone.6.20.bn2.running_mean\", \"backbone.6.20.bn2.running_var\", \"backbone.6.20.conv3.weight\", \"backbone.6.20.bn3.weight\", \"backbone.6.20.bn3.bias\", \"backbone.6.20.bn3.running_mean\", \"backbone.6.20.bn3.running_var\", \"backbone.6.21.conv1.weight\", \"backbone.6.21.bn1.weight\", \"backbone.6.21.bn1.bias\", \"backbone.6.21.bn1.running_mean\", \"backbone.6.21.bn1.running_var\", \"backbone.6.21.conv2.weight\", \"backbone.6.21.bn2.weight\", \"backbone.6.21.bn2.bias\", \"backbone.6.21.bn2.running_mean\", \"backbone.6.21.bn2.running_var\", \"backbone.6.21.conv3.weight\", \"backbone.6.21.bn3.weight\", \"backbone.6.21.bn3.bias\", \"backbone.6.21.bn3.running_mean\", \"backbone.6.21.bn3.running_var\", \"backbone.6.22.conv1.weight\", \"backbone.6.22.bn1.weight\", \"backbone.6.22.bn1.bias\", \"backbone.6.22.bn1.running_mean\", \"backbone.6.22.bn1.running_var\", \"backbone.6.22.conv2.weight\", \"backbone.6.22.bn2.weight\", \"backbone.6.22.bn2.bias\", \"backbone.6.22.bn2.running_mean\", \"backbone.6.22.bn2.running_var\", \"backbone.6.22.conv3.weight\", \"backbone.6.22.bn3.weight\", \"backbone.6.22.bn3.bias\", \"backbone.6.22.bn3.running_mean\", \"backbone.6.22.bn3.running_var\", \"backbone.7.0.conv1.weight\", \"backbone.7.0.bn1.weight\", \"backbone.7.0.bn1.bias\", \"backbone.7.0.bn1.running_mean\", \"backbone.7.0.bn1.running_var\", \"backbone.7.0.conv2.weight\", \"backbone.7.0.bn2.weight\", \"backbone.7.0.bn2.bias\", \"backbone.7.0.bn2.running_mean\", \"backbone.7.0.bn2.running_var\", \"backbone.7.0.conv3.weight\", \"backbone.7.0.bn3.weight\", \"backbone.7.0.bn3.bias\", \"backbone.7.0.bn3.running_mean\", \"backbone.7.0.bn3.running_var\", \"backbone.7.0.downsample.0.weight\", \"backbone.7.0.downsample.1.weight\", \"backbone.7.0.downsample.1.bias\", \"backbone.7.0.downsample.1.running_mean\", \"backbone.7.0.downsample.1.running_var\", \"backbone.7.1.conv1.weight\", \"backbone.7.1.bn1.weight\", \"backbone.7.1.bn1.bias\", \"backbone.7.1.bn1.running_mean\", \"backbone.7.1.bn1.running_var\", \"backbone.7.1.conv2.weight\", \"backbone.7.1.bn2.weight\", \"backbone.7.1.bn2.bias\", \"backbone.7.1.bn2.running_mean\", \"backbone.7.1.bn2.running_var\", \"backbone.7.1.conv3.weight\", \"backbone.7.1.bn3.weight\", \"backbone.7.1.bn3.bias\", \"backbone.7.1.bn3.running_mean\", \"backbone.7.1.bn3.running_var\", \"backbone.7.2.conv1.weight\", \"backbone.7.2.bn1.weight\", \"backbone.7.2.bn1.bias\", \"backbone.7.2.bn1.running_mean\", \"backbone.7.2.bn1.running_var\", \"backbone.7.2.conv2.weight\", \"backbone.7.2.bn2.weight\", \"backbone.7.2.bn2.bias\", \"backbone.7.2.bn2.running_mean\", \"backbone.7.2.bn2.running_var\", \"backbone.7.2.conv3.weight\", \"backbone.7.2.bn3.weight\", \"backbone.7.2.bn3.bias\", \"backbone.7.2.bn3.running_mean\", \"backbone.7.2.bn3.running_var\". \n\tUnexpected key(s) in state_dict: \"backbone.8.conv.0.0.weight\", \"backbone.8.conv.0.1.weight\", \"backbone.8.conv.0.1.bias\", \"backbone.8.conv.0.1.running_mean\", \"backbone.8.conv.0.1.running_var\", \"backbone.8.conv.0.1.num_batches_tracked\", \"backbone.8.conv.1.0.weight\", \"backbone.8.conv.1.1.weight\", \"backbone.8.conv.1.1.bias\", \"backbone.8.conv.1.1.running_mean\", \"backbone.8.conv.1.1.running_var\", \"backbone.8.conv.1.1.num_batches_tracked\", \"backbone.8.conv.2.weight\", \"backbone.8.conv.3.weight\", \"backbone.8.conv.3.bias\", \"backbone.8.conv.3.running_mean\", \"backbone.8.conv.3.running_var\", \"backbone.8.conv.3.num_batches_tracked\", \"backbone.9.conv.0.0.weight\", \"backbone.9.conv.0.1.weight\", \"backbone.9.conv.0.1.bias\", \"backbone.9.conv.0.1.running_mean\", \"backbone.9.conv.0.1.running_var\", \"backbone.9.conv.0.1.num_batches_tracked\", \"backbone.9.conv.1.0.weight\", \"backbone.9.conv.1.1.weight\", \"backbone.9.conv.1.1.bias\", \"backbone.9.conv.1.1.running_mean\", \"backbone.9.conv.1.1.running_var\", \"backbone.9.conv.1.1.num_batches_tracked\", \"backbone.9.conv.2.weight\", \"backbone.9.conv.3.weight\", \"backbone.9.conv.3.bias\", \"backbone.9.conv.3.running_mean\", \"backbone.9.conv.3.running_var\", \"backbone.9.conv.3.num_batches_tracked\", \"backbone.10.conv.0.0.weight\", \"backbone.10.conv.0.1.weight\", \"backbone.10.conv.0.1.bias\", \"backbone.10.conv.0.1.running_mean\", \"backbone.10.conv.0.1.running_var\", \"backbone.10.conv.0.1.num_batches_tracked\", \"backbone.10.conv.1.0.weight\", \"backbone.10.conv.1.1.weight\", \"backbone.10.conv.1.1.bias\", \"backbone.10.conv.1.1.running_mean\", \"backbone.10.conv.1.1.running_var\", \"backbone.10.conv.1.1.num_batches_tracked\", \"backbone.10.conv.2.weight\", \"backbone.10.conv.3.weight\", \"backbone.10.conv.3.bias\", \"backbone.10.conv.3.running_mean\", \"backbone.10.conv.3.running_var\", \"backbone.10.conv.3.num_batches_tracked\", \"backbone.11.conv.0.0.weight\", \"backbone.11.conv.0.1.weight\", \"backbone.11.conv.0.1.bias\", \"backbone.11.conv.0.1.running_mean\", \"backbone.11.conv.0.1.running_var\", \"backbone.11.conv.0.1.num_batches_tracked\", \"backbone.11.conv.1.0.weight\", \"backbone.11.conv.1.1.weight\", \"backbone.11.conv.1.1.bias\", \"backbone.11.conv.1.1.running_mean\", \"backbone.11.conv.1.1.running_var\", \"backbone.11.conv.1.1.num_batches_tracked\", \"backbone.11.conv.2.weight\", \"backbone.11.conv.3.weight\", \"backbone.11.conv.3.bias\", \"backbone.11.conv.3.running_mean\", \"backbone.11.conv.3.running_var\", \"backbone.11.conv.3.num_batches_tracked\", \"backbone.12.conv.0.0.weight\", \"backbone.12.conv.0.1.weight\", \"backbone.12.conv.0.1.bias\", \"backbone.12.conv.0.1.running_mean\", \"backbone.12.conv.0.1.running_var\", \"backbone.12.conv.0.1.num_batches_tracked\", \"backbone.12.conv.1.0.weight\", \"backbone.12.conv.1.1.weight\", \"backbone.12.conv.1.1.bias\", \"backbone.12.conv.1.1.running_mean\", \"backbone.12.conv.1.1.running_var\", \"backbone.12.conv.1.1.num_batches_tracked\", \"backbone.12.conv.2.weight\", \"backbone.12.conv.3.weight\", \"backbone.12.conv.3.bias\", \"backbone.12.conv.3.running_mean\", \"backbone.12.conv.3.running_var\", \"backbone.12.conv.3.num_batches_tracked\", \"backbone.13.conv.0.0.weight\", \"backbone.13.conv.0.1.weight\", \"backbone.13.conv.0.1.bias\", \"backbone.13.conv.0.1.running_mean\", \"backbone.13.conv.0.1.running_var\", \"backbone.13.conv.0.1.num_batches_tracked\", \"backbone.13.conv.1.0.weight\", \"backbone.13.conv.1.1.weight\", \"backbone.13.conv.1.1.bias\", \"backbone.13.conv.1.1.running_mean\", \"backbone.13.conv.1.1.running_var\", \"backbone.13.conv.1.1.num_batches_tracked\", \"backbone.13.conv.2.weight\", \"backbone.13.conv.3.weight\", \"backbone.13.conv.3.bias\", \"backbone.13.conv.3.running_mean\", \"backbone.13.conv.3.running_var\", \"backbone.13.conv.3.num_batches_tracked\", \"backbone.14.conv.0.0.weight\", \"backbone.14.conv.0.1.weight\", \"backbone.14.conv.0.1.bias\", \"backbone.14.conv.0.1.running_mean\", \"backbone.14.conv.0.1.running_var\", \"backbone.14.conv.0.1.num_batches_tracked\", \"backbone.14.conv.1.0.weight\", \"backbone.14.conv.1.1.weight\", \"backbone.14.conv.1.1.bias\", \"backbone.14.conv.1.1.running_mean\", \"backbone.14.conv.1.1.running_var\", \"backbone.14.conv.1.1.num_batches_tracked\", \"backbone.14.conv.2.weight\", \"backbone.14.conv.3.weight\", \"backbone.14.conv.3.bias\", \"backbone.14.conv.3.running_mean\", \"backbone.14.conv.3.running_var\", \"backbone.14.conv.3.num_batches_tracked\", \"backbone.15.conv.0.0.weight\", \"backbone.15.conv.0.1.weight\", \"backbone.15.conv.0.1.bias\", \"backbone.15.conv.0.1.running_mean\", \"backbone.15.conv.0.1.running_var\", \"backbone.15.conv.0.1.num_batches_tracked\", \"backbone.15.conv.1.0.weight\", \"backbone.15.conv.1.1.weight\", \"backbone.15.conv.1.1.bias\", \"backbone.15.conv.1.1.running_mean\", \"backbone.15.conv.1.1.running_var\", \"backbone.15.conv.1.1.num_batches_tracked\", \"backbone.15.conv.2.weight\", \"backbone.15.conv.3.weight\", \"backbone.15.conv.3.bias\", \"backbone.15.conv.3.running_mean\", \"backbone.15.conv.3.running_var\", \"backbone.15.conv.3.num_batches_tracked\", \"backbone.16.conv.0.0.weight\", \"backbone.16.conv.0.1.weight\", \"backbone.16.conv.0.1.bias\", \"backbone.16.conv.0.1.running_mean\", \"backbone.16.conv.0.1.running_var\", \"backbone.16.conv.0.1.num_batches_tracked\", \"backbone.16.conv.1.0.weight\", \"backbone.16.conv.1.1.weight\", \"backbone.16.conv.1.1.bias\", \"backbone.16.conv.1.1.running_mean\", \"backbone.16.conv.1.1.running_var\", \"backbone.16.conv.1.1.num_batches_tracked\", \"backbone.16.conv.2.weight\", \"backbone.16.conv.3.weight\", \"backbone.16.conv.3.bias\", \"backbone.16.conv.3.running_mean\", \"backbone.16.conv.3.running_var\", \"backbone.16.conv.3.num_batches_tracked\", \"backbone.17.conv.0.0.weight\", \"backbone.17.conv.0.1.weight\", \"backbone.17.conv.0.1.bias\", \"backbone.17.conv.0.1.running_mean\", \"backbone.17.conv.0.1.running_var\", \"backbone.17.conv.0.1.num_batches_tracked\", \"backbone.17.conv.1.0.weight\", \"backbone.17.conv.1.1.weight\", \"backbone.17.conv.1.1.bias\", \"backbone.17.conv.1.1.running_mean\", \"backbone.17.conv.1.1.running_var\", \"backbone.17.conv.1.1.num_batches_tracked\", \"backbone.17.conv.2.weight\", \"backbone.17.conv.3.weight\", \"backbone.17.conv.3.bias\", \"backbone.17.conv.3.running_mean\", \"backbone.17.conv.3.running_var\", \"backbone.17.conv.3.num_batches_tracked\", \"backbone.18.0.weight\", \"backbone.18.1.weight\", \"backbone.18.1.bias\", \"backbone.18.1.running_mean\", \"backbone.18.1.running_var\", \"backbone.18.1.num_batches_tracked\", \"backbone.0.0.weight\", \"backbone.0.1.weight\", \"backbone.0.1.bias\", \"backbone.0.1.running_mean\", \"backbone.0.1.running_var\", \"backbone.0.1.num_batches_tracked\", \"backbone.1.conv.0.0.weight\", \"backbone.1.conv.0.1.weight\", \"backbone.1.conv.0.1.bias\", \"backbone.1.conv.0.1.running_mean\", \"backbone.1.conv.0.1.running_var\", \"backbone.1.conv.0.1.num_batches_tracked\", \"backbone.1.conv.1.weight\", \"backbone.1.conv.2.weight\", \"backbone.1.conv.2.bias\", \"backbone.1.conv.2.running_mean\", \"backbone.1.conv.2.running_var\", \"backbone.1.conv.2.num_batches_tracked\", \"backbone.2.conv.0.0.weight\", \"backbone.2.conv.0.1.weight\", \"backbone.2.conv.0.1.bias\", \"backbone.2.conv.0.1.running_mean\", \"backbone.2.conv.0.1.running_var\", \"backbone.2.conv.0.1.num_batches_tracked\", \"backbone.2.conv.1.0.weight\", \"backbone.2.conv.1.1.weight\", \"backbone.2.conv.1.1.bias\", \"backbone.2.conv.1.1.running_mean\", \"backbone.2.conv.1.1.running_var\", \"backbone.2.conv.1.1.num_batches_tracked\", \"backbone.2.conv.2.weight\", \"backbone.2.conv.3.weight\", \"backbone.2.conv.3.bias\", \"backbone.2.conv.3.running_mean\", \"backbone.2.conv.3.running_var\", \"backbone.2.conv.3.num_batches_tracked\", \"backbone.3.conv.0.0.weight\", \"backbone.3.conv.0.1.weight\", \"backbone.3.conv.0.1.bias\", \"backbone.3.conv.0.1.running_mean\", \"backbone.3.conv.0.1.running_var\", \"backbone.3.conv.0.1.num_batches_tracked\", \"backbone.3.conv.1.0.weight\", \"backbone.3.conv.1.1.weight\", \"backbone.3.conv.1.1.bias\", \"backbone.3.conv.1.1.running_mean\", \"backbone.3.conv.1.1.running_var\", \"backbone.3.conv.1.1.num_batches_tracked\", \"backbone.3.conv.2.weight\", \"backbone.3.conv.3.weight\", \"backbone.3.conv.3.bias\", \"backbone.3.conv.3.running_mean\", \"backbone.3.conv.3.running_var\", \"backbone.3.conv.3.num_batches_tracked\", \"backbone.4.conv.0.0.weight\", \"backbone.4.conv.0.1.weight\", \"backbone.4.conv.0.1.bias\", \"backbone.4.conv.0.1.running_mean\", \"backbone.4.conv.0.1.running_var\", \"backbone.4.conv.0.1.num_batches_tracked\", \"backbone.4.conv.1.0.weight\", \"backbone.4.conv.1.1.weight\", \"backbone.4.conv.1.1.bias\", \"backbone.4.conv.1.1.running_mean\", \"backbone.4.conv.1.1.running_var\", \"backbone.4.conv.1.1.num_batches_tracked\", \"backbone.4.conv.2.weight\", \"backbone.4.conv.3.weight\", \"backbone.4.conv.3.bias\", \"backbone.4.conv.3.running_mean\", \"backbone.4.conv.3.running_var\", \"backbone.4.conv.3.num_batches_tracked\", \"backbone.5.conv.0.0.weight\", \"backbone.5.conv.0.1.weight\", \"backbone.5.conv.0.1.bias\", \"backbone.5.conv.0.1.running_mean\", \"backbone.5.conv.0.1.running_var\", \"backbone.5.conv.0.1.num_batches_tracked\", \"backbone.5.conv.1.0.weight\", \"backbone.5.conv.1.1.weight\", \"backbone.5.conv.1.1.bias\", \"backbone.5.conv.1.1.running_mean\", \"backbone.5.conv.1.1.running_var\", \"backbone.5.conv.1.1.num_batches_tracked\", \"backbone.5.conv.2.weight\", \"backbone.5.conv.3.weight\", \"backbone.5.conv.3.bias\", \"backbone.5.conv.3.running_mean\", \"backbone.5.conv.3.running_var\", \"backbone.5.conv.3.num_batches_tracked\", \"backbone.6.conv.0.0.weight\", \"backbone.6.conv.0.1.weight\", \"backbone.6.conv.0.1.bias\", \"backbone.6.conv.0.1.running_mean\", \"backbone.6.conv.0.1.running_var\", \"backbone.6.conv.0.1.num_batches_tracked\", \"backbone.6.conv.1.0.weight\", \"backbone.6.conv.1.1.weight\", \"backbone.6.conv.1.1.bias\", \"backbone.6.conv.1.1.running_mean\", \"backbone.6.conv.1.1.running_var\", \"backbone.6.conv.1.1.num_batches_tracked\", \"backbone.6.conv.2.weight\", \"backbone.6.conv.3.weight\", \"backbone.6.conv.3.bias\", \"backbone.6.conv.3.running_mean\", \"backbone.6.conv.3.running_var\", \"backbone.6.conv.3.num_batches_tracked\", \"backbone.7.conv.0.0.weight\", \"backbone.7.conv.0.1.weight\", \"backbone.7.conv.0.1.bias\", \"backbone.7.conv.0.1.running_mean\", \"backbone.7.conv.0.1.running_var\", \"backbone.7.conv.0.1.num_batches_tracked\", \"backbone.7.conv.1.0.weight\", \"backbone.7.conv.1.1.weight\", \"backbone.7.conv.1.1.bias\", \"backbone.7.conv.1.1.running_mean\", \"backbone.7.conv.1.1.running_var\", \"backbone.7.conv.1.1.num_batches_tracked\", \"backbone.7.conv.2.weight\", \"backbone.7.conv.3.weight\", \"backbone.7.conv.3.bias\", \"backbone.7.conv.3.running_mean\", \"backbone.7.conv.3.running_var\", \"backbone.7.conv.3.num_batches_tracked\". \n\tsize mismatch for rpn.head.conv.weight: copying a param with shape torch.Size([1280, 1280, 3, 3]) from checkpoint, the shape in current model is torch.Size([2048, 2048, 3, 3]).\n\tsize mismatch for rpn.head.conv.bias: copying a param with shape torch.Size([1280]) from checkpoint, the shape in current model is torch.Size([2048]).\n\tsize mismatch for rpn.head.cls_logits.weight: copying a param with shape torch.Size([15, 1280, 1, 1]) from checkpoint, the shape in current model is torch.Size([3, 2048, 1, 1]).\n\tsize mismatch for rpn.head.cls_logits.bias: copying a param with shape torch.Size([15]) from checkpoint, the shape in current model is torch.Size([3]).\n\tsize mismatch for rpn.head.bbox_pred.weight: copying a param with shape torch.Size([60, 1280, 1, 1]) from checkpoint, the shape in current model is torch.Size([12, 2048, 1, 1]).\n\tsize mismatch for rpn.head.bbox_pred.bias: copying a param with shape torch.Size([60]) from checkpoint, the shape in current model is torch.Size([12]).\n\tsize mismatch for roi_heads.box_head.fc6.weight: copying a param with shape torch.Size([1024, 62720]) from checkpoint, the shape in current model is torch.Size([1024, 100352]).\n\tsize mismatch for roi_heads.box_predictor.cls_score.weight: copying a param with shape torch.Size([75, 1024]) from checkpoint, the shape in current model is torch.Size([256, 1024]).\n\tsize mismatch for roi_heads.box_predictor.cls_score.bias: copying a param with shape torch.Size([75]) from checkpoint, the shape in current model is torch.Size([256]).\n\tsize mismatch for roi_heads.box_predictor.bbox_pred.weight: copying a param with shape torch.Size([300, 1024]) from checkpoint, the shape in current model is torch.Size([1024, 1024]).\n\tsize mismatch for roi_heads.box_predictor.bbox_pred.bias: copying a param with shape torch.Size([300]) from checkpoint, the shape in current model is torch.Size([1024]).",
     "output_type": "error",
     "traceback": [
      "\u001b[1;31m---------------------------------------------------------------------------\u001b[0m",
      "\u001b[1;31mRuntimeError\u001b[0m                              Traceback (most recent call last)",
      "\u001b[1;32m<ipython-input-8-d8653f43112d>\u001b[0m in \u001b[0;36m<module>\u001b[1;34m\u001b[0m\n\u001b[0;32m      2\u001b[0m \u001b[1;33m\u001b[0m\u001b[0m\n\u001b[0;32m      3\u001b[0m \u001b[0mprint\u001b[0m\u001b[1;33m(\u001b[0m\u001b[1;34m\"Loading learnt model weights...\"\u001b[0m\u001b[1;33m,\u001b[0m \u001b[0mend\u001b[0m\u001b[1;33m=\u001b[0m\u001b[1;34m\"\"\u001b[0m\u001b[1;33m)\u001b[0m\u001b[1;33m\u001b[0m\u001b[1;33m\u001b[0m\u001b[0m\n\u001b[1;32m----> 4\u001b[1;33m \u001b[0mmodel\u001b[0m\u001b[1;33m.\u001b[0m\u001b[0mload_state_dict\u001b[0m\u001b[1;33m(\u001b[0m\u001b[0mtorch\u001b[0m\u001b[1;33m.\u001b[0m\u001b[0mload\u001b[0m\u001b[1;33m(\u001b[0m\u001b[0mMODEL_PATH\u001b[0m\u001b[1;33m)\u001b[0m\u001b[1;33m)\u001b[0m\u001b[1;33m\u001b[0m\u001b[1;33m\u001b[0m\u001b[0m\n\u001b[0m\u001b[0;32m      5\u001b[0m \u001b[0mprint\u001b[0m\u001b[1;33m(\u001b[0m\u001b[1;34m\"done\"\u001b[0m\u001b[1;33m)\u001b[0m\u001b[1;33m\u001b[0m\u001b[1;33m\u001b[0m\u001b[0m\n",
      "\u001b[1;32mc:\\program files\\python37\\lib\\site-packages\\torch\\nn\\modules\\module.py\u001b[0m in \u001b[0;36mload_state_dict\u001b[1;34m(self, state_dict, strict)\u001b[0m\n\u001b[0;32m    828\u001b[0m         \u001b[1;32mif\u001b[0m \u001b[0mlen\u001b[0m\u001b[1;33m(\u001b[0m\u001b[0merror_msgs\u001b[0m\u001b[1;33m)\u001b[0m \u001b[1;33m>\u001b[0m \u001b[1;36m0\u001b[0m\u001b[1;33m:\u001b[0m\u001b[1;33m\u001b[0m\u001b[1;33m\u001b[0m\u001b[0m\n\u001b[0;32m    829\u001b[0m             raise RuntimeError('Error(s) in loading state_dict for {}:\\n\\t{}'.format(\n\u001b[1;32m--> 830\u001b[1;33m                                self.__class__.__name__, \"\\n\\t\".join(error_msgs)))\n\u001b[0m\u001b[0;32m    831\u001b[0m         \u001b[1;32mreturn\u001b[0m \u001b[0m_IncompatibleKeys\u001b[0m\u001b[1;33m(\u001b[0m\u001b[0mmissing_keys\u001b[0m\u001b[1;33m,\u001b[0m \u001b[0munexpected_keys\u001b[0m\u001b[1;33m)\u001b[0m\u001b[1;33m\u001b[0m\u001b[1;33m\u001b[0m\u001b[0m\n\u001b[0;32m    832\u001b[0m \u001b[1;33m\u001b[0m\u001b[0m\n",
      "\u001b[1;31mRuntimeError\u001b[0m: Error(s) in loading state_dict for FasterRCNN:\n\tMissing key(s) in state_dict: \"backbone.0.weight\", \"backbone.1.weight\", \"backbone.1.bias\", \"backbone.1.running_mean\", \"backbone.1.running_var\", \"backbone.4.0.conv1.weight\", \"backbone.4.0.bn1.weight\", \"backbone.4.0.bn1.bias\", \"backbone.4.0.bn1.running_mean\", \"backbone.4.0.bn1.running_var\", \"backbone.4.0.conv2.weight\", \"backbone.4.0.bn2.weight\", \"backbone.4.0.bn2.bias\", \"backbone.4.0.bn2.running_mean\", \"backbone.4.0.bn2.running_var\", \"backbone.4.0.conv3.weight\", \"backbone.4.0.bn3.weight\", \"backbone.4.0.bn3.bias\", \"backbone.4.0.bn3.running_mean\", \"backbone.4.0.bn3.running_var\", \"backbone.4.0.downsample.0.weight\", \"backbone.4.0.downsample.1.weight\", \"backbone.4.0.downsample.1.bias\", \"backbone.4.0.downsample.1.running_mean\", \"backbone.4.0.downsample.1.running_var\", \"backbone.4.1.conv1.weight\", \"backbone.4.1.bn1.weight\", \"backbone.4.1.bn1.bias\", \"backbone.4.1.bn1.running_mean\", \"backbone.4.1.bn1.running_var\", \"backbone.4.1.conv2.weight\", \"backbone.4.1.bn2.weight\", \"backbone.4.1.bn2.bias\", \"backbone.4.1.bn2.running_mean\", \"backbone.4.1.bn2.running_var\", \"backbone.4.1.conv3.weight\", \"backbone.4.1.bn3.weight\", \"backbone.4.1.bn3.bias\", \"backbone.4.1.bn3.running_mean\", \"backbone.4.1.bn3.running_var\", \"backbone.4.2.conv1.weight\", \"backbone.4.2.bn1.weight\", \"backbone.4.2.bn1.bias\", \"backbone.4.2.bn1.running_mean\", \"backbone.4.2.bn1.running_var\", \"backbone.4.2.conv2.weight\", \"backbone.4.2.bn2.weight\", \"backbone.4.2.bn2.bias\", \"backbone.4.2.bn2.running_mean\", \"backbone.4.2.bn2.running_var\", \"backbone.4.2.conv3.weight\", \"backbone.4.2.bn3.weight\", \"backbone.4.2.bn3.bias\", \"backbone.4.2.bn3.running_mean\", \"backbone.4.2.bn3.running_var\", \"backbone.5.0.conv1.weight\", \"backbone.5.0.bn1.weight\", \"backbone.5.0.bn1.bias\", \"backbone.5.0.bn1.running_mean\", \"backbone.5.0.bn1.running_var\", \"backbone.5.0.conv2.weight\", \"backbone.5.0.bn2.weight\", \"backbone.5.0.bn2.bias\", \"backbone.5.0.bn2.running_mean\", \"backbone.5.0.bn2.running_var\", \"backbone.5.0.conv3.weight\", \"backbone.5.0.bn3.weight\", \"backbone.5.0.bn3.bias\", \"backbone.5.0.bn3.running_mean\", \"backbone.5.0.bn3.running_var\", \"backbone.5.0.downsample.0.weight\", \"backbone.5.0.downsample.1.weight\", \"backbone.5.0.downsample.1.bias\", \"backbone.5.0.downsample.1.running_mean\", \"backbone.5.0.downsample.1.running_var\", \"backbone.5.1.conv1.weight\", \"backbone.5.1.bn1.weight\", \"backbone.5.1.bn1.bias\", \"backbone.5.1.bn1.running_mean\", \"backbone.5.1.bn1.running_var\", \"backbone.5.1.conv2.weight\", \"backbone.5.1.bn2.weight\", \"backbone.5.1.bn2.bias\", \"backbone.5.1.bn2.running_mean\", \"backbone.5.1.bn2.running_var\", \"backbone.5.1.conv3.weight\", \"backbone.5.1.bn3.weight\", \"backbone.5.1.bn3.bias\", \"backbone.5.1.bn3.running_mean\", \"backbone.5.1.bn3.running_var\", \"backbone.5.2.conv1.weight\", \"backbone.5.2.bn1.weight\", \"backbone.5.2.bn1.bias\", \"backbone.5.2.bn1.running_mean\", \"backbone.5.2.bn1.running_var\", \"backbone.5.2.conv2.weight\", \"backbone.5.2.bn2.weight\", \"backbone.5.2.bn2.bias\", \"backbone.5.2.bn2.running_mean\", \"backbone.5.2.bn2.running_var\", \"backbone.5.2.conv3.weight\", \"backbone.5.2.bn3.weight\", \"backbone.5.2.bn3.bias\", \"backbone.5.2.bn3.running_mean\", \"backbone.5.2.bn3.running_var\", \"backbone.5.3.conv1.weight\", \"backbone.5.3.bn1.weight\", \"backbone.5.3.bn1.bias\", \"backbone.5.3.bn1.running_mean\", \"backbone.5.3.bn1.running_var\", \"backbone.5.3.conv2.weight\", \"backbone.5.3.bn2.weight\", \"backbone.5.3.bn2.bias\", \"backbone.5.3.bn2.running_mean\", \"backbone.5.3.bn2.running_var\", \"backbone.5.3.conv3.weight\", \"backbone.5.3.bn3.weight\", \"backbone.5.3.bn3.bias\", \"backbone.5.3.bn3.running_mean\", \"backbone.5.3.bn3.running_var\", \"backbone.6.0.conv1.weight\", \"backbone.6.0.bn1.weight\", \"backbone.6.0.bn1.bias\", \"backbone.6.0.bn1.running_mean\", \"backbone.6.0.bn1.running_var\", \"backbone.6.0.conv2.weight\", \"backbone.6.0.bn2.weight\", \"backbone.6.0.bn2.bias\", \"backbone.6.0.bn2.running_mean\", \"backbone.6.0.bn2.running_var\", \"backbone.6.0.conv3.weight\", \"backbone.6.0.bn3.weight\", \"backbone.6.0.bn3.bias\", \"backbone.6.0.bn3.running_mean\", \"backbone.6.0.bn3.running_var\", \"backbone.6.0.downsample.0.weight\", \"backbone.6.0.downsample.1.weight\", \"backbone.6.0.downsample.1.bias\", \"backbone.6.0.downsample.1.running_mean\", \"backbone.6.0.downsample.1.running_var\", \"backbone.6.1.conv1.weight\", \"backbone.6.1.bn1.weight\", \"backbone.6.1.bn1.bias\", \"backbone.6.1.bn1.running_mean\", \"backbone.6.1.bn1.running_var\", \"backbone.6.1.conv2.weight\", \"backbone.6.1.bn2.weight\", \"backbone.6.1.bn2.bias\", \"backbone.6.1.bn2.running_mean\", \"backbone.6.1.bn2.running_var\", \"backbone.6.1.conv3.weight\", \"backbone.6.1.bn3.weight\", \"backbone.6.1.bn3.bias\", \"backbone.6.1.bn3.running_mean\", \"backbone.6.1.bn3.running_var\", \"backbone.6.2.conv1.weight\", \"backbone.6.2.bn1.weight\", \"backbone.6.2.bn1.bias\", \"backbone.6.2.bn1.running_mean\", \"backbone.6.2.bn1.running_var\", \"backbone.6.2.conv2.weight\", \"backbone.6.2.bn2.weight\", \"backbone.6.2.bn2.bias\", \"backbone.6.2.bn2.running_mean\", \"backbone.6.2.bn2.running_var\", \"backbone.6.2.conv3.weight\", \"backbone.6.2.bn3.weight\", \"backbone.6.2.bn3.bias\", \"backbone.6.2.bn3.running_mean\", \"backbone.6.2.bn3.running_var\", \"backbone.6.3.conv1.weight\", \"backbone.6.3.bn1.weight\", \"backbone.6.3.bn1.bias\", \"backbone.6.3.bn1.running_mean\", \"backbone.6.3.bn1.running_var\", \"backbone.6.3.conv2.weight\", \"backbone.6.3.bn2.weight\", \"backbone.6.3.bn2.bias\", \"backbone.6.3.bn2.running_mean\", \"backbone.6.3.bn2.running_var\", \"backbone.6.3.conv3.weight\", \"backbone.6.3.bn3.weight\", \"backbone.6.3.bn3.bias\", \"backbone.6.3.bn3.running_mean\", \"backbone.6.3.bn3.running_var\", \"backbone.6.4.conv1.weight\", \"backbone.6.4.bn1.weight\", \"backbone.6.4.bn1.bias\", \"backbone.6.4.bn1.running_mean\", \"backbone.6.4.bn1.running_var\", \"backbone.6.4.conv2.weight\", \"backbone.6.4.bn2.weight\", \"backbone.6.4.bn2.bias\", \"backbone.6.4.bn2.running_mean\", \"backbone.6.4.bn2.running_var\", \"backbone.6.4.conv3.weight\", \"backbone.6.4.bn3.weight\", \"backbone.6.4.bn3.bias\", \"backbone.6.4.bn3.running_mean\", \"backbone.6.4.bn3.running_var\", \"backbone.6.5.conv1.weight\", \"backbone.6.5.bn1.weight\", \"backbone.6.5.bn1.bias\", \"backbone.6.5.bn1.running_mean\", \"backbone.6.5.bn1.running_var\", \"backbone.6.5.conv2.weight\", \"backbone.6.5.bn2.weight\", \"backbone.6.5.bn2.bias\", \"backbone.6.5.bn2.running_mean\", \"backbone.6.5.bn2.running_var\", \"backbone.6.5.conv3.weight\", \"backbone.6.5.bn3.weight\", \"backbone.6.5.bn3.bias\", \"backbone.6.5.bn3.running_mean\", \"backbone.6.5.bn3.running_var\", \"backbone.6.6.conv1.weight\", \"backbone.6.6.bn1.weight\", \"backbone.6.6.bn1.bias\", \"backbone.6.6.bn1.running_mean\", \"backbone.6.6.bn1.running_var\", \"backbone.6.6.conv2.weight\", \"backbone.6.6.bn2.weight\", \"backbone.6.6.bn2.bias\", \"backbone.6.6.bn2.running_mean\", \"backbone.6.6.bn2.running_var\", \"backbone.6.6.conv3.weight\", \"backbone.6.6.bn3.weight\", \"backbone.6.6.bn3.bias\", \"backbone.6.6.bn3.running_mean\", \"backbone.6.6.bn3.running_var\", \"backbone.6.7.conv1.weight\", \"backbone.6.7.bn1.weight\", \"backbone.6.7.bn1.bias\", \"backbone.6.7.bn1.running_mean\", \"backbone.6.7.bn1.running_var\", \"backbone.6.7.conv2.weight\", \"backbone.6.7.bn2.weight\", \"backbone.6.7.bn2.bias\", \"backbone.6.7.bn2.running_mean\", \"backbone.6.7.bn2.running_var\", \"backbone.6.7.conv3.weight\", \"backbone.6.7.bn3.weight\", \"backbone.6.7.bn3.bias\", \"backbone.6.7.bn3.running_mean\", \"backbone.6.7.bn3.running_var\", \"backbone.6.8.conv1.weight\", \"backbone.6.8.bn1.weight\", \"backbone.6.8.bn1.bias\", \"backbone.6.8.bn1.running_mean\", \"backbone.6.8.bn1.running_var\", \"backbone.6.8.conv2.weight\", \"backbone.6.8.bn2.weight\", \"backbone.6.8.bn2.bias\", \"backbone.6.8.bn2.running_mean\", \"backbone.6.8.bn2.running_var\", \"backbone.6.8.conv3.weight\", \"backbone.6.8.bn3.weight\", \"backbone.6.8.bn3.bias\", \"backbone.6.8.bn3.running_mean\", \"backbone.6.8.bn3.running_var\", \"backbone.6.9.conv1.weight\", \"backbone.6.9.bn1.weight\", \"backbone.6.9.bn1.bias\", \"backbone.6.9.bn1.running_mean\", \"backbone.6.9.bn1.running_var\", \"backbone.6.9.conv2.weight\", \"backbone.6.9.bn2.weight\", \"backbone.6.9.bn2.bias\", \"backbone.6.9.bn2.running_mean\", \"backbone.6.9.bn2.running_var\", \"backbone.6.9.conv3.weight\", \"backbone.6.9.bn3.weight\", \"backbone.6.9.bn3.bias\", \"backbone.6.9.bn3.running_mean\", \"backbone.6.9.bn3.running_var\", \"backbone.6.10.conv1.weight\", \"backbone.6.10.bn1.weight\", \"backbone.6.10.bn1.bias\", \"backbone.6.10.bn1.running_mean\", \"backbone.6.10.bn1.running_var\", \"backbone.6.10.conv2.weight\", \"backbone.6.10.bn2.weight\", \"backbone.6.10.bn2.bias\", \"backbone.6.10.bn2.running_mean\", \"backbone.6.10.bn2.running_var\", \"backbone.6.10.conv3.weight\", \"backbone.6.10.bn3.weight\", \"backbone.6.10.bn3.bias\", \"backbone.6.10.bn3.running_mean\", \"backbone.6.10.bn3.running_var\", \"backbone.6.11.conv1.weight\", \"backbone.6.11.bn1.weight\", \"backbone.6.11.bn1.bias\", \"backbone.6.11.bn1.running_mean\", \"backbone.6.11.bn1.running_var\", \"backbone.6.11.conv2.weight\", \"backbone.6.11.bn2.weight\", \"backbone.6.11.bn2.bias\", \"backbone.6.11.bn2.running_mean\", \"backbone.6.11.bn2.running_var\", \"backbone.6.11.conv3.weight\", \"backbone.6.11.bn3.weight\", \"backbone.6.11.bn3.bias\", \"backbone.6.11.bn3.running_mean\", \"backbone.6.11.bn3.running_var\", \"backbone.6.12.conv1.weight\", \"backbone.6.12.bn1.weight\", \"backbone.6.12.bn1.bias\", \"backbone.6.12.bn1.running_mean\", \"backbone.6.12.bn1.running_var\", \"backbone.6.12.conv2.weight\", \"backbone.6.12.bn2.weight\", \"backbone.6.12.bn2.bias\", \"backbone.6.12.bn2.running_mean\", \"backbone.6.12.bn2.running_var\", \"backbone.6.12.conv3.weight\", \"backbone.6.12.bn3.weight\", \"backbone.6.12.bn3.bias\", \"backbone.6.12.bn3.running_mean\", \"backbone.6.12.bn3.running_var\", \"backbone.6.13.conv1.weight\", \"backbone.6.13.bn1.weight\", \"backbone.6.13.bn1.bias\", \"backbone.6.13.bn1.running_mean\", \"backbone.6.13.bn1.running_var\", \"backbone.6.13.conv2.weight\", \"backbone.6.13.bn2.weight\", \"backbone.6.13.bn2.bias\", \"backbone.6.13.bn2.running_mean\", \"backbone.6.13.bn2.running_var\", \"backbone.6.13.conv3.weight\", \"backbone.6.13.bn3.weight\", \"backbone.6.13.bn3.bias\", \"backbone.6.13.bn3.running_mean\", \"backbone.6.13.bn3.running_var\", \"backbone.6.14.conv1.weight\", \"backbone.6.14.bn1.weight\", \"backbone.6.14.bn1.bias\", \"backbone.6.14.bn1.running_mean\", \"backbone.6.14.bn1.running_var\", \"backbone.6.14.conv2.weight\", \"backbone.6.14.bn2.weight\", \"backbone.6.14.bn2.bias\", \"backbone.6.14.bn2.running_mean\", \"backbone.6.14.bn2.running_var\", \"backbone.6.14.conv3.weight\", \"backbone.6.14.bn3.weight\", \"backbone.6.14.bn3.bias\", \"backbone.6.14.bn3.running_mean\", \"backbone.6.14.bn3.running_var\", \"backbone.6.15.conv1.weight\", \"backbone.6.15.bn1.weight\", \"backbone.6.15.bn1.bias\", \"backbone.6.15.bn1.running_mean\", \"backbone.6.15.bn1.running_var\", \"backbone.6.15.conv2.weight\", \"backbone.6.15.bn2.weight\", \"backbone.6.15.bn2.bias\", \"backbone.6.15.bn2.running_mean\", \"backbone.6.15.bn2.running_var\", \"backbone.6.15.conv3.weight\", \"backbone.6.15.bn3.weight\", \"backbone.6.15.bn3.bias\", \"backbone.6.15.bn3.running_mean\", \"backbone.6.15.bn3.running_var\", \"backbone.6.16.conv1.weight\", \"backbone.6.16.bn1.weight\", \"backbone.6.16.bn1.bias\", \"backbone.6.16.bn1.running_mean\", \"backbone.6.16.bn1.running_var\", \"backbone.6.16.conv2.weight\", \"backbone.6.16.bn2.weight\", \"backbone.6.16.bn2.bias\", \"backbone.6.16.bn2.running_mean\", \"backbone.6.16.bn2.running_var\", \"backbone.6.16.conv3.weight\", \"backbone.6.16.bn3.weight\", \"backbone.6.16.bn3.bias\", \"backbone.6.16.bn3.running_mean\", \"backbone.6.16.bn3.running_var\", \"backbone.6.17.conv1.weight\", \"backbone.6.17.bn1.weight\", \"backbone.6.17.bn1.bias\", \"backbone.6.17.bn1.running_mean\", \"backbone.6.17.bn1.running_var\", \"backbone.6.17.conv2.weight\", \"backbone.6.17.bn2.weight\", \"backbone.6.17.bn2.bias\", \"backbone.6.17.bn2.running_mean\", \"backbone.6.17.bn2.running_var\", \"backbone.6.17.conv3.weight\", \"backbone.6.17.bn3.weight\", \"backbone.6.17.bn3.bias\", \"backbone.6.17.bn3.running_mean\", \"backbone.6.17.bn3.running_var\", \"backbone.6.18.conv1.weight\", \"backbone.6.18.bn1.weight\", \"backbone.6.18.bn1.bias\", \"backbone.6.18.bn1.running_mean\", \"backbone.6.18.bn1.running_var\", \"backbone.6.18.conv2.weight\", \"backbone.6.18.bn2.weight\", \"backbone.6.18.bn2.bias\", \"backbone.6.18.bn2.running_mean\", \"backbone.6.18.bn2.running_var\", \"backbone.6.18.conv3.weight\", \"backbone.6.18.bn3.weight\", \"backbone.6.18.bn3.bias\", \"backbone.6.18.bn3.running_mean\", \"backbone.6.18.bn3.running_var\", \"backbone.6.19.conv1.weight\", \"backbone.6.19.bn1.weight\", \"backbone.6.19.bn1.bias\", \"backbone.6.19.bn1.running_mean\", \"backbone.6.19.bn1.running_var\", \"backbone.6.19.conv2.weight\", \"backbone.6.19.bn2.weight\", \"backbone.6.19.bn2.bias\", \"backbone.6.19.bn2.running_mean\", \"backbone.6.19.bn2.running_var\", \"backbone.6.19.conv3.weight\", \"backbone.6.19.bn3.weight\", \"backbone.6.19.bn3.bias\", \"backbone.6.19.bn3.running_mean\", \"backbone.6.19.bn3.running_var\", \"backbone.6.20.conv1.weight\", \"backbone.6.20.bn1.weight\", \"backbone.6.20.bn1.bias\", \"backbone.6.20.bn1.running_mean\", \"backbone.6.20.bn1.running_var\", \"backbone.6.20.conv2.weight\", \"backbone.6.20.bn2.weight\", \"backbone.6.20.bn2.bias\", \"backbone.6.20.bn2.running_mean\", \"backbone.6.20.bn2.running_var\", \"backbone.6.20.conv3.weight\", \"backbone.6.20.bn3.weight\", \"backbone.6.20.bn3.bias\", \"backbone.6.20.bn3.running_mean\", \"backbone.6.20.bn3.running_var\", \"backbone.6.21.conv1.weight\", \"backbone.6.21.bn1.weight\", \"backbone.6.21.bn1.bias\", \"backbone.6.21.bn1.running_mean\", \"backbone.6.21.bn1.running_var\", \"backbone.6.21.conv2.weight\", \"backbone.6.21.bn2.weight\", \"backbone.6.21.bn2.bias\", \"backbone.6.21.bn2.running_mean\", \"backbone.6.21.bn2.running_var\", \"backbone.6.21.conv3.weight\", \"backbone.6.21.bn3.weight\", \"backbone.6.21.bn3.bias\", \"backbone.6.21.bn3.running_mean\", \"backbone.6.21.bn3.running_var\", \"backbone.6.22.conv1.weight\", \"backbone.6.22.bn1.weight\", \"backbone.6.22.bn1.bias\", \"backbone.6.22.bn1.running_mean\", \"backbone.6.22.bn1.running_var\", \"backbone.6.22.conv2.weight\", \"backbone.6.22.bn2.weight\", \"backbone.6.22.bn2.bias\", \"backbone.6.22.bn2.running_mean\", \"backbone.6.22.bn2.running_var\", \"backbone.6.22.conv3.weight\", \"backbone.6.22.bn3.weight\", \"backbone.6.22.bn3.bias\", \"backbone.6.22.bn3.running_mean\", \"backbone.6.22.bn3.running_var\", \"backbone.7.0.conv1.weight\", \"backbone.7.0.bn1.weight\", \"backbone.7.0.bn1.bias\", \"backbone.7.0.bn1.running_mean\", \"backbone.7.0.bn1.running_var\", \"backbone.7.0.conv2.weight\", \"backbone.7.0.bn2.weight\", \"backbone.7.0.bn2.bias\", \"backbone.7.0.bn2.running_mean\", \"backbone.7.0.bn2.running_var\", \"backbone.7.0.conv3.weight\", \"backbone.7.0.bn3.weight\", \"backbone.7.0.bn3.bias\", \"backbone.7.0.bn3.running_mean\", \"backbone.7.0.bn3.running_var\", \"backbone.7.0.downsample.0.weight\", \"backbone.7.0.downsample.1.weight\", \"backbone.7.0.downsample.1.bias\", \"backbone.7.0.downsample.1.running_mean\", \"backbone.7.0.downsample.1.running_var\", \"backbone.7.1.conv1.weight\", \"backbone.7.1.bn1.weight\", \"backbone.7.1.bn1.bias\", \"backbone.7.1.bn1.running_mean\", \"backbone.7.1.bn1.running_var\", \"backbone.7.1.conv2.weight\", \"backbone.7.1.bn2.weight\", \"backbone.7.1.bn2.bias\", \"backbone.7.1.bn2.running_mean\", \"backbone.7.1.bn2.running_var\", \"backbone.7.1.conv3.weight\", \"backbone.7.1.bn3.weight\", \"backbone.7.1.bn3.bias\", \"backbone.7.1.bn3.running_mean\", \"backbone.7.1.bn3.running_var\", \"backbone.7.2.conv1.weight\", \"backbone.7.2.bn1.weight\", \"backbone.7.2.bn1.bias\", \"backbone.7.2.bn1.running_mean\", \"backbone.7.2.bn1.running_var\", \"backbone.7.2.conv2.weight\", \"backbone.7.2.bn2.weight\", \"backbone.7.2.bn2.bias\", \"backbone.7.2.bn2.running_mean\", \"backbone.7.2.bn2.running_var\", \"backbone.7.2.conv3.weight\", \"backbone.7.2.bn3.weight\", \"backbone.7.2.bn3.bias\", \"backbone.7.2.bn3.running_mean\", \"backbone.7.2.bn3.running_var\". \n\tUnexpected key(s) in state_dict: \"backbone.8.conv.0.0.weight\", \"backbone.8.conv.0.1.weight\", \"backbone.8.conv.0.1.bias\", \"backbone.8.conv.0.1.running_mean\", \"backbone.8.conv.0.1.running_var\", \"backbone.8.conv.0.1.num_batches_tracked\", \"backbone.8.conv.1.0.weight\", \"backbone.8.conv.1.1.weight\", \"backbone.8.conv.1.1.bias\", \"backbone.8.conv.1.1.running_mean\", \"backbone.8.conv.1.1.running_var\", \"backbone.8.conv.1.1.num_batches_tracked\", \"backbone.8.conv.2.weight\", \"backbone.8.conv.3.weight\", \"backbone.8.conv.3.bias\", \"backbone.8.conv.3.running_mean\", \"backbone.8.conv.3.running_var\", \"backbone.8.conv.3.num_batches_tracked\", \"backbone.9.conv.0.0.weight\", \"backbone.9.conv.0.1.weight\", \"backbone.9.conv.0.1.bias\", \"backbone.9.conv.0.1.running_mean\", \"backbone.9.conv.0.1.running_var\", \"backbone.9.conv.0.1.num_batches_tracked\", \"backbone.9.conv.1.0.weight\", \"backbone.9.conv.1.1.weight\", \"backbone.9.conv.1.1.bias\", \"backbone.9.conv.1.1.running_mean\", \"backbone.9.conv.1.1.running_var\", \"backbone.9.conv.1.1.num_batches_tracked\", \"backbone.9.conv.2.weight\", \"backbone.9.conv.3.weight\", \"backbone.9.conv.3.bias\", \"backbone.9.conv.3.running_mean\", \"backbone.9.conv.3.running_var\", \"backbone.9.conv.3.num_batches_tracked\", \"backbone.10.conv.0.0.weight\", \"backbone.10.conv.0.1.weight\", \"backbone.10.conv.0.1.bias\", \"backbone.10.conv.0.1.running_mean\", \"backbone.10.conv.0.1.running_var\", \"backbone.10.conv.0.1.num_batches_tracked\", \"backbone.10.conv.1.0.weight\", \"backbone.10.conv.1.1.weight\", \"backbone.10.conv.1.1.bias\", \"backbone.10.conv.1.1.running_mean\", \"backbone.10.conv.1.1.running_var\", \"backbone.10.conv.1.1.num_batches_tracked\", \"backbone.10.conv.2.weight\", \"backbone.10.conv.3.weight\", \"backbone.10.conv.3.bias\", \"backbone.10.conv.3.running_mean\", \"backbone.10.conv.3.running_var\", \"backbone.10.conv.3.num_batches_tracked\", \"backbone.11.conv.0.0.weight\", \"backbone.11.conv.0.1.weight\", \"backbone.11.conv.0.1.bias\", \"backbone.11.conv.0.1.running_mean\", \"backbone.11.conv.0.1.running_var\", \"backbone.11.conv.0.1.num_batches_tracked\", \"backbone.11.conv.1.0.weight\", \"backbone.11.conv.1.1.weight\", \"backbone.11.conv.1.1.bias\", \"backbone.11.conv.1.1.running_mean\", \"backbone.11.conv.1.1.running_var\", \"backbone.11.conv.1.1.num_batches_tracked\", \"backbone.11.conv.2.weight\", \"backbone.11.conv.3.weight\", \"backbone.11.conv.3.bias\", \"backbone.11.conv.3.running_mean\", \"backbone.11.conv.3.running_var\", \"backbone.11.conv.3.num_batches_tracked\", \"backbone.12.conv.0.0.weight\", \"backbone.12.conv.0.1.weight\", \"backbone.12.conv.0.1.bias\", \"backbone.12.conv.0.1.running_mean\", \"backbone.12.conv.0.1.running_var\", \"backbone.12.conv.0.1.num_batches_tracked\", \"backbone.12.conv.1.0.weight\", \"backbone.12.conv.1.1.weight\", \"backbone.12.conv.1.1.bias\", \"backbone.12.conv.1.1.running_mean\", \"backbone.12.conv.1.1.running_var\", \"backbone.12.conv.1.1.num_batches_tracked\", \"backbone.12.conv.2.weight\", \"backbone.12.conv.3.weight\", \"backbone.12.conv.3.bias\", \"backbone.12.conv.3.running_mean\", \"backbone.12.conv.3.running_var\", \"backbone.12.conv.3.num_batches_tracked\", \"backbone.13.conv.0.0.weight\", \"backbone.13.conv.0.1.weight\", \"backbone.13.conv.0.1.bias\", \"backbone.13.conv.0.1.running_mean\", \"backbone.13.conv.0.1.running_var\", \"backbone.13.conv.0.1.num_batches_tracked\", \"backbone.13.conv.1.0.weight\", \"backbone.13.conv.1.1.weight\", \"backbone.13.conv.1.1.bias\", \"backbone.13.conv.1.1.running_mean\", \"backbone.13.conv.1.1.running_var\", \"backbone.13.conv.1.1.num_batches_tracked\", \"backbone.13.conv.2.weight\", \"backbone.13.conv.3.weight\", \"backbone.13.conv.3.bias\", \"backbone.13.conv.3.running_mean\", \"backbone.13.conv.3.running_var\", \"backbone.13.conv.3.num_batches_tracked\", \"backbone.14.conv.0.0.weight\", \"backbone.14.conv.0.1.weight\", \"backbone.14.conv.0.1.bias\", \"backbone.14.conv.0.1.running_mean\", \"backbone.14.conv.0.1.running_var\", \"backbone.14.conv.0.1.num_batches_tracked\", \"backbone.14.conv.1.0.weight\", \"backbone.14.conv.1.1.weight\", \"backbone.14.conv.1.1.bias\", \"backbone.14.conv.1.1.running_mean\", \"backbone.14.conv.1.1.running_var\", \"backbone.14.conv.1.1.num_batches_tracked\", \"backbone.14.conv.2.weight\", \"backbone.14.conv.3.weight\", \"backbone.14.conv.3.bias\", \"backbone.14.conv.3.running_mean\", \"backbone.14.conv.3.running_var\", \"backbone.14.conv.3.num_batches_tracked\", \"backbone.15.conv.0.0.weight\", \"backbone.15.conv.0.1.weight\", \"backbone.15.conv.0.1.bias\", \"backbone.15.conv.0.1.running_mean\", \"backbone.15.conv.0.1.running_var\", \"backbone.15.conv.0.1.num_batches_tracked\", \"backbone.15.conv.1.0.weight\", \"backbone.15.conv.1.1.weight\", \"backbone.15.conv.1.1.bias\", \"backbone.15.conv.1.1.running_mean\", \"backbone.15.conv.1.1.running_var\", \"backbone.15.conv.1.1.num_batches_tracked\", \"backbone.15.conv.2.weight\", \"backbone.15.conv.3.weight\", \"backbone.15.conv.3.bias\", \"backbone.15.conv.3.running_mean\", \"backbone.15.conv.3.running_var\", \"backbone.15.conv.3.num_batches_tracked\", \"backbone.16.conv.0.0.weight\", \"backbone.16.conv.0.1.weight\", \"backbone.16.conv.0.1.bias\", \"backbone.16.conv.0.1.running_mean\", \"backbone.16.conv.0.1.running_var\", \"backbone.16.conv.0.1.num_batches_tracked\", \"backbone.16.conv.1.0.weight\", \"backbone.16.conv.1.1.weight\", \"backbone.16.conv.1.1.bias\", \"backbone.16.conv.1.1.running_mean\", \"backbone.16.conv.1.1.running_var\", \"backbone.16.conv.1.1.num_batches_tracked\", \"backbone.16.conv.2.weight\", \"backbone.16.conv.3.weight\", \"backbone.16.conv.3.bias\", \"backbone.16.conv.3.running_mean\", \"backbone.16.conv.3.running_var\", \"backbone.16.conv.3.num_batches_tracked\", \"backbone.17.conv.0.0.weight\", \"backbone.17.conv.0.1.weight\", \"backbone.17.conv.0.1.bias\", \"backbone.17.conv.0.1.running_mean\", \"backbone.17.conv.0.1.running_var\", \"backbone.17.conv.0.1.num_batches_tracked\", \"backbone.17.conv.1.0.weight\", \"backbone.17.conv.1.1.weight\", \"backbone.17.conv.1.1.bias\", \"backbone.17.conv.1.1.running_mean\", \"backbone.17.conv.1.1.running_var\", \"backbone.17.conv.1.1.num_batches_tracked\", \"backbone.17.conv.2.weight\", \"backbone.17.conv.3.weight\", \"backbone.17.conv.3.bias\", \"backbone.17.conv.3.running_mean\", \"backbone.17.conv.3.running_var\", \"backbone.17.conv.3.num_batches_tracked\", \"backbone.18.0.weight\", \"backbone.18.1.weight\", \"backbone.18.1.bias\", \"backbone.18.1.running_mean\", \"backbone.18.1.running_var\", \"backbone.18.1.num_batches_tracked\", \"backbone.0.0.weight\", \"backbone.0.1.weight\", \"backbone.0.1.bias\", \"backbone.0.1.running_mean\", \"backbone.0.1.running_var\", \"backbone.0.1.num_batches_tracked\", \"backbone.1.conv.0.0.weight\", \"backbone.1.conv.0.1.weight\", \"backbone.1.conv.0.1.bias\", \"backbone.1.conv.0.1.running_mean\", \"backbone.1.conv.0.1.running_var\", \"backbone.1.conv.0.1.num_batches_tracked\", \"backbone.1.conv.1.weight\", \"backbone.1.conv.2.weight\", \"backbone.1.conv.2.bias\", \"backbone.1.conv.2.running_mean\", \"backbone.1.conv.2.running_var\", \"backbone.1.conv.2.num_batches_tracked\", \"backbone.2.conv.0.0.weight\", \"backbone.2.conv.0.1.weight\", \"backbone.2.conv.0.1.bias\", \"backbone.2.conv.0.1.running_mean\", \"backbone.2.conv.0.1.running_var\", \"backbone.2.conv.0.1.num_batches_tracked\", \"backbone.2.conv.1.0.weight\", \"backbone.2.conv.1.1.weight\", \"backbone.2.conv.1.1.bias\", \"backbone.2.conv.1.1.running_mean\", \"backbone.2.conv.1.1.running_var\", \"backbone.2.conv.1.1.num_batches_tracked\", \"backbone.2.conv.2.weight\", \"backbone.2.conv.3.weight\", \"backbone.2.conv.3.bias\", \"backbone.2.conv.3.running_mean\", \"backbone.2.conv.3.running_var\", \"backbone.2.conv.3.num_batches_tracked\", \"backbone.3.conv.0.0.weight\", \"backbone.3.conv.0.1.weight\", \"backbone.3.conv.0.1.bias\", \"backbone.3.conv.0.1.running_mean\", \"backbone.3.conv.0.1.running_var\", \"backbone.3.conv.0.1.num_batches_tracked\", \"backbone.3.conv.1.0.weight\", \"backbone.3.conv.1.1.weight\", \"backbone.3.conv.1.1.bias\", \"backbone.3.conv.1.1.running_mean\", \"backbone.3.conv.1.1.running_var\", \"backbone.3.conv.1.1.num_batches_tracked\", \"backbone.3.conv.2.weight\", \"backbone.3.conv.3.weight\", \"backbone.3.conv.3.bias\", \"backbone.3.conv.3.running_mean\", \"backbone.3.conv.3.running_var\", \"backbone.3.conv.3.num_batches_tracked\", \"backbone.4.conv.0.0.weight\", \"backbone.4.conv.0.1.weight\", \"backbone.4.conv.0.1.bias\", \"backbone.4.conv.0.1.running_mean\", \"backbone.4.conv.0.1.running_var\", \"backbone.4.conv.0.1.num_batches_tracked\", \"backbone.4.conv.1.0.weight\", \"backbone.4.conv.1.1.weight\", \"backbone.4.conv.1.1.bias\", \"backbone.4.conv.1.1.running_mean\", \"backbone.4.conv.1.1.running_var\", \"backbone.4.conv.1.1.num_batches_tracked\", \"backbone.4.conv.2.weight\", \"backbone.4.conv.3.weight\", \"backbone.4.conv.3.bias\", \"backbone.4.conv.3.running_mean\", \"backbone.4.conv.3.running_var\", \"backbone.4.conv.3.num_batches_tracked\", \"backbone.5.conv.0.0.weight\", \"backbone.5.conv.0.1.weight\", \"backbone.5.conv.0.1.bias\", \"backbone.5.conv.0.1.running_mean\", \"backbone.5.conv.0.1.running_var\", \"backbone.5.conv.0.1.num_batches_tracked\", \"backbone.5.conv.1.0.weight\", \"backbone.5.conv.1.1.weight\", \"backbone.5.conv.1.1.bias\", \"backbone.5.conv.1.1.running_mean\", \"backbone.5.conv.1.1.running_var\", \"backbone.5.conv.1.1.num_batches_tracked\", \"backbone.5.conv.2.weight\", \"backbone.5.conv.3.weight\", \"backbone.5.conv.3.bias\", \"backbone.5.conv.3.running_mean\", \"backbone.5.conv.3.running_var\", \"backbone.5.conv.3.num_batches_tracked\", \"backbone.6.conv.0.0.weight\", \"backbone.6.conv.0.1.weight\", \"backbone.6.conv.0.1.bias\", \"backbone.6.conv.0.1.running_mean\", \"backbone.6.conv.0.1.running_var\", \"backbone.6.conv.0.1.num_batches_tracked\", \"backbone.6.conv.1.0.weight\", \"backbone.6.conv.1.1.weight\", \"backbone.6.conv.1.1.bias\", \"backbone.6.conv.1.1.running_mean\", \"backbone.6.conv.1.1.running_var\", \"backbone.6.conv.1.1.num_batches_tracked\", \"backbone.6.conv.2.weight\", \"backbone.6.conv.3.weight\", \"backbone.6.conv.3.bias\", \"backbone.6.conv.3.running_mean\", \"backbone.6.conv.3.running_var\", \"backbone.6.conv.3.num_batches_tracked\", \"backbone.7.conv.0.0.weight\", \"backbone.7.conv.0.1.weight\", \"backbone.7.conv.0.1.bias\", \"backbone.7.conv.0.1.running_mean\", \"backbone.7.conv.0.1.running_var\", \"backbone.7.conv.0.1.num_batches_tracked\", \"backbone.7.conv.1.0.weight\", \"backbone.7.conv.1.1.weight\", \"backbone.7.conv.1.1.bias\", \"backbone.7.conv.1.1.running_mean\", \"backbone.7.conv.1.1.running_var\", \"backbone.7.conv.1.1.num_batches_tracked\", \"backbone.7.conv.2.weight\", \"backbone.7.conv.3.weight\", \"backbone.7.conv.3.bias\", \"backbone.7.conv.3.running_mean\", \"backbone.7.conv.3.running_var\", \"backbone.7.conv.3.num_batches_tracked\". \n\tsize mismatch for rpn.head.conv.weight: copying a param with shape torch.Size([1280, 1280, 3, 3]) from checkpoint, the shape in current model is torch.Size([2048, 2048, 3, 3]).\n\tsize mismatch for rpn.head.conv.bias: copying a param with shape torch.Size([1280]) from checkpoint, the shape in current model is torch.Size([2048]).\n\tsize mismatch for rpn.head.cls_logits.weight: copying a param with shape torch.Size([15, 1280, 1, 1]) from checkpoint, the shape in current model is torch.Size([3, 2048, 1, 1]).\n\tsize mismatch for rpn.head.cls_logits.bias: copying a param with shape torch.Size([15]) from checkpoint, the shape in current model is torch.Size([3]).\n\tsize mismatch for rpn.head.bbox_pred.weight: copying a param with shape torch.Size([60, 1280, 1, 1]) from checkpoint, the shape in current model is torch.Size([12, 2048, 1, 1]).\n\tsize mismatch for rpn.head.bbox_pred.bias: copying a param with shape torch.Size([60]) from checkpoint, the shape in current model is torch.Size([12]).\n\tsize mismatch for roi_heads.box_head.fc6.weight: copying a param with shape torch.Size([1024, 62720]) from checkpoint, the shape in current model is torch.Size([1024, 100352]).\n\tsize mismatch for roi_heads.box_predictor.cls_score.weight: copying a param with shape torch.Size([75, 1024]) from checkpoint, the shape in current model is torch.Size([256, 1024]).\n\tsize mismatch for roi_heads.box_predictor.cls_score.bias: copying a param with shape torch.Size([75]) from checkpoint, the shape in current model is torch.Size([256]).\n\tsize mismatch for roi_heads.box_predictor.bbox_pred.weight: copying a param with shape torch.Size([300, 1024]) from checkpoint, the shape in current model is torch.Size([1024, 1024]).\n\tsize mismatch for roi_heads.box_predictor.bbox_pred.bias: copying a param with shape torch.Size([300]) from checkpoint, the shape in current model is torch.Size([1024])."
     ]
    }
   ],
   "source": [
    "MODEL_PATH = os.path.join(ROOT_DIR, \"models\", \"food_detection\", \"condensed\", \"mobilenet_backbone.pt\")\n",
    "\n",
    "print(\"Loading learnt model weights...\", end=\"\")\n",
    "model.load_state_dict(torch.load(MODEL_PATH))\n",
    "print(\"done\")"
   ]
  },
  {
   "cell_type": "markdown",
   "metadata": {},
   "source": [
    "# Predict"
   ]
  },
  {
   "cell_type": "markdown",
   "metadata": {},
   "source": [
    "**Fetch class names**"
   ]
  },
  {
   "cell_type": "code",
   "execution_count": null,
   "metadata": {},
   "outputs": [],
   "source": [
    "FOOD256_DIR = os.path.join(os.path.abspath(os.sep), \"Datasets\", \"food256\")\n",
    "\n",
    "class_names = []\n",
    "\n",
    "with open(os.path.join(FOOD256_DIR, \"category.txt\")) as file:\n",
    "    file.readline()\n",
    "    for line in file.readlines():\n",
    "        class_names.append(line.split('\\t')[1].strip())\n",
    "                           \n",
    "class_names"
   ]
  },
  {
   "cell_type": "markdown",
   "metadata": {},
   "source": [
    "**Load image from url**"
   ]
  },
  {
   "cell_type": "code",
   "execution_count": null,
   "metadata": {},
   "outputs": [],
   "source": [
    "def loadImage(url):\n",
    "    filename = url.split('/')[-1]\n",
    "    img = utils.get_file(filename, url)\n",
    "    img = Image.open(img)\n",
    "    return img\n",
    "\n",
    "img = loadImage(\"https://ichef.bbci.co.uk/food/ic/food_16x9_832/recipes/fivespicespareribs_70976_16x9.jpg\")\n",
    "img"
   ]
  },
  {
   "cell_type": "markdown",
   "metadata": {},
   "source": [
    "**Format image for model input**"
   ]
  },
  {
   "cell_type": "code",
   "execution_count": null,
   "metadata": {},
   "outputs": [],
   "source": [
    "# custom transform for R-CNN input\n",
    "class CustomTransform:\n",
    "    def __init__(self, image_size):\n",
    "        self.image_size = image_size\n",
    "        \n",
    "    def __call__(self, img):\n",
    "        # add padding\n",
    "        w, h = img.size\n",
    "        xPad = IMAGE_SIZE - w\n",
    "        yPad = IMAGE_SIZE - h\n",
    "        img = transforms.functional.pad(img, (0, 0, xPad, yPad))\n",
    "\n",
    "        # convert to tensor\n",
    "        img = transforms.functional.to_tensor(img)\n",
    "\n",
    "        # normalize\n",
    "        img = img / 255\n",
    "        return img\n",
    "\n",
    "transform = CustomTransform(image_size=IMAGE_SIZE)\n",
    "\n",
    "img = transform(img)\n",
    "images = img.unsqueeze(0)"
   ]
  },
  {
   "cell_type": "markdown",
   "metadata": {},
   "source": [
    "**Apply model on image**"
   ]
  },
  {
   "cell_type": "code",
   "execution_count": null,
   "metadata": {},
   "outputs": [],
   "source": [
    "def predict(images):\n",
    "    images = images.to(device)\n",
    "    model.eval()\n",
    "    \n",
    "    with torch.no_grad():\n",
    "        outputs = model(images)\n",
    "    \n",
    "    return outputs\n",
    "\n",
    "results = predict(images)\n",
    "results"
   ]
  },
  {
   "cell_type": "markdown",
   "metadata": {},
   "source": [
    "**Draw predicted bounding boxes on image**"
   ]
  },
  {
   "cell_type": "code",
   "execution_count": null,
   "metadata": {},
   "outputs": [],
   "source": [
    "CONFIDENCE_THRESHOLD = 0.4\n",
    "\n",
    "def drawResults(img, target):\n",
    "    fig, axis= plt.subplots(1)\n",
    "\n",
    "    img = np.transpose(img, (1,2,0))\n",
    "    img = img * 255\n",
    "    img = np.clip(img, 0, 1)\n",
    "    plt.imshow(img)\n",
    "\n",
    "    # draw results\n",
    "    for i in range(len(target[\"labels\"])):\n",
    "        if(target[\"scores\"][i] < CONFIDENCE_THRESHOLD):\n",
    "            break\n",
    "        \n",
    "        # draw bounding box\n",
    "        x1, y1, x2, y2 = target[\"boxes\"][i]\n",
    "        box = patches.Rectangle((x1, y1), x2-x1, y2-y1, linewidth=2, edgecolor='r', facecolor='none')\n",
    "        axis.add_patch(box)\n",
    "        axis.text(x1, y2, class_names[target[\"labels\"][i]], fontdict=dict(color='w', weight='bold'), bbox=dict(facecolor='r', edgecolor='none'))\n",
    "        foods.append(class_names[target[\"labels\"][i]])\n",
    "        \n",
    "    plt.show()\n",
    "\n",
    "foods = []\n",
    "drawResults(img, results[0])"
   ]
  },
  {
   "cell_type": "markdown",
   "metadata": {},
   "source": [
    "# Nutritional lookup"
   ]
  },
  {
   "cell_type": "markdown",
   "metadata": {},
   "source": [
    "**Search USDA for foods with predicted class**"
   ]
  },
  {
   "cell_type": "code",
   "execution_count": null,
   "metadata": {},
   "outputs": [],
   "source": [
    "client = UsdaClient(API_KEY)\n",
    "\n",
    "nutrients = {}\n",
    "\n",
    "for food_item in foods:\n",
    "    # seach USDA with predicted image class as search term\n",
    "    food_results = client.search_foods(food_item, 1)\n",
    "\n",
    "    food = next(food_results)\n",
    "\n",
    "    # fetch food report for top result\n",
    "    food_report = client.get_food_report(food.id)\n",
    "    \n",
    "    # add nutritional information to dictionary\n",
    "    for nutrient in food_report.nutrients:\n",
    "        key = \"{0} ({1})\".format(nutrient.name, nutrient.unit)\n",
    "        nutrients[key] = nutrients.get(key, 0) + nutrient.value\n",
    "    \n",
    "nutrients"
   ]
  },
  {
   "cell_type": "code",
   "execution_count": null,
   "metadata": {},
   "outputs": [],
   "source": []
  }
 ],
 "metadata": {
  "kernelspec": {
   "display_name": "Python 3",
   "language": "python",
   "name": "python3"
  },
  "language_info": {
   "codemirror_mode": {
    "name": "ipython",
    "version": 3
   },
   "file_extension": ".py",
   "mimetype": "text/x-python",
   "name": "python",
   "nbconvert_exporter": "python",
   "pygments_lexer": "ipython3",
   "version": "3.7.5"
  }
 },
 "nbformat": 4,
 "nbformat_minor": 4
}
