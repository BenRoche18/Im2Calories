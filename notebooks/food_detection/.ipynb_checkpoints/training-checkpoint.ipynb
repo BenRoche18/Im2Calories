{
 "cells": [
  {
   "cell_type": "markdown",
   "metadata": {
    "colab_type": "text",
    "id": "i_nLyDv8Vm2C"
   },
   "source": [
    "# Set up environment"
   ]
  },
  {
   "cell_type": "code",
   "execution_count": 1,
   "metadata": {
    "colab": {},
    "colab_type": "code",
    "id": "ISJ0ihdNdjhS"
   },
   "outputs": [],
   "source": [
    "import torch\n",
    "import torchvision\n",
    "import torchvision.transforms as transforms\n",
    "from torchsummary import summary\n",
    "\n",
    "import os\n",
    "import matplotlib.pyplot as plt\n",
    "import matplotlib.patches as patches\n",
    "import numpy as np\n",
    "import copy\n",
    "import shutil\n",
    "from PIL import Image\n",
    "from tqdm.autonotebook import tqdm\n",
    "import sys\n",
    "import xml.etree.cElementTree as ET"
   ]
  },
  {
   "cell_type": "markdown",
   "metadata": {},
   "source": [
    "## Import utility functions from Pytorch"
   ]
  },
  {
   "cell_type": "code",
   "execution_count": 2,
   "metadata": {},
   "outputs": [],
   "source": [
    "ROOT_DIR = os.path.dirname(os.path.dirname(os.getcwd()))\n",
    "\n",
    "sys.path.append(os.path.join(ROOT_DIR, \"utilities\"))\n",
    "\n",
    "from engine import train_one_epoch, evaluate\n",
    "import utils"
   ]
  },
  {
   "cell_type": "markdown",
   "metadata": {
    "colab_type": "text",
    "id": "0wjsABqdVyKa"
   },
   "source": [
    "## Enable GPU"
   ]
  },
  {
   "cell_type": "code",
   "execution_count": 3,
   "metadata": {
    "colab": {},
    "colab_type": "code",
    "id": "7rQNqPXEV4Ad"
   },
   "outputs": [
    {
     "name": "stdout",
     "output_type": "stream",
     "text": [
      "Running on cuda:0\n"
     ]
    }
   ],
   "source": [
    "device = torch.device(\"cuda:0\" if torch.cuda.is_available() else \"cpu\")\n",
    "print(\"Running on\", device)"
   ]
  },
  {
   "cell_type": "markdown",
   "metadata": {
    "colab_type": "text",
    "id": "C8eHVTWDif9d"
   },
   "source": [
    "## Declare parameters"
   ]
  },
  {
   "cell_type": "code",
   "execution_count": 4,
   "metadata": {
    "colab": {},
    "colab_type": "code",
    "id": "-Y0qqicdirJ_"
   },
   "outputs": [],
   "source": [
    "IMAGE_SIZE = 512\n",
    "BATCH_SIZE = 1"
   ]
  },
  {
   "cell_type": "markdown",
   "metadata": {
    "colab_type": "text",
    "id": "WUlZthLcWNJT"
   },
   "source": [
    "# Input data"
   ]
  },
  {
   "cell_type": "markdown",
   "metadata": {
    "colab_type": "text",
    "id": "ylfT9aiQe-6J"
   },
   "source": [
    "## Download Food256 dataset\n",
    "\n",
    "To extend the food classification into food detection I will need a dataset that includes bounding boxes, thus I have used food-256 including 256 different classes that contain atleast 100 images each. If the given directory not found then dataset is downloaded and extracted."
   ]
  },
  {
   "cell_type": "code",
   "execution_count": 5,
   "metadata": {
    "colab": {},
    "colab_type": "code",
    "id": "zXbE44oDfDGm"
   },
   "outputs": [],
   "source": [
    "FOOD256_DIR = os.path.join(os.path.abspath(os.sep), \"Datasets\", \"food256\")\n",
    "\n",
    "if not os.path.exists(FOOD256_DIR):\n",
    "  print(\"Downloading Food-256 dataset... \", end=\"\")\n",
    "  !wget http://foodcam.mobi/dataset256.zip\n",
    "  print(\"Done\")\n",
    "\n",
    "\n",
    "  print(\"Extracting data... \", end=\"\")\n",
    "  !unzip dataset256.zip\n",
    "  print(\"Done\")"
   ]
  },
  {
   "cell_type": "markdown",
   "metadata": {},
   "source": [
    "## Format dataset in VOC Format\n",
    "\n",
    "Please refer to format_voc notebook in utilities directory."
   ]
  },
  {
   "cell_type": "markdown",
   "metadata": {},
   "source": [
    "## Define FoodDataset class"
   ]
  },
  {
   "cell_type": "code",
   "execution_count": 6,
   "metadata": {},
   "outputs": [],
   "source": [
    "class FoodDataset(torch.utils.data.Dataset):\n",
    "    def __init__(self, root, images, transform=None):\n",
    "        self.root = root\n",
    "        self.transform = transform\n",
    "        self.images = images\n",
    "        self.classes = self.getClasses()\n",
    "                \n",
    "                \n",
    "    def getClasses(self):\n",
    "        classes = []\n",
    "        with open(os.path.join(self.root, \"category.txt\"), 'r') as file:\n",
    "            file.readline()\n",
    "            for line in file.readlines():\n",
    "                classes.append(line.strip().split(\"\\t\")[1])\n",
    "        return classes\n",
    "    \n",
    "    \n",
    "    def getLabels(self, img_id):\n",
    "        # open annotations file\n",
    "        tree = ET.parse(os.path.join(self.root, \"Annotations\", img_id+'.xml'))\n",
    "        root = tree.getroot()\n",
    "        \n",
    "        boxes = []\n",
    "        areas = []\n",
    "        labels = []\n",
    "    \n",
    "        # read bounding boxes\n",
    "        for obj in root.findall('object'):\n",
    "            class_name = obj.find('name').text\n",
    "\n",
    "            # get bounding box\n",
    "            box = obj.find('bndbox')\n",
    "            x1 = float(box.find('xmin').text)\n",
    "            y1 = float(box.find('ymin').text)\n",
    "            x2 = float(box.find('xmax').text)\n",
    "            y2 = float(box.find('ymax').text)\n",
    "\n",
    "            boxes.append([x1, y1, x2, y2])\n",
    "            areas.append((x2-x1)*(y2-y1))\n",
    "            labels.append(self.classes.index(class_name))\n",
    "        \n",
    "        return boxes, areas, labels\n",
    "\n",
    "        \n",
    "    def __getitem__(self, index):\n",
    "        # image\n",
    "        img_path = os.path.join(self.root, \"JPEGImages\", self.images[index])\n",
    "        img = Image.open(img_path).convert(\"RGB\")\n",
    "        \n",
    "        # annotations\n",
    "        boxes, areas, labels = self.getLabels(self.images[index].split('.')[0])\n",
    "\n",
    "        target = {\n",
    "            \"image_id\": torch.tensor([index]),\n",
    "            \"labels\": torch.as_tensor(labels, dtype=torch.int64),\n",
    "            \"boxes\": torch.as_tensor(boxes, dtype=torch.float32),\n",
    "            \"area\": torch.as_tensor(areas),\n",
    "            \"iscrowd\": torch.zeros((len(labels),), dtype=torch.int64)\n",
    "        }\n",
    "        \n",
    "        if self.transform is not None:\n",
    "            img, target = self.transform(img, target)\n",
    "            \n",
    "        return img, target\n",
    "        \n",
    "    \n",
    "    def __len__(self):\n",
    "        return len(self.images)"
   ]
  },
  {
   "cell_type": "markdown",
   "metadata": {},
   "source": [
    "## Format images for model input"
   ]
  },
  {
   "cell_type": "code",
   "execution_count": 7,
   "metadata": {},
   "outputs": [],
   "source": [
    "# custom transform for R-CNN input\n",
    "class CustomTransform:\n",
    "    def __init__(self, image_size):\n",
    "        self.image_size = image_size\n",
    "        \n",
    "    def __call__(self, img, target):\n",
    "        # resize to a max of IMAGE_SIZE\n",
    "        w, h = img.size\n",
    "        scale = min(IMAGE_SIZE/w, IMAGE_SIZE/h)\n",
    "        img = transforms.functional.resize(img, (int(h*scale), int(w*scale)))\n",
    "        \n",
    "        # update bounding boxes\n",
    "        target[\"boxes\"] *= scale\n",
    "        \n",
    "        # update areas\n",
    "        target[\"area\"] *= scale**2\n",
    "        \n",
    "        # add padding to a size of IMAGE_SIZE\n",
    "        img = transforms.functional.pad(img, (0, 0, IMAGE_SIZE-int(w*scale), IMAGE_SIZE-int(h*scale)))\n",
    "        \n",
    "        # convert to tensor\n",
    "        img = transforms.functional.to_tensor(img)\n",
    "\n",
    "        # normalize\n",
    "        img = transforms.functional.normalize(img, [0.485, 0.456, 0.406], [0.229, 0.224, 0.225])\n",
    "        \n",
    "        return img, target\n",
    "\n",
    "transform = CustomTransform(image_size=IMAGE_SIZE)"
   ]
  },
  {
   "cell_type": "markdown",
   "metadata": {},
   "source": [
    "## Read training and validations splits"
   ]
  },
  {
   "cell_type": "code",
   "execution_count": 8,
   "metadata": {},
   "outputs": [
    {
     "name": "stdout",
     "output_type": "stream",
     "text": [
      "Number of training images: 26007\n",
      "Number of validation images: 2890\n"
     ]
    }
   ],
   "source": [
    "SPLIT_DIR = os.path.join(FOOD256_DIR, \"ImageSets\", \"Main\")\n",
    "\n",
    "with open(os.path.join(SPLIT_DIR, \"train.txt\"), 'r') as file:\n",
    "    images = [x.strip() for x in file.readlines()]\n",
    "    train_raw = FoodDataset(FOOD256_DIR, images, transform=transform)\n",
    "    \n",
    "with open(os.path.join(SPLIT_DIR, \"val.txt\"), 'r') as file:\n",
    "    images = [x.strip() for x in file.readlines()]\n",
    "    val_raw = FoodDataset(FOOD256_DIR, images, transform=transform)\n",
    "\n",
    "train_size = len(train_raw)\n",
    "val_size = len(val_raw)\n",
    "\n",
    "class_names = train_raw.classes\n",
    "\n",
    "print(\"Number of training images: {0}\".format(train_size))\n",
    "print(\"Number of validation images: {0}\".format(val_size))"
   ]
  },
  {
   "cell_type": "markdown",
   "metadata": {},
   "source": [
    "## Batch datasets for training and evaluation"
   ]
  },
  {
   "cell_type": "code",
   "execution_count": 9,
   "metadata": {},
   "outputs": [],
   "source": [
    "# define how to batch data (i.e not combine target dicitonaries)\n",
    "def collate_fn(batch):\n",
    "    return tuple(zip(*batch))\n",
    "\n",
    "train_loader = torch.utils.data.DataLoader(train_raw, batch_size=BATCH_SIZE, shuffle=True, collate_fn=collate_fn)\n",
    "val_loader = torch.utils.data.DataLoader(val_raw, batch_size=BATCH_SIZE, shuffle=True, collate_fn=collate_fn)"
   ]
  },
  {
   "cell_type": "markdown",
   "metadata": {},
   "source": [
    "## Show example training image with bounding boxes"
   ]
  },
  {
   "cell_type": "code",
   "execution_count": 10,
   "metadata": {
    "colab": {},
    "colab_type": "code",
    "id": "pXJIlUvAmRJO"
   },
   "outputs": [
    {
     "data": {
      "image/png": "[encoded data removed]",
      "text/plain": [
       "<Figure size 432x288 with 1 Axes>"
      ]
     },
     "execution_count": 10,
     "metadata": {},
     "output_type": "execute_result"
    }
   ],
   "source": [
    "fig, axis= plt.subplots(1)\n",
    "\n",
    "#randomly select image from dataset\n",
    "i = np.random.randint(train_size)\n",
    "img = train_raw[i][0].clone().numpy()\n",
    "\n",
    "# unnormalize\n",
    "img[0] = img[0] * 0.229\n",
    "img[1] = img[1] * 0.224 \n",
    "img[2] = img[2] * 0.225 \n",
    "img[0] += 0.485 \n",
    "img[1] += 0.456 \n",
    "img[2] += 0.406\n",
    "    \n",
    "img = np.transpose(img, (1,2,0))\n",
    "img = np.clip(img, 0, 1)\n",
    "plt.imshow(img)\n",
    "\n",
    "labels = train_raw[i][1][\"labels\"]\n",
    "boxes = train_raw[i][1][\"boxes\"]\n",
    "\n",
    "# draw bounding boxes\n",
    "for i in range(len(labels)):\n",
    "    x1, y1, x2, y2 = boxes[i]\n",
    "    box = patches.Rectangle((x1, y1), x2-x1, y2-y1, linewidth=2, edgecolor='r', facecolor='none')\n",
    "    axis.add_patch(box)\n",
    "    axis.text(x1, y2, class_names[labels[i]-1], fontdict=dict(color='w', weight='bold'), bbox=dict(facecolor='r', edgecolor='none'))\n",
    "\n",
    "fig"
   ]
  },
  {
   "cell_type": "markdown",
   "metadata": {
    "colab_type": "text",
    "id": "Xzgyw9d1YtJx"
   },
   "source": [
    "# Model\n",
    "\n",
    "In order to train the food detector I will train from a pretrained Faster R-CNN model."
   ]
  },
  {
   "cell_type": "markdown",
   "metadata": {},
   "source": [
    "## Declare backbone model architecture\n",
    "\n",
    "Currently supports:\n",
    "    - resnet_50\n",
    "    - mobilenet_v2"
   ]
  },
  {
   "cell_type": "code",
   "execution_count": 11,
   "metadata": {},
   "outputs": [],
   "source": [
    "MODEL_NAME = \"resnet_50\""
   ]
  },
  {
   "cell_type": "markdown",
   "metadata": {},
   "source": [
    "## Fetch pretrainied backbone and create RCNN\n",
    "\n",
    "We can speed up convergence by using a backbone feature extractor trained on the Food101 dataset, except for the resnet-50 architecture which will be pretrained on coco."
   ]
  },
  {
   "cell_type": "code",
   "execution_count": 12,
   "metadata": {},
   "outputs": [
    {
     "name": "stdout",
     "output_type": "stream",
     "text": [
      "Fetching pretrained model... done\n"
     ]
    }
   ],
   "source": [
    "print(\"Fetching pretrained model... \", end=\"\")\n",
    "\n",
    "if MODEL_NAME == \"resnet_50\":\n",
    "    # fetch pretrained faster RCNN model with default resnet-50 backbone\n",
    "    model = torchvision.models.detection.fasterrcnn_resnet50_fpn(pretrained=True)\n",
    "    \n",
    "    # replace classification head\n",
    "    in_features = model.roi_heads.box_predictor.cls_score.in_features\n",
    "    model.roi_heads.box_predictor = torchvision.models.detection.faster_rcnn.FastRCNNPredictor(in_features, len(class_names)+1)\n",
    "\n",
    "    \n",
    "elif MODEL_NAME == \"mobilenet_v2\":\n",
    "    BACKBONE_PATH = os.path.join(ROOT_DIR, \"models\", \"food_classification\", MODEL_NAME, \"fine_tuning.pt\")\n",
    "    \n",
    "    # fetch backbone model architecture\n",
    "    backbone = torchvision.models.mobilenet_v2(pretrained=False)\n",
    "    \n",
    "    # replace classification head\n",
    "    num_features = backbone.classifier[1].in_features\n",
    "    backbone.classifier[1] = torch.nn.Linear(num_features, len(class_names))\n",
    "\n",
    "    # load trained weights\n",
    "    backbone.load_state_dict(torch.load(BACKBONE_PATH))\n",
    "\n",
    "    # remove classification head\n",
    "    backbone = backbone.features\n",
    "    backbone.out_channels = 1280\n",
    "    \n",
    "    # encapsulate backbone within faster RCNN model\n",
    "    anchor_generator = torchvision.models.detection.rpn.AnchorGenerator(sizes=((32, 64, 128, 256, 512),), aspect_ratios=((0.5, 1.0, 2.0),))\n",
    "    roi_pooler = torchvision.ops.MultiScaleRoIAlign(featmap_names=['0'], output_size=7, sampling_ratio=2)\n",
    "    model = torchvision.models.detection.FasterRCNN(backbone, num_classes=len(class_names), rpn_anchor_generator=anchor_generator, box_roi_pool=roi_pooler)\n",
    "\n",
    "\n",
    "model = model.to(device)\n",
    "print(\"done\")"
   ]
  },
  {
   "cell_type": "markdown",
   "metadata": {},
   "source": [
    "## Load checkpoint if weights file exists"
   ]
  },
  {
   "cell_type": "code",
   "execution_count": 13,
   "metadata": {},
   "outputs": [
    {
     "name": "stdout",
     "output_type": "stream",
     "text": [
      "Loading weights from checkpoint...done\n"
     ]
    }
   ],
   "source": [
    "MODEL_PATH = os.path.join(ROOT_DIR, \"models\", \"food_detection\", MODEL_NAME, \"fine_tuning.pt\")\n",
    "\n",
    "if os.path.exists(MODEL_PATH):\n",
    "    print(\"Loading weights from checkpoint...\", end=\"\")\n",
    "    model.load_state_dict(torch.load(MODEL_PATH))\n",
    "    print(\"done\")"
   ]
  },
  {
   "cell_type": "markdown",
   "metadata": {
    "colab_type": "text",
    "id": "uvnnS8hWjPSV"
   },
   "source": [
    "# Train via fine-tuning"
   ]
  },
  {
   "cell_type": "markdown",
   "metadata": {
    "colab_type": "text",
    "id": "xGOLOjPWHxtO"
   },
   "source": [
    "## Declare training parameters"
   ]
  },
  {
   "cell_type": "code",
   "execution_count": 14,
   "metadata": {
    "colab": {},
    "colab_type": "code",
    "id": "iK1NBW85H1q0"
   },
   "outputs": [],
   "source": [
    "learning_rate = 0.01\n",
    "epochs = 10\n",
    "\n",
    "# fetch trainable parameters for transfer learning(where requires_grad = true)\n",
    "params = [p for p in model.parameters() if p.requires_grad]\n",
    "\n",
    "optimizer = torch.optim.SGD(params, lr=learning_rate)"
   ]
  },
  {
   "cell_type": "markdown",
   "metadata": {
    "colab_type": "text",
    "id": "sg6d4uuPkWUM"
   },
   "source": [
    "## Train and save model"
   ]
  },
  {
   "cell_type": "code",
   "execution_count": null,
   "metadata": {},
   "outputs": [
    {
     "name": "stdout",
     "output_type": "stream",
     "text": [
      "Epoch: [0]  [    0/26007]  eta: 10:55:34  lr: 0.000020  loss: 0.1296 (0.1296)  loss_classifier: 0.0486 (0.0486)  loss_box_reg: 0.0765 (0.0765)  loss_objectness: 0.0001 (0.0001)  loss_rpn_box_reg: 0.0044 (0.0044)  time: 1.5125  data: 0.0070  max mem: 943\n",
      "Epoch: [0]  [ 1000/26007]  eta: 1:22:24  lr: 0.010000  loss: 0.1211 (0.1004)  loss_classifier: 0.1045 (0.0767)  loss_box_reg: 0.0147 (0.0164)  loss_objectness: 0.0002 (0.0013)  loss_rpn_box_reg: 0.0060 (0.0060)  time: 0.2016  data: 0.0143  max mem: 1052\n",
      "Epoch: [0]  [ 2000/26007]  eta: 1:19:55  lr: 0.010000  loss: 0.0746 (0.1025)  loss_classifier: 0.0539 (0.0783)  loss_box_reg: 0.0126 (0.0171)  loss_objectness: 0.0001 (0.0013)  loss_rpn_box_reg: 0.0033 (0.0058)  time: 0.2045  data: 0.0125  max mem: 1052\n",
      "Epoch: [0]  [ 3000/26007]  eta: 1:17:03  lr: 0.010000  loss: 0.0639 (0.1053)  loss_classifier: 0.0470 (0.0806)  loss_box_reg: 0.0093 (0.0175)  loss_objectness: 0.0002 (0.0015)  loss_rpn_box_reg: 0.0038 (0.0057)  time: 0.2087  data: 0.0164  max mem: 1052\n",
      "Epoch: [0]  [ 4000/26007]  eta: 1:13:55  lr: 0.010000  loss: 0.0925 (0.1056)  loss_classifier: 0.0729 (0.0804)  loss_box_reg: 0.0089 (0.0179)  loss_objectness: 0.0002 (0.0015)  loss_rpn_box_reg: 0.0036 (0.0057)  time: 0.2066  data: 0.0144  max mem: 1052\n",
      "Epoch: [0]  [ 5000/26007]  eta: 1:10:44  lr: 0.010000  loss: 0.0905 (0.1065)  loss_classifier: 0.0650 (0.0809)  loss_box_reg: 0.0143 (0.0182)  loss_objectness: 0.0001 (0.0016)  loss_rpn_box_reg: 0.0040 (0.0057)  time: 0.1967  data: 0.0063  max mem: 1052\n",
      "Epoch: [0]  [ 6000/26007]  eta: 1:07:27  lr: 0.010000  loss: 0.0668 (0.1067)  loss_classifier: 0.0372 (0.0811)  loss_box_reg: 0.0130 (0.0182)  loss_objectness: 0.0003 (0.0016)  loss_rpn_box_reg: 0.0043 (0.0058)  time: 0.1994  data: 0.0092  max mem: 1052\n",
      "Epoch: [0]  [ 7000/26007]  eta: 1:04:09  lr: 0.010000  loss: 0.0877 (0.1086)  loss_classifier: 0.0598 (0.0825)  loss_box_reg: 0.0129 (0.0187)  loss_objectness: 0.0002 (0.0016)  loss_rpn_box_reg: 0.0033 (0.0058)  time: 0.1998  data: 0.0084  max mem: 1052\n",
      "Epoch: [0]  [ 8000/26007]  eta: 1:00:48  lr: 0.010000  loss: 0.0806 (0.1089)  loss_classifier: 0.0460 (0.0825)  loss_box_reg: 0.0140 (0.0189)  loss_objectness: 0.0002 (0.0017)  loss_rpn_box_reg: 0.0040 (0.0059)  time: 0.1983  data: 0.0081  max mem: 1052\n",
      "Epoch: [0]  [ 9000/26007]  eta: 0:57:29  lr: 0.010000  loss: 0.0706 (0.1089)  loss_classifier: 0.0626 (0.0825)  loss_box_reg: 0.0088 (0.0188)  loss_objectness: 0.0001 (0.0017)  loss_rpn_box_reg: 0.0036 (0.0059)  time: 0.1998  data: 0.0089  max mem: 1052\n",
      "Epoch: [0]  [10000/26007]  eta: 0:54:08  lr: 0.010000  loss: 0.0594 (0.1087)  loss_classifier: 0.0487 (0.0823)  loss_box_reg: 0.0074 (0.0188)  loss_objectness: 0.0001 (0.0017)  loss_rpn_box_reg: 0.0046 (0.0059)  time: 0.2081  data: 0.0167  max mem: 1052\n",
      "Epoch: [0]  [11000/26007]  eta: 0:50:47  lr: 0.010000  loss: 0.0833 (0.1088)  loss_classifier: 0.0536 (0.0823)  loss_box_reg: 0.0127 (0.0188)  loss_objectness: 0.0002 (0.0017)  loss_rpn_box_reg: 0.0041 (0.0059)  time: 0.2004  data: 0.0092  max mem: 1052\n",
      "Epoch: [0]  [12000/26007]  eta: 0:47:25  lr: 0.010000  loss: 0.0936 (0.1093)  loss_classifier: 0.0798 (0.0828)  loss_box_reg: 0.0098 (0.0188)  loss_objectness: 0.0004 (0.0018)  loss_rpn_box_reg: 0.0035 (0.0059)  time: 0.2110  data: 0.0177  max mem: 1053\n",
      "Epoch: [0]  [13000/26007]  eta: 0:44:03  lr: 0.010000  loss: 0.0763 (0.1092)  loss_classifier: 0.0565 (0.0827)  loss_box_reg: 0.0093 (0.0188)  loss_objectness: 0.0001 (0.0018)  loss_rpn_box_reg: 0.0037 (0.0059)  time: 0.2033  data: 0.0133  max mem: 1053\n",
      "Epoch: [0]  [14000/26007]  eta: 0:40:41  lr: 0.010000  loss: 0.0797 (0.1092)  loss_classifier: 0.0542 (0.0826)  loss_box_reg: 0.0110 (0.0188)  loss_objectness: 0.0006 (0.0018)  loss_rpn_box_reg: 0.0038 (0.0059)  time: 0.1994  data: 0.0095  max mem: 1053\n",
      "Epoch: [0]  [15000/26007]  eta: 0:37:18  lr: 0.010000  loss: 0.1141 (0.1094)  loss_classifier: 0.0760 (0.0828)  loss_box_reg: 0.0119 (0.0189)  loss_objectness: 0.0003 (0.0018)  loss_rpn_box_reg: 0.0048 (0.0059)  time: 0.2120  data: 0.0192  max mem: 1053\n",
      "Epoch: [0]  [16000/26007]  eta: 0:33:54  lr: 0.010000  loss: 0.0629 (0.1097)  loss_classifier: 0.0425 (0.0830)  loss_box_reg: 0.0127 (0.0189)  loss_objectness: 0.0003 (0.0018)  loss_rpn_box_reg: 0.0037 (0.0060)  time: 0.2087  data: 0.0173  max mem: 1053\n",
      "Epoch: [0]  [17000/26007]  eta: 0:30:31  lr: 0.010000  loss: 0.0838 (0.1094)  loss_classifier: 0.0587 (0.0828)  loss_box_reg: 0.0101 (0.0189)  loss_objectness: 0.0003 (0.0018)  loss_rpn_box_reg: 0.0037 (0.0060)  time: 0.1978  data: 0.0081  max mem: 1053\n",
      "Epoch: [0]  [18000/26007]  eta: 0:27:07  lr: 0.010000  loss: 0.0801 (0.1095)  loss_classifier: 0.0614 (0.0828)  loss_box_reg: 0.0149 (0.0189)  loss_objectness: 0.0003 (0.0018)  loss_rpn_box_reg: 0.0037 (0.0060)  time: 0.2002  data: 0.0104  max mem: 1053\n",
      "Epoch: [0]  [19000/26007]  eta: 0:23:44  lr: 0.010000  loss: 0.0733 (0.1096)  loss_classifier: 0.0573 (0.0830)  loss_box_reg: 0.0210 (0.0189)  loss_objectness: 0.0002 (0.0018)  loss_rpn_box_reg: 0.0028 (0.0060)  time: 0.2061  data: 0.0149  max mem: 1053\n",
      "Epoch: [0]  [20000/26007]  eta: 0:20:21  lr: 0.010000  loss: 0.1146 (0.1096)  loss_classifier: 0.0763 (0.0830)  loss_box_reg: 0.0174 (0.0189)  loss_objectness: 0.0005 (0.0018)  loss_rpn_box_reg: 0.0060 (0.0060)  time: 0.2093  data: 0.0165  max mem: 1053\n",
      "Epoch: [0]  [21000/26007]  eta: 0:16:57  lr: 0.010000  loss: 0.0927 (0.1095)  loss_classifier: 0.0633 (0.0830)  loss_box_reg: 0.0112 (0.0188)  loss_objectness: 0.0002 (0.0018)  loss_rpn_box_reg: 0.0040 (0.0059)  time: 0.2057  data: 0.0136  max mem: 1053\n",
      "Epoch: [0]  [22000/26007]  eta: 0:13:34  lr: 0.010000  loss: 0.0867 (0.1094)  loss_classifier: 0.0610 (0.0829)  loss_box_reg: 0.0119 (0.0188)  loss_objectness: 0.0005 (0.0018)  loss_rpn_box_reg: 0.0052 (0.0060)  time: 0.1993  data: 0.0082  max mem: 1053\n",
      "Epoch: [0]  [23000/26007]  eta: 0:10:11  lr: 0.010000  loss: 0.0774 (0.1093)  loss_classifier: 0.0559 (0.0828)  loss_box_reg: 0.0099 (0.0188)  loss_objectness: 0.0002 (0.0018)  loss_rpn_box_reg: 0.0039 (0.0059)  time: 0.1975  data: 0.0070  max mem: 1053\n",
      "Epoch: [0]  [24000/26007]  eta: 0:06:47  lr: 0.010000  loss: 0.1048 (0.1091)  loss_classifier: 0.0866 (0.0827)  loss_box_reg: 0.0086 (0.0187)  loss_objectness: 0.0001 (0.0017)  loss_rpn_box_reg: 0.0047 (0.0059)  time: 0.1993  data: 0.0080  max mem: 1053\n",
      "Epoch: [0]  [25000/26007]  eta: 0:03:24  lr: 0.010000  loss: 0.0598 (0.1093)  loss_classifier: 0.0435 (0.0829)  loss_box_reg: 0.0121 (0.0188)  loss_objectness: 0.0008 (0.0017)  loss_rpn_box_reg: 0.0050 (0.0059)  time: 0.2044  data: 0.0130  max mem: 1053\n",
      "Epoch: [0]  [26000/26007]  eta: 0:00:01  lr: 0.010000  loss: 0.0622 (0.1090)  loss_classifier: 0.0454 (0.0826)  loss_box_reg: 0.0105 (0.0187)  loss_objectness: 0.0003 (0.0017)  loss_rpn_box_reg: 0.0055 (0.0059)  time: 0.1977  data: 0.0080  max mem: 1053\n",
      "Epoch: [0]  [26006/26007]  eta: 0:00:00  lr: 0.010000  loss: 0.0789 (0.1090)  loss_classifier: 0.0529 (0.0826)  loss_box_reg: 0.0100 (0.0187)  loss_objectness: 0.0002 (0.0017)  loss_rpn_box_reg: 0.0042 (0.0059)  time: 0.1985  data: 0.0072  max mem: 1053\n",
      "Epoch: [0] Total time: 1:28:05 (0.2032 s / it)\n",
      "creating index...\n",
      "index created!\n",
      "Test:  [   0/2890]  eta: 0:05:45  model_time: 0.0918 (0.0918)  evaluator_time: 0.0030 (0.0030)  time: 0.1197  data: 0.0100  max mem: 1053\n",
      "Test:  [ 100/2890]  eta: 0:04:23  model_time: 0.0798 (0.0803)  evaluator_time: 0.0030 (0.0037)  time: 0.0936  data: 0.0088  max mem: 1053\n",
      "Test:  [ 200/2890]  eta: 0:04:14  model_time: 0.0788 (0.0804)  evaluator_time: 0.0030 (0.0036)  time: 0.0941  data: 0.0091  max mem: 1053\n",
      "Test:  [ 300/2890]  eta: 0:04:04  model_time: 0.0788 (0.0804)  evaluator_time: 0.0035 (0.0037)  time: 0.0936  data: 0.0090  max mem: 1053\n",
      "Test:  [ 400/2890]  eta: 0:03:55  model_time: 0.0818 (0.0806)  evaluator_time: 0.0030 (0.0037)  time: 0.0962  data: 0.0093  max mem: 1053\n",
      "Test:  [ 500/2890]  eta: 0:03:47  model_time: 0.0828 (0.0810)  evaluator_time: 0.0040 (0.0037)  time: 0.0960  data: 0.0089  max mem: 1053\n",
      "Test:  [ 600/2890]  eta: 0:03:38  model_time: 0.0838 (0.0814)  evaluator_time: 0.0040 (0.0037)  time: 0.0986  data: 0.0092  max mem: 1053\n",
      "Test:  [ 700/2890]  eta: 0:03:29  model_time: 0.0828 (0.0817)  evaluator_time: 0.0040 (0.0038)  time: 0.0983  data: 0.0091  max mem: 1053\n"
     ]
    },
    {
     "name": "stdout",
     "output_type": "stream",
     "text": [
      "Test:  [ 800/2890]  eta: 0:03:20  model_time: 0.0828 (0.0820)  evaluator_time: 0.0040 (0.0037)  time: 0.0984  data: 0.0094  max mem: 1053\n",
      "Test:  [ 900/2890]  eta: 0:03:11  model_time: 0.0828 (0.0822)  evaluator_time: 0.0040 (0.0038)  time: 0.0988  data: 0.0096  max mem: 1053\n",
      "Test:  [1000/2890]  eta: 0:03:02  model_time: 0.0828 (0.0823)  evaluator_time: 0.0040 (0.0038)  time: 0.0973  data: 0.0097  max mem: 1053\n",
      "Test:  [1100/2890]  eta: 0:02:52  model_time: 0.0838 (0.0824)  evaluator_time: 0.0040 (0.0038)  time: 0.0976  data: 0.0089  max mem: 1053\n",
      "Test:  [1200/2890]  eta: 0:02:43  model_time: 0.0828 (0.0825)  evaluator_time: 0.0040 (0.0038)  time: 0.0985  data: 0.0099  max mem: 1053\n",
      "Test:  [1300/2890]  eta: 0:02:33  model_time: 0.0837 (0.0826)  evaluator_time: 0.0040 (0.0038)  time: 0.0989  data: 0.0093  max mem: 1053\n",
      "Test:  [1400/2890]  eta: 0:02:24  model_time: 0.0828 (0.0827)  evaluator_time: 0.0040 (0.0038)  time: 0.0978  data: 0.0095  max mem: 1053\n",
      "Test:  [1500/2890]  eta: 0:02:14  model_time: 0.0828 (0.0828)  evaluator_time: 0.0040 (0.0038)  time: 0.0983  data: 0.0095  max mem: 1053\n",
      "Test:  [1600/2890]  eta: 0:02:05  model_time: 0.0828 (0.0828)  evaluator_time: 0.0030 (0.0038)  time: 0.0969  data: 0.0091  max mem: 1053\n",
      "Test:  [1700/2890]  eta: 0:01:55  model_time: 0.0828 (0.0829)  evaluator_time: 0.0040 (0.0038)  time: 0.0978  data: 0.0098  max mem: 1053\n",
      "Test:  [1800/2890]  eta: 0:01:45  model_time: 0.0828 (0.0829)  evaluator_time: 0.0040 (0.0038)  time: 0.0978  data: 0.0092  max mem: 1053\n",
      "Test:  [1900/2890]  eta: 0:01:36  model_time: 0.0828 (0.0830)  evaluator_time: 0.0040 (0.0038)  time: 0.0973  data: 0.0093  max mem: 1053\n",
      "Test:  [2000/2890]  eta: 0:01:26  model_time: 0.0823 (0.0830)  evaluator_time: 0.0040 (0.0038)  time: 0.1000  data: 0.0095  max mem: 1053\n",
      "Test:  [2100/2890]  eta: 0:01:16  model_time: 0.0828 (0.0830)  evaluator_time: 0.0040 (0.0038)  time: 0.0979  data: 0.0095  max mem: 1053\n",
      "Test:  [2200/2890]  eta: 0:01:07  model_time: 0.0828 (0.0831)  evaluator_time: 0.0040 (0.0038)  time: 0.0979  data: 0.0094  max mem: 1053\n",
      "Test:  [2300/2890]  eta: 0:00:57  model_time: 0.0828 (0.0831)  evaluator_time: 0.0040 (0.0038)  time: 0.0984  data: 0.0096  max mem: 1053\n",
      "Test:  [2400/2890]  eta: 0:00:47  model_time: 0.0828 (0.0831)  evaluator_time: 0.0040 (0.0038)  time: 0.0971  data: 0.0092  max mem: 1053\n",
      "Test:  [2500/2890]  eta: 0:00:37  model_time: 0.0838 (0.0831)  evaluator_time: 0.0040 (0.0038)  time: 0.0987  data: 0.0093  max mem: 1053\n",
      "Test:  [2600/2890]  eta: 0:00:28  model_time: 0.0828 (0.0832)  evaluator_time: 0.0040 (0.0038)  time: 0.0980  data: 0.0093  max mem: 1053\n",
      "Test:  [2700/2890]  eta: 0:00:18  model_time: 0.0828 (0.0832)  evaluator_time: 0.0040 (0.0038)  time: 0.0980  data: 0.0096  max mem: 1053\n",
      "Test:  [2800/2890]  eta: 0:00:08  model_time: 0.0828 (0.0832)  evaluator_time: 0.0030 (0.0038)  time: 0.0971  data: 0.0090  max mem: 1053\n",
      "Test:  [2889/2890]  eta: 0:00:00  model_time: 0.0838 (0.0832)  evaluator_time: 0.0040 (0.0038)  time: 0.1000  data: 0.0101  max mem: 1053\n",
      "Test: Total time: 0:04:41 (0.0974 s / it)\n",
      "Averaged stats: model_time: 0.0838 (0.0832)  evaluator_time: 0.0040 (0.0038)\n",
      "Accumulating evaluation results...\n",
      "DONE (t=2.37s).\n",
      "IoU metric: bbox\n",
      " Average Precision  (AP) @[ IoU=0.50:0.95 | area=   all | maxDets=100 ] = 0.325\n",
      " Average Precision  (AP) @[ IoU=0.50      | area=   all | maxDets=100 ] = 0.498\n",
      " Average Precision  (AP) @[ IoU=0.75      | area=   all | maxDets=100 ] = 0.363\n",
      " Average Precision  (AP) @[ IoU=0.50:0.95 | area= small | maxDets=100 ] = -1.000\n",
      " Average Precision  (AP) @[ IoU=0.50:0.95 | area=medium | maxDets=100 ] = 0.102\n",
      " Average Precision  (AP) @[ IoU=0.50:0.95 | area= large | maxDets=100 ] = 0.326\n",
      " Average Recall     (AR) @[ IoU=0.50:0.95 | area=   all | maxDets=  1 ] = 0.547\n",
      " Average Recall     (AR) @[ IoU=0.50:0.95 | area=   all | maxDets= 10 ] = 0.553\n",
      " Average Recall     (AR) @[ IoU=0.50:0.95 | area=   all | maxDets=100 ] = 0.553\n",
      " Average Recall     (AR) @[ IoU=0.50:0.95 | area= small | maxDets=100 ] = -1.000\n",
      " Average Recall     (AR) @[ IoU=0.50:0.95 | area=medium | maxDets=100 ] = 0.194\n",
      " Average Recall     (AR) @[ IoU=0.50:0.95 | area= large | maxDets=100 ] = 0.554\n",
      "Epoch: [1]  [    0/26007]  eta: 1:35:32  lr: 0.010000  loss: 0.0730 (0.0730)  loss_classifier: 0.0559 (0.0559)  loss_box_reg: 0.0101 (0.0101)  loss_objectness: 0.0003 (0.0003)  loss_rpn_box_reg: 0.0067 (0.0067)  time: 0.2204  data: 0.0100  max mem: 1053\n",
      "Epoch: [1]  [ 1000/26007]  eta: 1:23:07  lr: 0.010000  loss: 0.0769 (0.0947)  loss_classifier: 0.0590 (0.0716)  loss_box_reg: 0.0076 (0.0164)  loss_objectness: 0.0001 (0.0011)  loss_rpn_box_reg: 0.0044 (0.0055)  time: 0.1993  data: 0.0079  max mem: 1053\n",
      "Epoch: [1]  [ 2000/26007]  eta: 1:19:37  lr: 0.010000  loss: 0.0686 (0.0951)  loss_classifier: 0.0401 (0.0713)  loss_box_reg: 0.0140 (0.0169)  loss_objectness: 0.0002 (0.0013)  loss_rpn_box_reg: 0.0041 (0.0056)  time: 0.1990  data: 0.0077  max mem: 1053\n",
      "Epoch: [1]  [ 3000/26007]  eta: 1:16:14  lr: 0.010000  loss: 0.0588 (0.0968)  loss_classifier: 0.0461 (0.0728)  loss_box_reg: 0.0085 (0.0171)  loss_objectness: 0.0001 (0.0013)  loss_rpn_box_reg: 0.0046 (0.0056)  time: 0.1984  data: 0.0072  max mem: 1053\n",
      "Epoch: [1]  [ 4000/26007]  eta: 1:12:54  lr: 0.010000  loss: 0.0721 (0.0966)  loss_classifier: 0.0470 (0.0726)  loss_box_reg: 0.0114 (0.0169)  loss_objectness: 0.0002 (0.0014)  loss_rpn_box_reg: 0.0039 (0.0056)  time: 0.1984  data: 0.0067  max mem: 1053\n",
      "Epoch: [1]  [ 5000/26007]  eta: 1:09:37  lr: 0.010000  loss: 0.0514 (0.0964)  loss_classifier: 0.0334 (0.0724)  loss_box_reg: 0.0090 (0.0170)  loss_objectness: 0.0003 (0.0014)  loss_rpn_box_reg: 0.0034 (0.0057)  time: 0.1989  data: 0.0072  max mem: 1053\n",
      "Epoch: [1]  [ 6000/26007]  eta: 1:06:18  lr: 0.010000  loss: 0.0935 (0.0964)  loss_classifier: 0.0506 (0.0724)  loss_box_reg: 0.0175 (0.0170)  loss_objectness: 0.0001 (0.0014)  loss_rpn_box_reg: 0.0056 (0.0057)  time: 0.1986  data: 0.0071  max mem: 1053\n",
      "Epoch: [1]  [ 7000/26007]  eta: 1:02:59  lr: 0.010000  loss: 0.0652 (0.0964)  loss_classifier: 0.0423 (0.0723)  loss_box_reg: 0.0160 (0.0170)  loss_objectness: 0.0001 (0.0014)  loss_rpn_box_reg: 0.0033 (0.0057)  time: 0.1986  data: 0.0077  max mem: 1053\n",
      "Epoch: [1]  [ 8000/26007]  eta: 0:59:40  lr: 0.010000  loss: 0.0812 (0.0972)  loss_classifier: 0.0599 (0.0730)  loss_box_reg: 0.0097 (0.0170)  loss_objectness: 0.0004 (0.0014)  loss_rpn_box_reg: 0.0045 (0.0057)  time: 0.1991  data: 0.0075  max mem: 1053\n",
      "Epoch: [1]  [ 9000/26007]  eta: 0:56:21  lr: 0.010000  loss: 0.0659 (0.0969)  loss_classifier: 0.0550 (0.0725)  loss_box_reg: 0.0090 (0.0171)  loss_objectness: 0.0004 (0.0015)  loss_rpn_box_reg: 0.0031 (0.0058)  time: 0.2001  data: 0.0076  max mem: 1053\n",
      "Epoch: [1]  [10000/26007]  eta: 0:53:02  lr: 0.010000  loss: 0.0784 (0.0970)  loss_classifier: 0.0646 (0.0726)  loss_box_reg: 0.0115 (0.0171)  loss_objectness: 0.0002 (0.0015)  loss_rpn_box_reg: 0.0031 (0.0058)  time: 0.1981  data: 0.0076  max mem: 1053\n",
      "Epoch: [1]  [11000/26007]  eta: 0:49:44  lr: 0.010000  loss: 0.0627 (0.0972)  loss_classifier: 0.0415 (0.0728)  loss_box_reg: 0.0113 (0.0171)  loss_objectness: 0.0001 (0.0015)  loss_rpn_box_reg: 0.0033 (0.0058)  time: 0.1974  data: 0.0075  max mem: 1053\n",
      "Epoch: [1]  [12000/26007]  eta: 0:46:25  lr: 0.010000  loss: 0.0843 (0.0973)  loss_classifier: 0.0708 (0.0729)  loss_box_reg: 0.0164 (0.0171)  loss_objectness: 0.0002 (0.0015)  loss_rpn_box_reg: 0.0039 (0.0058)  time: 0.1998  data: 0.0086  max mem: 1053\n",
      "Epoch: [1]  [13000/26007]  eta: 0:43:06  lr: 0.010000  loss: 0.0742 (0.0976)  loss_classifier: 0.0607 (0.0731)  loss_box_reg: 0.0063 (0.0172)  loss_objectness: 0.0002 (0.0015)  loss_rpn_box_reg: 0.0040 (0.0058)  time: 0.2002  data: 0.0080  max mem: 1053\n",
      "Epoch: [1]  [14000/26007]  eta: 0:39:47  lr: 0.010000  loss: 0.0536 (0.0974)  loss_classifier: 0.0408 (0.0729)  loss_box_reg: 0.0084 (0.0172)  loss_objectness: 0.0001 (0.0015)  loss_rpn_box_reg: 0.0043 (0.0058)  time: 0.2001  data: 0.0083  max mem: 1053\n",
      "Epoch: [1]  [15000/26007]  eta: 0:36:28  lr: 0.010000  loss: 0.0742 (0.0978)  loss_classifier: 0.0636 (0.0732)  loss_box_reg: 0.0082 (0.0172)  loss_objectness: 0.0003 (0.0015)  loss_rpn_box_reg: 0.0037 (0.0058)  time: 0.1981  data: 0.0075  max mem: 1053\n"
     ]
    },
    {
     "name": "stdout",
     "output_type": "stream",
     "text": [
      "Epoch: [1]  [16000/26007]  eta: 0:33:09  lr: 0.010000  loss: 0.0723 (0.0974)  loss_classifier: 0.0530 (0.0729)  loss_box_reg: 0.0111 (0.0172)  loss_objectness: 0.0002 (0.0015)  loss_rpn_box_reg: 0.0060 (0.0058)  time: 0.1986  data: 0.0076  max mem: 1053\n",
      "Epoch: [1]  [17000/26007]  eta: 0:29:51  lr: 0.010000  loss: 0.0715 (0.0975)  loss_classifier: 0.0504 (0.0728)  loss_box_reg: 0.0094 (0.0173)  loss_objectness: 0.0004 (0.0015)  loss_rpn_box_reg: 0.0042 (0.0058)  time: 0.1994  data: 0.0073  max mem: 1053\n",
      "Epoch: [1]  [18000/26007]  eta: 0:26:32  lr: 0.010000  loss: 0.0722 (0.0977)  loss_classifier: 0.0383 (0.0730)  loss_box_reg: 0.0126 (0.0173)  loss_objectness: 0.0003 (0.0015)  loss_rpn_box_reg: 0.0044 (0.0058)  time: 0.2000  data: 0.0075  max mem: 1053\n",
      "Epoch: [1]  [19000/26007]  eta: 0:23:13  lr: 0.010000  loss: 0.0748 (0.0975)  loss_classifier: 0.0525 (0.0729)  loss_box_reg: 0.0136 (0.0173)  loss_objectness: 0.0002 (0.0015)  loss_rpn_box_reg: 0.0035 (0.0058)  time: 0.1990  data: 0.0077  max mem: 1053\n",
      "Epoch: [1]  [20000/26007]  eta: 0:19:54  lr: 0.010000  loss: 0.0813 (0.0976)  loss_classifier: 0.0570 (0.0729)  loss_box_reg: 0.0072 (0.0173)  loss_objectness: 0.0003 (0.0015)  loss_rpn_box_reg: 0.0030 (0.0058)  time: 0.1999  data: 0.0071  max mem: 1053\n",
      "Epoch: [1]  [21000/26007]  eta: 0:16:35  lr: 0.010000  loss: 0.0734 (0.0978)  loss_classifier: 0.0469 (0.0731)  loss_box_reg: 0.0102 (0.0174)  loss_objectness: 0.0004 (0.0015)  loss_rpn_box_reg: 0.0037 (0.0058)  time: 0.1983  data: 0.0074  max mem: 1053\n",
      "Epoch: [1]  [22000/26007]  eta: 0:13:16  lr: 0.010000  loss: 0.0947 (0.0978)  loss_classifier: 0.0732 (0.0731)  loss_box_reg: 0.0091 (0.0174)  loss_objectness: 0.0001 (0.0015)  loss_rpn_box_reg: 0.0033 (0.0058)  time: 0.1980  data: 0.0071  max mem: 1053\n",
      "Epoch: [1]  [23000/26007]  eta: 0:09:57  lr: 0.010000  loss: 0.0657 (0.0976)  loss_classifier: 0.0544 (0.0729)  loss_box_reg: 0.0124 (0.0173)  loss_objectness: 0.0001 (0.0015)  loss_rpn_box_reg: 0.0028 (0.0058)  time: 0.1986  data: 0.0074  max mem: 1053\n",
      "Epoch: [1]  [24000/26007]  eta: 0:06:39  lr: 0.010000  loss: 0.0475 (0.0977)  loss_classifier: 0.0345 (0.0730)  loss_box_reg: 0.0070 (0.0173)  loss_objectness: 0.0001 (0.0015)  loss_rpn_box_reg: 0.0035 (0.0058)  time: 0.2000  data: 0.0081  max mem: 1053\n",
      "Epoch: [1]  [25000/26007]  eta: 0:03:20  lr: 0.010000  loss: 0.0754 (0.0979)  loss_classifier: 0.0478 (0.0732)  loss_box_reg: 0.0124 (0.0174)  loss_objectness: 0.0005 (0.0016)  loss_rpn_box_reg: 0.0039 (0.0058)  time: 0.2000  data: 0.0082  max mem: 1053\n",
      "Epoch: [1]  [26000/26007]  eta: 0:00:01  lr: 0.010000  loss: 0.0805 (0.0981)  loss_classifier: 0.0635 (0.0733)  loss_box_reg: 0.0093 (0.0174)  loss_objectness: 0.0002 (0.0016)  loss_rpn_box_reg: 0.0052 (0.0058)  time: 0.1990  data: 0.0077  max mem: 1053\n",
      "Epoch: [1]  [26006/26007]  eta: 0:00:00  lr: 0.010000  loss: 0.0865 (0.0981)  loss_classifier: 0.0635 (0.0733)  loss_box_reg: 0.0108 (0.0174)  loss_objectness: 0.0002 (0.0016)  loss_rpn_box_reg: 0.0052 (0.0058)  time: 0.1998  data: 0.0080  max mem: 1053\n",
      "Epoch: [1] Total time: 1:26:11 (0.1989 s / it)\n",
      "creating index...\n",
      "index created!\n",
      "Test:  [   0/2890]  eta: 0:05:35  model_time: 0.0893 (0.0893)  evaluator_time: 0.0030 (0.0030)  time: 0.1162  data: 0.0080  max mem: 1053\n",
      "Test:  [ 100/2890]  eta: 0:04:24  model_time: 0.0788 (0.0801)  evaluator_time: 0.0040 (0.0039)  time: 0.0934  data: 0.0091  max mem: 1053\n",
      "Test:  [ 200/2890]  eta: 0:04:13  model_time: 0.0788 (0.0800)  evaluator_time: 0.0030 (0.0039)  time: 0.0948  data: 0.0087  max mem: 1053\n",
      "Test:  [ 300/2890]  eta: 0:04:04  model_time: 0.0798 (0.0801)  evaluator_time: 0.0040 (0.0038)  time: 0.0941  data: 0.0093  max mem: 1053\n",
      "Test:  [ 400/2890]  eta: 0:03:55  model_time: 0.0818 (0.0804)  evaluator_time: 0.0040 (0.0039)  time: 0.0975  data: 0.0095  max mem: 1053\n",
      "Test:  [ 500/2890]  eta: 0:03:47  model_time: 0.0818 (0.0810)  evaluator_time: 0.0040 (0.0039)  time: 0.0976  data: 0.0091  max mem: 1053\n",
      "Test:  [ 600/2890]  eta: 0:03:39  model_time: 0.0838 (0.0814)  evaluator_time: 0.0040 (0.0038)  time: 0.0993  data: 0.0095  max mem: 1053\n",
      "Test:  [ 700/2890]  eta: 0:03:30  model_time: 0.0828 (0.0817)  evaluator_time: 0.0030 (0.0039)  time: 0.0970  data: 0.0092  max mem: 1053\n",
      "Test:  [ 800/2890]  eta: 0:03:21  model_time: 0.0818 (0.0819)  evaluator_time: 0.0040 (0.0038)  time: 0.0984  data: 0.0104  max mem: 1053\n",
      "Test:  [ 900/2890]  eta: 0:03:11  model_time: 0.0828 (0.0820)  evaluator_time: 0.0040 (0.0039)  time: 0.0996  data: 0.0095  max mem: 1053\n",
      "Test:  [1000/2890]  eta: 0:03:02  model_time: 0.0828 (0.0822)  evaluator_time: 0.0040 (0.0039)  time: 0.0976  data: 0.0094  max mem: 1053\n",
      "Test:  [1100/2890]  eta: 0:02:52  model_time: 0.0838 (0.0823)  evaluator_time: 0.0040 (0.0038)  time: 0.0977  data: 0.0091  max mem: 1053\n",
      "Test:  [1200/2890]  eta: 0:02:43  model_time: 0.0838 (0.0824)  evaluator_time: 0.0040 (0.0039)  time: 0.0980  data: 0.0096  max mem: 1053\n",
      "Test:  [1300/2890]  eta: 0:02:33  model_time: 0.0819 (0.0825)  evaluator_time: 0.0040 (0.0039)  time: 0.0967  data: 0.0095  max mem: 1053\n",
      "Test:  [1400/2890]  eta: 0:02:24  model_time: 0.0828 (0.0826)  evaluator_time: 0.0040 (0.0039)  time: 0.0969  data: 0.0093  max mem: 1053\n",
      "Test:  [1500/2890]  eta: 0:02:14  model_time: 0.0827 (0.0826)  evaluator_time: 0.0030 (0.0039)  time: 0.0973  data: 0.0094  max mem: 1053\n",
      "Test:  [1600/2890]  eta: 0:02:05  model_time: 0.0828 (0.0826)  evaluator_time: 0.0040 (0.0039)  time: 0.0985  data: 0.0095  max mem: 1053\n",
      "Test:  [1700/2890]  eta: 0:01:55  model_time: 0.0828 (0.0826)  evaluator_time: 0.0040 (0.0039)  time: 0.0968  data: 0.0093  max mem: 1053\n",
      "Test:  [1800/2890]  eta: 0:01:45  model_time: 0.0828 (0.0827)  evaluator_time: 0.0040 (0.0039)  time: 0.0964  data: 0.0089  max mem: 1053\n",
      "Test:  [1900/2890]  eta: 0:01:36  model_time: 0.0828 (0.0827)  evaluator_time: 0.0040 (0.0039)  time: 0.0974  data: 0.0091  max mem: 1053\n",
      "Test:  [2000/2890]  eta: 0:01:26  model_time: 0.0818 (0.0828)  evaluator_time: 0.0040 (0.0039)  time: 0.0980  data: 0.0094  max mem: 1053\n",
      "Test:  [2100/2890]  eta: 0:01:16  model_time: 0.0837 (0.0828)  evaluator_time: 0.0040 (0.0039)  time: 0.0986  data: 0.0096  max mem: 1053\n",
      "Test:  [2200/2890]  eta: 0:01:07  model_time: 0.0828 (0.0829)  evaluator_time: 0.0040 (0.0039)  time: 0.0971  data: 0.0092  max mem: 1053\n",
      "Test:  [2300/2890]  eta: 0:00:57  model_time: 0.0838 (0.0829)  evaluator_time: 0.0040 (0.0039)  time: 0.0975  data: 0.0089  max mem: 1053\n",
      "Test:  [2400/2890]  eta: 0:00:47  model_time: 0.0828 (0.0829)  evaluator_time: 0.0040 (0.0039)  time: 0.1020  data: 0.0099  max mem: 1053\n",
      "Test:  [2500/2890]  eta: 0:00:37  model_time: 0.0828 (0.0829)  evaluator_time: 0.0040 (0.0039)  time: 0.0972  data: 0.0089  max mem: 1053\n",
      "Test:  [2600/2890]  eta: 0:00:28  model_time: 0.0818 (0.0830)  evaluator_time: 0.0040 (0.0039)  time: 0.0967  data: 0.0087  max mem: 1053\n",
      "Test:  [2700/2890]  eta: 0:00:18  model_time: 0.0818 (0.0829)  evaluator_time: 0.0040 (0.0039)  time: 0.0963  data: 0.0090  max mem: 1053\n",
      "Test:  [2800/2890]  eta: 0:00:08  model_time: 0.0828 (0.0830)  evaluator_time: 0.0040 (0.0039)  time: 0.0978  data: 0.0091  max mem: 1053\n",
      "Test:  [2889/2890]  eta: 0:00:00  model_time: 0.0838 (0.0830)  evaluator_time: 0.0040 (0.0039)  time: 0.0989  data: 0.0097  max mem: 1053\n",
      "Test: Total time: 0:04:41 (0.0973 s / it)\n",
      "Averaged stats: model_time: 0.0838 (0.0830)  evaluator_time: 0.0040 (0.0039)\n",
      "Accumulating evaluation results...\n",
      "DONE (t=2.37s).\n",
      "IoU metric: bbox\n",
      " Average Precision  (AP) @[ IoU=0.50:0.95 | area=   all | maxDets=100 ] = 0.350\n",
      " Average Precision  (AP) @[ IoU=0.50      | area=   all | maxDets=100 ] = 0.539\n",
      " Average Precision  (AP) @[ IoU=0.75      | area=   all | maxDets=100 ] = 0.396\n",
      " Average Precision  (AP) @[ IoU=0.50:0.95 | area= small | maxDets=100 ] = -1.000\n",
      " Average Precision  (AP) @[ IoU=0.50:0.95 | area=medium | maxDets=100 ] = 0.100\n",
      " Average Precision  (AP) @[ IoU=0.50:0.95 | area= large | maxDets=100 ] = 0.351\n",
      " Average Recall     (AR) @[ IoU=0.50:0.95 | area=   all | maxDets=  1 ] = 0.570\n",
      " Average Recall     (AR) @[ IoU=0.50:0.95 | area=   all | maxDets= 10 ] = 0.576\n",
      " Average Recall     (AR) @[ IoU=0.50:0.95 | area=   all | maxDets=100 ] = 0.576\n",
      " Average Recall     (AR) @[ IoU=0.50:0.95 | area= small | maxDets=100 ] = -1.000\n",
      " Average Recall     (AR) @[ IoU=0.50:0.95 | area=medium | maxDets=100 ] = 0.176\n",
      " Average Recall     (AR) @[ IoU=0.50:0.95 | area= large | maxDets=100 ] = 0.577\n"
     ]
    },
    {
     "name": "stdout",
     "output_type": "stream",
     "text": [
      "Epoch: [2]  [    0/26007]  eta: 1:34:14  lr: 0.010000  loss: 0.1074 (0.1074)  loss_classifier: 0.0961 (0.0961)  loss_box_reg: 0.0077 (0.0077)  loss_objectness: 0.0001 (0.0001)  loss_rpn_box_reg: 0.0035 (0.0035)  time: 0.2174  data: 0.0100  max mem: 1053\n",
      "Epoch: [2]  [ 1000/26007]  eta: 1:22:30  lr: 0.010000  loss: 0.0522 (0.0830)  loss_classifier: 0.0333 (0.0607)  loss_box_reg: 0.0117 (0.0156)  loss_objectness: 0.0000 (0.0012)  loss_rpn_box_reg: 0.0039 (0.0055)  time: 0.1970  data: 0.0062  max mem: 1053\n",
      "Epoch: [2]  [ 2000/26007]  eta: 1:19:12  lr: 0.010000  loss: 0.0743 (0.0830)  loss_classifier: 0.0445 (0.0609)  loss_box_reg: 0.0090 (0.0153)  loss_objectness: 0.0002 (0.0012)  loss_rpn_box_reg: 0.0040 (0.0055)  time: 0.1976  data: 0.0074  max mem: 1053\n",
      "Epoch: [2]  [ 3000/26007]  eta: 1:15:54  lr: 0.010000  loss: 0.0628 (0.0847)  loss_classifier: 0.0376 (0.0626)  loss_box_reg: 0.0092 (0.0154)  loss_objectness: 0.0001 (0.0012)  loss_rpn_box_reg: 0.0034 (0.0055)  time: 0.1971  data: 0.0072  max mem: 1053\n",
      "Epoch: [2]  [ 4000/26007]  eta: 1:12:38  lr: 0.010000  loss: 0.1002 (0.0865)  loss_classifier: 0.0734 (0.0638)  loss_box_reg: 0.0085 (0.0158)  loss_objectness: 0.0002 (0.0013)  loss_rpn_box_reg: 0.0054 (0.0056)  time: 0.1983  data: 0.0071  max mem: 1053\n",
      "Epoch: [2]  [ 5000/26007]  eta: 1:09:20  lr: 0.010000  loss: 0.0623 (0.0872)  loss_classifier: 0.0424 (0.0645)  loss_box_reg: 0.0103 (0.0159)  loss_objectness: 0.0002 (0.0012)  loss_rpn_box_reg: 0.0058 (0.0056)  time: 0.2001  data: 0.0082  max mem: 1053\n",
      "Epoch: [2]  [ 6000/26007]  eta: 1:06:02  lr: 0.010000  loss: 0.0859 (0.0875)  loss_classifier: 0.0583 (0.0647)  loss_box_reg: 0.0115 (0.0158)  loss_objectness: 0.0002 (0.0013)  loss_rpn_box_reg: 0.0049 (0.0057)  time: 0.1969  data: 0.0066  max mem: 1053\n",
      "Epoch: [2]  [ 7000/26007]  eta: 1:02:43  lr: 0.010000  loss: 0.0515 (0.0883)  loss_classifier: 0.0318 (0.0652)  loss_box_reg: 0.0085 (0.0161)  loss_objectness: 0.0002 (0.0014)  loss_rpn_box_reg: 0.0045 (0.0057)  time: 0.1974  data: 0.0065  max mem: 1053\n",
      "Epoch: [2]  [ 8000/26007]  eta: 0:59:25  lr: 0.010000  loss: 0.0733 (0.0882)  loss_classifier: 0.0537 (0.0649)  loss_box_reg: 0.0094 (0.0162)  loss_objectness: 0.0001 (0.0014)  loss_rpn_box_reg: 0.0032 (0.0057)  time: 0.1977  data: 0.0063  max mem: 1053\n",
      "Epoch: [2]  [ 9000/26007]  eta: 0:56:08  lr: 0.010000  loss: 0.0622 (0.0878)  loss_classifier: 0.0437 (0.0646)  loss_box_reg: 0.0104 (0.0162)  loss_objectness: 0.0001 (0.0014)  loss_rpn_box_reg: 0.0040 (0.0057)  time: 0.1976  data: 0.0064  max mem: 1053\n",
      "Epoch: [2]  [10000/26007]  eta: 0:52:50  lr: 0.010000  loss: 0.0546 (0.0877)  loss_classifier: 0.0273 (0.0646)  loss_box_reg: 0.0107 (0.0161)  loss_objectness: 0.0001 (0.0014)  loss_rpn_box_reg: 0.0037 (0.0057)  time: 0.1973  data: 0.0066  max mem: 1053\n",
      "Epoch: [2]  [11000/26007]  eta: 0:49:32  lr: 0.010000  loss: 0.0716 (0.0881)  loss_classifier: 0.0453 (0.0648)  loss_box_reg: 0.0129 (0.0162)  loss_objectness: 0.0002 (0.0014)  loss_rpn_box_reg: 0.0047 (0.0057)  time: 0.1981  data: 0.0071  max mem: 1053\n",
      "Epoch: [2]  [12000/26007]  eta: 0:46:14  lr: 0.010000  loss: 0.0819 (0.0882)  loss_classifier: 0.0640 (0.0650)  loss_box_reg: 0.0126 (0.0162)  loss_objectness: 0.0001 (0.0014)  loss_rpn_box_reg: 0.0035 (0.0057)  time: 0.2002  data: 0.0078  max mem: 1053\n",
      "Epoch: [2]  [13000/26007]  eta: 0:42:56  lr: 0.010000  loss: 0.0766 (0.0883)  loss_classifier: 0.0490 (0.0650)  loss_box_reg: 0.0086 (0.0162)  loss_objectness: 0.0002 (0.0014)  loss_rpn_box_reg: 0.0054 (0.0057)  time: 0.1999  data: 0.0083  max mem: 1053\n",
      "Epoch: [2]  [14000/26007]  eta: 0:39:38  lr: 0.010000  loss: 0.0485 (0.0885)  loss_classifier: 0.0300 (0.0652)  loss_box_reg: 0.0070 (0.0162)  loss_objectness: 0.0003 (0.0014)  loss_rpn_box_reg: 0.0046 (0.0057)  time: 0.1988  data: 0.0076  max mem: 1053\n",
      "Epoch: [2]  [15000/26007]  eta: 0:36:20  lr: 0.010000  loss: 0.0691 (0.0886)  loss_classifier: 0.0405 (0.0653)  loss_box_reg: 0.0127 (0.0162)  loss_objectness: 0.0001 (0.0014)  loss_rpn_box_reg: 0.0035 (0.0057)  time: 0.1994  data: 0.0067  max mem: 1053\n",
      "Epoch: [2]  [16000/26007]  eta: 0:33:02  lr: 0.010000  loss: 0.0625 (0.0887)  loss_classifier: 0.0362 (0.0654)  loss_box_reg: 0.0122 (0.0162)  loss_objectness: 0.0002 (0.0014)  loss_rpn_box_reg: 0.0046 (0.0057)  time: 0.1971  data: 0.0062  max mem: 1053\n",
      "Epoch: [2]  [17000/26007]  eta: 0:29:44  lr: 0.010000  loss: 0.0585 (0.0889)  loss_classifier: 0.0388 (0.0655)  loss_box_reg: 0.0106 (0.0163)  loss_objectness: 0.0001 (0.0014)  loss_rpn_box_reg: 0.0035 (0.0057)  time: 0.1970  data: 0.0063  max mem: 1053\n",
      "Epoch: [2]  [18000/26007]  eta: 0:26:26  lr: 0.010000  loss: 0.0614 (0.0890)  loss_classifier: 0.0331 (0.0656)  loss_box_reg: 0.0127 (0.0163)  loss_objectness: 0.0003 (0.0014)  loss_rpn_box_reg: 0.0028 (0.0057)  time: 0.1976  data: 0.0067  max mem: 1053\n",
      "Epoch: [2]  [19000/26007]  eta: 0:23:08  lr: 0.010000  loss: 0.0554 (0.0888)  loss_classifier: 0.0408 (0.0654)  loss_box_reg: 0.0081 (0.0164)  loss_objectness: 0.0001 (0.0014)  loss_rpn_box_reg: 0.0042 (0.0057)  time: 0.1989  data: 0.0074  max mem: 1053\n",
      "Epoch: [2]  [20000/26007]  eta: 0:19:50  lr: 0.010000  loss: 0.0886 (0.0888)  loss_classifier: 0.0769 (0.0654)  loss_box_reg: 0.0120 (0.0163)  loss_objectness: 0.0002 (0.0014)  loss_rpn_box_reg: 0.0041 (0.0057)  time: 0.1995  data: 0.0069  max mem: 1053\n",
      "Epoch: [2]  [21000/26007]  eta: 0:16:32  lr: 0.010000  loss: 0.0437 (0.0886)  loss_classifier: 0.0373 (0.0653)  loss_box_reg: 0.0089 (0.0162)  loss_objectness: 0.0002 (0.0014)  loss_rpn_box_reg: 0.0032 (0.0057)  time: 0.1993  data: 0.0063  max mem: 1053\n",
      "Epoch: [2]  [22000/26007]  eta: 0:13:13  lr: 0.010000  loss: 0.0668 (0.0886)  loss_classifier: 0.0572 (0.0653)  loss_box_reg: 0.0111 (0.0162)  loss_objectness: 0.0003 (0.0014)  loss_rpn_box_reg: 0.0043 (0.0057)  time: 0.1976  data: 0.0067  max mem: 1053\n",
      "Epoch: [2]  [23000/26007]  eta: 0:09:55  lr: 0.010000  loss: 0.0657 (0.0887)  loss_classifier: 0.0502 (0.0654)  loss_box_reg: 0.0098 (0.0163)  loss_objectness: 0.0001 (0.0014)  loss_rpn_box_reg: 0.0033 (0.0057)  time: 0.1975  data: 0.0069  max mem: 1053\n",
      "Epoch: [2]  [24000/26007]  eta: 0:06:37  lr: 0.010000  loss: 0.0777 (0.0889)  loss_classifier: 0.0642 (0.0654)  loss_box_reg: 0.0077 (0.0163)  loss_objectness: 0.0002 (0.0014)  loss_rpn_box_reg: 0.0023 (0.0057)  time: 0.1991  data: 0.0066  max mem: 1053\n",
      "Epoch: [2]  [25000/26007]  eta: 0:03:19  lr: 0.010000  loss: 0.0607 (0.0886)  loss_classifier: 0.0384 (0.0652)  loss_box_reg: 0.0113 (0.0163)  loss_objectness: 0.0001 (0.0014)  loss_rpn_box_reg: 0.0047 (0.0057)  time: 0.1974  data: 0.0066  max mem: 1053\n",
      "Epoch: [2]  [26000/26007]  eta: 0:00:01  lr: 0.010000  loss: 0.0713 (0.0888)  loss_classifier: 0.0246 (0.0654)  loss_box_reg: 0.0113 (0.0163)  loss_objectness: 0.0003 (0.0014)  loss_rpn_box_reg: 0.0037 (0.0057)  time: 0.1966  data: 0.0060  max mem: 1053\n",
      "Epoch: [2]  [26006/26007]  eta: 0:00:00  lr: 0.010000  loss: 0.0807 (0.0888)  loss_classifier: 0.0662 (0.0654)  loss_box_reg: 0.0113 (0.0163)  loss_objectness: 0.0001 (0.0014)  loss_rpn_box_reg: 0.0040 (0.0057)  time: 0.1974  data: 0.0062  max mem: 1053\n",
      "Epoch: [2] Total time: 1:25:52 (0.1981 s / it)\n",
      "creating index...\n",
      "index created!\n",
      "Test:  [   0/2890]  eta: 0:05:51  model_time: 0.0918 (0.0918)  evaluator_time: 0.0040 (0.0040)  time: 0.1217  data: 0.0100  max mem: 1053\n",
      "Test:  [ 100/2890]  eta: 0:04:22  model_time: 0.0798 (0.0802)  evaluator_time: 0.0030 (0.0035)  time: 0.0945  data: 0.0088  max mem: 1053\n",
      "Test:  [ 200/2890]  eta: 0:04:13  model_time: 0.0788 (0.0803)  evaluator_time: 0.0040 (0.0036)  time: 0.0935  data: 0.0091  max mem: 1053\n",
      "Test:  [ 300/2890]  eta: 0:04:04  model_time: 0.0798 (0.0802)  evaluator_time: 0.0030 (0.0036)  time: 0.0944  data: 0.0095  max mem: 1053\n",
      "Test:  [ 400/2890]  eta: 0:03:55  model_time: 0.0818 (0.0805)  evaluator_time: 0.0030 (0.0036)  time: 0.0955  data: 0.0088  max mem: 1053\n",
      "Test:  [ 500/2890]  eta: 0:03:46  model_time: 0.0818 (0.0809)  evaluator_time: 0.0030 (0.0036)  time: 0.0961  data: 0.0095  max mem: 1053\n",
      "Test:  [ 600/2890]  eta: 0:03:38  model_time: 0.0828 (0.0813)  evaluator_time: 0.0040 (0.0037)  time: 0.0980  data: 0.0095  max mem: 1053\n",
      "Test:  [ 700/2890]  eta: 0:03:29  model_time: 0.0828 (0.0817)  evaluator_time: 0.0040 (0.0037)  time: 0.0971  data: 0.0088  max mem: 1053\n"
     ]
    },
    {
     "name": "stdout",
     "output_type": "stream",
     "text": [
      "Test:  [ 800/2890]  eta: 0:03:20  model_time: 0.0828 (0.0819)  evaluator_time: 0.0040 (0.0037)  time: 0.0991  data: 0.0093  max mem: 1053\n",
      "Test:  [ 900/2890]  eta: 0:03:11  model_time: 0.0828 (0.0821)  evaluator_time: 0.0040 (0.0037)  time: 0.0974  data: 0.0092  max mem: 1053\n",
      "Test:  [1000/2890]  eta: 0:03:02  model_time: 0.0828 (0.0822)  evaluator_time: 0.0040 (0.0037)  time: 0.0965  data: 0.0092  max mem: 1053\n",
      "Test:  [1100/2890]  eta: 0:02:52  model_time: 0.0838 (0.0824)  evaluator_time: 0.0040 (0.0037)  time: 0.1006  data: 0.0093  max mem: 1053\n",
      "Test:  [1200/2890]  eta: 0:02:43  model_time: 0.0828 (0.0825)  evaluator_time: 0.0030 (0.0037)  time: 0.0976  data: 0.0088  max mem: 1053\n",
      "Test:  [1300/2890]  eta: 0:02:33  model_time: 0.0828 (0.0825)  evaluator_time: 0.0030 (0.0037)  time: 0.0972  data: 0.0092  max mem: 1053\n",
      "Test:  [1400/2890]  eta: 0:02:24  model_time: 0.0838 (0.0827)  evaluator_time: 0.0040 (0.0037)  time: 0.0980  data: 0.0092  max mem: 1053\n",
      "Test:  [1500/2890]  eta: 0:02:14  model_time: 0.0828 (0.0827)  evaluator_time: 0.0040 (0.0037)  time: 0.0981  data: 0.0096  max mem: 1053\n",
      "Test:  [1600/2890]  eta: 0:02:04  model_time: 0.0828 (0.0827)  evaluator_time: 0.0040 (0.0037)  time: 0.0993  data: 0.0097  max mem: 1053\n",
      "Test:  [1700/2890]  eta: 0:01:55  model_time: 0.0828 (0.0828)  evaluator_time: 0.0040 (0.0037)  time: 0.0984  data: 0.0101  max mem: 1053\n",
      "Test:  [1800/2890]  eta: 0:01:45  model_time: 0.0838 (0.0829)  evaluator_time: 0.0040 (0.0037)  time: 0.0983  data: 0.0092  max mem: 1053\n",
      "Test:  [1900/2890]  eta: 0:01:36  model_time: 0.0828 (0.0829)  evaluator_time: 0.0040 (0.0037)  time: 0.0977  data: 0.0096  max mem: 1053\n",
      "Test:  [2000/2890]  eta: 0:01:26  model_time: 0.0828 (0.0829)  evaluator_time: 0.0040 (0.0037)  time: 0.0972  data: 0.0094  max mem: 1053\n",
      "Test:  [2100/2890]  eta: 0:01:16  model_time: 0.0838 (0.0829)  evaluator_time: 0.0035 (0.0037)  time: 0.0981  data: 0.0096  max mem: 1053\n",
      "Test:  [2200/2890]  eta: 0:01:06  model_time: 0.0828 (0.0830)  evaluator_time: 0.0040 (0.0037)  time: 0.0978  data: 0.0092  max mem: 1053\n",
      "Test:  [2300/2890]  eta: 0:00:57  model_time: 0.0828 (0.0830)  evaluator_time: 0.0040 (0.0037)  time: 0.1011  data: 0.0094  max mem: 1053\n",
      "Test:  [2400/2890]  eta: 0:00:47  model_time: 0.0838 (0.0830)  evaluator_time: 0.0040 (0.0037)  time: 0.0982  data: 0.0090  max mem: 1053\n",
      "Test:  [2500/2890]  eta: 0:00:37  model_time: 0.0828 (0.0831)  evaluator_time: 0.0040 (0.0037)  time: 0.0984  data: 0.0096  max mem: 1053\n",
      "Test:  [2600/2890]  eta: 0:00:28  model_time: 0.0838 (0.0831)  evaluator_time: 0.0030 (0.0037)  time: 0.0984  data: 0.0094  max mem: 1053\n",
      "Test:  [2700/2890]  eta: 0:00:18  model_time: 0.0828 (0.0831)  evaluator_time: 0.0030 (0.0037)  time: 0.0976  data: 0.0091  max mem: 1053\n",
      "Test:  [2800/2890]  eta: 0:00:08  model_time: 0.0828 (0.0831)  evaluator_time: 0.0040 (0.0037)  time: 0.0975  data: 0.0090  max mem: 1053\n",
      "Test:  [2889/2890]  eta: 0:00:00  model_time: 0.0828 (0.0831)  evaluator_time: 0.0040 (0.0037)  time: 0.0983  data: 0.0094  max mem: 1053\n",
      "Test: Total time: 0:04:41 (0.0973 s / it)\n",
      "Averaged stats: model_time: 0.0828 (0.0831)  evaluator_time: 0.0040 (0.0037)\n",
      "Accumulating evaluation results...\n",
      "DONE (t=2.29s).\n",
      "IoU metric: bbox\n",
      " Average Precision  (AP) @[ IoU=0.50:0.95 | area=   all | maxDets=100 ] = 0.406\n",
      " Average Precision  (AP) @[ IoU=0.50      | area=   all | maxDets=100 ] = 0.613\n",
      " Average Precision  (AP) @[ IoU=0.75      | area=   all | maxDets=100 ] = 0.463\n",
      " Average Precision  (AP) @[ IoU=0.50:0.95 | area= small | maxDets=100 ] = -1.000\n",
      " Average Precision  (AP) @[ IoU=0.50:0.95 | area=medium | maxDets=100 ] = 0.096\n",
      " Average Precision  (AP) @[ IoU=0.50:0.95 | area= large | maxDets=100 ] = 0.408\n",
      " Average Recall     (AR) @[ IoU=0.50:0.95 | area=   all | maxDets=  1 ] = 0.608\n",
      " Average Recall     (AR) @[ IoU=0.50:0.95 | area=   all | maxDets= 10 ] = 0.614\n",
      " Average Recall     (AR) @[ IoU=0.50:0.95 | area=   all | maxDets=100 ] = 0.614\n",
      " Average Recall     (AR) @[ IoU=0.50:0.95 | area= small | maxDets=100 ] = -1.000\n",
      " Average Recall     (AR) @[ IoU=0.50:0.95 | area=medium | maxDets=100 ] = 0.146\n",
      " Average Recall     (AR) @[ IoU=0.50:0.95 | area= large | maxDets=100 ] = 0.616\n",
      "Epoch: [3]  [    0/26007]  eta: 1:31:11  lr: 0.010000  loss: 0.1615 (0.1615)  loss_classifier: 0.1514 (0.1514)  loss_box_reg: 0.0072 (0.0072)  loss_objectness: 0.0001 (0.0001)  loss_rpn_box_reg: 0.0028 (0.0028)  time: 0.2104  data: 0.0079  max mem: 1053\n",
      "Epoch: [3]  [ 1000/26007]  eta: 1:22:32  lr: 0.010000  loss: 0.0500 (0.0779)  loss_classifier: 0.0248 (0.0557)  loss_box_reg: 0.0085 (0.0155)  loss_objectness: 0.0001 (0.0013)  loss_rpn_box_reg: 0.0035 (0.0055)  time: 0.1972  data: 0.0064  max mem: 1053\n",
      "Epoch: [3]  [ 2000/26007]  eta: 1:19:16  lr: 0.010000  loss: 0.0604 (0.0774)  loss_classifier: 0.0382 (0.0559)  loss_box_reg: 0.0120 (0.0148)  loss_objectness: 0.0002 (0.0013)  loss_rpn_box_reg: 0.0045 (0.0055)  time: 0.1973  data: 0.0063  max mem: 1053\n",
      "Epoch: [3]  [ 3000/26007]  eta: 1:15:59  lr: 0.010000  loss: 0.0656 (0.0767)  loss_classifier: 0.0301 (0.0551)  loss_box_reg: 0.0125 (0.0148)  loss_objectness: 0.0002 (0.0013)  loss_rpn_box_reg: 0.0052 (0.0055)  time: 0.1985  data: 0.0064  max mem: 1053\n",
      "Epoch: [3]  [ 4000/26007]  eta: 1:12:41  lr: 0.010000  loss: 0.0401 (0.0774)  loss_classifier: 0.0195 (0.0557)  loss_box_reg: 0.0052 (0.0150)  loss_objectness: 0.0001 (0.0012)  loss_rpn_box_reg: 0.0035 (0.0055)  time: 0.1990  data: 0.0066  max mem: 1053\n",
      "Epoch: [3]  [ 5000/26007]  eta: 1:09:23  lr: 0.010000  loss: 0.0488 (0.0782)  loss_classifier: 0.0396 (0.0562)  loss_box_reg: 0.0069 (0.0152)  loss_objectness: 0.0001 (0.0012)  loss_rpn_box_reg: 0.0027 (0.0055)  time: 0.1982  data: 0.0067  max mem: 1053\n",
      "Epoch: [3]  [ 6000/26007]  eta: 1:06:04  lr: 0.010000  loss: 0.0428 (0.0785)  loss_classifier: 0.0221 (0.0566)  loss_box_reg: 0.0083 (0.0152)  loss_objectness: 0.0001 (0.0012)  loss_rpn_box_reg: 0.0038 (0.0055)  time: 0.1974  data: 0.0069  max mem: 1053\n",
      "Epoch: [3]  [ 7000/26007]  eta: 1:02:45  lr: 0.010000  loss: 0.0483 (0.0785)  loss_classifier: 0.0344 (0.0567)  loss_box_reg: 0.0077 (0.0151)  loss_objectness: 0.0001 (0.0011)  loss_rpn_box_reg: 0.0037 (0.0056)  time: 0.1980  data: 0.0067  max mem: 1053\n",
      "Epoch: [3]  [ 8000/26007]  eta: 0:59:27  lr: 0.010000  loss: 0.0731 (0.0789)  loss_classifier: 0.0570 (0.0569)  loss_box_reg: 0.0104 (0.0152)  loss_objectness: 0.0001 (0.0012)  loss_rpn_box_reg: 0.0052 (0.0056)  time: 0.2001  data: 0.0075  max mem: 1053\n",
      "Epoch: [3]  [ 9000/26007]  eta: 0:56:08  lr: 0.010000  loss: 0.0730 (0.0788)  loss_classifier: 0.0518 (0.0568)  loss_box_reg: 0.0095 (0.0152)  loss_objectness: 0.0002 (0.0012)  loss_rpn_box_reg: 0.0033 (0.0056)  time: 0.1976  data: 0.0064  max mem: 1053\n",
      "Epoch: [3]  [10000/26007]  eta: 0:52:50  lr: 0.010000  loss: 0.0476 (0.0785)  loss_classifier: 0.0382 (0.0566)  loss_box_reg: 0.0101 (0.0151)  loss_objectness: 0.0001 (0.0012)  loss_rpn_box_reg: 0.0031 (0.0056)  time: 0.1983  data: 0.0068  max mem: 1053\n",
      "Epoch: [3]  [11000/26007]  eta: 0:49:32  lr: 0.010000  loss: 0.0642 (0.0784)  loss_classifier: 0.0472 (0.0566)  loss_box_reg: 0.0104 (0.0150)  loss_objectness: 0.0003 (0.0012)  loss_rpn_box_reg: 0.0035 (0.0056)  time: 0.1992  data: 0.0075  max mem: 1053\n",
      "Epoch: [3]  [12000/26007]  eta: 0:46:14  lr: 0.010000  loss: 0.0451 (0.0785)  loss_classifier: 0.0291 (0.0567)  loss_box_reg: 0.0058 (0.0150)  loss_objectness: 0.0002 (0.0012)  loss_rpn_box_reg: 0.0040 (0.0056)  time: 0.1979  data: 0.0067  max mem: 1053\n",
      "Epoch: [3]  [13000/26007]  eta: 0:42:56  lr: 0.010000  loss: 0.0591 (0.0786)  loss_classifier: 0.0417 (0.0568)  loss_box_reg: 0.0090 (0.0150)  loss_objectness: 0.0001 (0.0012)  loss_rpn_box_reg: 0.0035 (0.0056)  time: 0.1979  data: 0.0068  max mem: 1053\n",
      "Epoch: [3]  [14000/26007]  eta: 0:39:38  lr: 0.010000  loss: 0.0553 (0.0790)  loss_classifier: 0.0323 (0.0571)  loss_box_reg: 0.0115 (0.0152)  loss_objectness: 0.0005 (0.0012)  loss_rpn_box_reg: 0.0030 (0.0056)  time: 0.1979  data: 0.0063  max mem: 1053\n",
      "Epoch: [3]  [15000/26007]  eta: 0:36:19  lr: 0.010000  loss: 0.0575 (0.0791)  loss_classifier: 0.0374 (0.0572)  loss_box_reg: 0.0068 (0.0151)  loss_objectness: 0.0001 (0.0012)  loss_rpn_box_reg: 0.0041 (0.0056)  time: 0.1981  data: 0.0069  max mem: 1053\n"
     ]
    },
    {
     "name": "stdout",
     "output_type": "stream",
     "text": [
      "Epoch: [3]  [16000/26007]  eta: 0:33:01  lr: 0.010000  loss: 0.0394 (0.0796)  loss_classifier: 0.0268 (0.0575)  loss_box_reg: 0.0070 (0.0153)  loss_objectness: 0.0001 (0.0012)  loss_rpn_box_reg: 0.0027 (0.0056)  time: 0.1973  data: 0.0068  max mem: 1053\n",
      "Epoch: [3]  [17000/26007]  eta: 0:29:43  lr: 0.010000  loss: 0.0501 (0.0797)  loss_classifier: 0.0305 (0.0576)  loss_box_reg: 0.0121 (0.0153)  loss_objectness: 0.0001 (0.0012)  loss_rpn_box_reg: 0.0041 (0.0056)  time: 0.1989  data: 0.0073  max mem: 1053\n",
      "Epoch: [3]  [18000/26007]  eta: 0:26:25  lr: 0.010000  loss: 0.0631 (0.0801)  loss_classifier: 0.0466 (0.0579)  loss_box_reg: 0.0088 (0.0154)  loss_objectness: 0.0002 (0.0012)  loss_rpn_box_reg: 0.0031 (0.0056)  time: 0.1986  data: 0.0073  max mem: 1053\n",
      "Epoch: [3]  [19000/26007]  eta: 0:23:07  lr: 0.010000  loss: 0.0503 (0.0806)  loss_classifier: 0.0349 (0.0583)  loss_box_reg: 0.0089 (0.0155)  loss_objectness: 0.0001 (0.0012)  loss_rpn_box_reg: 0.0044 (0.0056)  time: 0.1982  data: 0.0068  max mem: 1053\n",
      "Epoch: [3]  [20000/26007]  eta: 0:19:49  lr: 0.010000  loss: 0.0510 (0.0809)  loss_classifier: 0.0329 (0.0586)  loss_box_reg: 0.0114 (0.0155)  loss_objectness: 0.0002 (0.0012)  loss_rpn_box_reg: 0.0031 (0.0056)  time: 0.1967  data: 0.0065  max mem: 1053\n",
      "Epoch: [3]  [21000/26007]  eta: 0:16:31  lr: 0.010000  loss: 0.0609 (0.0809)  loss_classifier: 0.0401 (0.0586)  loss_box_reg: 0.0114 (0.0155)  loss_objectness: 0.0002 (0.0012)  loss_rpn_box_reg: 0.0039 (0.0056)  time: 0.1974  data: 0.0064  max mem: 1053\n",
      "Epoch: [3]  [22000/26007]  eta: 0:13:13  lr: 0.010000  loss: 0.0650 (0.0810)  loss_classifier: 0.0464 (0.0587)  loss_box_reg: 0.0087 (0.0155)  loss_objectness: 0.0002 (0.0012)  loss_rpn_box_reg: 0.0034 (0.0056)  time: 0.1978  data: 0.0066  max mem: 1053\n",
      "Epoch: [3]  [23000/26007]  eta: 0:09:55  lr: 0.010000  loss: 0.0621 (0.0812)  loss_classifier: 0.0448 (0.0589)  loss_box_reg: 0.0093 (0.0155)  loss_objectness: 0.0002 (0.0012)  loss_rpn_box_reg: 0.0033 (0.0056)  time: 0.1976  data: 0.0069  max mem: 1053\n",
      "Epoch: [3]  [24000/26007]  eta: 0:06:37  lr: 0.010000  loss: 0.0424 (0.0812)  loss_classifier: 0.0253 (0.0589)  loss_box_reg: 0.0097 (0.0155)  loss_objectness: 0.0003 (0.0012)  loss_rpn_box_reg: 0.0030 (0.0056)  time: 0.1986  data: 0.0072  max mem: 1053\n",
      "Epoch: [3]  [25000/26007]  eta: 0:03:19  lr: 0.010000  loss: 0.0527 (0.0811)  loss_classifier: 0.0313 (0.0588)  loss_box_reg: 0.0076 (0.0155)  loss_objectness: 0.0001 (0.0012)  loss_rpn_box_reg: 0.0033 (0.0056)  time: 0.1981  data: 0.0069  max mem: 1053\n",
      "Epoch: [3]  [26000/26007]  eta: 0:00:01  lr: 0.010000  loss: 0.0522 (0.0813)  loss_classifier: 0.0355 (0.0589)  loss_box_reg: 0.0103 (0.0155)  loss_objectness: 0.0002 (0.0012)  loss_rpn_box_reg: 0.0031 (0.0056)  time: 0.1984  data: 0.0067  max mem: 1053\n",
      "Epoch: [3]  [26006/26007]  eta: 0:00:00  lr: 0.010000  loss: 0.0583 (0.0813)  loss_classifier: 0.0456 (0.0589)  loss_box_reg: 0.0113 (0.0155)  loss_objectness: 0.0002 (0.0012)  loss_rpn_box_reg: 0.0033 (0.0056)  time: 0.1983  data: 0.0068  max mem: 1053\n",
      "Epoch: [3] Total time: 1:25:51 (0.1981 s / it)\n",
      "creating index...\n",
      "index created!\n",
      "Test:  [   0/2890]  eta: 0:05:31  model_time: 0.0908 (0.0908)  evaluator_time: 0.0020 (0.0020)  time: 0.1147  data: 0.0090  max mem: 1053\n",
      "Test:  [ 100/2890]  eta: 0:04:24  model_time: 0.0798 (0.0806)  evaluator_time: 0.0040 (0.0035)  time: 0.0959  data: 0.0097  max mem: 1053\n",
      "Test:  [ 200/2890]  eta: 0:04:14  model_time: 0.0798 (0.0806)  evaluator_time: 0.0030 (0.0035)  time: 0.0950  data: 0.0093  max mem: 1053\n",
      "Test:  [ 300/2890]  eta: 0:04:05  model_time: 0.0808 (0.0807)  evaluator_time: 0.0040 (0.0035)  time: 0.0960  data: 0.0098  max mem: 1053\n",
      "Test:  [ 400/2890]  eta: 0:03:56  model_time: 0.0808 (0.0809)  evaluator_time: 0.0030 (0.0035)  time: 0.0954  data: 0.0100  max mem: 1053\n",
      "Test:  [ 500/2890]  eta: 0:03:48  model_time: 0.0838 (0.0814)  evaluator_time: 0.0030 (0.0036)  time: 0.0978  data: 0.0090  max mem: 1053\n",
      "Test:  [ 600/2890]  eta: 0:03:39  model_time: 0.0828 (0.0817)  evaluator_time: 0.0040 (0.0036)  time: 0.0957  data: 0.0085  max mem: 1053\n",
      "Test:  [ 700/2890]  eta: 0:03:30  model_time: 0.0828 (0.0819)  evaluator_time: 0.0040 (0.0036)  time: 0.0975  data: 0.0091  max mem: 1053\n",
      "Test:  [ 800/2890]  eta: 0:03:20  model_time: 0.0828 (0.0821)  evaluator_time: 0.0040 (0.0036)  time: 0.0971  data: 0.0093  max mem: 1053\n",
      "Test:  [ 900/2890]  eta: 0:03:11  model_time: 0.0848 (0.0824)  evaluator_time: 0.0040 (0.0036)  time: 0.0999  data: 0.0089  max mem: 1053\n",
      "Test:  [1000/2890]  eta: 0:03:02  model_time: 0.0838 (0.0825)  evaluator_time: 0.0030 (0.0036)  time: 0.0993  data: 0.0090  max mem: 1053\n",
      "Test:  [1100/2890]  eta: 0:02:53  model_time: 0.0838 (0.0827)  evaluator_time: 0.0030 (0.0036)  time: 0.0984  data: 0.0090  max mem: 1053\n",
      "Test:  [1200/2890]  eta: 0:02:43  model_time: 0.0828 (0.0828)  evaluator_time: 0.0030 (0.0036)  time: 0.0964  data: 0.0090  max mem: 1053\n",
      "Test:  [1300/2890]  eta: 0:02:34  model_time: 0.0828 (0.0829)  evaluator_time: 0.0040 (0.0036)  time: 0.1001  data: 0.0092  max mem: 1053\n",
      "Test:  [1400/2890]  eta: 0:02:24  model_time: 0.0828 (0.0829)  evaluator_time: 0.0040 (0.0036)  time: 0.0973  data: 0.0094  max mem: 1053\n",
      "Test:  [1500/2890]  eta: 0:02:14  model_time: 0.0828 (0.0829)  evaluator_time: 0.0040 (0.0036)  time: 0.0976  data: 0.0093  max mem: 1053\n",
      "Test:  [1600/2890]  eta: 0:02:05  model_time: 0.0828 (0.0830)  evaluator_time: 0.0030 (0.0036)  time: 0.0970  data: 0.0090  max mem: 1053\n",
      "Test:  [1700/2890]  eta: 0:01:55  model_time: 0.0828 (0.0830)  evaluator_time: 0.0040 (0.0037)  time: 0.0975  data: 0.0091  max mem: 1053\n",
      "Test:  [1800/2890]  eta: 0:01:45  model_time: 0.0828 (0.0830)  evaluator_time: 0.0030 (0.0037)  time: 0.0962  data: 0.0088  max mem: 1053\n",
      "Test:  [1900/2890]  eta: 0:01:36  model_time: 0.0829 (0.0831)  evaluator_time: 0.0030 (0.0037)  time: 0.0969  data: 0.0091  max mem: 1053\n",
      "Test:  [2000/2890]  eta: 0:01:26  model_time: 0.0828 (0.0831)  evaluator_time: 0.0030 (0.0037)  time: 0.0969  data: 0.0094  max mem: 1053\n",
      "Test:  [2100/2890]  eta: 0:01:16  model_time: 0.0835 (0.0831)  evaluator_time: 0.0040 (0.0037)  time: 0.1007  data: 0.0094  max mem: 1053\n",
      "Test:  [2200/2890]  eta: 0:01:07  model_time: 0.0828 (0.0832)  evaluator_time: 0.0030 (0.0037)  time: 0.0962  data: 0.0088  max mem: 1053\n",
      "Test:  [2300/2890]  eta: 0:00:57  model_time: 0.0818 (0.0832)  evaluator_time: 0.0030 (0.0037)  time: 0.0969  data: 0.0092  max mem: 1053\n",
      "Test:  [2400/2890]  eta: 0:00:47  model_time: 0.0829 (0.0832)  evaluator_time: 0.0040 (0.0037)  time: 0.0977  data: 0.0092  max mem: 1053\n",
      "Test:  [2500/2890]  eta: 0:00:37  model_time: 0.0828 (0.0832)  evaluator_time: 0.0030 (0.0037)  time: 0.0974  data: 0.0094  max mem: 1053\n",
      "Test:  [2600/2890]  eta: 0:00:28  model_time: 0.0838 (0.0833)  evaluator_time: 0.0030 (0.0037)  time: 0.1006  data: 0.0091  max mem: 1053\n",
      "Test:  [2700/2890]  eta: 0:00:18  model_time: 0.0837 (0.0833)  evaluator_time: 0.0040 (0.0037)  time: 0.0984  data: 0.0092  max mem: 1053\n",
      "Test:  [2800/2890]  eta: 0:00:08  model_time: 0.0821 (0.0833)  evaluator_time: 0.0040 (0.0037)  time: 0.0975  data: 0.0098  max mem: 1053\n",
      "Test:  [2889/2890]  eta: 0:00:00  model_time: 0.0828 (0.0834)  evaluator_time: 0.0030 (0.0037)  time: 0.0980  data: 0.0090  max mem: 1053\n",
      "Test: Total time: 0:04:41 (0.0974 s / it)\n",
      "Averaged stats: model_time: 0.0828 (0.0834)  evaluator_time: 0.0030 (0.0037)\n",
      "Accumulating evaluation results...\n",
      "DONE (t=2.14s).\n",
      "IoU metric: bbox\n",
      " Average Precision  (AP) @[ IoU=0.50:0.95 | area=   all | maxDets=100 ] = 0.402\n",
      " Average Precision  (AP) @[ IoU=0.50      | area=   all | maxDets=100 ] = 0.614\n",
      " Average Precision  (AP) @[ IoU=0.75      | area=   all | maxDets=100 ] = 0.460\n",
      " Average Precision  (AP) @[ IoU=0.50:0.95 | area= small | maxDets=100 ] = -1.000\n",
      " Average Precision  (AP) @[ IoU=0.50:0.95 | area=medium | maxDets=100 ] = 0.053\n",
      " Average Precision  (AP) @[ IoU=0.50:0.95 | area= large | maxDets=100 ] = 0.405\n",
      " Average Recall     (AR) @[ IoU=0.50:0.95 | area=   all | maxDets=  1 ] = 0.597\n",
      " Average Recall     (AR) @[ IoU=0.50:0.95 | area=   all | maxDets= 10 ] = 0.603\n",
      " Average Recall     (AR) @[ IoU=0.50:0.95 | area=   all | maxDets=100 ] = 0.603\n",
      " Average Recall     (AR) @[ IoU=0.50:0.95 | area= small | maxDets=100 ] = -1.000\n",
      " Average Recall     (AR) @[ IoU=0.50:0.95 | area=medium | maxDets=100 ] = 0.072\n",
      " Average Recall     (AR) @[ IoU=0.50:0.95 | area= large | maxDets=100 ] = 0.605\n"
     ]
    },
    {
     "name": "stdout",
     "output_type": "stream",
     "text": [
      "Epoch: [4]  [    0/26007]  eta: 1:33:21  lr: 0.010000  loss: 0.0518 (0.0518)  loss_classifier: 0.0436 (0.0436)  loss_box_reg: 0.0065 (0.0065)  loss_objectness: 0.0000 (0.0000)  loss_rpn_box_reg: 0.0017 (0.0017)  time: 0.2154  data: 0.0080  max mem: 1053\n",
      "Epoch: [4]  [ 1000/26007]  eta: 1:22:28  lr: 0.010000  loss: 0.0764 (0.0704)  loss_classifier: 0.0479 (0.0503)  loss_box_reg: 0.0077 (0.0139)  loss_objectness: 0.0001 (0.0009)  loss_rpn_box_reg: 0.0042 (0.0052)  time: 0.1988  data: 0.0074  max mem: 1053\n",
      "Epoch: [4]  [ 2000/26007]  eta: 1:19:15  lr: 0.010000  loss: 0.0485 (0.0716)  loss_classifier: 0.0346 (0.0509)  loss_box_reg: 0.0087 (0.0144)  loss_objectness: 0.0001 (0.0010)  loss_rpn_box_reg: 0.0041 (0.0052)  time: 0.1983  data: 0.0071  max mem: 1053\n",
      "Epoch: [4]  [ 3000/26007]  eta: 1:15:58  lr: 0.010000  loss: 0.0546 (0.0716)  loss_classifier: 0.0288 (0.0508)  loss_box_reg: 0.0143 (0.0146)  loss_objectness: 0.0001 (0.0010)  loss_rpn_box_reg: 0.0035 (0.0052)  time: 0.1977  data: 0.0065  max mem: 1053\n",
      "Epoch: [4]  [ 4000/26007]  eta: 1:12:40  lr: 0.010000  loss: 0.0504 (0.0711)  loss_classifier: 0.0415 (0.0505)  loss_box_reg: 0.0065 (0.0143)  loss_objectness: 0.0001 (0.0010)  loss_rpn_box_reg: 0.0034 (0.0053)  time: 0.1982  data: 0.0069  max mem: 1053\n",
      "Epoch: [4]  [ 5000/26007]  eta: 1:09:22  lr: 0.010000  loss: 0.0540 (0.0711)  loss_classifier: 0.0324 (0.0504)  loss_box_reg: 0.0088 (0.0144)  loss_objectness: 0.0001 (0.0010)  loss_rpn_box_reg: 0.0047 (0.0053)  time: 0.1976  data: 0.0066  max mem: 1053\n",
      "Epoch: [4]  [ 6000/26007]  eta: 1:06:04  lr: 0.010000  loss: 0.0460 (0.0721)  loss_classifier: 0.0379 (0.0512)  loss_box_reg: 0.0075 (0.0145)  loss_objectness: 0.0001 (0.0011)  loss_rpn_box_reg: 0.0044 (0.0053)  time: 0.1979  data: 0.0069  max mem: 1053\n",
      "Epoch: [4]  [ 7000/26007]  eta: 1:02:46  lr: 0.010000  loss: 0.0582 (0.0724)  loss_classifier: 0.0413 (0.0514)  loss_box_reg: 0.0092 (0.0146)  loss_objectness: 0.0002 (0.0011)  loss_rpn_box_reg: 0.0049 (0.0054)  time: 0.1981  data: 0.0069  max mem: 1053\n",
      "Epoch: [4]  [ 8000/26007]  eta: 0:59:28  lr: 0.010000  loss: 0.0387 (0.0727)  loss_classifier: 0.0236 (0.0516)  loss_box_reg: 0.0077 (0.0146)  loss_objectness: 0.0001 (0.0011)  loss_rpn_box_reg: 0.0033 (0.0054)  time: 0.1975  data: 0.0063  max mem: 1053\n",
      "Epoch: [4]  [ 9000/26007]  eta: 0:56:10  lr: 0.010000  loss: 0.0529 (0.0732)  loss_classifier: 0.0252 (0.0519)  loss_box_reg: 0.0074 (0.0147)  loss_objectness: 0.0001 (0.0011)  loss_rpn_box_reg: 0.0038 (0.0054)  time: 0.1975  data: 0.0067  max mem: 1053\n",
      "Epoch: [4]  [10000/26007]  eta: 0:52:51  lr: 0.010000  loss: 0.0449 (0.0731)  loss_classifier: 0.0331 (0.0519)  loss_box_reg: 0.0074 (0.0147)  loss_objectness: 0.0008 (0.0011)  loss_rpn_box_reg: 0.0053 (0.0054)  time: 0.1978  data: 0.0066  max mem: 1053\n",
      "Epoch: [4]  [11000/26007]  eta: 0:49:33  lr: 0.010000  loss: 0.0723 (0.0732)  loss_classifier: 0.0451 (0.0519)  loss_box_reg: 0.0120 (0.0147)  loss_objectness: 0.0001 (0.0011)  loss_rpn_box_reg: 0.0045 (0.0054)  time: 0.1979  data: 0.0068  max mem: 1053\n",
      "Epoch: [4]  [12000/26007]  eta: 0:46:15  lr: 0.010000  loss: 0.0813 (0.0731)  loss_classifier: 0.0428 (0.0518)  loss_box_reg: 0.0112 (0.0147)  loss_objectness: 0.0001 (0.0011)  loss_rpn_box_reg: 0.0054 (0.0054)  time: 0.1986  data: 0.0068  max mem: 1053\n",
      "Epoch: [4]  [13000/26007]  eta: 0:42:57  lr: 0.010000  loss: 0.0524 (0.0732)  loss_classifier: 0.0398 (0.0520)  loss_box_reg: 0.0101 (0.0147)  loss_objectness: 0.0001 (0.0011)  loss_rpn_box_reg: 0.0032 (0.0054)  time: 0.1979  data: 0.0070  max mem: 1053\n",
      "Epoch: [4]  [14000/26007]  eta: 0:39:39  lr: 0.010000  loss: 0.0392 (0.0734)  loss_classifier: 0.0205 (0.0521)  loss_box_reg: 0.0065 (0.0148)  loss_objectness: 0.0001 (0.0011)  loss_rpn_box_reg: 0.0041 (0.0054)  time: 0.1977  data: 0.0068  max mem: 1053\n",
      "Epoch: [4]  [15000/26007]  eta: 0:36:21  lr: 0.010000  loss: 0.0476 (0.0736)  loss_classifier: 0.0317 (0.0523)  loss_box_reg: 0.0119 (0.0148)  loss_objectness: 0.0002 (0.0011)  loss_rpn_box_reg: 0.0053 (0.0055)  time: 0.1978  data: 0.0066  max mem: 1053\n",
      "Epoch: [4]  [16000/26007]  eta: 0:33:03  lr: 0.010000  loss: 0.0665 (0.0735)  loss_classifier: 0.0352 (0.0522)  loss_box_reg: 0.0088 (0.0148)  loss_objectness: 0.0002 (0.0011)  loss_rpn_box_reg: 0.0039 (0.0055)  time: 0.1980  data: 0.0065  max mem: 1053\n",
      "Epoch: [4]  [17000/26007]  eta: 0:29:45  lr: 0.010000  loss: 0.0361 (0.0732)  loss_classifier: 0.0230 (0.0520)  loss_box_reg: 0.0099 (0.0148)  loss_objectness: 0.0002 (0.0011)  loss_rpn_box_reg: 0.0034 (0.0055)  time: 0.1981  data: 0.0071  max mem: 1053\n",
      "Epoch: [4]  [18000/26007]  eta: 0:26:26  lr: 0.010000  loss: 0.0514 (0.0732)  loss_classifier: 0.0297 (0.0520)  loss_box_reg: 0.0129 (0.0147)  loss_objectness: 0.0002 (0.0011)  loss_rpn_box_reg: 0.0038 (0.0055)  time: 0.1988  data: 0.0072  max mem: 1053\n",
      "Epoch: [4]  [19000/26007]  eta: 0:23:08  lr: 0.010000  loss: 0.0575 (0.0731)  loss_classifier: 0.0399 (0.0519)  loss_box_reg: 0.0078 (0.0147)  loss_objectness: 0.0001 (0.0011)  loss_rpn_box_reg: 0.0030 (0.0054)  time: 0.1981  data: 0.0069  max mem: 1053\n",
      "Epoch: [4]  [20000/26007]  eta: 0:19:50  lr: 0.010000  loss: 0.0636 (0.0733)  loss_classifier: 0.0385 (0.0521)  loss_box_reg: 0.0125 (0.0147)  loss_objectness: 0.0001 (0.0010)  loss_rpn_box_reg: 0.0056 (0.0055)  time: 0.1976  data: 0.0064  max mem: 1053\n",
      "Epoch: [4]  [21000/26007]  eta: 0:16:32  lr: 0.010000  loss: 0.0426 (0.0736)  loss_classifier: 0.0242 (0.0523)  loss_box_reg: 0.0083 (0.0148)  loss_objectness: 0.0002 (0.0011)  loss_rpn_box_reg: 0.0034 (0.0055)  time: 0.1966  data: 0.0064  max mem: 1053\n",
      "Epoch: [4]  [22000/26007]  eta: 0:13:14  lr: 0.010000  loss: 0.0469 (0.0738)  loss_classifier: 0.0341 (0.0525)  loss_box_reg: 0.0084 (0.0148)  loss_objectness: 0.0001 (0.0011)  loss_rpn_box_reg: 0.0026 (0.0055)  time: 0.1996  data: 0.0082  max mem: 1053\n",
      "Epoch: [4]  [23000/26007]  eta: 0:09:56  lr: 0.010000  loss: 0.0618 (0.0741)  loss_classifier: 0.0494 (0.0527)  loss_box_reg: 0.0066 (0.0148)  loss_objectness: 0.0001 (0.0011)  loss_rpn_box_reg: 0.0043 (0.0055)  time: 0.1986  data: 0.0067  max mem: 1053\n",
      "Epoch: [4]  [24000/26007]  eta: 0:06:37  lr: 0.010000  loss: 0.0623 (0.0740)  loss_classifier: 0.0327 (0.0526)  loss_box_reg: 0.0129 (0.0148)  loss_objectness: 0.0000 (0.0011)  loss_rpn_box_reg: 0.0047 (0.0055)  time: 0.1988  data: 0.0066  max mem: 1053\n",
      "Epoch: [4]  [25000/26007]  eta: 0:03:19  lr: 0.010000  loss: 0.0450 (0.0739)  loss_classifier: 0.0226 (0.0526)  loss_box_reg: 0.0126 (0.0147)  loss_objectness: 0.0001 (0.0011)  loss_rpn_box_reg: 0.0040 (0.0055)  time: 0.1979  data: 0.0066  max mem: 1053\n",
      "Epoch: [4]  [26000/26007]  eta: 0:00:01  lr: 0.010000  loss: 0.0597 (0.0739)  loss_classifier: 0.0368 (0.0526)  loss_box_reg: 0.0122 (0.0147)  loss_objectness: 0.0001 (0.0011)  loss_rpn_box_reg: 0.0057 (0.0055)  time: 0.1983  data: 0.0066  max mem: 1053\n",
      "Epoch: [4]  [26006/26007]  eta: 0:00:00  lr: 0.010000  loss: 0.0669 (0.0739)  loss_classifier: 0.0368 (0.0526)  loss_box_reg: 0.0124 (0.0147)  loss_objectness: 0.0001 (0.0011)  loss_rpn_box_reg: 0.0052 (0.0055)  time: 0.1992  data: 0.0064  max mem: 1053\n",
      "Epoch: [4] Total time: 1:25:55 (0.1982 s / it)\n",
      "creating index...\n",
      "index created!\n",
      "Test:  [   0/2890]  eta: 0:05:48  model_time: 0.0898 (0.0898)  evaluator_time: 0.0040 (0.0040)  time: 0.1207  data: 0.0090  max mem: 1053\n",
      "Test:  [ 100/2890]  eta: 0:04:24  model_time: 0.0793 (0.0805)  evaluator_time: 0.0040 (0.0036)  time: 0.0943  data: 0.0093  max mem: 1053\n",
      "Test:  [ 200/2890]  eta: 0:04:14  model_time: 0.0788 (0.0806)  evaluator_time: 0.0030 (0.0037)  time: 0.0940  data: 0.0095  max mem: 1053\n",
      "Test:  [ 300/2890]  eta: 0:04:04  model_time: 0.0788 (0.0803)  evaluator_time: 0.0040 (0.0037)  time: 0.0939  data: 0.0092  max mem: 1053\n",
      "Test:  [ 400/2890]  eta: 0:03:55  model_time: 0.0818 (0.0805)  evaluator_time: 0.0030 (0.0037)  time: 0.0955  data: 0.0094  max mem: 1053\n",
      "Test:  [ 500/2890]  eta: 0:03:46  model_time: 0.0818 (0.0809)  evaluator_time: 0.0030 (0.0036)  time: 0.0958  data: 0.0093  max mem: 1053\n",
      "Test:  [ 600/2890]  eta: 0:03:38  model_time: 0.0828 (0.0813)  evaluator_time: 0.0030 (0.0037)  time: 0.0997  data: 0.0091  max mem: 1053\n",
      "Test:  [ 700/2890]  eta: 0:03:29  model_time: 0.0828 (0.0817)  evaluator_time: 0.0030 (0.0036)  time: 0.0975  data: 0.0096  max mem: 1053\n"
     ]
    },
    {
     "name": "stdout",
     "output_type": "stream",
     "text": [
      "Test:  [ 800/2890]  eta: 0:03:20  model_time: 0.0828 (0.0819)  evaluator_time: 0.0030 (0.0036)  time: 0.0973  data: 0.0096  max mem: 1053\n",
      "Test:  [ 900/2890]  eta: 0:03:11  model_time: 0.0828 (0.0821)  evaluator_time: 0.0030 (0.0037)  time: 0.0968  data: 0.0089  max mem: 1053\n",
      "Test:  [1000/2890]  eta: 0:03:02  model_time: 0.0828 (0.0823)  evaluator_time: 0.0030 (0.0037)  time: 0.0971  data: 0.0095  max mem: 1053\n",
      "Test:  [1100/2890]  eta: 0:02:52  model_time: 0.0828 (0.0824)  evaluator_time: 0.0030 (0.0036)  time: 0.0977  data: 0.0093  max mem: 1053\n",
      "Test:  [1200/2890]  eta: 0:02:43  model_time: 0.0828 (0.0825)  evaluator_time: 0.0040 (0.0037)  time: 0.0987  data: 0.0089  max mem: 1053\n",
      "Test:  [1300/2890]  eta: 0:02:33  model_time: 0.0818 (0.0825)  evaluator_time: 0.0040 (0.0037)  time: 0.0971  data: 0.0095  max mem: 1053\n",
      "Test:  [1400/2890]  eta: 0:02:24  model_time: 0.0828 (0.0826)  evaluator_time: 0.0030 (0.0037)  time: 0.0980  data: 0.0094  max mem: 1053\n",
      "Test:  [1500/2890]  eta: 0:02:14  model_time: 0.0838 (0.0827)  evaluator_time: 0.0040 (0.0037)  time: 0.0985  data: 0.0092  max mem: 1053\n",
      "Test:  [1600/2890]  eta: 0:02:04  model_time: 0.0838 (0.0828)  evaluator_time: 0.0030 (0.0037)  time: 0.0976  data: 0.0090  max mem: 1053\n",
      "Test:  [1700/2890]  eta: 0:01:55  model_time: 0.0828 (0.0829)  evaluator_time: 0.0040 (0.0037)  time: 0.0986  data: 0.0100  max mem: 1053\n",
      "Test:  [1800/2890]  eta: 0:01:45  model_time: 0.0828 (0.0829)  evaluator_time: 0.0030 (0.0037)  time: 0.0966  data: 0.0087  max mem: 1053\n",
      "Test:  [1900/2890]  eta: 0:01:36  model_time: 0.0828 (0.0830)  evaluator_time: 0.0030 (0.0037)  time: 0.0980  data: 0.0093  max mem: 1053\n",
      "Test:  [2000/2890]  eta: 0:01:26  model_time: 0.0828 (0.0830)  evaluator_time: 0.0040 (0.0037)  time: 0.0974  data: 0.0095  max mem: 1053\n",
      "Test:  [2100/2890]  eta: 0:01:16  model_time: 0.0838 (0.0830)  evaluator_time: 0.0040 (0.0037)  time: 0.0990  data: 0.0093  max mem: 1053\n",
      "Test:  [2200/2890]  eta: 0:01:07  model_time: 0.0838 (0.0831)  evaluator_time: 0.0040 (0.0037)  time: 0.0975  data: 0.0093  max mem: 1053\n",
      "Test:  [2300/2890]  eta: 0:00:57  model_time: 0.0828 (0.0831)  evaluator_time: 0.0030 (0.0037)  time: 0.0980  data: 0.0092  max mem: 1053\n",
      "Test:  [2400/2890]  eta: 0:00:47  model_time: 0.0828 (0.0832)  evaluator_time: 0.0030 (0.0037)  time: 0.0982  data: 0.0099  max mem: 1053\n",
      "Test:  [2500/2890]  eta: 0:00:37  model_time: 0.0828 (0.0832)  evaluator_time: 0.0030 (0.0037)  time: 0.0972  data: 0.0096  max mem: 1053\n",
      "Test:  [2600/2890]  eta: 0:00:28  model_time: 0.0838 (0.0832)  evaluator_time: 0.0040 (0.0037)  time: 0.0993  data: 0.0098  max mem: 1053\n",
      "Test:  [2700/2890]  eta: 0:00:18  model_time: 0.0828 (0.0832)  evaluator_time: 0.0030 (0.0037)  time: 0.0982  data: 0.0096  max mem: 1053\n",
      "Test:  [2800/2890]  eta: 0:00:08  model_time: 0.0828 (0.0832)  evaluator_time: 0.0040 (0.0037)  time: 0.0972  data: 0.0098  max mem: 1053\n",
      "Test:  [2889/2890]  eta: 0:00:00  model_time: 0.0828 (0.0832)  evaluator_time: 0.0040 (0.0037)  time: 0.0986  data: 0.0096  max mem: 1053\n",
      "Test: Total time: 0:04:41 (0.0974 s / it)\n",
      "Averaged stats: model_time: 0.0828 (0.0832)  evaluator_time: 0.0040 (0.0037)\n",
      "Accumulating evaluation results...\n",
      "DONE (t=2.22s).\n",
      "IoU metric: bbox\n",
      " Average Precision  (AP) @[ IoU=0.50:0.95 | area=   all | maxDets=100 ] = 0.410\n",
      " Average Precision  (AP) @[ IoU=0.50      | area=   all | maxDets=100 ] = 0.610\n",
      " Average Precision  (AP) @[ IoU=0.75      | area=   all | maxDets=100 ] = 0.485\n",
      " Average Precision  (AP) @[ IoU=0.50:0.95 | area= small | maxDets=100 ] = -1.000\n",
      " Average Precision  (AP) @[ IoU=0.50:0.95 | area=medium | maxDets=100 ] = 0.029\n",
      " Average Precision  (AP) @[ IoU=0.50:0.95 | area= large | maxDets=100 ] = 0.412\n",
      " Average Recall     (AR) @[ IoU=0.50:0.95 | area=   all | maxDets=  1 ] = 0.604\n",
      " Average Recall     (AR) @[ IoU=0.50:0.95 | area=   all | maxDets= 10 ] = 0.609\n",
      " Average Recall     (AR) @[ IoU=0.50:0.95 | area=   all | maxDets=100 ] = 0.609\n",
      " Average Recall     (AR) @[ IoU=0.50:0.95 | area= small | maxDets=100 ] = -1.000\n",
      " Average Recall     (AR) @[ IoU=0.50:0.95 | area=medium | maxDets=100 ] = 0.040\n",
      " Average Recall     (AR) @[ IoU=0.50:0.95 | area= large | maxDets=100 ] = 0.611\n",
      "Epoch: [5]  [    0/26007]  eta: 1:35:06  lr: 0.010000  loss: 0.0202 (0.0202)  loss_classifier: 0.0100 (0.0100)  loss_box_reg: 0.0091 (0.0091)  loss_objectness: 0.0001 (0.0001)  loss_rpn_box_reg: 0.0010 (0.0010)  time: 0.2194  data: 0.0120  max mem: 1053\n",
      "Epoch: [5]  [ 1000/26007]  eta: 1:22:33  lr: 0.010000  loss: 0.0330 (0.0617)  loss_classifier: 0.0222 (0.0428)  loss_box_reg: 0.0069 (0.0125)  loss_objectness: 0.0005 (0.0010)  loss_rpn_box_reg: 0.0043 (0.0053)  time: 0.1969  data: 0.0067  max mem: 1053\n",
      "Epoch: [5]  [ 2000/26007]  eta: 1:19:22  lr: 0.010000  loss: 0.0338 (0.0629)  loss_classifier: 0.0198 (0.0434)  loss_box_reg: 0.0058 (0.0131)  loss_objectness: 0.0000 (0.0010)  loss_rpn_box_reg: 0.0026 (0.0055)  time: 0.1995  data: 0.0072  max mem: 1053\n",
      "Epoch: [5]  [ 3000/26007]  eta: 1:16:03  lr: 0.010000  loss: 0.0419 (0.0632)  loss_classifier: 0.0280 (0.0434)  loss_box_reg: 0.0103 (0.0133)  loss_objectness: 0.0003 (0.0010)  loss_rpn_box_reg: 0.0031 (0.0055)  time: 0.1976  data: 0.0067  max mem: 1053\n",
      "Epoch: [5]  [ 4000/26007]  eta: 1:12:44  lr: 0.010000  loss: 0.0460 (0.0638)  loss_classifier: 0.0279 (0.0437)  loss_box_reg: 0.0092 (0.0137)  loss_objectness: 0.0004 (0.0010)  loss_rpn_box_reg: 0.0034 (0.0055)  time: 0.1978  data: 0.0071  max mem: 1053\n",
      "Epoch: [5]  [ 5000/26007]  eta: 1:09:25  lr: 0.010000  loss: 0.0530 (0.0645)  loss_classifier: 0.0368 (0.0443)  loss_box_reg: 0.0083 (0.0139)  loss_objectness: 0.0001 (0.0009)  loss_rpn_box_reg: 0.0042 (0.0055)  time: 0.1989  data: 0.0070  max mem: 1053\n",
      "Epoch: [5]  [ 6000/26007]  eta: 1:06:08  lr: 0.010000  loss: 0.0533 (0.0651)  loss_classifier: 0.0371 (0.0449)  loss_box_reg: 0.0074 (0.0138)  loss_objectness: 0.0000 (0.0009)  loss_rpn_box_reg: 0.0036 (0.0054)  time: 0.1981  data: 0.0068  max mem: 1053\n",
      "Epoch: [5]  [ 7000/26007]  eta: 1:02:50  lr: 0.010000  loss: 0.0436 (0.0649)  loss_classifier: 0.0245 (0.0449)  loss_box_reg: 0.0073 (0.0138)  loss_objectness: 0.0001 (0.0009)  loss_rpn_box_reg: 0.0034 (0.0054)  time: 0.1982  data: 0.0070  max mem: 1053\n",
      "Epoch: [5]  [ 8000/26007]  eta: 0:59:31  lr: 0.010000  loss: 0.0459 (0.0650)  loss_classifier: 0.0336 (0.0451)  loss_box_reg: 0.0069 (0.0136)  loss_objectness: 0.0001 (0.0009)  loss_rpn_box_reg: 0.0029 (0.0054)  time: 0.1976  data: 0.0066  max mem: 1053\n",
      "Epoch: [5]  [ 9000/26007]  eta: 0:56:13  lr: 0.010000  loss: 0.0613 (0.0657)  loss_classifier: 0.0409 (0.0457)  loss_box_reg: 0.0149 (0.0137)  loss_objectness: 0.0001 (0.0009)  loss_rpn_box_reg: 0.0036 (0.0053)  time: 0.1975  data: 0.0068  max mem: 1053\n",
      "Epoch: [5]  [10000/26007]  eta: 0:52:55  lr: 0.010000  loss: 0.0538 (0.0656)  loss_classifier: 0.0397 (0.0457)  loss_box_reg: 0.0070 (0.0137)  loss_objectness: 0.0001 (0.0009)  loss_rpn_box_reg: 0.0028 (0.0053)  time: 0.1983  data: 0.0074  max mem: 1053\n",
      "Epoch: [5]  [11000/26007]  eta: 0:49:36  lr: 0.010000  loss: 0.0540 (0.0661)  loss_classifier: 0.0325 (0.0461)  loss_box_reg: 0.0073 (0.0138)  loss_objectness: 0.0001 (0.0009)  loss_rpn_box_reg: 0.0041 (0.0054)  time: 0.1984  data: 0.0071  max mem: 1053\n",
      "Epoch: [5]  [12000/26007]  eta: 0:46:18  lr: 0.010000  loss: 0.0573 (0.0661)  loss_classifier: 0.0345 (0.0461)  loss_box_reg: 0.0099 (0.0137)  loss_objectness: 0.0001 (0.0009)  loss_rpn_box_reg: 0.0036 (0.0054)  time: 0.2001  data: 0.0083  max mem: 1053\n",
      "Epoch: [5]  [13000/26007]  eta: 0:43:00  lr: 0.010000  loss: 0.0420 (0.0660)  loss_classifier: 0.0264 (0.0460)  loss_box_reg: 0.0075 (0.0137)  loss_objectness: 0.0000 (0.0009)  loss_rpn_box_reg: 0.0036 (0.0054)  time: 0.1980  data: 0.0071  max mem: 1053\n",
      "Epoch: [5]  [14000/26007]  eta: 0:39:41  lr: 0.010000  loss: 0.0367 (0.0659)  loss_classifier: 0.0203 (0.0459)  loss_box_reg: 0.0082 (0.0137)  loss_objectness: 0.0001 (0.0009)  loss_rpn_box_reg: 0.0034 (0.0054)  time: 0.1993  data: 0.0070  max mem: 1053\n",
      "Epoch: [5]  [15000/26007]  eta: 0:36:23  lr: 0.010000  loss: 0.0350 (0.0658)  loss_classifier: 0.0218 (0.0459)  loss_box_reg: 0.0049 (0.0137)  loss_objectness: 0.0002 (0.0009)  loss_rpn_box_reg: 0.0030 (0.0053)  time: 0.2009  data: 0.0079  max mem: 1053\n"
     ]
    },
    {
     "name": "stdout",
     "output_type": "stream",
     "text": [
      "Epoch: [5]  [16000/26007]  eta: 0:33:05  lr: 0.010000  loss: 0.0408 (0.0660)  loss_classifier: 0.0278 (0.0460)  loss_box_reg: 0.0055 (0.0137)  loss_objectness: 0.0002 (0.0009)  loss_rpn_box_reg: 0.0030 (0.0054)  time: 0.1983  data: 0.0066  max mem: 1053\n",
      "Epoch: [5]  [17000/26007]  eta: 0:29:46  lr: 0.010000  loss: 0.0539 (0.0661)  loss_classifier: 0.0344 (0.0461)  loss_box_reg: 0.0123 (0.0137)  loss_objectness: 0.0001 (0.0009)  loss_rpn_box_reg: 0.0030 (0.0054)  time: 0.1977  data: 0.0070  max mem: 1053\n",
      "Epoch: [5]  [18000/26007]  eta: 0:26:28  lr: 0.010000  loss: 0.0644 (0.0663)  loss_classifier: 0.0314 (0.0463)  loss_box_reg: 0.0069 (0.0137)  loss_objectness: 0.0002 (0.0009)  loss_rpn_box_reg: 0.0050 (0.0054)  time: 0.1975  data: 0.0071  max mem: 1053\n",
      "Epoch: [5]  [19000/26007]  eta: 0:23:10  lr: 0.010000  loss: 0.0366 (0.0666)  loss_classifier: 0.0179 (0.0465)  loss_box_reg: 0.0094 (0.0138)  loss_objectness: 0.0001 (0.0009)  loss_rpn_box_reg: 0.0032 (0.0054)  time: 0.1978  data: 0.0067  max mem: 1053\n",
      "Epoch: [5]  [20000/26007]  eta: 0:19:51  lr: 0.010000  loss: 0.0459 (0.0666)  loss_classifier: 0.0282 (0.0465)  loss_box_reg: 0.0078 (0.0138)  loss_objectness: 0.0001 (0.0009)  loss_rpn_box_reg: 0.0038 (0.0054)  time: 0.1975  data: 0.0067  max mem: 1053\n",
      "Epoch: [5]  [21000/26007]  eta: 0:16:33  lr: 0.010000  loss: 0.0504 (0.0667)  loss_classifier: 0.0309 (0.0465)  loss_box_reg: 0.0061 (0.0138)  loss_objectness: 0.0001 (0.0009)  loss_rpn_box_reg: 0.0037 (0.0054)  time: 0.1995  data: 0.0074  max mem: 1053\n",
      "Epoch: [5]  [22000/26007]  eta: 0:13:15  lr: 0.010000  loss: 0.0503 (0.0667)  loss_classifier: 0.0257 (0.0466)  loss_box_reg: 0.0079 (0.0138)  loss_objectness: 0.0001 (0.0009)  loss_rpn_box_reg: 0.0034 (0.0054)  time: 0.1988  data: 0.0066  max mem: 1053\n",
      "Epoch: [5]  [23000/26007]  eta: 0:09:56  lr: 0.010000  loss: 0.0330 (0.0667)  loss_classifier: 0.0179 (0.0466)  loss_box_reg: 0.0094 (0.0138)  loss_objectness: 0.0000 (0.0009)  loss_rpn_box_reg: 0.0042 (0.0054)  time: 0.1981  data: 0.0070  max mem: 1053\n",
      "Epoch: [5]  [24000/26007]  eta: 0:06:38  lr: 0.010000  loss: 0.0899 (0.0669)  loss_classifier: 0.0701 (0.0467)  loss_box_reg: 0.0092 (0.0138)  loss_objectness: 0.0000 (0.0009)  loss_rpn_box_reg: 0.0046 (0.0054)  time: 0.1986  data: 0.0072  max mem: 1053\n",
      "Epoch: [5]  [25000/26007]  eta: 0:03:19  lr: 0.010000  loss: 0.0483 (0.0670)  loss_classifier: 0.0390 (0.0468)  loss_box_reg: 0.0057 (0.0139)  loss_objectness: 0.0001 (0.0009)  loss_rpn_box_reg: 0.0035 (0.0054)  time: 0.1978  data: 0.0068  max mem: 1053\n",
      "Epoch: [5]  [26000/26007]  eta: 0:00:01  lr: 0.010000  loss: 0.0411 (0.0671)  loss_classifier: 0.0256 (0.0469)  loss_box_reg: 0.0074 (0.0139)  loss_objectness: 0.0001 (0.0009)  loss_rpn_box_reg: 0.0035 (0.0054)  time: 0.1982  data: 0.0066  max mem: 1053\n",
      "Epoch: [5]  [26006/26007]  eta: 0:00:00  lr: 0.010000  loss: 0.0411 (0.0671)  loss_classifier: 0.0269 (0.0469)  loss_box_reg: 0.0075 (0.0139)  loss_objectness: 0.0001 (0.0009)  loss_rpn_box_reg: 0.0025 (0.0054)  time: 0.1975  data: 0.0065  max mem: 1053\n",
      "Epoch: [5] Total time: 1:26:00 (0.1984 s / it)\n",
      "creating index...\n",
      "index created!\n",
      "Test:  [   0/2890]  eta: 0:05:45  model_time: 0.0927 (0.0927)  evaluator_time: 0.0040 (0.0040)  time: 0.1197  data: 0.0080  max mem: 1053\n",
      "Test:  [ 100/2890]  eta: 0:04:31  model_time: 0.0828 (0.0827)  evaluator_time: 0.0040 (0.0038)  time: 0.0982  data: 0.0102  max mem: 1053\n",
      "Test:  [ 200/2890]  eta: 0:04:21  model_time: 0.0828 (0.0826)  evaluator_time: 0.0040 (0.0038)  time: 0.0995  data: 0.0099  max mem: 1053\n",
      "Test:  [ 300/2890]  eta: 0:04:11  model_time: 0.0818 (0.0826)  evaluator_time: 0.0040 (0.0037)  time: 0.0975  data: 0.0101  max mem: 1053\n",
      "Test:  [ 400/2890]  eta: 0:04:02  model_time: 0.0828 (0.0829)  evaluator_time: 0.0040 (0.0037)  time: 0.0976  data: 0.0091  max mem: 1053\n",
      "Test:  [ 500/2890]  eta: 0:03:53  model_time: 0.0848 (0.0833)  evaluator_time: 0.0040 (0.0038)  time: 0.0991  data: 0.0092  max mem: 1053\n",
      "Test:  [ 600/2890]  eta: 0:03:45  model_time: 0.0868 (0.0837)  evaluator_time: 0.0040 (0.0037)  time: 0.1010  data: 0.0096  max mem: 1053\n",
      "Test:  [ 700/2890]  eta: 0:03:35  model_time: 0.0838 (0.0840)  evaluator_time: 0.0040 (0.0037)  time: 0.0977  data: 0.0089  max mem: 1053\n",
      "Test:  [ 800/2890]  eta: 0:03:26  model_time: 0.0848 (0.0842)  evaluator_time: 0.0040 (0.0037)  time: 0.0990  data: 0.0095  max mem: 1053\n",
      "Test:  [ 900/2890]  eta: 0:03:16  model_time: 0.0838 (0.0843)  evaluator_time: 0.0040 (0.0037)  time: 0.0987  data: 0.0102  max mem: 1053\n",
      "Test:  [1000/2890]  eta: 0:03:07  model_time: 0.0828 (0.0844)  evaluator_time: 0.0040 (0.0037)  time: 0.0979  data: 0.0091  max mem: 1053\n",
      "Test:  [1100/2890]  eta: 0:02:57  model_time: 0.0838 (0.0845)  evaluator_time: 0.0030 (0.0037)  time: 0.0984  data: 0.0094  max mem: 1053\n",
      "Test:  [1200/2890]  eta: 0:02:47  model_time: 0.0838 (0.0846)  evaluator_time: 0.0030 (0.0037)  time: 0.0988  data: 0.0095  max mem: 1053\n",
      "Test:  [1300/2890]  eta: 0:02:37  model_time: 0.0848 (0.0846)  evaluator_time: 0.0030 (0.0037)  time: 0.0989  data: 0.0092  max mem: 1053\n",
      "Test:  [1400/2890]  eta: 0:02:27  model_time: 0.0828 (0.0846)  evaluator_time: 0.0030 (0.0037)  time: 0.0978  data: 0.0097  max mem: 1053\n",
      "Test:  [1500/2890]  eta: 0:02:17  model_time: 0.0818 (0.0845)  evaluator_time: 0.0030 (0.0037)  time: 0.0965  data: 0.0092  max mem: 1053\n",
      "Test:  [1600/2890]  eta: 0:02:07  model_time: 0.0828 (0.0844)  evaluator_time: 0.0030 (0.0037)  time: 0.0971  data: 0.0092  max mem: 1053\n",
      "Test:  [1700/2890]  eta: 0:01:57  model_time: 0.0828 (0.0844)  evaluator_time: 0.0040 (0.0037)  time: 0.0987  data: 0.0095  max mem: 1053\n",
      "Test:  [1800/2890]  eta: 0:01:47  model_time: 0.0818 (0.0844)  evaluator_time: 0.0040 (0.0037)  time: 0.0972  data: 0.0091  max mem: 1053\n",
      "Test:  [1900/2890]  eta: 0:01:37  model_time: 0.0829 (0.0843)  evaluator_time: 0.0040 (0.0037)  time: 0.0971  data: 0.0090  max mem: 1053\n",
      "Test:  [2000/2890]  eta: 0:01:27  model_time: 0.0828 (0.0843)  evaluator_time: 0.0040 (0.0037)  time: 0.0969  data: 0.0090  max mem: 1053\n",
      "Test:  [2100/2890]  eta: 0:01:17  model_time: 0.0828 (0.0843)  evaluator_time: 0.0030 (0.0037)  time: 0.0979  data: 0.0094  max mem: 1053\n",
      "Test:  [2200/2890]  eta: 0:01:08  model_time: 0.0830 (0.0842)  evaluator_time: 0.0040 (0.0037)  time: 0.0973  data: 0.0091  max mem: 1053\n",
      "Test:  [2300/2890]  eta: 0:00:58  model_time: 0.0818 (0.0842)  evaluator_time: 0.0040 (0.0037)  time: 0.0968  data: 0.0094  max mem: 1053\n",
      "Test:  [2400/2890]  eta: 0:00:48  model_time: 0.0828 (0.0842)  evaluator_time: 0.0040 (0.0037)  time: 0.0964  data: 0.0089  max mem: 1053\n",
      "Test:  [2500/2890]  eta: 0:00:38  model_time: 0.0828 (0.0841)  evaluator_time: 0.0040 (0.0037)  time: 0.0973  data: 0.0097  max mem: 1053\n",
      "Test:  [2600/2890]  eta: 0:00:28  model_time: 0.0818 (0.0841)  evaluator_time: 0.0040 (0.0037)  time: 0.0971  data: 0.0093  max mem: 1053\n",
      "Test:  [2700/2890]  eta: 0:00:18  model_time: 0.0828 (0.0841)  evaluator_time: 0.0030 (0.0037)  time: 0.0974  data: 0.0089  max mem: 1053\n",
      "Test:  [2800/2890]  eta: 0:00:08  model_time: 0.0818 (0.0841)  evaluator_time: 0.0040 (0.0037)  time: 0.0979  data: 0.0096  max mem: 1053\n",
      "Test:  [2889/2890]  eta: 0:00:00  model_time: 0.0838 (0.0840)  evaluator_time: 0.0040 (0.0037)  time: 0.0995  data: 0.0098  max mem: 1053\n",
      "Test: Total time: 0:04:44 (0.0984 s / it)\n",
      "Averaged stats: model_time: 0.0838 (0.0840)  evaluator_time: 0.0040 (0.0037)\n",
      "Accumulating evaluation results...\n",
      "DONE (t=2.21s).\n",
      "IoU metric: bbox\n",
      " Average Precision  (AP) @[ IoU=0.50:0.95 | area=   all | maxDets=100 ] = 0.429\n",
      " Average Precision  (AP) @[ IoU=0.50      | area=   all | maxDets=100 ] = 0.638\n",
      " Average Precision  (AP) @[ IoU=0.75      | area=   all | maxDets=100 ] = 0.498\n",
      " Average Precision  (AP) @[ IoU=0.50:0.95 | area= small | maxDets=100 ] = -1.000\n",
      " Average Precision  (AP) @[ IoU=0.50:0.95 | area=medium | maxDets=100 ] = 0.029\n",
      " Average Precision  (AP) @[ IoU=0.50:0.95 | area= large | maxDets=100 ] = 0.431\n",
      " Average Recall     (AR) @[ IoU=0.50:0.95 | area=   all | maxDets=  1 ] = 0.619\n",
      " Average Recall     (AR) @[ IoU=0.50:0.95 | area=   all | maxDets= 10 ] = 0.624\n",
      " Average Recall     (AR) @[ IoU=0.50:0.95 | area=   all | maxDets=100 ] = 0.624\n",
      " Average Recall     (AR) @[ IoU=0.50:0.95 | area= small | maxDets=100 ] = -1.000\n",
      " Average Recall     (AR) @[ IoU=0.50:0.95 | area=medium | maxDets=100 ] = 0.051\n",
      " Average Recall     (AR) @[ IoU=0.50:0.95 | area= large | maxDets=100 ] = 0.627\n"
     ]
    },
    {
     "name": "stdout",
     "output_type": "stream",
     "text": [
      "Epoch: [6]  [    0/26007]  eta: 1:34:13  lr: 0.010000  loss: 0.0186 (0.0186)  loss_classifier: 0.0088 (0.0088)  loss_box_reg: 0.0067 (0.0067)  loss_objectness: 0.0001 (0.0001)  loss_rpn_box_reg: 0.0030 (0.0030)  time: 0.2174  data: 0.0079  max mem: 1053\n",
      "Epoch: [6]  [ 1000/26007]  eta: 1:22:24  lr: 0.010000  loss: 0.0369 (0.0583)  loss_classifier: 0.0216 (0.0401)  loss_box_reg: 0.0067 (0.0125)  loss_objectness: 0.0001 (0.0008)  loss_rpn_box_reg: 0.0034 (0.0050)  time: 0.1998  data: 0.0077  max mem: 1053\n",
      "Epoch: [6]  [ 2000/26007]  eta: 1:19:10  lr: 0.010000  loss: 0.0375 (0.0580)  loss_classifier: 0.0203 (0.0400)  loss_box_reg: 0.0084 (0.0122)  loss_objectness: 0.0001 (0.0008)  loss_rpn_box_reg: 0.0038 (0.0051)  time: 0.1984  data: 0.0070  max mem: 1053\n",
      "Epoch: [6]  [ 3000/26007]  eta: 1:15:51  lr: 0.010000  loss: 0.0455 (0.0578)  loss_classifier: 0.0291 (0.0395)  loss_box_reg: 0.0084 (0.0124)  loss_objectness: 0.0001 (0.0008)  loss_rpn_box_reg: 0.0030 (0.0052)  time: 0.1991  data: 0.0072  max mem: 1053\n",
      "Epoch: [6]  [ 4000/26007]  eta: 1:12:33  lr: 0.010000  loss: 0.0493 (0.0579)  loss_classifier: 0.0344 (0.0393)  loss_box_reg: 0.0097 (0.0125)  loss_objectness: 0.0001 (0.0008)  loss_rpn_box_reg: 0.0035 (0.0053)  time: 0.1974  data: 0.0065  max mem: 1053\n",
      "Epoch: [6]  [ 5000/26007]  eta: 1:09:16  lr: 0.010000  loss: 0.0317 (0.0584)  loss_classifier: 0.0188 (0.0396)  loss_box_reg: 0.0060 (0.0127)  loss_objectness: 0.0001 (0.0008)  loss_rpn_box_reg: 0.0037 (0.0053)  time: 0.1976  data: 0.0067  max mem: 1053\n",
      "Epoch: [6]  [ 6000/26007]  eta: 1:05:58  lr: 0.010000  loss: 0.0504 (0.0589)  loss_classifier: 0.0274 (0.0400)  loss_box_reg: 0.0094 (0.0127)  loss_objectness: 0.0001 (0.0008)  loss_rpn_box_reg: 0.0050 (0.0053)  time: 0.1971  data: 0.0069  max mem: 1053\n",
      "Epoch: [6]  [ 7000/26007]  eta: 1:02:41  lr: 0.010000  loss: 0.0321 (0.0591)  loss_classifier: 0.0188 (0.0402)  loss_box_reg: 0.0084 (0.0127)  loss_objectness: 0.0002 (0.0008)  loss_rpn_box_reg: 0.0035 (0.0054)  time: 0.1989  data: 0.0073  max mem: 1053\n",
      "Epoch: [6]  [ 8000/26007]  eta: 0:59:23  lr: 0.010000  loss: 0.0323 (0.0592)  loss_classifier: 0.0199 (0.0402)  loss_box_reg: 0.0076 (0.0128)  loss_objectness: 0.0001 (0.0008)  loss_rpn_box_reg: 0.0042 (0.0054)  time: 0.1969  data: 0.0066  max mem: 1053\n",
      "Epoch: [6]  [ 9000/26007]  eta: 0:56:05  lr: 0.010000  loss: 0.0356 (0.0592)  loss_classifier: 0.0204 (0.0402)  loss_box_reg: 0.0088 (0.0128)  loss_objectness: 0.0001 (0.0008)  loss_rpn_box_reg: 0.0030 (0.0054)  time: 0.1968  data: 0.0062  max mem: 1053\n",
      "Epoch: [6]  [10000/26007]  eta: 0:52:47  lr: 0.010000  loss: 0.0434 (0.0590)  loss_classifier: 0.0277 (0.0400)  loss_box_reg: 0.0094 (0.0128)  loss_objectness: 0.0002 (0.0008)  loss_rpn_box_reg: 0.0050 (0.0053)  time: 0.1976  data: 0.0068  max mem: 1053\n",
      "Epoch: [6]  [11000/26007]  eta: 0:49:29  lr: 0.010000  loss: 0.0403 (0.0592)  loss_classifier: 0.0236 (0.0401)  loss_box_reg: 0.0106 (0.0129)  loss_objectness: 0.0001 (0.0008)  loss_rpn_box_reg: 0.0039 (0.0054)  time: 0.1967  data: 0.0063  max mem: 1053\n",
      "Epoch: [6]  [12000/26007]  eta: 0:46:12  lr: 0.010000  loss: 0.0375 (0.0593)  loss_classifier: 0.0203 (0.0403)  loss_box_reg: 0.0073 (0.0129)  loss_objectness: 0.0001 (0.0008)  loss_rpn_box_reg: 0.0042 (0.0053)  time: 0.1973  data: 0.0065  max mem: 1053\n",
      "Epoch: [6]  [13000/26007]  eta: 0:42:54  lr: 0.010000  loss: 0.0525 (0.0593)  loss_classifier: 0.0410 (0.0403)  loss_box_reg: 0.0084 (0.0129)  loss_objectness: 0.0001 (0.0008)  loss_rpn_box_reg: 0.0030 (0.0053)  time: 0.1972  data: 0.0062  max mem: 1053\n",
      "Epoch: [6]  [14000/26007]  eta: 0:39:36  lr: 0.010000  loss: 0.0258 (0.0593)  loss_classifier: 0.0164 (0.0403)  loss_box_reg: 0.0066 (0.0128)  loss_objectness: 0.0001 (0.0008)  loss_rpn_box_reg: 0.0026 (0.0053)  time: 0.1978  data: 0.0066  max mem: 1053\n",
      "Epoch: [6]  [15000/26007]  eta: 0:36:18  lr: 0.010000  loss: 0.0506 (0.0594)  loss_classifier: 0.0288 (0.0404)  loss_box_reg: 0.0119 (0.0128)  loss_objectness: 0.0001 (0.0008)  loss_rpn_box_reg: 0.0054 (0.0053)  time: 0.1981  data: 0.0068  max mem: 1053\n",
      "Epoch: [6]  [16000/26007]  eta: 0:33:00  lr: 0.010000  loss: 0.0568 (0.0595)  loss_classifier: 0.0288 (0.0405)  loss_box_reg: 0.0104 (0.0129)  loss_objectness: 0.0002 (0.0008)  loss_rpn_box_reg: 0.0036 (0.0053)  time: 0.1976  data: 0.0066  max mem: 1053\n",
      "Epoch: [6]  [17000/26007]  eta: 0:29:42  lr: 0.010000  loss: 0.0478 (0.0594)  loss_classifier: 0.0246 (0.0403)  loss_box_reg: 0.0078 (0.0129)  loss_objectness: 0.0001 (0.0008)  loss_rpn_box_reg: 0.0031 (0.0053)  time: 0.1987  data: 0.0070  max mem: 1053\n",
      "Epoch: [6]  [18000/26007]  eta: 0:26:24  lr: 0.010000  loss: 0.0321 (0.0594)  loss_classifier: 0.0173 (0.0404)  loss_box_reg: 0.0052 (0.0128)  loss_objectness: 0.0001 (0.0008)  loss_rpn_box_reg: 0.0034 (0.0053)  time: 0.1975  data: 0.0063  max mem: 1053\n",
      "Epoch: [6]  [19000/26007]  eta: 0:23:06  lr: 0.010000  loss: 0.0426 (0.0594)  loss_classifier: 0.0247 (0.0405)  loss_box_reg: 0.0080 (0.0128)  loss_objectness: 0.0000 (0.0008)  loss_rpn_box_reg: 0.0033 (0.0053)  time: 0.1986  data: 0.0072  max mem: 1053\n",
      "Epoch: [6]  [20000/26007]  eta: 0:19:48  lr: 0.010000  loss: 0.0685 (0.0596)  loss_classifier: 0.0368 (0.0407)  loss_box_reg: 0.0087 (0.0128)  loss_objectness: 0.0001 (0.0008)  loss_rpn_box_reg: 0.0041 (0.0053)  time: 0.1981  data: 0.0066  max mem: 1053\n",
      "Epoch: [6]  [21000/26007]  eta: 0:16:31  lr: 0.010000  loss: 0.0390 (0.0597)  loss_classifier: 0.0257 (0.0407)  loss_box_reg: 0.0093 (0.0128)  loss_objectness: 0.0000 (0.0008)  loss_rpn_box_reg: 0.0029 (0.0053)  time: 0.1995  data: 0.0072  max mem: 1053\n",
      "Epoch: [6]  [22000/26007]  eta: 0:13:13  lr: 0.010000  loss: 0.0421 (0.0599)  loss_classifier: 0.0263 (0.0409)  loss_box_reg: 0.0111 (0.0129)  loss_objectness: 0.0000 (0.0008)  loss_rpn_box_reg: 0.0030 (0.0053)  time: 0.1977  data: 0.0067  max mem: 1053\n",
      "Epoch: [6]  [23000/26007]  eta: 0:09:55  lr: 0.010000  loss: 0.0384 (0.0600)  loss_classifier: 0.0267 (0.0409)  loss_box_reg: 0.0070 (0.0129)  loss_objectness: 0.0001 (0.0008)  loss_rpn_box_reg: 0.0035 (0.0053)  time: 0.1982  data: 0.0072  max mem: 1053\n",
      "Epoch: [6]  [24000/26007]  eta: 0:06:37  lr: 0.010000  loss: 0.0439 (0.0601)  loss_classifier: 0.0276 (0.0410)  loss_box_reg: 0.0088 (0.0130)  loss_objectness: 0.0001 (0.0008)  loss_rpn_box_reg: 0.0026 (0.0053)  time: 0.1973  data: 0.0065  max mem: 1053\n",
      "Epoch: [6]  [25000/26007]  eta: 0:03:19  lr: 0.010000  loss: 0.0591 (0.0602)  loss_classifier: 0.0421 (0.0411)  loss_box_reg: 0.0086 (0.0130)  loss_objectness: 0.0001 (0.0008)  loss_rpn_box_reg: 0.0029 (0.0053)  time: 0.1979  data: 0.0070  max mem: 1053\n",
      "Epoch: [6]  [26000/26007]  eta: 0:00:01  lr: 0.010000  loss: 0.0444 (0.0602)  loss_classifier: 0.0260 (0.0411)  loss_box_reg: 0.0093 (0.0130)  loss_objectness: 0.0002 (0.0008)  loss_rpn_box_reg: 0.0041 (0.0053)  time: 0.1986  data: 0.0067  max mem: 1053\n",
      "Epoch: [6]  [26006/26007]  eta: 0:00:00  lr: 0.010000  loss: 0.0516 (0.0602)  loss_classifier: 0.0260 (0.0411)  loss_box_reg: 0.0071 (0.0130)  loss_objectness: 0.0001 (0.0008)  loss_rpn_box_reg: 0.0040 (0.0053)  time: 0.1981  data: 0.0068  max mem: 1053\n",
      "Epoch: [6] Total time: 1:25:48 (0.1979 s / it)\n",
      "creating index...\n",
      "index created!\n",
      "Test:  [   0/2890]  eta: 0:05:45  model_time: 0.0927 (0.0927)  evaluator_time: 0.0030 (0.0030)  time: 0.1197  data: 0.0080  max mem: 1053\n",
      "Test:  [ 100/2890]  eta: 0:04:20  model_time: 0.0793 (0.0799)  evaluator_time: 0.0030 (0.0033)  time: 0.0929  data: 0.0093  max mem: 1053\n",
      "Test:  [ 200/2890]  eta: 0:04:12  model_time: 0.0798 (0.0802)  evaluator_time: 0.0030 (0.0034)  time: 0.0959  data: 0.0093  max mem: 1053\n",
      "Test:  [ 300/2890]  eta: 0:04:03  model_time: 0.0808 (0.0802)  evaluator_time: 0.0030 (0.0034)  time: 0.0953  data: 0.0096  max mem: 1053\n",
      "Test:  [ 400/2890]  eta: 0:03:55  model_time: 0.0818 (0.0806)  evaluator_time: 0.0030 (0.0034)  time: 0.0955  data: 0.0093  max mem: 1053\n",
      "Test:  [ 500/2890]  eta: 0:03:47  model_time: 0.0828 (0.0810)  evaluator_time: 0.0040 (0.0035)  time: 0.0984  data: 0.0093  max mem: 1053\n",
      "Test:  [ 600/2890]  eta: 0:03:38  model_time: 0.0828 (0.0815)  evaluator_time: 0.0040 (0.0035)  time: 0.0977  data: 0.0096  max mem: 1053\n",
      "Test:  [ 700/2890]  eta: 0:03:29  model_time: 0.0838 (0.0818)  evaluator_time: 0.0040 (0.0036)  time: 0.0983  data: 0.0097  max mem: 1053\n"
     ]
    },
    {
     "name": "stdout",
     "output_type": "stream",
     "text": [
      "Test:  [ 800/2890]  eta: 0:03:20  model_time: 0.0837 (0.0820)  evaluator_time: 0.0040 (0.0036)  time: 0.0981  data: 0.0095  max mem: 1053\n",
      "Test:  [ 900/2890]  eta: 0:03:11  model_time: 0.0838 (0.0822)  evaluator_time: 0.0030 (0.0035)  time: 0.0985  data: 0.0095  max mem: 1053\n",
      "Test:  [1000/2890]  eta: 0:03:02  model_time: 0.0818 (0.0823)  evaluator_time: 0.0030 (0.0036)  time: 0.0975  data: 0.0095  max mem: 1053\n",
      "Test:  [1100/2890]  eta: 0:02:52  model_time: 0.0848 (0.0825)  evaluator_time: 0.0030 (0.0036)  time: 0.0990  data: 0.0095  max mem: 1053\n",
      "Test:  [1200/2890]  eta: 0:02:43  model_time: 0.0838 (0.0827)  evaluator_time: 0.0040 (0.0036)  time: 0.0998  data: 0.0101  max mem: 1053\n",
      "Test:  [1300/2890]  eta: 0:02:33  model_time: 0.0838 (0.0827)  evaluator_time: 0.0030 (0.0036)  time: 0.0970  data: 0.0088  max mem: 1053\n",
      "Test:  [1400/2890]  eta: 0:02:24  model_time: 0.0837 (0.0828)  evaluator_time: 0.0030 (0.0036)  time: 0.0972  data: 0.0091  max mem: 1053\n",
      "Test:  [1500/2890]  eta: 0:02:14  model_time: 0.0828 (0.0829)  evaluator_time: 0.0030 (0.0036)  time: 0.0979  data: 0.0092  max mem: 1053\n",
      "Test:  [1600/2890]  eta: 0:02:05  model_time: 0.0828 (0.0829)  evaluator_time: 0.0040 (0.0036)  time: 0.0977  data: 0.0090  max mem: 1053\n",
      "Test:  [1700/2890]  eta: 0:01:55  model_time: 0.0838 (0.0830)  evaluator_time: 0.0030 (0.0036)  time: 0.0999  data: 0.0088  max mem: 1053\n",
      "Test:  [1800/2890]  eta: 0:01:45  model_time: 0.0828 (0.0830)  evaluator_time: 0.0040 (0.0036)  time: 0.0969  data: 0.0093  max mem: 1053\n",
      "Test:  [1900/2890]  eta: 0:01:36  model_time: 0.0828 (0.0830)  evaluator_time: 0.0040 (0.0036)  time: 0.0982  data: 0.0094  max mem: 1053\n",
      "Test:  [2000/2890]  eta: 0:01:26  model_time: 0.0828 (0.0831)  evaluator_time: 0.0030 (0.0036)  time: 0.0972  data: 0.0092  max mem: 1053\n",
      "Test:  [2100/2890]  eta: 0:01:16  model_time: 0.0835 (0.0831)  evaluator_time: 0.0040 (0.0036)  time: 0.0983  data: 0.0097  max mem: 1053\n",
      "Test:  [2200/2890]  eta: 0:01:07  model_time: 0.0828 (0.0831)  evaluator_time: 0.0040 (0.0036)  time: 0.0974  data: 0.0096  max mem: 1053\n",
      "Test:  [2300/2890]  eta: 0:00:57  model_time: 0.0828 (0.0831)  evaluator_time: 0.0040 (0.0036)  time: 0.0972  data: 0.0094  max mem: 1053\n",
      "Test:  [2400/2890]  eta: 0:00:47  model_time: 0.0838 (0.0832)  evaluator_time: 0.0030 (0.0036)  time: 0.0983  data: 0.0094  max mem: 1053\n",
      "Test:  [2500/2890]  eta: 0:00:37  model_time: 0.0838 (0.0832)  evaluator_time: 0.0040 (0.0036)  time: 0.0980  data: 0.0090  max mem: 1053\n",
      "Test:  [2600/2890]  eta: 0:00:28  model_time: 0.0828 (0.0832)  evaluator_time: 0.0040 (0.0036)  time: 0.1004  data: 0.0090  max mem: 1053\n",
      "Test:  [2700/2890]  eta: 0:00:18  model_time: 0.0837 (0.0832)  evaluator_time: 0.0039 (0.0036)  time: 0.0980  data: 0.0090  max mem: 1053\n",
      "Test:  [2800/2890]  eta: 0:00:08  model_time: 0.0838 (0.0833)  evaluator_time: 0.0030 (0.0036)  time: 0.0981  data: 0.0090  max mem: 1053\n",
      "Test:  [2889/2890]  eta: 0:00:00  model_time: 0.0828 (0.0833)  evaluator_time: 0.0030 (0.0036)  time: 0.0969  data: 0.0090  max mem: 1053\n",
      "Test: Total time: 0:04:41 (0.0973 s / it)\n",
      "Averaged stats: model_time: 0.0828 (0.0833)  evaluator_time: 0.0030 (0.0036)\n",
      "Accumulating evaluation results...\n",
      "DONE (t=2.09s).\n",
      "IoU metric: bbox\n",
      " Average Precision  (AP) @[ IoU=0.50:0.95 | area=   all | maxDets=100 ] = 0.413\n",
      " Average Precision  (AP) @[ IoU=0.50      | area=   all | maxDets=100 ] = 0.621\n",
      " Average Precision  (AP) @[ IoU=0.75      | area=   all | maxDets=100 ] = 0.469\n",
      " Average Precision  (AP) @[ IoU=0.50:0.95 | area= small | maxDets=100 ] = -1.000\n",
      " Average Precision  (AP) @[ IoU=0.50:0.95 | area=medium | maxDets=100 ] = 0.023\n",
      " Average Precision  (AP) @[ IoU=0.50:0.95 | area= large | maxDets=100 ] = 0.415\n",
      " Average Recall     (AR) @[ IoU=0.50:0.95 | area=   all | maxDets=  1 ] = 0.602\n",
      " Average Recall     (AR) @[ IoU=0.50:0.95 | area=   all | maxDets= 10 ] = 0.607\n",
      " Average Recall     (AR) @[ IoU=0.50:0.95 | area=   all | maxDets=100 ] = 0.607\n",
      " Average Recall     (AR) @[ IoU=0.50:0.95 | area= small | maxDets=100 ] = -1.000\n",
      " Average Recall     (AR) @[ IoU=0.50:0.95 | area=medium | maxDets=100 ] = 0.035\n",
      " Average Recall     (AR) @[ IoU=0.50:0.95 | area= large | maxDets=100 ] = 0.609\n",
      "Epoch: [7]  [    0/26007]  eta: 1:32:56  lr: 0.010000  loss: 0.0609 (0.0609)  loss_classifier: 0.0472 (0.0472)  loss_box_reg: 0.0086 (0.0086)  loss_objectness: 0.0005 (0.0005)  loss_rpn_box_reg: 0.0047 (0.0047)  time: 0.2144  data: 0.0079  max mem: 1053\n",
      "Epoch: [7]  [ 1000/26007]  eta: 1:22:18  lr: 0.010000  loss: 0.0307 (0.0511)  loss_classifier: 0.0186 (0.0336)  loss_box_reg: 0.0080 (0.0116)  loss_objectness: 0.0001 (0.0007)  loss_rpn_box_reg: 0.0028 (0.0052)  time: 0.1977  data: 0.0066  max mem: 1053\n",
      "Epoch: [7]  [ 2000/26007]  eta: 1:19:05  lr: 0.010000  loss: 0.0310 (0.0511)  loss_classifier: 0.0158 (0.0334)  loss_box_reg: 0.0116 (0.0119)  loss_objectness: 0.0000 (0.0007)  loss_rpn_box_reg: 0.0040 (0.0051)  time: 0.1975  data: 0.0065  max mem: 1053\n",
      "Epoch: [7]  [ 3000/26007]  eta: 1:15:49  lr: 0.010000  loss: 0.0328 (0.0506)  loss_classifier: 0.0192 (0.0330)  loss_box_reg: 0.0115 (0.0118)  loss_objectness: 0.0000 (0.0007)  loss_rpn_box_reg: 0.0030 (0.0052)  time: 0.1974  data: 0.0066  max mem: 1053\n",
      "Epoch: [7]  [ 4000/26007]  eta: 1:12:34  lr: 0.010000  loss: 0.0338 (0.0509)  loss_classifier: 0.0172 (0.0333)  loss_box_reg: 0.0065 (0.0118)  loss_objectness: 0.0000 (0.0006)  loss_rpn_box_reg: 0.0024 (0.0051)  time: 0.1984  data: 0.0071  max mem: 1053\n",
      "Epoch: [7]  [ 5000/26007]  eta: 1:09:16  lr: 0.010000  loss: 0.0273 (0.0516)  loss_classifier: 0.0125 (0.0338)  loss_box_reg: 0.0049 (0.0120)  loss_objectness: 0.0000 (0.0007)  loss_rpn_box_reg: 0.0036 (0.0052)  time: 0.1983  data: 0.0073  max mem: 1053\n",
      "Epoch: [7]  [ 6000/26007]  eta: 1:05:58  lr: 0.010000  loss: 0.0264 (0.0522)  loss_classifier: 0.0141 (0.0344)  loss_box_reg: 0.0067 (0.0119)  loss_objectness: 0.0000 (0.0007)  loss_rpn_box_reg: 0.0036 (0.0052)  time: 0.1983  data: 0.0068  max mem: 1053\n",
      "Epoch: [7]  [ 7000/26007]  eta: 1:02:40  lr: 0.010000  loss: 0.0361 (0.0523)  loss_classifier: 0.0205 (0.0345)  loss_box_reg: 0.0074 (0.0119)  loss_objectness: 0.0001 (0.0007)  loss_rpn_box_reg: 0.0038 (0.0052)  time: 0.1976  data: 0.0068  max mem: 1053\n",
      "Epoch: [7]  [ 8000/26007]  eta: 0:59:22  lr: 0.010000  loss: 0.0392 (0.0523)  loss_classifier: 0.0230 (0.0345)  loss_box_reg: 0.0081 (0.0119)  loss_objectness: 0.0001 (0.0007)  loss_rpn_box_reg: 0.0031 (0.0052)  time: 0.1972  data: 0.0063  max mem: 1053\n",
      "Epoch: [7]  [ 9000/26007]  eta: 0:56:04  lr: 0.010000  loss: 0.0517 (0.0526)  loss_classifier: 0.0348 (0.0347)  loss_box_reg: 0.0100 (0.0120)  loss_objectness: 0.0001 (0.0008)  loss_rpn_box_reg: 0.0030 (0.0052)  time: 0.1974  data: 0.0072  max mem: 1053\n",
      "Epoch: [7]  [10000/26007]  eta: 0:52:47  lr: 0.010000  loss: 0.0384 (0.0529)  loss_classifier: 0.0212 (0.0349)  loss_box_reg: 0.0116 (0.0120)  loss_objectness: 0.0001 (0.0007)  loss_rpn_box_reg: 0.0029 (0.0052)  time: 0.1980  data: 0.0069  max mem: 1053\n",
      "Epoch: [7]  [11000/26007]  eta: 0:49:29  lr: 0.010000  loss: 0.0367 (0.0530)  loss_classifier: 0.0248 (0.0350)  loss_box_reg: 0.0071 (0.0120)  loss_objectness: 0.0001 (0.0007)  loss_rpn_box_reg: 0.0034 (0.0052)  time: 0.1979  data: 0.0072  max mem: 1053\n",
      "Epoch: [7]  [12000/26007]  eta: 0:46:11  lr: 0.010000  loss: 0.0392 (0.0531)  loss_classifier: 0.0223 (0.0351)  loss_box_reg: 0.0067 (0.0120)  loss_objectness: 0.0000 (0.0007)  loss_rpn_box_reg: 0.0029 (0.0052)  time: 0.1972  data: 0.0064  max mem: 1053\n",
      "Epoch: [7]  [13000/26007]  eta: 0:42:53  lr: 0.010000  loss: 0.0347 (0.0530)  loss_classifier: 0.0234 (0.0351)  loss_box_reg: 0.0074 (0.0120)  loss_objectness: 0.0000 (0.0007)  loss_rpn_box_reg: 0.0040 (0.0052)  time: 0.1980  data: 0.0069  max mem: 1053\n",
      "Epoch: [7]  [14000/26007]  eta: 0:39:35  lr: 0.010000  loss: 0.0392 (0.0530)  loss_classifier: 0.0301 (0.0350)  loss_box_reg: 0.0083 (0.0121)  loss_objectness: 0.0000 (0.0007)  loss_rpn_box_reg: 0.0040 (0.0052)  time: 0.1983  data: 0.0066  max mem: 1053\n",
      "Epoch: [7]  [15000/26007]  eta: 0:36:17  lr: 0.010000  loss: 0.0283 (0.0531)  loss_classifier: 0.0172 (0.0352)  loss_box_reg: 0.0073 (0.0121)  loss_objectness: 0.0000 (0.0007)  loss_rpn_box_reg: 0.0035 (0.0052)  time: 0.1972  data: 0.0066  max mem: 1053\n"
     ]
    },
    {
     "name": "stdout",
     "output_type": "stream",
     "text": [
      "Epoch: [7]  [16000/26007]  eta: 0:33:02  lr: 0.010000  loss: 0.0374 (0.0532)  loss_classifier: 0.0172 (0.0353)  loss_box_reg: 0.0061 (0.0121)  loss_objectness: 0.0001 (0.0007)  loss_rpn_box_reg: 0.0030 (0.0052)  time: 0.2175  data: 0.0073  max mem: 1053\n",
      "Epoch: [7]  [17000/26007]  eta: 0:29:52  lr: 0.010000  loss: 0.0369 (0.0532)  loss_classifier: 0.0215 (0.0352)  loss_box_reg: 0.0092 (0.0121)  loss_objectness: 0.0001 (0.0007)  loss_rpn_box_reg: 0.0032 (0.0051)  time: 0.2123  data: 0.0088  max mem: 1053\n",
      "Epoch: [7]  [18000/26007]  eta: 0:26:39  lr: 0.010000  loss: 0.0333 (0.0530)  loss_classifier: 0.0231 (0.0351)  loss_box_reg: 0.0068 (0.0120)  loss_objectness: 0.0001 (0.0007)  loss_rpn_box_reg: 0.0030 (0.0051)  time: 0.2114  data: 0.0080  max mem: 1053\n",
      "Epoch: [7]  [19000/26007]  eta: 0:23:24  lr: 0.010000  loss: 0.0364 (0.0531)  loss_classifier: 0.0249 (0.0352)  loss_box_reg: 0.0076 (0.0120)  loss_objectness: 0.0001 (0.0007)  loss_rpn_box_reg: 0.0035 (0.0052)  time: 0.2089  data: 0.0072  max mem: 1053\n",
      "Epoch: [7]  [20000/26007]  eta: 0:20:09  lr: 0.010000  loss: 0.0462 (0.0531)  loss_classifier: 0.0308 (0.0352)  loss_box_reg: 0.0087 (0.0120)  loss_objectness: 0.0001 (0.0007)  loss_rpn_box_reg: 0.0043 (0.0051)  time: 0.2180  data: 0.0069  max mem: 1053\n",
      "Epoch: [7]  [21000/26007]  eta: 0:16:52  lr: 0.010000  loss: 0.0392 (0.0533)  loss_classifier: 0.0247 (0.0354)  loss_box_reg: 0.0081 (0.0120)  loss_objectness: 0.0002 (0.0007)  loss_rpn_box_reg: 0.0050 (0.0052)  time: 0.2208  data: 0.0073  max mem: 1053\n",
      "Epoch: [7]  [22000/26007]  eta: 0:13:33  lr: 0.010000  loss: 0.0347 (0.0533)  loss_classifier: 0.0255 (0.0354)  loss_box_reg: 0.0059 (0.0120)  loss_objectness: 0.0001 (0.0007)  loss_rpn_box_reg: 0.0035 (0.0052)  time: 0.2196  data: 0.0066  max mem: 1053\n",
      "Epoch: [7]  [23000/26007]  eta: 0:10:12  lr: 0.010000  loss: 0.0268 (0.0533)  loss_classifier: 0.0166 (0.0354)  loss_box_reg: 0.0075 (0.0120)  loss_objectness: 0.0000 (0.0007)  loss_rpn_box_reg: 0.0020 (0.0052)  time: 0.2245  data: 0.0073  max mem: 1053\n"
     ]
    }
   ],
   "source": [
    "for epoch in range(epochs):\n",
    "    train_one_epoch(model, optimizer, train_loader, device, epoch, print_freq=1000)\n",
    "    evaluate(model, val_loader, device)\n",
    "    \n",
    "    # overwrite model weights file\n",
    "    torch.save(model.state_dict(), MODEL_PATH)"
   ]
  }
 ],
 "metadata": {
  "accelerator": "GPU",
  "colab": {
   "authorship_tag": "ABX9TyMEED9oymhB2SYDFZhAXOf8",
   "collapsed_sections": [],
   "include_colab_link": true,
   "name": "food_classification_v1.ipynb",
   "private_outputs": true,
   "provenance": [],
   "toc_visible": true
  },
  "kernelspec": {
   "display_name": "Python 3",
   "language": "python",
   "name": "python3"
  },
  "language_info": {
   "codemirror_mode": {
    "name": "ipython",
    "version": 3
   },
   "file_extension": ".py",
   "mimetype": "text/x-python",
   "name": "python",
   "nbconvert_exporter": "python",
   "pygments_lexer": "ipython3",
   "version": "3.7.5"
  }
 },
 "nbformat": 4,
 "nbformat_minor": 1
}
