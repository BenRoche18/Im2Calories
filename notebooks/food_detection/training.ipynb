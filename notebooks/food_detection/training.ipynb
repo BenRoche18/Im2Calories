{
 "cells": [
  {
   "cell_type": "markdown",
   "metadata": {
    "colab_type": "text",
    "id": "i_nLyDv8Vm2C"
   },
   "source": [
    "# Set up environment"
   ]
  },
  {
   "cell_type": "code",
   "execution_count": 1,
   "metadata": {
    "colab": {},
    "colab_type": "code",
    "id": "ISJ0ihdNdjhS"
   },
   "outputs": [],
   "source": [
    "import torch\n",
    "import torchvision\n",
    "import torchvision.transforms as transforms\n",
    "from torchsummary import summary\n",
    "\n",
    "import os\n",
    "import matplotlib.pyplot as plt\n",
    "import matplotlib.patches as patches\n",
    "import numpy as np\n",
    "import copy\n",
    "import shutil\n",
    "from PIL import Image\n",
    "from tqdm.autonotebook import tqdm\n",
    "import sys\n",
    "import xml.etree.cElementTree as ET"
   ]
  },
  {
   "cell_type": "markdown",
   "metadata": {},
   "source": [
    "## Import utility functions from Pytorch"
   ]
  },
  {
   "cell_type": "code",
   "execution_count": 2,
   "metadata": {},
   "outputs": [],
   "source": [
    "ROOT_DIR = os.path.dirname(os.path.dirname(os.getcwd()))\n",
    "\n",
    "sys.path.append(os.path.join(ROOT_DIR, \"utilities\"))\n",
    "\n",
    "from engine import train_one_epoch, evaluate\n",
    "import utils"
   ]
  },
  {
   "cell_type": "markdown",
   "metadata": {
    "colab_type": "text",
    "id": "0wjsABqdVyKa"
   },
   "source": [
    "## Enable GPU"
   ]
  },
  {
   "cell_type": "code",
   "execution_count": 3,
   "metadata": {
    "colab": {},
    "colab_type": "code",
    "id": "7rQNqPXEV4Ad"
   },
   "outputs": [
    {
     "name": "stdout",
     "output_type": "stream",
     "text": [
      "Running on cuda:0\n"
     ]
    }
   ],
   "source": [
    "device = torch.device(\"cuda:0\" if torch.cuda.is_available() else \"cpu\")\n",
    "print(\"Running on\", device)"
   ]
  },
  {
   "cell_type": "markdown",
   "metadata": {
    "colab_type": "text",
    "id": "C8eHVTWDif9d"
   },
   "source": [
    "## Declare parameters"
   ]
  },
  {
   "cell_type": "code",
   "execution_count": 4,
   "metadata": {
    "colab": {},
    "colab_type": "code",
    "id": "-Y0qqicdirJ_"
   },
   "outputs": [],
   "source": [
    "IMAGE_SIZE = 512\n",
    "BATCH_SIZE = 1"
   ]
  },
  {
   "cell_type": "markdown",
   "metadata": {
    "colab_type": "text",
    "id": "WUlZthLcWNJT"
   },
   "source": [
    "# Input data"
   ]
  },
  {
   "cell_type": "markdown",
   "metadata": {
    "colab_type": "text",
    "id": "ylfT9aiQe-6J"
   },
   "source": [
    "## Download Food256 dataset\n",
    "\n",
    "To extend the food classification into food detection I will need a dataset that includes bounding boxes, thus I have used food-256 including 256 different classes that contain atleast 100 images each. If the given directory not found then dataset is downloaded and extracted."
   ]
  },
  {
   "cell_type": "code",
   "execution_count": 5,
   "metadata": {
    "colab": {},
    "colab_type": "code",
    "id": "zXbE44oDfDGm"
   },
   "outputs": [],
   "source": [
    "FOOD256_DIR = os.path.join(os.path.abspath(os.sep), \"Datasets\", \"food256\")\n",
    "\n",
    "if not os.path.exists(FOOD256_DIR):\n",
    "  print(\"Downloading Food-256 dataset... \", end=\"\")\n",
    "  !wget http://foodcam.mobi/dataset256.zip\n",
    "  print(\"Done\")\n",
    "\n",
    "\n",
    "  print(\"Extracting data... \", end=\"\")\n",
    "  !unzip dataset256.zip\n",
    "  print(\"Done\")"
   ]
  },
  {
   "cell_type": "markdown",
   "metadata": {},
   "source": [
    "## Format dataset in VOC Format\n",
    "\n",
    "Please refer to format_voc notebook in utilities directory."
   ]
  },
  {
   "cell_type": "markdown",
   "metadata": {},
   "source": [
    "## Define FoodDataset class"
   ]
  },
  {
   "cell_type": "code",
   "execution_count": 6,
   "metadata": {},
   "outputs": [],
   "source": [
    "class FoodDataset(torch.utils.data.Dataset):\n",
    "    def __init__(self, root, images, transform=None):\n",
    "        self.root = root\n",
    "        self.transform = transform\n",
    "        self.images = images\n",
    "        self.classes = self.getClasses()\n",
    "                \n",
    "                \n",
    "    def getClasses(self):\n",
    "        classes = []\n",
    "        with open(os.path.join(self.root, \"category.txt\"), 'r') as file:\n",
    "            file.readline()\n",
    "            for line in file.readlines():\n",
    "                classes.append(line.strip().split(\"\\t\")[1])\n",
    "        return classes\n",
    "    \n",
    "    \n",
    "    def getLabels(self, img_id):\n",
    "        # open annotations file\n",
    "        tree = ET.parse(os.path.join(self.root, \"Annotations\", img_id+'.xml'))\n",
    "        root = tree.getroot()\n",
    "        \n",
    "        boxes = []\n",
    "        areas = []\n",
    "        labels = []\n",
    "    \n",
    "        # read bounding boxes\n",
    "        for obj in root.findall('object'):\n",
    "            class_name = obj.find('name').text\n",
    "\n",
    "            # get bounding box\n",
    "            box = obj.find('bndbox')\n",
    "            x1 = float(box.find('xmin').text)\n",
    "            y1 = float(box.find('ymin').text)\n",
    "            x2 = float(box.find('xmax').text)\n",
    "            y2 = float(box.find('ymax').text)\n",
    "\n",
    "            boxes.append([x1, y1, x2, y2])\n",
    "            areas.append((x2-x1)*(y2-y1))\n",
    "            labels.append(self.classes.index(class_name))\n",
    "        \n",
    "        return boxes, areas, labels\n",
    "\n",
    "        \n",
    "    def __getitem__(self, index):\n",
    "        # image\n",
    "        img_path = os.path.join(self.root, \"JPEGImages\", self.images[index])\n",
    "        img = Image.open(img_path).convert(\"RGB\")\n",
    "        \n",
    "        # annotations\n",
    "        boxes, areas, labels = self.getLabels(self.images[index].split('.')[0])\n",
    "\n",
    "        target = {\n",
    "            \"image_id\": torch.tensor([index]),\n",
    "            \"labels\": torch.as_tensor(labels, dtype=torch.int64),\n",
    "            \"boxes\": torch.as_tensor(boxes, dtype=torch.float32),\n",
    "            \"area\": torch.as_tensor(areas),\n",
    "            \"iscrowd\": torch.zeros((len(labels),), dtype=torch.int64)\n",
    "        }\n",
    "        \n",
    "        if self.transform is not None:\n",
    "            img, target = self.transform(img, target)\n",
    "            \n",
    "        return img, target\n",
    "        \n",
    "    \n",
    "    def __len__(self):\n",
    "        return len(self.images)"
   ]
  },
  {
   "cell_type": "markdown",
   "metadata": {},
   "source": [
    "## Format images for model input"
   ]
  },
  {
   "cell_type": "code",
   "execution_count": 7,
   "metadata": {},
   "outputs": [],
   "source": [
    "# custom transform for R-CNN input\n",
    "class CustomTransform:\n",
    "    def __init__(self, image_size):\n",
    "        self.image_size = image_size\n",
    "        \n",
    "    def __call__(self, img, target):\n",
    "        # resize to a max of IMAGE_SIZE\n",
    "        w, h = img.size\n",
    "        scale = min(IMAGE_SIZE/w, IMAGE_SIZE/h)\n",
    "        img = transforms.functional.resize(img, (int(h*scale), int(w*scale)))\n",
    "        \n",
    "        # update bounding boxes\n",
    "        target[\"boxes\"] *= scale\n",
    "        \n",
    "        # update areas\n",
    "        target[\"area\"] *= scale**2\n",
    "        \n",
    "        # add padding to a size of IMAGE_SIZE\n",
    "        img = transforms.functional.pad(img, (0, 0, IMAGE_SIZE-int(w*scale), IMAGE_SIZE-int(h*scale)))\n",
    "        \n",
    "        # convert to tensor\n",
    "        img = transforms.functional.to_tensor(img)\n",
    "\n",
    "        # normalize\n",
    "        img = transforms.functional.normalize(img, [0.485, 0.456, 0.406], [0.229, 0.224, 0.225])\n",
    "        \n",
    "        return img, target\n",
    "\n",
    "transform = CustomTransform(image_size=IMAGE_SIZE)"
   ]
  },
  {
   "cell_type": "markdown",
   "metadata": {},
   "source": [
    "## Read training and validations splits"
   ]
  },
  {
   "cell_type": "code",
   "execution_count": 8,
   "metadata": {},
   "outputs": [
    {
     "name": "stdout",
     "output_type": "stream",
     "text": [
      "Number of training images: 26007\n",
      "Number of validation images: 2890\n"
     ]
    }
   ],
   "source": [
    "SPLIT_DIR = os.path.join(FOOD256_DIR, \"ImageSets\", \"Main\")\n",
    "\n",
    "with open(os.path.join(SPLIT_DIR, \"train.txt\"), 'r') as file:\n",
    "    images = [x.strip() for x in file.readlines()]\n",
    "    train_raw = FoodDataset(FOOD256_DIR, images, transform=transform)\n",
    "    \n",
    "with open(os.path.join(SPLIT_DIR, \"val.txt\"), 'r') as file:\n",
    "    images = [x.strip() for x in file.readlines()]\n",
    "    val_raw = FoodDataset(FOOD256_DIR, images, transform=transform)\n",
    "\n",
    "train_size = len(train_raw)\n",
    "val_size = len(val_raw)\n",
    "\n",
    "class_names = train_raw.classes\n",
    "\n",
    "print(\"Number of training images: {0}\".format(train_size))\n",
    "print(\"Number of validation images: {0}\".format(val_size))"
   ]
  },
  {
   "cell_type": "markdown",
   "metadata": {},
   "source": [
    "## Batch datasets for training and evaluation"
   ]
  },
  {
   "cell_type": "code",
   "execution_count": 9,
   "metadata": {},
   "outputs": [],
   "source": [
    "# define how to batch data (i.e not combine target dicitonaries)\n",
    "def collate_fn(batch):\n",
    "    return tuple(zip(*batch))\n",
    "\n",
    "train_loader = torch.utils.data.DataLoader(train_raw, batch_size=BATCH_SIZE, shuffle=True, collate_fn=collate_fn)\n",
    "val_loader = torch.utils.data.DataLoader(val_raw, batch_size=BATCH_SIZE, shuffle=True, collate_fn=collate_fn)"
   ]
  },
  {
   "cell_type": "markdown",
   "metadata": {},
   "source": [
    "## Show example training image with bounding boxes"
   ]
  },
  {
   "cell_type": "code",
   "execution_count": 10,
   "metadata": {
    "colab": {},
    "colab_type": "code",
    "id": "pXJIlUvAmRJO"
   },
   "outputs": [
    {
     "data": {
      "image/png": "[encoded data removed]",
      "text/plain": [
       "<Figure size 432x288 with 1 Axes>"
      ]
     },
     "execution_count": 10,
     "metadata": {},
     "output_type": "execute_result"
    }
   ],
   "source": [
    "fig, axis= plt.subplots(1)\n",
    "\n",
    "#randomly select image from dataset\n",
    "i = np.random.randint(train_size)\n",
    "img = train_raw[i][0].clone().numpy()\n",
    "\n",
    "# unnormalize\n",
    "img[0] = img[0] * 0.229\n",
    "img[1] = img[1] * 0.224 \n",
    "img[2] = img[2] * 0.225 \n",
    "img[0] += 0.485 \n",
    "img[1] += 0.456 \n",
    "img[2] += 0.406\n",
    "    \n",
    "img = np.transpose(img, (1,2,0))\n",
    "img = np.clip(img, 0, 1)\n",
    "plt.imshow(img)\n",
    "\n",
    "labels = train_raw[i][1][\"labels\"]\n",
    "boxes = train_raw[i][1][\"boxes\"]\n",
    "\n",
    "# draw bounding boxes\n",
    "for i in range(len(labels)):\n",
    "    x1, y1, x2, y2 = boxes[i]\n",
    "    box = patches.Rectangle((x1, y1), x2-x1, y2-y1, linewidth=2, edgecolor='r', facecolor='none')\n",
    "    axis.add_patch(box)\n",
    "    axis.text(x1, y2, class_names[labels[i]-1], fontdict=dict(color='w', weight='bold'), bbox=dict(facecolor='r', edgecolor='none'))\n",
    "\n",
    "fig"
   ]
  },
  {
   "cell_type": "markdown",
   "metadata": {
    "colab_type": "text",
    "id": "Xzgyw9d1YtJx"
   },
   "source": [
    "# Model\n",
    "\n",
    "In order to train the food detector I will train from a pretrained Faster R-CNN model."
   ]
  },
  {
   "cell_type": "markdown",
   "metadata": {},
   "source": [
    "## Declare backbone model architecture\n",
    "\n",
    "Currently supports:\n",
    "    - resnet_50\n",
    "    - mobilenet_v2"
   ]
  },
  {
   "cell_type": "code",
   "execution_count": 11,
   "metadata": {},
   "outputs": [],
   "source": [
    "MODEL_NAME = \"mobilenet_v2\""
   ]
  },
  {
   "cell_type": "markdown",
   "metadata": {},
   "source": [
    "## Fetch pretrainied backbone and create RCNN\n",
    "\n",
    "We can speed up convergence by using a backbone feature extractor trained on the Food101 dataset, except for the resnet-50 architecture which will be pretrained on coco."
   ]
  },
  {
   "cell_type": "code",
   "execution_count": 13,
   "metadata": {},
   "outputs": [
    {
     "name": "stdout",
     "output_type": "stream",
     "text": [
      "Fetching pretrained model... done\n"
     ]
    }
   ],
   "source": [
    "print(\"Fetching pretrained model... \", end=\"\")\n",
    "\n",
    "if MODEL_NAME == \"resnet_50\":\n",
    "    # fetch pretrained faster RCNN model with default resnet-50 backbone\n",
    "    model = torchvision.models.detection.fasterrcnn_resnet50_fpn(pretrained=True)\n",
    "    \n",
    "    # replace classification head\n",
    "    in_features = model.roi_heads.box_predictor.cls_score.in_features\n",
    "    model.roi_heads.box_predictor = torchvision.models.detection.faster_rcnn.FastRCNNPredictor(in_features, len(class_names)+1)\n",
    "\n",
    "    \n",
    "elif MODEL_NAME == \"mobilenet_v2\":\n",
    "    BACKBONE_PATH = os.path.join(ROOT_DIR, \"models\", \"food_classification\", MODEL_NAME, \"fine_tuning.pt\")\n",
    "    \n",
    "    # fetch backbone model architecture\n",
    "    backbone = torchvision.models.mobilenet_v2(pretrained=False)\n",
    "    \n",
    "    # replace classification head\n",
    "    num_features = backbone.classifier[1].in_features\n",
    "    backbone.classifier[1] = torch.nn.Linear(num_features, 101)\n",
    "\n",
    "    # load trained weights\n",
    "    backbone.load_state_dict(torch.load(BACKBONE_PATH))\n",
    "\n",
    "    # remove classification head\n",
    "    backbone = backbone.features\n",
    "    backbone.out_channels = 1280\n",
    "    \n",
    "    # encapsulate backbone within faster RCNN model\n",
    "    anchor_generator = torchvision.models.detection.rpn.AnchorGenerator(sizes=((32, 64, 128, 256, 512),), aspect_ratios=((0.5, 1.0, 2.0),))\n",
    "    roi_pooler = torchvision.ops.MultiScaleRoIAlign(featmap_names=['0'], output_size=7, sampling_ratio=2)\n",
    "    model = torchvision.models.detection.FasterRCNN(backbone, num_classes=len(class_names), rpn_anchor_generator=anchor_generator, box_roi_pool=roi_pooler)\n",
    "\n",
    "\n",
    "model = model.to(device)\n",
    "print(\"done\")"
   ]
  },
  {
   "cell_type": "markdown",
   "metadata": {},
   "source": [
    "## Load checkpoint if weights file exists"
   ]
  },
  {
   "cell_type": "code",
   "execution_count": 14,
   "metadata": {},
   "outputs": [],
   "source": [
    "MODEL_PATH = os.path.join(ROOT_DIR, \"models\", \"food_detection\", MODEL_NAME, \"fine_tuning.pt\")\n",
    "\n",
    "if os.path.exists(MODEL_PATH):\n",
    "    print(\"Loading weights from checkpoint...\", end=\"\")\n",
    "    model.load_state_dict(torch.load(MODEL_PATH))\n",
    "    print(\"done\")"
   ]
  },
  {
   "cell_type": "markdown",
   "metadata": {
    "colab_type": "text",
    "id": "uvnnS8hWjPSV"
   },
   "source": [
    "# Train via fine-tuning"
   ]
  },
  {
   "cell_type": "markdown",
   "metadata": {
    "colab_type": "text",
    "id": "xGOLOjPWHxtO"
   },
   "source": [
    "## Declare training parameters"
   ]
  },
  {
   "cell_type": "code",
   "execution_count": 15,
   "metadata": {
    "colab": {},
    "colab_type": "code",
    "id": "iK1NBW85H1q0"
   },
   "outputs": [],
   "source": [
    "learning_rate = 0.01\n",
    "epochs = 5\n",
    "\n",
    "# fetch trainable parameters for transfer learning(where requires_grad = true)\n",
    "params = [p for p in model.parameters() if p.requires_grad]\n",
    "\n",
    "optimizer = torch.optim.SGD(params, lr=learning_rate)"
   ]
  },
  {
   "cell_type": "markdown",
   "metadata": {
    "colab_type": "text",
    "id": "sg6d4uuPkWUM"
   },
   "source": [
    "## Train and save model"
   ]
  },
  {
   "cell_type": "code",
   "execution_count": 16,
   "metadata": {},
   "outputs": [
    {
     "name": "stdout",
     "output_type": "stream",
     "text": [
      "Epoch: [0]  [    0/26007]  eta: 11:40:51  lr: 0.000020  loss: 6.2970 (6.2970)  loss_classifier: 5.5254 (5.5254)  loss_box_reg: 0.0445 (0.0445)  loss_objectness: 0.7071 (0.7071)  loss_rpn_box_reg: 0.0200 (0.0200)  time: 1.6169  data: 0.0090  max mem: 1559\n",
      "Epoch: [0]  [ 1000/26007]  eta: 1:16:02  lr: 0.010000  loss: 0.3612 (0.7826)  loss_classifier: 0.2202 (0.4925)  loss_box_reg: 0.0836 (0.0802)  loss_objectness: 0.0175 (0.1529)  loss_rpn_box_reg: 0.0443 (0.0570)  time: 0.1836  data: 0.0079  max mem: 1817\n",
      "Epoch: [0]  [ 2000/26007]  eta: 1:14:04  lr: 0.010000  loss: 0.3102 (0.5678)  loss_classifier: 0.1848 (0.3486)  loss_box_reg: 0.0669 (0.0765)  loss_objectness: 0.0090 (0.0914)  loss_rpn_box_reg: 0.0214 (0.0513)  time: 0.1945  data: 0.0106  max mem: 1817\n",
      "Epoch: [0]  [ 3000/26007]  eta: 1:12:27  lr: 0.010000  loss: 0.3432 (0.4988)  loss_classifier: 0.2188 (0.3065)  loss_box_reg: 0.0762 (0.0775)  loss_objectness: 0.0081 (0.0687)  loss_rpn_box_reg: 0.0227 (0.0461)  time: 0.1866  data: 0.0095  max mem: 1817\n",
      "Epoch: [0]  [ 4000/26007]  eta: 1:11:22  lr: 0.010000  loss: 0.2995 (0.4607)  loss_classifier: 0.1955 (0.2822)  loss_box_reg: 0.0630 (0.0763)  loss_objectness: 0.0116 (0.0581)  loss_rpn_box_reg: 0.0220 (0.0440)  time: 0.2375  data: 0.0538  max mem: 1817\n",
      "Epoch: [0]  [ 5000/26007]  eta: 1:10:25  lr: 0.010000  loss: 0.2734 (0.4368)  loss_classifier: 0.1859 (0.2694)  loss_box_reg: 0.0541 (0.0759)  loss_objectness: 0.0065 (0.0499)  loss_rpn_box_reg: 0.0243 (0.0416)  time: 0.2421  data: 0.0565  max mem: 1817\n",
      "Epoch: [0]  [ 6000/26007]  eta: 1:08:03  lr: 0.010000  loss: 0.3189 (0.4206)  loss_classifier: 0.1987 (0.2609)  loss_box_reg: 0.0673 (0.0750)  loss_objectness: 0.0083 (0.0447)  loss_rpn_box_reg: 0.0244 (0.0400)  time: 0.2138  data: 0.0351  max mem: 1817\n",
      "Epoch: [0]  [ 7000/26007]  eta: 1:05:30  lr: 0.010000  loss: 0.2431 (0.4076)  loss_classifier: 0.1685 (0.2536)  loss_box_reg: 0.0456 (0.0734)  loss_objectness: 0.0057 (0.0415)  loss_rpn_box_reg: 0.0188 (0.0390)  time: 0.2204  data: 0.0376  max mem: 1817\n",
      "Epoch: [0]  [ 8000/26007]  eta: 1:02:31  lr: 0.010000  loss: 0.2571 (0.3997)  loss_classifier: 0.1732 (0.2499)  loss_box_reg: 0.0415 (0.0725)  loss_objectness: 0.0044 (0.0390)  loss_rpn_box_reg: 0.0224 (0.0383)  time: 0.2159  data: 0.0349  max mem: 1817\n",
      "Epoch: [0]  [ 9000/26007]  eta: 0:59:19  lr: 0.010000  loss: 0.3235 (0.3940)  loss_classifier: 0.2414 (0.2477)  loss_box_reg: 0.0581 (0.0714)  loss_objectness: 0.0047 (0.0371)  loss_rpn_box_reg: 0.0217 (0.0377)  time: 0.2344  data: 0.0456  max mem: 1817\n",
      "Epoch: [0]  [10000/26007]  eta: 0:56:00  lr: 0.010000  loss: 0.2988 (0.3889)  loss_classifier: 0.2163 (0.2473)  loss_box_reg: 0.0424 (0.0701)  loss_objectness: 0.0039 (0.0349)  loss_rpn_box_reg: 0.0131 (0.0366)  time: 0.2096  data: 0.0330  max mem: 1817\n",
      "Epoch: [0]  [11000/26007]  eta: 0:52:47  lr: 0.010000  loss: 0.2919 (0.3845)  loss_classifier: 0.2271 (0.2470)  loss_box_reg: 0.0354 (0.0686)  loss_objectness: 0.0038 (0.0331)  loss_rpn_box_reg: 0.0252 (0.0358)  time: 0.2233  data: 0.0372  max mem: 1817\n",
      "Epoch: [0]  [12000/26007]  eta: 0:49:17  lr: 0.010000  loss: 0.2826 (0.3799)  loss_classifier: 0.2089 (0.2462)  loss_box_reg: 0.0298 (0.0669)  loss_objectness: 0.0039 (0.0317)  loss_rpn_box_reg: 0.0189 (0.0351)  time: 0.2093  data: 0.0325  max mem: 1817\n",
      "Epoch: [0]  [13000/26007]  eta: 0:45:55  lr: 0.010000  loss: 0.2800 (0.3752)  loss_classifier: 0.1984 (0.2451)  loss_box_reg: 0.0325 (0.0650)  loss_objectness: 0.0100 (0.0305)  loss_rpn_box_reg: 0.0214 (0.0346)  time: 0.2245  data: 0.0422  max mem: 1817\n",
      "Epoch: [0]  [14000/26007]  eta: 0:42:26  lr: 0.010000  loss: 0.2711 (0.3706)  loss_classifier: 0.2096 (0.2439)  loss_box_reg: 0.0280 (0.0632)  loss_objectness: 0.0033 (0.0294)  loss_rpn_box_reg: 0.0134 (0.0341)  time: 0.2118  data: 0.0316  max mem: 1817\n",
      "Epoch: [0]  [15000/26007]  eta: 0:38:58  lr: 0.010000  loss: 0.2956 (0.3670)  loss_classifier: 0.2352 (0.2436)  loss_box_reg: 0.0243 (0.0616)  loss_objectness: 0.0039 (0.0284)  loss_rpn_box_reg: 0.0218 (0.0335)  time: 0.2082  data: 0.0357  max mem: 1817\n",
      "Epoch: [0]  [16000/26007]  eta: 0:35:24  lr: 0.010000  loss: 0.2776 (0.3635)  loss_classifier: 0.2244 (0.2432)  loss_box_reg: 0.0272 (0.0599)  loss_objectness: 0.0040 (0.0274)  loss_rpn_box_reg: 0.0171 (0.0329)  time: 0.1937  data: 0.0327  max mem: 1817\n",
      "Epoch: [0]  [17000/26007]  eta: 0:31:53  lr: 0.010000  loss: 0.2567 (0.3613)  loss_classifier: 0.2140 (0.2432)  loss_box_reg: 0.0233 (0.0584)  loss_objectness: 0.0028 (0.0269)  loss_rpn_box_reg: 0.0137 (0.0327)  time: 0.2198  data: 0.0388  max mem: 1817\n",
      "Epoch: [0]  [18000/26007]  eta: 0:28:19  lr: 0.010000  loss: 0.2965 (0.3580)  loss_classifier: 0.2283 (0.2425)  loss_box_reg: 0.0229 (0.0570)  loss_objectness: 0.0035 (0.0262)  loss_rpn_box_reg: 0.0115 (0.0323)  time: 0.2234  data: 0.0378  max mem: 1817\n",
      "Epoch: [0]  [19000/26007]  eta: 0:24:47  lr: 0.010000  loss: 0.2611 (0.3551)  loss_classifier: 0.2228 (0.2419)  loss_box_reg: 0.0192 (0.0556)  loss_objectness: 0.0043 (0.0257)  loss_rpn_box_reg: 0.0121 (0.0320)  time: 0.1883  data: 0.0297  max mem: 1817\n",
      "Epoch: [0]  [20000/26007]  eta: 0:21:15  lr: 0.010000  loss: 0.2891 (0.3522)  loss_classifier: 0.2548 (0.2412)  loss_box_reg: 0.0290 (0.0543)  loss_objectness: 0.0041 (0.0250)  loss_rpn_box_reg: 0.0133 (0.0317)  time: 0.2137  data: 0.0351  max mem: 1817\n",
      "Epoch: [0]  [21000/26007]  eta: 0:17:42  lr: 0.010000  loss: 0.2408 (0.3500)  loss_classifier: 0.2051 (0.2410)  loss_box_reg: 0.0173 (0.0532)  loss_objectness: 0.0025 (0.0244)  loss_rpn_box_reg: 0.0172 (0.0313)  time: 0.2082  data: 0.0310  max mem: 1817\n",
      "Epoch: [0]  [22000/26007]  eta: 0:14:09  lr: 0.010000  loss: 0.2604 (0.3475)  loss_classifier: 0.2151 (0.2405)  loss_box_reg: 0.0217 (0.0520)  loss_objectness: 0.0058 (0.0240)  loss_rpn_box_reg: 0.0180 (0.0310)  time: 0.2020  data: 0.0283  max mem: 1817\n",
      "Epoch: [0]  [23000/26007]  eta: 0:10:37  lr: 0.010000  loss: 0.2664 (0.3459)  loss_classifier: 0.2028 (0.2405)  loss_box_reg: 0.0175 (0.0511)  loss_objectness: 0.0044 (0.0236)  loss_rpn_box_reg: 0.0207 (0.0307)  time: 0.2193  data: 0.0342  max mem: 1817\n",
      "Epoch: [0]  [24000/26007]  eta: 0:07:05  lr: 0.010000  loss: 0.2355 (0.3438)  loss_classifier: 0.1875 (0.2402)  loss_box_reg: 0.0217 (0.0502)  loss_objectness: 0.0036 (0.0231)  loss_rpn_box_reg: 0.0156 (0.0304)  time: 0.2125  data: 0.0370  max mem: 1817\n",
      "Epoch: [0]  [25000/26007]  eta: 0:03:33  lr: 0.010000  loss: 0.2396 (0.3417)  loss_classifier: 0.1992 (0.2397)  loss_box_reg: 0.0206 (0.0493)  loss_objectness: 0.0026 (0.0226)  loss_rpn_box_reg: 0.0151 (0.0301)  time: 0.2174  data: 0.0378  max mem: 1817\n",
      "Epoch: [0]  [26000/26007]  eta: 0:00:01  lr: 0.010000  loss: 0.2303 (0.3394)  loss_classifier: 0.2011 (0.2388)  loss_box_reg: 0.0144 (0.0484)  loss_objectness: 0.0032 (0.0223)  loss_rpn_box_reg: 0.0097 (0.0298)  time: 0.2052  data: 0.0289  max mem: 1817\n",
      "Epoch: [0]  [26006/26007]  eta: 0:00:00  lr: 0.010000  loss: 0.2449 (0.3394)  loss_classifier: 0.2156 (0.2388)  loss_box_reg: 0.0144 (0.0484)  loss_objectness: 0.0022 (0.0223)  loss_rpn_box_reg: 0.0111 (0.0298)  time: 0.2052  data: 0.0284  max mem: 1817\n",
      "Epoch: [0] Total time: 1:31:50 (0.2119 s / it)\n",
      "creating index...\n",
      "index created!\n",
      "Test:  [   0/2890]  eta: 0:03:35  model_time: 0.0480 (0.0480)  evaluator_time: 0.0060 (0.0060)  time: 0.0747  data: 0.0107  max mem: 1817\n",
      "Test:  [ 100/2890]  eta: 0:02:20  model_time: 0.0370 (0.0365)  evaluator_time: 0.0020 (0.0031)  time: 0.0487  data: 0.0098  max mem: 1817\n",
      "Test:  [ 200/2890]  eta: 0:02:14  model_time: 0.0379 (0.0365)  evaluator_time: 0.0020 (0.0027)  time: 0.0500  data: 0.0099  max mem: 1817\n",
      "Test:  [ 300/2890]  eta: 0:02:08  model_time: 0.0369 (0.0363)  evaluator_time: 0.0020 (0.0025)  time: 0.0497  data: 0.0098  max mem: 1817\n",
      "Test:  [ 400/2890]  eta: 0:02:03  model_time: 0.0363 (0.0365)  evaluator_time: 0.0020 (0.0024)  time: 0.0496  data: 0.0091  max mem: 1817\n",
      "Test:  [ 500/2890]  eta: 0:01:58  model_time: 0.0359 (0.0365)  evaluator_time: 0.0020 (0.0023)  time: 0.0484  data: 0.0096  max mem: 1817\n",
      "Test:  [ 600/2890]  eta: 0:01:53  model_time: 0.0359 (0.0364)  evaluator_time: 0.0020 (0.0023)  time: 0.0492  data: 0.0097  max mem: 1817\n",
      "Test:  [ 700/2890]  eta: 0:01:48  model_time: 0.0369 (0.0364)  evaluator_time: 0.0020 (0.0023)  time: 0.0500  data: 0.0100  max mem: 1817\n"
     ]
    },
    {
     "name": "stdout",
     "output_type": "stream",
     "text": [
      "Test:  [ 800/2890]  eta: 0:01:43  model_time: 0.0369 (0.0364)  evaluator_time: 0.0020 (0.0023)  time: 0.0492  data: 0.0087  max mem: 1817\n",
      "Test:  [ 900/2890]  eta: 0:01:38  model_time: 0.0371 (0.0364)  evaluator_time: 0.0020 (0.0023)  time: 0.0499  data: 0.0095  max mem: 1817\n",
      "Test:  [1000/2890]  eta: 0:01:33  model_time: 0.0349 (0.0364)  evaluator_time: 0.0020 (0.0022)  time: 0.0473  data: 0.0094  max mem: 1817\n",
      "Test:  [1100/2890]  eta: 0:01:28  model_time: 0.0359 (0.0364)  evaluator_time: 0.0020 (0.0022)  time: 0.0484  data: 0.0099  max mem: 1817\n",
      "Test:  [1200/2890]  eta: 0:01:23  model_time: 0.0360 (0.0364)  evaluator_time: 0.0020 (0.0022)  time: 0.0484  data: 0.0093  max mem: 1817\n",
      "Test:  [1300/2890]  eta: 0:01:18  model_time: 0.0369 (0.0364)  evaluator_time: 0.0020 (0.0022)  time: 0.0501  data: 0.0099  max mem: 1817\n",
      "Test:  [1400/2890]  eta: 0:01:13  model_time: 0.0381 (0.0364)  evaluator_time: 0.0020 (0.0022)  time: 0.0515  data: 0.0106  max mem: 1817\n",
      "Test:  [1500/2890]  eta: 0:01:08  model_time: 0.0379 (0.0364)  evaluator_time: 0.0020 (0.0022)  time: 0.0498  data: 0.0093  max mem: 1817\n",
      "Test:  [1600/2890]  eta: 0:01:03  model_time: 0.0369 (0.0365)  evaluator_time: 0.0020 (0.0022)  time: 0.0491  data: 0.0098  max mem: 1817\n",
      "Test:  [1700/2890]  eta: 0:00:58  model_time: 0.0379 (0.0365)  evaluator_time: 0.0020 (0.0022)  time: 0.0499  data: 0.0095  max mem: 1817\n",
      "Test:  [1800/2890]  eta: 0:00:54  model_time: 0.0372 (0.0366)  evaluator_time: 0.0020 (0.0022)  time: 0.0504  data: 0.0100  max mem: 1817\n",
      "Test:  [1900/2890]  eta: 0:00:49  model_time: 0.0372 (0.0366)  evaluator_time: 0.0020 (0.0022)  time: 0.0503  data: 0.0098  max mem: 1817\n",
      "Test:  [2000/2890]  eta: 0:00:44  model_time: 0.0382 (0.0366)  evaluator_time: 0.0020 (0.0022)  time: 0.0523  data: 0.0104  max mem: 1817\n",
      "Test:  [2100/2890]  eta: 0:00:39  model_time: 0.0380 (0.0367)  evaluator_time: 0.0020 (0.0022)  time: 0.0510  data: 0.0093  max mem: 1817\n",
      "Test:  [2200/2890]  eta: 0:00:34  model_time: 0.0360 (0.0367)  evaluator_time: 0.0020 (0.0022)  time: 0.0492  data: 0.0093  max mem: 1817\n",
      "Test:  [2300/2890]  eta: 0:00:29  model_time: 0.0375 (0.0368)  evaluator_time: 0.0020 (0.0022)  time: 0.0535  data: 0.0108  max mem: 1817\n",
      "Test:  [2400/2890]  eta: 0:00:24  model_time: 0.0379 (0.0368)  evaluator_time: 0.0020 (0.0022)  time: 0.0506  data: 0.0098  max mem: 1817\n",
      "Test:  [2500/2890]  eta: 0:00:19  model_time: 0.0379 (0.0368)  evaluator_time: 0.0020 (0.0022)  time: 0.0507  data: 0.0102  max mem: 1817\n",
      "Test:  [2600/2890]  eta: 0:00:14  model_time: 0.0359 (0.0368)  evaluator_time: 0.0020 (0.0022)  time: 0.0493  data: 0.0097  max mem: 1817\n",
      "Test:  [2700/2890]  eta: 0:00:09  model_time: 0.0359 (0.0369)  evaluator_time: 0.0020 (0.0022)  time: 0.0499  data: 0.0102  max mem: 1817\n",
      "Test:  [2800/2890]  eta: 0:00:04  model_time: 0.0369 (0.0369)  evaluator_time: 0.0020 (0.0022)  time: 0.0490  data: 0.0097  max mem: 1817\n",
      "Test:  [2889/2890]  eta: 0:00:00  model_time: 0.0379 (0.0369)  evaluator_time: 0.0020 (0.0022)  time: 0.0509  data: 0.0096  max mem: 1817\n",
      "Test: Total time: 0:02:24 (0.0500 s / it)\n",
      "Averaged stats: model_time: 0.0379 (0.0369)  evaluator_time: 0.0020 (0.0022)\n",
      "Accumulating evaluation results...\n",
      "DONE (t=1.44s).\n",
      "IoU metric: bbox\n",
      " Average Precision  (AP) @[ IoU=0.50:0.95 | area=   all | maxDets=100 ] = 0.001\n",
      " Average Precision  (AP) @[ IoU=0.50      | area=   all | maxDets=100 ] = 0.003\n",
      " Average Precision  (AP) @[ IoU=0.75      | area=   all | maxDets=100 ] = 0.001\n",
      " Average Precision  (AP) @[ IoU=0.50:0.95 | area= small | maxDets=100 ] = -1.000\n",
      " Average Precision  (AP) @[ IoU=0.50:0.95 | area=medium | maxDets=100 ] = 0.002\n",
      " Average Precision  (AP) @[ IoU=0.50:0.95 | area= large | maxDets=100 ] = 0.001\n",
      " Average Recall     (AR) @[ IoU=0.50:0.95 | area=   all | maxDets=  1 ] = 0.005\n",
      " Average Recall     (AR) @[ IoU=0.50:0.95 | area=   all | maxDets= 10 ] = 0.005\n",
      " Average Recall     (AR) @[ IoU=0.50:0.95 | area=   all | maxDets=100 ] = 0.005\n",
      " Average Recall     (AR) @[ IoU=0.50:0.95 | area= small | maxDets=100 ] = -1.000\n",
      " Average Recall     (AR) @[ IoU=0.50:0.95 | area=medium | maxDets=100 ] = 0.004\n",
      " Average Recall     (AR) @[ IoU=0.50:0.95 | area= large | maxDets=100 ] = 0.005\n",
      "Epoch: [1]  [    0/26007]  eta: 1:27:58  lr: 0.010000  loss: 0.2730 (0.2730)  loss_classifier: 0.2438 (0.2438)  loss_box_reg: 0.0188 (0.0188)  loss_objectness: 0.0016 (0.0016)  loss_rpn_box_reg: 0.0089 (0.0089)  time: 0.2030  data: 0.0090  max mem: 1817\n",
      "Epoch: [1]  [ 1000/26007]  eta: 1:22:12  lr: 0.010000  loss: 0.2534 (0.2898)  loss_classifier: 0.2173 (0.2275)  loss_box_reg: 0.0152 (0.0275)  loss_objectness: 0.0033 (0.0125)  loss_rpn_box_reg: 0.0120 (0.0223)  time: 0.1944  data: 0.0157  max mem: 1817\n",
      "Epoch: [1]  [ 2000/26007]  eta: 1:19:01  lr: 0.010000  loss: 0.2488 (0.2846)  loss_classifier: 0.2012 (0.2230)  loss_box_reg: 0.0246 (0.0266)  loss_objectness: 0.0049 (0.0124)  loss_rpn_box_reg: 0.0134 (0.0226)  time: 0.1936  data: 0.0131  max mem: 1817\n",
      "Epoch: [1]  [ 3000/26007]  eta: 1:16:05  lr: 0.010000  loss: 0.2361 (0.2918)  loss_classifier: 0.1841 (0.2285)  loss_box_reg: 0.0116 (0.0271)  loss_objectness: 0.0032 (0.0130)  loss_rpn_box_reg: 0.0198 (0.0232)  time: 0.2038  data: 0.0245  max mem: 1817\n",
      "Epoch: [1]  [ 4000/26007]  eta: 1:12:48  lr: 0.010000  loss: 0.2542 (0.2926)  loss_classifier: 0.1830 (0.2283)  loss_box_reg: 0.0221 (0.0272)  loss_objectness: 0.0038 (0.0136)  loss_rpn_box_reg: 0.0184 (0.0235)  time: 0.2028  data: 0.0218  max mem: 1817\n",
      "Epoch: [1]  [ 5000/26007]  eta: 1:09:08  lr: 0.010000  loss: 0.2088 (0.2910)  loss_classifier: 0.1648 (0.2266)  loss_box_reg: 0.0086 (0.0269)  loss_objectness: 0.0021 (0.0139)  loss_rpn_box_reg: 0.0120 (0.0236)  time: 0.1986  data: 0.0202  max mem: 1817\n",
      "Epoch: [1]  [ 6000/26007]  eta: 1:05:51  lr: 0.010000  loss: 0.2639 (0.2908)  loss_classifier: 0.2168 (0.2270)  loss_box_reg: 0.0163 (0.0268)  loss_objectness: 0.0028 (0.0137)  loss_rpn_box_reg: 0.0197 (0.0233)  time: 0.2034  data: 0.0248  max mem: 1817\n",
      "Epoch: [1]  [ 7000/26007]  eta: 1:02:47  lr: 0.010000  loss: 0.2832 (0.2904)  loss_classifier: 0.2500 (0.2273)  loss_box_reg: 0.0165 (0.0266)  loss_objectness: 0.0021 (0.0133)  loss_rpn_box_reg: 0.0140 (0.0231)  time: 0.2137  data: 0.0328  max mem: 1817\n",
      "Epoch: [1]  [ 8000/26007]  eta: 0:59:40  lr: 0.010000  loss: 0.2727 (0.2911)  loss_classifier: 0.2347 (0.2283)  loss_box_reg: 0.0194 (0.0267)  loss_objectness: 0.0032 (0.0132)  loss_rpn_box_reg: 0.0140 (0.0229)  time: 0.2034  data: 0.0255  max mem: 1817\n",
      "Epoch: [1]  [ 9000/26007]  eta: 0:56:34  lr: 0.010000  loss: 0.2386 (0.2890)  loss_classifier: 0.1919 (0.2267)  loss_box_reg: 0.0096 (0.0265)  loss_objectness: 0.0020 (0.0130)  loss_rpn_box_reg: 0.0124 (0.0229)  time: 0.2119  data: 0.0330  max mem: 1817\n",
      "Epoch: [1]  [10000/26007]  eta: 0:53:14  lr: 0.010000  loss: 0.2200 (0.2872)  loss_classifier: 0.1878 (0.2251)  loss_box_reg: 0.0136 (0.0264)  loss_objectness: 0.0023 (0.0129)  loss_rpn_box_reg: 0.0113 (0.0228)  time: 0.1911  data: 0.0155  max mem: 1817\n",
      "Epoch: [1]  [11000/26007]  eta: 0:49:58  lr: 0.010000  loss: 0.2384 (0.2863)  loss_classifier: 0.2060 (0.2245)  loss_box_reg: 0.0115 (0.0262)  loss_objectness: 0.0037 (0.0129)  loss_rpn_box_reg: 0.0174 (0.0227)  time: 0.1958  data: 0.0177  max mem: 1817\n",
      "Epoch: [1]  [12000/26007]  eta: 0:46:44  lr: 0.010000  loss: 0.2230 (0.2845)  loss_classifier: 0.1795 (0.2235)  loss_box_reg: 0.0098 (0.0259)  loss_objectness: 0.0011 (0.0125)  loss_rpn_box_reg: 0.0145 (0.0225)  time: 0.2005  data: 0.0220  max mem: 1817\n",
      "Epoch: [1]  [13000/26007]  eta: 0:43:06  lr: 0.010000  loss: 0.2487 (0.2836)  loss_classifier: 0.2028 (0.2227)  loss_box_reg: 0.0117 (0.0258)  loss_objectness: 0.0018 (0.0126)  loss_rpn_box_reg: 0.0119 (0.0225)  time: 0.1749  data: 0.0159  max mem: 1817\n",
      "Epoch: [1]  [14000/26007]  eta: 0:39:30  lr: 0.010000  loss: 0.2610 (0.2830)  loss_classifier: 0.2247 (0.2223)  loss_box_reg: 0.0192 (0.0257)  loss_objectness: 0.0023 (0.0126)  loss_rpn_box_reg: 0.0201 (0.0225)  time: 0.1811  data: 0.0221  max mem: 1817\n",
      "Epoch: [1]  [15000/26007]  eta: 0:35:58  lr: 0.010000  loss: 0.2121 (0.2821)  loss_classifier: 0.1796 (0.2215)  loss_box_reg: 0.0119 (0.0256)  loss_objectness: 0.0043 (0.0126)  loss_rpn_box_reg: 0.0187 (0.0224)  time: 0.1803  data: 0.0221  max mem: 1817\n"
     ]
    },
    {
     "name": "stdout",
     "output_type": "stream",
     "text": [
      "Epoch: [1]  [16000/26007]  eta: 0:32:31  lr: 0.010000  loss: 0.2147 (0.2813)  loss_classifier: 0.1751 (0.2208)  loss_box_reg: 0.0119 (0.0255)  loss_objectness: 0.0043 (0.0126)  loss_rpn_box_reg: 0.0127 (0.0223)  time: 0.1813  data: 0.0230  max mem: 1817\n",
      "Epoch: [1]  [17000/26007]  eta: 0:29:07  lr: 0.010000  loss: 0.2173 (0.2795)  loss_classifier: 0.1637 (0.2194)  loss_box_reg: 0.0169 (0.0253)  loss_objectness: 0.0049 (0.0125)  loss_rpn_box_reg: 0.0192 (0.0223)  time: 0.1753  data: 0.0176  max mem: 1817\n",
      "Epoch: [1]  [18000/26007]  eta: 0:25:46  lr: 0.010000  loss: 0.2523 (0.2781)  loss_classifier: 0.1985 (0.2182)  loss_box_reg: 0.0124 (0.0252)  loss_objectness: 0.0082 (0.0125)  loss_rpn_box_reg: 0.0186 (0.0222)  time: 0.1835  data: 0.0241  max mem: 1817\n",
      "Epoch: [1]  [19000/26007]  eta: 0:22:27  lr: 0.010000  loss: 0.2375 (0.2777)  loss_classifier: 0.1968 (0.2178)  loss_box_reg: 0.0176 (0.0252)  loss_objectness: 0.0047 (0.0125)  loss_rpn_box_reg: 0.0082 (0.0222)  time: 0.1790  data: 0.0205  max mem: 1817\n",
      "Epoch: [1]  [20000/26007]  eta: 0:19:10  lr: 0.010000  loss: 0.2682 (0.2774)  loss_classifier: 0.1889 (0.2179)  loss_box_reg: 0.0159 (0.0251)  loss_objectness: 0.0023 (0.0124)  loss_rpn_box_reg: 0.0160 (0.0221)  time: 0.1794  data: 0.0215  max mem: 1817\n",
      "Epoch: [1]  [21000/26007]  eta: 0:15:55  lr: 0.010000  loss: 0.2502 (0.2769)  loss_classifier: 0.1997 (0.2176)  loss_box_reg: 0.0138 (0.0251)  loss_objectness: 0.0022 (0.0123)  loss_rpn_box_reg: 0.0113 (0.0219)  time: 0.1768  data: 0.0182  max mem: 1817\n",
      "Epoch: [1]  [22000/26007]  eta: 0:12:42  lr: 0.010000  loss: 0.2184 (0.2764)  loss_classifier: 0.1825 (0.2171)  loss_box_reg: 0.0124 (0.0251)  loss_objectness: 0.0032 (0.0123)  loss_rpn_box_reg: 0.0093 (0.0219)  time: 0.1791  data: 0.0204  max mem: 1817\n",
      "Epoch: [1]  [23000/26007]  eta: 0:09:30  lr: 0.010000  loss: 0.2320 (0.2752)  loss_classifier: 0.2010 (0.2161)  loss_box_reg: 0.0139 (0.0250)  loss_objectness: 0.0019 (0.0122)  loss_rpn_box_reg: 0.0146 (0.0219)  time: 0.1782  data: 0.0201  max mem: 1817\n",
      "Epoch: [1]  [24000/26007]  eta: 0:06:19  lr: 0.010000  loss: 0.2197 (0.2747)  loss_classifier: 0.1696 (0.2156)  loss_box_reg: 0.0113 (0.0249)  loss_objectness: 0.0032 (0.0123)  loss_rpn_box_reg: 0.0196 (0.0219)  time: 0.1768  data: 0.0193  max mem: 1817\n",
      "Epoch: [1]  [25000/26007]  eta: 0:03:10  lr: 0.010000  loss: 0.1938 (0.2738)  loss_classifier: 0.1696 (0.2149)  loss_box_reg: 0.0097 (0.0248)  loss_objectness: 0.0012 (0.0123)  loss_rpn_box_reg: 0.0095 (0.0219)  time: 0.1775  data: 0.0198  max mem: 1817\n",
      "Epoch: [1]  [26000/26007]  eta: 0:00:01  lr: 0.010000  loss: 0.2371 (0.2734)  loss_classifier: 0.2051 (0.2146)  loss_box_reg: 0.0130 (0.0248)  loss_objectness: 0.0021 (0.0122)  loss_rpn_box_reg: 0.0100 (0.0218)  time: 0.1826  data: 0.0254  max mem: 1817\n",
      "Epoch: [1]  [26006/26007]  eta: 0:00:00  lr: 0.010000  loss: 0.2403 (0.2734)  loss_classifier: 0.2162 (0.2146)  loss_box_reg: 0.0106 (0.0248)  loss_objectness: 0.0019 (0.0122)  loss_rpn_box_reg: 0.0097 (0.0218)  time: 0.1779  data: 0.0210  max mem: 1817\n",
      "Epoch: [1] Total time: 1:21:36 (0.1883 s / it)\n",
      "creating index...\n",
      "index created!\n",
      "Test:  [   0/2890]  eta: 0:03:17  model_time: 0.0389 (0.0389)  evaluator_time: 0.0046 (0.0046)  time: 0.0685  data: 0.0099  max mem: 1817\n",
      "Test:  [ 100/2890]  eta: 0:02:10  model_time: 0.0329 (0.0327)  evaluator_time: 0.0020 (0.0033)  time: 0.0455  data: 0.0094  max mem: 1817\n",
      "Test:  [ 200/2890]  eta: 0:02:05  model_time: 0.0339 (0.0333)  evaluator_time: 0.0030 (0.0029)  time: 0.0474  data: 0.0091  max mem: 1817\n",
      "Test:  [ 300/2890]  eta: 0:02:00  model_time: 0.0330 (0.0335)  evaluator_time: 0.0020 (0.0027)  time: 0.0455  data: 0.0095  max mem: 1817\n",
      "Test:  [ 400/2890]  eta: 0:01:56  model_time: 0.0339 (0.0334)  evaluator_time: 0.0030 (0.0028)  time: 0.0477  data: 0.0094  max mem: 1817\n",
      "Test:  [ 500/2890]  eta: 0:01:51  model_time: 0.0319 (0.0334)  evaluator_time: 0.0020 (0.0027)  time: 0.0450  data: 0.0090  max mem: 1817\n",
      "Test:  [ 600/2890]  eta: 0:01:46  model_time: 0.0329 (0.0334)  evaluator_time: 0.0020 (0.0026)  time: 0.0463  data: 0.0087  max mem: 1817\n",
      "Test:  [ 700/2890]  eta: 0:01:41  model_time: 0.0339 (0.0334)  evaluator_time: 0.0020 (0.0026)  time: 0.0465  data: 0.0092  max mem: 1817\n",
      "Test:  [ 800/2890]  eta: 0:01:36  model_time: 0.0339 (0.0334)  evaluator_time: 0.0030 (0.0026)  time: 0.0461  data: 0.0088  max mem: 1817\n",
      "Test:  [ 900/2890]  eta: 0:01:32  model_time: 0.0335 (0.0333)  evaluator_time: 0.0030 (0.0026)  time: 0.0458  data: 0.0093  max mem: 1817\n",
      "Test:  [1000/2890]  eta: 0:01:27  model_time: 0.0349 (0.0333)  evaluator_time: 0.0030 (0.0026)  time: 0.0478  data: 0.0088  max mem: 1817\n",
      "Test:  [1100/2890]  eta: 0:01:23  model_time: 0.0329 (0.0334)  evaluator_time: 0.0030 (0.0026)  time: 0.0474  data: 0.0094  max mem: 1817\n",
      "Test:  [1200/2890]  eta: 0:01:18  model_time: 0.0339 (0.0334)  evaluator_time: 0.0020 (0.0026)  time: 0.0465  data: 0.0097  max mem: 1817\n",
      "Test:  [1300/2890]  eta: 0:01:13  model_time: 0.0329 (0.0335)  evaluator_time: 0.0020 (0.0026)  time: 0.0458  data: 0.0093  max mem: 1817\n",
      "Test:  [1400/2890]  eta: 0:01:09  model_time: 0.0339 (0.0336)  evaluator_time: 0.0020 (0.0026)  time: 0.0462  data: 0.0092  max mem: 1817\n",
      "Test:  [1500/2890]  eta: 0:01:04  model_time: 0.0349 (0.0336)  evaluator_time: 0.0020 (0.0026)  time: 0.0478  data: 0.0090  max mem: 1817\n",
      "Test:  [1600/2890]  eta: 0:00:59  model_time: 0.0339 (0.0335)  evaluator_time: 0.0020 (0.0026)  time: 0.0456  data: 0.0090  max mem: 1817\n",
      "Test:  [1700/2890]  eta: 0:00:55  model_time: 0.0349 (0.0336)  evaluator_time: 0.0020 (0.0026)  time: 0.0465  data: 0.0091  max mem: 1817\n",
      "Test:  [1800/2890]  eta: 0:00:50  model_time: 0.0339 (0.0335)  evaluator_time: 0.0020 (0.0026)  time: 0.0464  data: 0.0093  max mem: 1817\n",
      "Test:  [1900/2890]  eta: 0:00:46  model_time: 0.0339 (0.0336)  evaluator_time: 0.0030 (0.0026)  time: 0.0483  data: 0.0090  max mem: 1817\n",
      "Test:  [2000/2890]  eta: 0:00:41  model_time: 0.0339 (0.0336)  evaluator_time: 0.0020 (0.0026)  time: 0.0452  data: 0.0089  max mem: 1817\n",
      "Test:  [2100/2890]  eta: 0:00:36  model_time: 0.0339 (0.0336)  evaluator_time: 0.0020 (0.0026)  time: 0.0461  data: 0.0089  max mem: 1817\n",
      "Test:  [2200/2890]  eta: 0:00:32  model_time: 0.0339 (0.0336)  evaluator_time: 0.0020 (0.0025)  time: 0.0458  data: 0.0091  max mem: 1817\n",
      "Test:  [2300/2890]  eta: 0:00:27  model_time: 0.0349 (0.0336)  evaluator_time: 0.0020 (0.0025)  time: 0.0467  data: 0.0089  max mem: 1817\n",
      "Test:  [2400/2890]  eta: 0:00:22  model_time: 0.0349 (0.0336)  evaluator_time: 0.0020 (0.0025)  time: 0.0463  data: 0.0089  max mem: 1817\n",
      "Test:  [2500/2890]  eta: 0:00:18  model_time: 0.0339 (0.0336)  evaluator_time: 0.0020 (0.0025)  time: 0.0463  data: 0.0088  max mem: 1817\n",
      "Test:  [2600/2890]  eta: 0:00:13  model_time: 0.0349 (0.0336)  evaluator_time: 0.0030 (0.0025)  time: 0.0481  data: 0.0091  max mem: 1817\n",
      "Test:  [2700/2890]  eta: 0:00:08  model_time: 0.0319 (0.0336)  evaluator_time: 0.0020 (0.0025)  time: 0.0462  data: 0.0097  max mem: 1817\n",
      "Test:  [2800/2890]  eta: 0:00:04  model_time: 0.0349 (0.0337)  evaluator_time: 0.0030 (0.0025)  time: 0.0477  data: 0.0093  max mem: 1817\n",
      "Test:  [2889/2890]  eta: 0:00:00  model_time: 0.0339 (0.0337)  evaluator_time: 0.0020 (0.0025)  time: 0.0469  data: 0.0092  max mem: 1817\n",
      "Test: Total time: 0:02:14 (0.0465 s / it)\n",
      "Averaged stats: model_time: 0.0339 (0.0337)  evaluator_time: 0.0020 (0.0025)\n",
      "Accumulating evaluation results...\n",
      "DONE (t=1.51s).\n",
      "IoU metric: bbox\n",
      " Average Precision  (AP) @[ IoU=0.50:0.95 | area=   all | maxDets=100 ] = 0.010\n",
      " Average Precision  (AP) @[ IoU=0.50      | area=   all | maxDets=100 ] = 0.017\n",
      " Average Precision  (AP) @[ IoU=0.75      | area=   all | maxDets=100 ] = 0.009\n",
      " Average Precision  (AP) @[ IoU=0.50:0.95 | area= small | maxDets=100 ] = -1.000\n",
      " Average Precision  (AP) @[ IoU=0.50:0.95 | area=medium | maxDets=100 ] = 0.000\n",
      " Average Precision  (AP) @[ IoU=0.50:0.95 | area= large | maxDets=100 ] = 0.010\n",
      " Average Recall     (AR) @[ IoU=0.50:0.95 | area=   all | maxDets=  1 ] = 0.032\n",
      " Average Recall     (AR) @[ IoU=0.50:0.95 | area=   all | maxDets= 10 ] = 0.033\n",
      " Average Recall     (AR) @[ IoU=0.50:0.95 | area=   all | maxDets=100 ] = 0.033\n",
      " Average Recall     (AR) @[ IoU=0.50:0.95 | area= small | maxDets=100 ] = -1.000\n",
      " Average Recall     (AR) @[ IoU=0.50:0.95 | area=medium | maxDets=100 ] = 0.000\n",
      " Average Recall     (AR) @[ IoU=0.50:0.95 | area= large | maxDets=100 ] = 0.033\n"
     ]
    },
    {
     "name": "stdout",
     "output_type": "stream",
     "text": [
      "Epoch: [2]  [    0/26007]  eta: 1:19:05  lr: 0.010000  loss: 0.3161 (0.3161)  loss_classifier: 0.2406 (0.2406)  loss_box_reg: 0.0470 (0.0470)  loss_objectness: 0.0099 (0.0099)  loss_rpn_box_reg: 0.0186 (0.0186)  time: 0.1825  data: 0.0109  max mem: 1817\n",
      "Epoch: [2]  [ 1000/26007]  eta: 1:09:30  lr: 0.010000  loss: 0.1942 (0.2566)  loss_classifier: 0.1605 (0.2025)  loss_box_reg: 0.0107 (0.0238)  loss_objectness: 0.0015 (0.0102)  loss_rpn_box_reg: 0.0139 (0.0200)  time: 0.1691  data: 0.0085  max mem: 1817\n",
      "Epoch: [2]  [ 2000/26007]  eta: 1:08:13  lr: 0.010000  loss: 0.2067 (0.2493)  loss_classifier: 0.1828 (0.1960)  loss_box_reg: 0.0096 (0.0230)  loss_objectness: 0.0023 (0.0102)  loss_rpn_box_reg: 0.0120 (0.0201)  time: 0.1842  data: 0.0087  max mem: 1817\n",
      "Epoch: [2]  [ 3000/26007]  eta: 1:07:13  lr: 0.010000  loss: 0.2301 (0.2513)  loss_classifier: 0.1809 (0.1980)  loss_box_reg: 0.0128 (0.0232)  loss_objectness: 0.0014 (0.0099)  loss_rpn_box_reg: 0.0133 (0.0202)  time: 0.1883  data: 0.0075  max mem: 1817\n",
      "Epoch: [2]  [ 4000/26007]  eta: 1:05:15  lr: 0.010000  loss: 0.1993 (0.2504)  loss_classifier: 0.1687 (0.1971)  loss_box_reg: 0.0161 (0.0230)  loss_objectness: 0.0042 (0.0101)  loss_rpn_box_reg: 0.0183 (0.0202)  time: 0.1904  data: 0.0081  max mem: 1817\n",
      "Epoch: [2]  [ 5000/26007]  eta: 1:03:02  lr: 0.010000  loss: 0.1934 (0.2514)  loss_classifier: 0.1500 (0.1975)  loss_box_reg: 0.0137 (0.0233)  loss_objectness: 0.0036 (0.0104)  loss_rpn_box_reg: 0.0111 (0.0202)  time: 0.1811  data: 0.0079  max mem: 1817\n",
      "Epoch: [2]  [ 6000/26007]  eta: 1:00:16  lr: 0.010000  loss: 0.1793 (0.2508)  loss_classifier: 0.1345 (0.1969)  loss_box_reg: 0.0084 (0.0231)  loss_objectness: 0.0024 (0.0105)  loss_rpn_box_reg: 0.0185 (0.0203)  time: 0.1874  data: 0.0098  max mem: 1817\n",
      "Epoch: [2]  [ 7000/26007]  eta: 0:57:36  lr: 0.010000  loss: 0.2230 (0.2505)  loss_classifier: 0.1914 (0.1967)  loss_box_reg: 0.0140 (0.0230)  loss_objectness: 0.0040 (0.0105)  loss_rpn_box_reg: 0.0119 (0.0203)  time: 0.2055  data: 0.0145  max mem: 1817\n",
      "Epoch: [2]  [ 8000/26007]  eta: 0:54:52  lr: 0.010000  loss: 0.2092 (0.2506)  loss_classifier: 0.1613 (0.1970)  loss_box_reg: 0.0204 (0.0231)  loss_objectness: 0.0026 (0.0103)  loss_rpn_box_reg: 0.0183 (0.0202)  time: 0.1856  data: 0.0102  max mem: 1817\n",
      "Epoch: [2]  [ 9000/26007]  eta: 0:51:54  lr: 0.010000  loss: 0.2120 (0.2502)  loss_classifier: 0.1661 (0.1963)  loss_box_reg: 0.0116 (0.0229)  loss_objectness: 0.0038 (0.0106)  loss_rpn_box_reg: 0.0129 (0.0203)  time: 0.1876  data: 0.0120  max mem: 1817\n",
      "Epoch: [2]  [10000/26007]  eta: 0:48:58  lr: 0.010000  loss: 0.2203 (0.2503)  loss_classifier: 0.2038 (0.1966)  loss_box_reg: 0.0086 (0.0230)  loss_objectness: 0.0015 (0.0105)  loss_rpn_box_reg: 0.0113 (0.0202)  time: 0.2017  data: 0.0152  max mem: 1817\n",
      "Epoch: [2]  [11000/26007]  eta: 0:46:03  lr: 0.010000  loss: 0.1978 (0.2513)  loss_classifier: 0.1629 (0.1976)  loss_box_reg: 0.0142 (0.0231)  loss_objectness: 0.0017 (0.0104)  loss_rpn_box_reg: 0.0129 (0.0202)  time: 0.1868  data: 0.0088  max mem: 1817\n",
      "Epoch: [2]  [12000/26007]  eta: 0:43:05  lr: 0.010000  loss: 0.2030 (0.2506)  loss_classifier: 0.1637 (0.1969)  loss_box_reg: 0.0116 (0.0231)  loss_objectness: 0.0024 (0.0105)  loss_rpn_box_reg: 0.0138 (0.0201)  time: 0.1912  data: 0.0128  max mem: 1817\n",
      "Epoch: [2]  [13000/26007]  eta: 0:40:06  lr: 0.010000  loss: 0.2048 (0.2495)  loss_classifier: 0.1737 (0.1963)  loss_box_reg: 0.0102 (0.0230)  loss_objectness: 0.0016 (0.0102)  loss_rpn_box_reg: 0.0115 (0.0200)  time: 0.1889  data: 0.0094  max mem: 1817\n",
      "Epoch: [2]  [14000/26007]  eta: 0:37:03  lr: 0.010000  loss: 0.2352 (0.2493)  loss_classifier: 0.1830 (0.1958)  loss_box_reg: 0.0117 (0.0231)  loss_objectness: 0.0024 (0.0103)  loss_rpn_box_reg: 0.0155 (0.0201)  time: 0.1941  data: 0.0149  max mem: 1817\n",
      "Epoch: [2]  [15000/26007]  eta: 0:34:02  lr: 0.010000  loss: 0.2077 (0.2492)  loss_classifier: 0.1845 (0.1958)  loss_box_reg: 0.0100 (0.0232)  loss_objectness: 0.0018 (0.0103)  loss_rpn_box_reg: 0.0101 (0.0200)  time: 0.1890  data: 0.0116  max mem: 1817\n",
      "Epoch: [2]  [16000/26007]  eta: 0:30:59  lr: 0.010000  loss: 0.2126 (0.2480)  loss_classifier: 0.1624 (0.1946)  loss_box_reg: 0.0125 (0.0231)  loss_objectness: 0.0027 (0.0103)  loss_rpn_box_reg: 0.0142 (0.0199)  time: 0.1863  data: 0.0089  max mem: 1817\n",
      "Epoch: [2]  [17000/26007]  eta: 0:27:55  lr: 0.010000  loss: 0.2057 (0.2481)  loss_classifier: 0.1579 (0.1945)  loss_box_reg: 0.0143 (0.0233)  loss_objectness: 0.0040 (0.0103)  loss_rpn_box_reg: 0.0177 (0.0200)  time: 0.1875  data: 0.0103  max mem: 1817\n",
      "Epoch: [2]  [18000/26007]  eta: 0:24:51  lr: 0.010000  loss: 0.1746 (0.2476)  loss_classifier: 0.1484 (0.1939)  loss_box_reg: 0.0075 (0.0233)  loss_objectness: 0.0019 (0.0104)  loss_rpn_box_reg: 0.0137 (0.0201)  time: 0.1921  data: 0.0164  max mem: 1817\n",
      "Epoch: [2]  [19000/26007]  eta: 0:21:45  lr: 0.010000  loss: 0.1916 (0.2474)  loss_classifier: 0.1471 (0.1937)  loss_box_reg: 0.0128 (0.0233)  loss_objectness: 0.0027 (0.0104)  loss_rpn_box_reg: 0.0167 (0.0200)  time: 0.1867  data: 0.0119  max mem: 1817\n",
      "Epoch: [2]  [20000/26007]  eta: 0:18:38  lr: 0.010000  loss: 0.2074 (0.2472)  loss_classifier: 0.1647 (0.1935)  loss_box_reg: 0.0125 (0.0233)  loss_objectness: 0.0017 (0.0104)  loss_rpn_box_reg: 0.0228 (0.0200)  time: 0.1667  data: 0.0079  max mem: 1817\n",
      "Epoch: [2]  [21000/26007]  eta: 0:15:28  lr: 0.010000  loss: 0.2054 (0.2465)  loss_classifier: 0.1576 (0.1929)  loss_box_reg: 0.0115 (0.0232)  loss_objectness: 0.0018 (0.0105)  loss_rpn_box_reg: 0.0128 (0.0200)  time: 0.1705  data: 0.0111  max mem: 1817\n",
      "Epoch: [2]  [22000/26007]  eta: 0:12:19  lr: 0.010000  loss: 0.2141 (0.2465)  loss_classifier: 0.1739 (0.1927)  loss_box_reg: 0.0146 (0.0233)  loss_objectness: 0.0034 (0.0105)  loss_rpn_box_reg: 0.0113 (0.0200)  time: 0.1665  data: 0.0079  max mem: 1817\n",
      "Epoch: [2]  [23000/26007]  eta: 0:09:13  lr: 0.010000  loss: 0.1950 (0.2462)  loss_classifier: 0.1650 (0.1923)  loss_box_reg: 0.0138 (0.0234)  loss_objectness: 0.0016 (0.0105)  loss_rpn_box_reg: 0.0137 (0.0200)  time: 0.1692  data: 0.0101  max mem: 1817\n",
      "Epoch: [2]  [24000/26007]  eta: 0:06:08  lr: 0.010000  loss: 0.2009 (0.2461)  loss_classifier: 0.1561 (0.1922)  loss_box_reg: 0.0151 (0.0234)  loss_objectness: 0.0017 (0.0105)  loss_rpn_box_reg: 0.0158 (0.0200)  time: 0.1728  data: 0.0122  max mem: 1817\n",
      "Epoch: [2]  [25000/26007]  eta: 0:03:04  lr: 0.010000  loss: 0.1987 (0.2457)  loss_classifier: 0.1606 (0.1918)  loss_box_reg: 0.0133 (0.0234)  loss_objectness: 0.0019 (0.0105)  loss_rpn_box_reg: 0.0159 (0.0199)  time: 0.1672  data: 0.0071  max mem: 1817\n",
      "Epoch: [2]  [26000/26007]  eta: 0:00:01  lr: 0.010000  loss: 0.1936 (0.2453)  loss_classifier: 0.1422 (0.1913)  loss_box_reg: 0.0147 (0.0233)  loss_objectness: 0.0023 (0.0107)  loss_rpn_box_reg: 0.0147 (0.0200)  time: 0.1734  data: 0.0129  max mem: 1817\n",
      "Epoch: [2]  [26006/26007]  eta: 0:00:00  lr: 0.010000  loss: 0.1858 (0.2453)  loss_classifier: 0.1344 (0.1913)  loss_box_reg: 0.0100 (0.0233)  loss_objectness: 0.0021 (0.0107)  loss_rpn_box_reg: 0.0130 (0.0200)  time: 0.1747  data: 0.0143  max mem: 1817\n",
      "Epoch: [2] Total time: 1:19:03 (0.1824 s / it)\n",
      "creating index...\n",
      "index created!\n",
      "Test:  [   0/2890]  eta: 0:03:01  model_time: 0.0369 (0.0369)  evaluator_time: 0.0040 (0.0040)  time: 0.0628  data: 0.0070  max mem: 1817\n",
      "Test:  [ 100/2890]  eta: 0:02:09  model_time: 0.0319 (0.0329)  evaluator_time: 0.0030 (0.0030)  time: 0.0446  data: 0.0087  max mem: 1817\n",
      "Test:  [ 200/2890]  eta: 0:02:05  model_time: 0.0339 (0.0328)  evaluator_time: 0.0030 (0.0033)  time: 0.0464  data: 0.0093  max mem: 1817\n",
      "Test:  [ 300/2890]  eta: 0:01:58  model_time: 0.0309 (0.0324)  evaluator_time: 0.0030 (0.0031)  time: 0.0441  data: 0.0089  max mem: 1817\n",
      "Test:  [ 400/2890]  eta: 0:01:53  model_time: 0.0319 (0.0323)  evaluator_time: 0.0030 (0.0030)  time: 0.0461  data: 0.0093  max mem: 1817\n",
      "Test:  [ 500/2890]  eta: 0:01:49  model_time: 0.0319 (0.0323)  evaluator_time: 0.0030 (0.0031)  time: 0.0467  data: 0.0093  max mem: 1817\n",
      "Test:  [ 600/2890]  eta: 0:01:44  model_time: 0.0319 (0.0324)  evaluator_time: 0.0030 (0.0030)  time: 0.0467  data: 0.0098  max mem: 1817\n",
      "Test:  [ 700/2890]  eta: 0:01:40  model_time: 0.0309 (0.0324)  evaluator_time: 0.0030 (0.0030)  time: 0.0449  data: 0.0091  max mem: 1817\n"
     ]
    },
    {
     "name": "stdout",
     "output_type": "stream",
     "text": [
      "Test:  [ 800/2890]  eta: 0:01:36  model_time: 0.0319 (0.0325)  evaluator_time: 0.0030 (0.0030)  time: 0.0468  data: 0.0092  max mem: 1817\n",
      "Test:  [ 900/2890]  eta: 0:01:31  model_time: 0.0319 (0.0325)  evaluator_time: 0.0030 (0.0030)  time: 0.0461  data: 0.0090  max mem: 1817\n",
      "Test:  [1000/2890]  eta: 0:01:26  model_time: 0.0319 (0.0324)  evaluator_time: 0.0030 (0.0030)  time: 0.0453  data: 0.0090  max mem: 1817\n",
      "Test:  [1100/2890]  eta: 0:01:22  model_time: 0.0309 (0.0324)  evaluator_time: 0.0030 (0.0030)  time: 0.0448  data: 0.0095  max mem: 1817\n",
      "Test:  [1200/2890]  eta: 0:01:17  model_time: 0.0319 (0.0324)  evaluator_time: 0.0030 (0.0031)  time: 0.0465  data: 0.0092  max mem: 1817\n",
      "Test:  [1300/2890]  eta: 0:01:12  model_time: 0.0319 (0.0324)  evaluator_time: 0.0030 (0.0030)  time: 0.0452  data: 0.0092  max mem: 1817\n",
      "Test:  [1400/2890]  eta: 0:01:08  model_time: 0.0319 (0.0324)  evaluator_time: 0.0030 (0.0030)  time: 0.0460  data: 0.0093  max mem: 1817\n",
      "Test:  [1500/2890]  eta: 0:01:03  model_time: 0.0319 (0.0324)  evaluator_time: 0.0030 (0.0030)  time: 0.0464  data: 0.0090  max mem: 1817\n",
      "Test:  [1600/2890]  eta: 0:00:59  model_time: 0.0329 (0.0324)  evaluator_time: 0.0030 (0.0030)  time: 0.0472  data: 0.0093  max mem: 1817\n",
      "Test:  [1700/2890]  eta: 0:00:54  model_time: 0.0309 (0.0323)  evaluator_time: 0.0030 (0.0030)  time: 0.0447  data: 0.0091  max mem: 1817\n",
      "Test:  [1800/2890]  eta: 0:00:49  model_time: 0.0309 (0.0324)  evaluator_time: 0.0030 (0.0030)  time: 0.0444  data: 0.0090  max mem: 1817\n",
      "Test:  [1900/2890]  eta: 0:00:45  model_time: 0.0325 (0.0324)  evaluator_time: 0.0030 (0.0030)  time: 0.0459  data: 0.0092  max mem: 1817\n",
      "Test:  [2000/2890]  eta: 0:00:40  model_time: 0.0320 (0.0324)  evaluator_time: 0.0030 (0.0030)  time: 0.0464  data: 0.0089  max mem: 1817\n",
      "Test:  [2100/2890]  eta: 0:00:36  model_time: 0.0319 (0.0324)  evaluator_time: 0.0030 (0.0030)  time: 0.0463  data: 0.0099  max mem: 1817\n",
      "Test:  [2200/2890]  eta: 0:00:31  model_time: 0.0319 (0.0324)  evaluator_time: 0.0030 (0.0030)  time: 0.0450  data: 0.0090  max mem: 1817\n",
      "Test:  [2300/2890]  eta: 0:00:27  model_time: 0.0339 (0.0324)  evaluator_time: 0.0030 (0.0030)  time: 0.0461  data: 0.0091  max mem: 1817\n",
      "Test:  [2400/2890]  eta: 0:00:22  model_time: 0.0329 (0.0324)  evaluator_time: 0.0030 (0.0030)  time: 0.0465  data: 0.0094  max mem: 1817\n",
      "Test:  [2500/2890]  eta: 0:00:17  model_time: 0.0309 (0.0325)  evaluator_time: 0.0030 (0.0030)  time: 0.0454  data: 0.0097  max mem: 1817\n",
      "Test:  [2600/2890]  eta: 0:00:13  model_time: 0.0319 (0.0325)  evaluator_time: 0.0030 (0.0030)  time: 0.0455  data: 0.0096  max mem: 1817\n",
      "Test:  [2700/2890]  eta: 0:00:08  model_time: 0.0309 (0.0325)  evaluator_time: 0.0030 (0.0030)  time: 0.0447  data: 0.0093  max mem: 1817\n",
      "Test:  [2800/2890]  eta: 0:00:04  model_time: 0.0319 (0.0324)  evaluator_time: 0.0030 (0.0030)  time: 0.0457  data: 0.0088  max mem: 1817\n",
      "Test:  [2889/2890]  eta: 0:00:00  model_time: 0.0319 (0.0325)  evaluator_time: 0.0030 (0.0030)  time: 0.0457  data: 0.0094  max mem: 1817\n",
      "Test: Total time: 0:02:12 (0.0459 s / it)\n",
      "Averaged stats: model_time: 0.0319 (0.0325)  evaluator_time: 0.0030 (0.0030)\n",
      "Accumulating evaluation results...\n",
      "DONE (t=1.71s).\n",
      "IoU metric: bbox\n",
      " Average Precision  (AP) @[ IoU=0.50:0.95 | area=   all | maxDets=100 ] = 0.045\n",
      " Average Precision  (AP) @[ IoU=0.50      | area=   all | maxDets=100 ] = 0.074\n",
      " Average Precision  (AP) @[ IoU=0.75      | area=   all | maxDets=100 ] = 0.048\n",
      " Average Precision  (AP) @[ IoU=0.50:0.95 | area= small | maxDets=100 ] = -1.000\n",
      " Average Precision  (AP) @[ IoU=0.50:0.95 | area=medium | maxDets=100 ] = 0.000\n",
      " Average Precision  (AP) @[ IoU=0.50:0.95 | area= large | maxDets=100 ] = 0.045\n",
      " Average Recall     (AR) @[ IoU=0.50:0.95 | area=   all | maxDets=  1 ] = 0.120\n",
      " Average Recall     (AR) @[ IoU=0.50:0.95 | area=   all | maxDets= 10 ] = 0.120\n",
      " Average Recall     (AR) @[ IoU=0.50:0.95 | area=   all | maxDets=100 ] = 0.120\n",
      " Average Recall     (AR) @[ IoU=0.50:0.95 | area= small | maxDets=100 ] = -1.000\n",
      " Average Recall     (AR) @[ IoU=0.50:0.95 | area=medium | maxDets=100 ] = 0.000\n",
      " Average Recall     (AR) @[ IoU=0.50:0.95 | area= large | maxDets=100 ] = 0.121\n",
      "Epoch: [3]  [    0/26007]  eta: 1:20:49  lr: 0.010000  loss: 0.2402 (0.2402)  loss_classifier: 0.2058 (0.2058)  loss_box_reg: 0.0095 (0.0095)  loss_objectness: 0.0027 (0.0027)  loss_rpn_box_reg: 0.0221 (0.0221)  time: 0.1865  data: 0.0080  max mem: 1817\n",
      "Epoch: [3]  [ 1000/26007]  eta: 1:09:30  lr: 0.010000  loss: 0.1951 (0.2266)  loss_classifier: 0.1549 (0.1778)  loss_box_reg: 0.0177 (0.0223)  loss_objectness: 0.0023 (0.0083)  loss_rpn_box_reg: 0.0147 (0.0182)  time: 0.1665  data: 0.0067  max mem: 1817\n",
      "Epoch: [3]  [ 2000/26007]  eta: 1:06:44  lr: 0.010000  loss: 0.2169 (0.2258)  loss_classifier: 0.1648 (0.1760)  loss_box_reg: 0.0162 (0.0223)  loss_objectness: 0.0041 (0.0094)  loss_rpn_box_reg: 0.0182 (0.0181)  time: 0.1658  data: 0.0067  max mem: 1817\n",
      "Epoch: [3]  [ 3000/26007]  eta: 1:03:54  lr: 0.010000  loss: 0.2186 (0.2265)  loss_classifier: 0.1901 (0.1758)  loss_box_reg: 0.0125 (0.0223)  loss_objectness: 0.0022 (0.0098)  loss_rpn_box_reg: 0.0146 (0.0186)  time: 0.1654  data: 0.0065  max mem: 1817\n",
      "Epoch: [3]  [ 4000/26007]  eta: 1:01:07  lr: 0.010000  loss: 0.2215 (0.2257)  loss_classifier: 0.1570 (0.1750)  loss_box_reg: 0.0097 (0.0224)  loss_objectness: 0.0026 (0.0096)  loss_rpn_box_reg: 0.0167 (0.0187)  time: 0.1672  data: 0.0071  max mem: 1817\n",
      "Epoch: [3]  [ 5000/26007]  eta: 0:58:19  lr: 0.010000  loss: 0.1654 (0.2263)  loss_classifier: 0.1338 (0.1753)  loss_box_reg: 0.0143 (0.0227)  loss_objectness: 0.0028 (0.0095)  loss_rpn_box_reg: 0.0110 (0.0188)  time: 0.1666  data: 0.0065  max mem: 1817\n",
      "Epoch: [3]  [ 6000/26007]  eta: 0:55:31  lr: 0.010000  loss: 0.1961 (0.2265)  loss_classifier: 0.1615 (0.1751)  loss_box_reg: 0.0210 (0.0229)  loss_objectness: 0.0038 (0.0095)  loss_rpn_box_reg: 0.0142 (0.0190)  time: 0.1670  data: 0.0071  max mem: 1817\n",
      "Epoch: [3]  [ 7000/26007]  eta: 0:52:44  lr: 0.010000  loss: 0.1930 (0.2259)  loss_classifier: 0.1583 (0.1750)  loss_box_reg: 0.0121 (0.0228)  loss_objectness: 0.0017 (0.0091)  loss_rpn_box_reg: 0.0131 (0.0189)  time: 0.1661  data: 0.0065  max mem: 1817\n",
      "Epoch: [3]  [ 8000/26007]  eta: 0:49:57  lr: 0.010000  loss: 0.2169 (0.2262)  loss_classifier: 0.1807 (0.1752)  loss_box_reg: 0.0212 (0.0229)  loss_objectness: 0.0021 (0.0093)  loss_rpn_box_reg: 0.0095 (0.0189)  time: 0.1666  data: 0.0069  max mem: 1817\n",
      "Epoch: [3]  [ 9000/26007]  eta: 0:47:10  lr: 0.010000  loss: 0.2268 (0.2270)  loss_classifier: 0.1970 (0.1756)  loss_box_reg: 0.0168 (0.0230)  loss_objectness: 0.0033 (0.0093)  loss_rpn_box_reg: 0.0152 (0.0190)  time: 0.1652  data: 0.0066  max mem: 1817\n",
      "Epoch: [3]  [10000/26007]  eta: 0:44:23  lr: 0.010000  loss: 0.1964 (0.2266)  loss_classifier: 0.1557 (0.1751)  loss_box_reg: 0.0146 (0.0230)  loss_objectness: 0.0013 (0.0095)  loss_rpn_box_reg: 0.0184 (0.0190)  time: 0.1671  data: 0.0065  max mem: 1817\n",
      "Epoch: [3]  [11000/26007]  eta: 0:41:37  lr: 0.010000  loss: 0.1935 (0.2259)  loss_classifier: 0.1679 (0.1746)  loss_box_reg: 0.0166 (0.0230)  loss_objectness: 0.0024 (0.0095)  loss_rpn_box_reg: 0.0126 (0.0189)  time: 0.1675  data: 0.0077  max mem: 1817\n",
      "Epoch: [3]  [12000/26007]  eta: 0:38:51  lr: 0.010000  loss: 0.1409 (0.2255)  loss_classifier: 0.1167 (0.1741)  loss_box_reg: 0.0090 (0.0229)  loss_objectness: 0.0040 (0.0096)  loss_rpn_box_reg: 0.0153 (0.0189)  time: 0.1660  data: 0.0068  max mem: 1817\n",
      "Epoch: [3]  [13000/26007]  eta: 0:36:04  lr: 0.010000  loss: 0.1684 (0.2249)  loss_classifier: 0.1396 (0.1733)  loss_box_reg: 0.0167 (0.0229)  loss_objectness: 0.0028 (0.0097)  loss_rpn_box_reg: 0.0150 (0.0189)  time: 0.1663  data: 0.0068  max mem: 1817\n",
      "Epoch: [3]  [14000/26007]  eta: 0:33:18  lr: 0.010000  loss: 0.1963 (0.2246)  loss_classifier: 0.1528 (0.1730)  loss_box_reg: 0.0150 (0.0229)  loss_objectness: 0.0015 (0.0098)  loss_rpn_box_reg: 0.0140 (0.0189)  time: 0.1658  data: 0.0069  max mem: 1817\n",
      "Epoch: [3]  [15000/26007]  eta: 0:30:31  lr: 0.010000  loss: 0.2368 (0.2239)  loss_classifier: 0.1749 (0.1724)  loss_box_reg: 0.0118 (0.0229)  loss_objectness: 0.0023 (0.0098)  loss_rpn_box_reg: 0.0147 (0.0189)  time: 0.1675  data: 0.0068  max mem: 1817\n"
     ]
    },
    {
     "name": "stdout",
     "output_type": "stream",
     "text": [
      "Epoch: [3]  [16000/26007]  eta: 0:27:45  lr: 0.010000  loss: 0.2203 (0.2238)  loss_classifier: 0.1849 (0.1719)  loss_box_reg: 0.0199 (0.0229)  loss_objectness: 0.0030 (0.0100)  loss_rpn_box_reg: 0.0131 (0.0190)  time: 0.1659  data: 0.0063  max mem: 1817\n",
      "Epoch: [3]  [17000/26007]  eta: 0:24:59  lr: 0.010000  loss: 0.2094 (0.2233)  loss_classifier: 0.1587 (0.1714)  loss_box_reg: 0.0227 (0.0228)  loss_objectness: 0.0024 (0.0100)  loss_rpn_box_reg: 0.0120 (0.0191)  time: 0.1666  data: 0.0066  max mem: 1817\n",
      "Epoch: [3]  [18000/26007]  eta: 0:22:12  lr: 0.010000  loss: 0.1720 (0.2233)  loss_classifier: 0.1269 (0.1714)  loss_box_reg: 0.0151 (0.0229)  loss_objectness: 0.0032 (0.0100)  loss_rpn_box_reg: 0.0156 (0.0191)  time: 0.1658  data: 0.0074  max mem: 1817\n",
      "Epoch: [3]  [19000/26007]  eta: 0:19:31  lr: 0.010000  loss: 0.1679 (0.2224)  loss_classifier: 0.1406 (0.1705)  loss_box_reg: 0.0120 (0.0228)  loss_objectness: 0.0016 (0.0100)  loss_rpn_box_reg: 0.0132 (0.0191)  time: 0.1930  data: 0.0075  max mem: 1817\n",
      "Epoch: [3]  [20000/26007]  eta: 0:16:50  lr: 0.010000  loss: 0.1816 (0.2217)  loss_classifier: 0.1361 (0.1700)  loss_box_reg: 0.0115 (0.0227)  loss_objectness: 0.0014 (0.0099)  loss_rpn_box_reg: 0.0120 (0.0191)  time: 0.1839  data: 0.0072  max mem: 1817\n",
      "Epoch: [3]  [21000/26007]  eta: 0:14:05  lr: 0.010000  loss: 0.1821 (0.2208)  loss_classifier: 0.1331 (0.1693)  loss_box_reg: 0.0159 (0.0227)  loss_objectness: 0.0016 (0.0098)  loss_rpn_box_reg: 0.0126 (0.0190)  time: 0.1660  data: 0.0066  max mem: 1817\n",
      "Epoch: [3]  [22000/26007]  eta: 0:11:16  lr: 0.010000  loss: 0.1915 (0.2204)  loss_classifier: 0.1378 (0.1689)  loss_box_reg: 0.0115 (0.0227)  loss_objectness: 0.0018 (0.0098)  loss_rpn_box_reg: 0.0152 (0.0190)  time: 0.1665  data: 0.0067  max mem: 1817\n",
      "Epoch: [3]  [23000/26007]  eta: 0:08:27  lr: 0.010000  loss: 0.1887 (0.2201)  loss_classifier: 0.1551 (0.1686)  loss_box_reg: 0.0102 (0.0227)  loss_objectness: 0.0016 (0.0098)  loss_rpn_box_reg: 0.0128 (0.0190)  time: 0.1672  data: 0.0065  max mem: 1817\n",
      "Epoch: [3]  [24000/26007]  eta: 0:05:38  lr: 0.010000  loss: 0.1371 (0.2197)  loss_classifier: 0.1053 (0.1683)  loss_box_reg: 0.0101 (0.0227)  loss_objectness: 0.0015 (0.0098)  loss_rpn_box_reg: 0.0111 (0.0190)  time: 0.1663  data: 0.0064  max mem: 1817\n",
      "Epoch: [3]  [25000/26007]  eta: 0:02:49  lr: 0.010000  loss: 0.1572 (0.2194)  loss_classifier: 0.1084 (0.1679)  loss_box_reg: 0.0120 (0.0227)  loss_objectness: 0.0039 (0.0099)  loss_rpn_box_reg: 0.0127 (0.0190)  time: 0.1668  data: 0.0067  max mem: 1817\n",
      "Epoch: [3]  [26000/26007]  eta: 0:00:01  lr: 0.010000  loss: 0.1574 (0.2190)  loss_classifier: 0.1185 (0.1675)  loss_box_reg: 0.0095 (0.0227)  loss_objectness: 0.0012 (0.0099)  loss_rpn_box_reg: 0.0125 (0.0189)  time: 0.1659  data: 0.0068  max mem: 1817\n",
      "Epoch: [3]  [26006/26007]  eta: 0:00:00  lr: 0.010000  loss: 0.1632 (0.2190)  loss_classifier: 0.1215 (0.1675)  loss_box_reg: 0.0095 (0.0227)  loss_objectness: 0.0017 (0.0099)  loss_rpn_box_reg: 0.0180 (0.0189)  time: 0.1675  data: 0.0071  max mem: 1817\n",
      "Epoch: [3] Total time: 1:13:01 (0.1685 s / it)\n",
      "creating index...\n",
      "index created!\n",
      "Test:  [   0/2890]  eta: 0:03:07  model_time: 0.0349 (0.0349)  evaluator_time: 0.0050 (0.0050)  time: 0.0648  data: 0.0080  max mem: 1817\n",
      "Test:  [ 100/2890]  eta: 0:02:10  model_time: 0.0309 (0.0329)  evaluator_time: 0.0030 (0.0033)  time: 0.0457  data: 0.0094  max mem: 1817\n",
      "Test:  [ 200/2890]  eta: 0:02:05  model_time: 0.0319 (0.0328)  evaluator_time: 0.0030 (0.0035)  time: 0.0457  data: 0.0092  max mem: 1817\n",
      "Test:  [ 300/2890]  eta: 0:02:01  model_time: 0.0349 (0.0330)  evaluator_time: 0.0040 (0.0035)  time: 0.0480  data: 0.0093  max mem: 1817\n",
      "Test:  [ 400/2890]  eta: 0:01:56  model_time: 0.0349 (0.0330)  evaluator_time: 0.0040 (0.0034)  time: 0.0497  data: 0.0094  max mem: 1817\n",
      "Test:  [ 500/2890]  eta: 0:01:51  model_time: 0.0309 (0.0330)  evaluator_time: 0.0030 (0.0034)  time: 0.0447  data: 0.0094  max mem: 1817\n",
      "Test:  [ 600/2890]  eta: 0:01:46  model_time: 0.0319 (0.0330)  evaluator_time: 0.0030 (0.0034)  time: 0.0460  data: 0.0091  max mem: 1817\n",
      "Test:  [ 700/2890]  eta: 0:01:42  model_time: 0.0319 (0.0330)  evaluator_time: 0.0030 (0.0034)  time: 0.0465  data: 0.0095  max mem: 1817\n",
      "Test:  [ 800/2890]  eta: 0:01:37  model_time: 0.0319 (0.0330)  evaluator_time: 0.0030 (0.0034)  time: 0.0468  data: 0.0091  max mem: 1817\n",
      "Test:  [ 900/2890]  eta: 0:01:32  model_time: 0.0319 (0.0330)  evaluator_time: 0.0030 (0.0033)  time: 0.0453  data: 0.0087  max mem: 1817\n",
      "Test:  [1000/2890]  eta: 0:01:28  model_time: 0.0329 (0.0330)  evaluator_time: 0.0030 (0.0034)  time: 0.0484  data: 0.0090  max mem: 1817\n",
      "Test:  [1100/2890]  eta: 0:01:23  model_time: 0.0339 (0.0330)  evaluator_time: 0.0030 (0.0034)  time: 0.0468  data: 0.0090  max mem: 1817\n",
      "Test:  [1200/2890]  eta: 0:01:18  model_time: 0.0319 (0.0330)  evaluator_time: 0.0030 (0.0033)  time: 0.0475  data: 0.0090  max mem: 1817\n",
      "Test:  [1300/2890]  eta: 0:01:14  model_time: 0.0319 (0.0330)  evaluator_time: 0.0030 (0.0033)  time: 0.0464  data: 0.0097  max mem: 1817\n",
      "Test:  [1400/2890]  eta: 0:01:09  model_time: 0.0339 (0.0331)  evaluator_time: 0.0030 (0.0034)  time: 0.0480  data: 0.0095  max mem: 1817\n",
      "Test:  [1500/2890]  eta: 0:01:05  model_time: 0.0329 (0.0331)  evaluator_time: 0.0030 (0.0034)  time: 0.0466  data: 0.0086  max mem: 1817\n",
      "Test:  [1600/2890]  eta: 0:01:00  model_time: 0.0329 (0.0331)  evaluator_time: 0.0030 (0.0034)  time: 0.0475  data: 0.0089  max mem: 1817\n",
      "Test:  [1700/2890]  eta: 0:00:55  model_time: 0.0329 (0.0331)  evaluator_time: 0.0030 (0.0033)  time: 0.0467  data: 0.0095  max mem: 1817\n",
      "Test:  [1800/2890]  eta: 0:00:51  model_time: 0.0329 (0.0331)  evaluator_time: 0.0030 (0.0034)  time: 0.0474  data: 0.0096  max mem: 1817\n",
      "Test:  [1900/2890]  eta: 0:00:46  model_time: 0.0349 (0.0331)  evaluator_time: 0.0030 (0.0034)  time: 0.0485  data: 0.0096  max mem: 1817\n",
      "Test:  [2000/2890]  eta: 0:00:41  model_time: 0.0349 (0.0331)  evaluator_time: 0.0030 (0.0034)  time: 0.0482  data: 0.0091  max mem: 1817\n",
      "Test:  [2100/2890]  eta: 0:00:36  model_time: 0.0319 (0.0331)  evaluator_time: 0.0030 (0.0034)  time: 0.0466  data: 0.0090  max mem: 1817\n",
      "Test:  [2200/2890]  eta: 0:00:32  model_time: 0.0329 (0.0332)  evaluator_time: 0.0030 (0.0034)  time: 0.0464  data: 0.0088  max mem: 1817\n",
      "Test:  [2300/2890]  eta: 0:00:27  model_time: 0.0319 (0.0332)  evaluator_time: 0.0030 (0.0034)  time: 0.0463  data: 0.0089  max mem: 1817\n",
      "Test:  [2400/2890]  eta: 0:00:22  model_time: 0.0329 (0.0332)  evaluator_time: 0.0030 (0.0034)  time: 0.0472  data: 0.0092  max mem: 1817\n",
      "Test:  [2500/2890]  eta: 0:00:18  model_time: 0.0339 (0.0332)  evaluator_time: 0.0030 (0.0034)  time: 0.0472  data: 0.0092  max mem: 1817\n",
      "Test:  [2600/2890]  eta: 0:00:13  model_time: 0.0349 (0.0332)  evaluator_time: 0.0030 (0.0034)  time: 0.0488  data: 0.0091  max mem: 1817\n",
      "Test:  [2700/2890]  eta: 0:00:08  model_time: 0.0319 (0.0332)  evaluator_time: 0.0030 (0.0034)  time: 0.0463  data: 0.0090  max mem: 1817\n",
      "Test:  [2800/2890]  eta: 0:00:04  model_time: 0.0319 (0.0332)  evaluator_time: 0.0030 (0.0034)  time: 0.0458  data: 0.0092  max mem: 1817\n",
      "Test:  [2889/2890]  eta: 0:00:00  model_time: 0.0319 (0.0332)  evaluator_time: 0.0030 (0.0034)  time: 0.0461  data: 0.0090  max mem: 1817\n",
      "Test: Total time: 0:02:15 (0.0469 s / it)\n",
      "Averaged stats: model_time: 0.0319 (0.0332)  evaluator_time: 0.0030 (0.0034)\n",
      "Accumulating evaluation results...\n",
      "DONE (t=1.94s).\n",
      "IoU metric: bbox\n",
      " Average Precision  (AP) @[ IoU=0.50:0.95 | area=   all | maxDets=100 ] = 0.091\n",
      " Average Precision  (AP) @[ IoU=0.50      | area=   all | maxDets=100 ] = 0.146\n",
      " Average Precision  (AP) @[ IoU=0.75      | area=   all | maxDets=100 ] = 0.098\n",
      " Average Precision  (AP) @[ IoU=0.50:0.95 | area= small | maxDets=100 ] = -1.000\n",
      " Average Precision  (AP) @[ IoU=0.50:0.95 | area=medium | maxDets=100 ] = 0.000\n",
      " Average Precision  (AP) @[ IoU=0.50:0.95 | area= large | maxDets=100 ] = 0.092\n",
      " Average Recall     (AR) @[ IoU=0.50:0.95 | area=   all | maxDets=  1 ] = 0.216\n",
      " Average Recall     (AR) @[ IoU=0.50:0.95 | area=   all | maxDets= 10 ] = 0.217\n",
      " Average Recall     (AR) @[ IoU=0.50:0.95 | area=   all | maxDets=100 ] = 0.217\n",
      " Average Recall     (AR) @[ IoU=0.50:0.95 | area= small | maxDets=100 ] = -1.000\n",
      " Average Recall     (AR) @[ IoU=0.50:0.95 | area=medium | maxDets=100 ] = 0.000\n",
      " Average Recall     (AR) @[ IoU=0.50:0.95 | area= large | maxDets=100 ] = 0.218\n"
     ]
    },
    {
     "name": "stdout",
     "output_type": "stream",
     "text": [
      "Epoch: [4]  [    0/26007]  eta: 1:21:41  lr: 0.010000  loss: 0.4552 (0.4552)  loss_classifier: 0.2139 (0.2139)  loss_box_reg: 0.1479 (0.1479)  loss_objectness: 0.0175 (0.0175)  loss_rpn_box_reg: 0.0759 (0.0759)  time: 0.1885  data: 0.0089  max mem: 1817\n",
      "Epoch: [4]  [ 1000/26007]  eta: 1:09:27  lr: 0.010000  loss: 0.1672 (0.2011)  loss_classifier: 0.1170 (0.1532)  loss_box_reg: 0.0130 (0.0212)  loss_objectness: 0.0013 (0.0072)  loss_rpn_box_reg: 0.0121 (0.0195)  time: 0.1652  data: 0.0062  max mem: 1817\n",
      "Epoch: [4]  [ 2000/26007]  eta: 1:06:46  lr: 0.010000  loss: 0.1559 (0.1988)  loss_classifier: 0.1140 (0.1527)  loss_box_reg: 0.0104 (0.0207)  loss_objectness: 0.0015 (0.0067)  loss_rpn_box_reg: 0.0152 (0.0187)  time: 0.1671  data: 0.0065  max mem: 1817\n",
      "Epoch: [4]  [ 3000/26007]  eta: 1:03:59  lr: 0.010000  loss: 0.1488 (0.2005)  loss_classifier: 0.1250 (0.1534)  loss_box_reg: 0.0104 (0.0211)  loss_objectness: 0.0011 (0.0076)  loss_rpn_box_reg: 0.0079 (0.0185)  time: 0.1670  data: 0.0066  max mem: 1817\n",
      "Epoch: [4]  [ 4000/26007]  eta: 1:01:11  lr: 0.010000  loss: 0.1657 (0.1997)  loss_classifier: 0.1125 (0.1525)  loss_box_reg: 0.0123 (0.0210)  loss_objectness: 0.0024 (0.0079)  loss_rpn_box_reg: 0.0145 (0.0183)  time: 0.1667  data: 0.0074  max mem: 1817\n",
      "Epoch: [4]  [ 5000/26007]  eta: 0:58:24  lr: 0.010000  loss: 0.1925 (0.2003)  loss_classifier: 0.1605 (0.1523)  loss_box_reg: 0.0117 (0.0214)  loss_objectness: 0.0016 (0.0082)  loss_rpn_box_reg: 0.0115 (0.0183)  time: 0.1676  data: 0.0063  max mem: 1817\n",
      "Epoch: [4]  [ 6000/26007]  eta: 0:55:37  lr: 0.010000  loss: 0.1624 (0.2008)  loss_classifier: 0.1286 (0.1527)  loss_box_reg: 0.0116 (0.0216)  loss_objectness: 0.0014 (0.0082)  loss_rpn_box_reg: 0.0126 (0.0183)  time: 0.1667  data: 0.0068  max mem: 1817\n",
      "Epoch: [4]  [ 7000/26007]  eta: 0:52:49  lr: 0.010000  loss: 0.1490 (0.2003)  loss_classifier: 0.1186 (0.1520)  loss_box_reg: 0.0102 (0.0216)  loss_objectness: 0.0015 (0.0084)  loss_rpn_box_reg: 0.0106 (0.0183)  time: 0.1665  data: 0.0068  max mem: 1817\n",
      "Epoch: [4]  [ 8000/26007]  eta: 0:50:03  lr: 0.010000  loss: 0.1441 (0.2004)  loss_classifier: 0.1316 (0.1518)  loss_box_reg: 0.0095 (0.0217)  loss_objectness: 0.0020 (0.0086)  loss_rpn_box_reg: 0.0092 (0.0183)  time: 0.1665  data: 0.0065  max mem: 1817\n",
      "Epoch: [4]  [ 9000/26007]  eta: 0:47:16  lr: 0.010000  loss: 0.1695 (0.1997)  loss_classifier: 0.1438 (0.1512)  loss_box_reg: 0.0174 (0.0218)  loss_objectness: 0.0015 (0.0086)  loss_rpn_box_reg: 0.0104 (0.0182)  time: 0.1667  data: 0.0065  max mem: 1817\n",
      "Epoch: [4]  [10000/26007]  eta: 0:44:30  lr: 0.010000  loss: 0.1813 (0.1998)  loss_classifier: 0.1419 (0.1509)  loss_box_reg: 0.0141 (0.0218)  loss_objectness: 0.0020 (0.0088)  loss_rpn_box_reg: 0.0168 (0.0182)  time: 0.1665  data: 0.0070  max mem: 1817\n",
      "Epoch: [4]  [11000/26007]  eta: 0:41:43  lr: 0.010000  loss: 0.2221 (0.2005)  loss_classifier: 0.1684 (0.1510)  loss_box_reg: 0.0210 (0.0218)  loss_objectness: 0.0039 (0.0093)  loss_rpn_box_reg: 0.0094 (0.0184)  time: 0.1660  data: 0.0064  max mem: 1817\n",
      "Epoch: [4]  [12000/26007]  eta: 0:38:56  lr: 0.010000  loss: 0.1206 (0.2002)  loss_classifier: 0.0904 (0.1506)  loss_box_reg: 0.0086 (0.0219)  loss_objectness: 0.0016 (0.0094)  loss_rpn_box_reg: 0.0068 (0.0184)  time: 0.1668  data: 0.0071  max mem: 1817\n",
      "Epoch: [4]  [13000/26007]  eta: 0:36:09  lr: 0.010000  loss: 0.1600 (0.1989)  loss_classifier: 0.1247 (0.1496)  loss_box_reg: 0.0182 (0.0217)  loss_objectness: 0.0011 (0.0092)  loss_rpn_box_reg: 0.0102 (0.0184)  time: 0.1678  data: 0.0065  max mem: 1817\n",
      "Epoch: [4]  [14000/26007]  eta: 0:33:26  lr: 0.010000  loss: 0.1517 (0.1987)  loss_classifier: 0.1214 (0.1493)  loss_box_reg: 0.0093 (0.0218)  loss_objectness: 0.0021 (0.0093)  loss_rpn_box_reg: 0.0112 (0.0184)  time: 0.1759  data: 0.0076  max mem: 1817\n",
      "Epoch: [4]  [15000/26007]  eta: 0:30:39  lr: 0.010000  loss: 0.1985 (0.1987)  loss_classifier: 0.1387 (0.1492)  loss_box_reg: 0.0157 (0.0219)  loss_objectness: 0.0017 (0.0092)  loss_rpn_box_reg: 0.0120 (0.0184)  time: 0.1671  data: 0.0067  max mem: 1817\n",
      "Epoch: [4]  [16000/26007]  eta: 0:27:55  lr: 0.010000  loss: 0.1293 (0.1983)  loss_classifier: 0.1020 (0.1489)  loss_box_reg: 0.0156 (0.0219)  loss_objectness: 0.0014 (0.0092)  loss_rpn_box_reg: 0.0141 (0.0183)  time: 0.1729  data: 0.0071  max mem: 1817\n",
      "Epoch: [4]  [17000/26007]  eta: 0:25:10  lr: 0.010000  loss: 0.1638 (0.1978)  loss_classifier: 0.1288 (0.1485)  loss_box_reg: 0.0115 (0.0219)  loss_objectness: 0.0016 (0.0091)  loss_rpn_box_reg: 0.0078 (0.0183)  time: 0.1683  data: 0.0066  max mem: 1817\n",
      "Epoch: [4]  [18000/26007]  eta: 0:22:25  lr: 0.010000  loss: 0.1302 (0.1977)  loss_classifier: 0.0884 (0.1483)  loss_box_reg: 0.0137 (0.0220)  loss_objectness: 0.0016 (0.0091)  loss_rpn_box_reg: 0.0149 (0.0183)  time: 0.1745  data: 0.0072  max mem: 1817\n",
      "Epoch: [4]  [19000/26007]  eta: 0:19:37  lr: 0.010000  loss: 0.1167 (0.1970)  loss_classifier: 0.1047 (0.1477)  loss_box_reg: 0.0110 (0.0220)  loss_objectness: 0.0019 (0.0091)  loss_rpn_box_reg: 0.0100 (0.0183)  time: 0.1685  data: 0.0069  max mem: 1817\n",
      "Epoch: [4]  [20000/26007]  eta: 0:16:49  lr: 0.010000  loss: 0.1682 (0.1968)  loss_classifier: 0.1284 (0.1473)  loss_box_reg: 0.0186 (0.0220)  loss_objectness: 0.0018 (0.0091)  loss_rpn_box_reg: 0.0167 (0.0183)  time: 0.1754  data: 0.0072  max mem: 1817\n",
      "Epoch: [4]  [21000/26007]  eta: 0:14:01  lr: 0.010000  loss: 0.1867 (0.1966)  loss_classifier: 0.1570 (0.1472)  loss_box_reg: 0.0139 (0.0220)  loss_objectness: 0.0023 (0.0091)  loss_rpn_box_reg: 0.0172 (0.0183)  time: 0.1657  data: 0.0065  max mem: 1817\n",
      "Epoch: [4]  [22000/26007]  eta: 0:11:13  lr: 0.010000  loss: 0.1753 (0.1966)  loss_classifier: 0.1120 (0.1472)  loss_box_reg: 0.0141 (0.0220)  loss_objectness: 0.0019 (0.0091)  loss_rpn_box_reg: 0.0117 (0.0183)  time: 0.1659  data: 0.0070  max mem: 1817\n",
      "Epoch: [4]  [23000/26007]  eta: 0:08:25  lr: 0.010000  loss: 0.1886 (0.1962)  loss_classifier: 0.1285 (0.1468)  loss_box_reg: 0.0111 (0.0220)  loss_objectness: 0.0026 (0.0091)  loss_rpn_box_reg: 0.0151 (0.0182)  time: 0.1665  data: 0.0068  max mem: 1817\n",
      "Epoch: [4]  [24000/26007]  eta: 0:05:36  lr: 0.010000  loss: 0.1574 (0.1961)  loss_classifier: 0.1385 (0.1467)  loss_box_reg: 0.0100 (0.0221)  loss_objectness: 0.0031 (0.0091)  loss_rpn_box_reg: 0.0114 (0.0182)  time: 0.1671  data: 0.0068  max mem: 1817\n",
      "Epoch: [4]  [25000/26007]  eta: 0:02:49  lr: 0.010000  loss: 0.1531 (0.1962)  loss_classifier: 0.1164 (0.1467)  loss_box_reg: 0.0099 (0.0222)  loss_objectness: 0.0022 (0.0091)  loss_rpn_box_reg: 0.0176 (0.0182)  time: 0.1677  data: 0.0072  max mem: 1817\n",
      "Epoch: [4]  [26000/26007]  eta: 0:00:01  lr: 0.010000  loss: 0.1566 (0.1962)  loss_classifier: 0.1212 (0.1467)  loss_box_reg: 0.0116 (0.0222)  loss_objectness: 0.0013 (0.0091)  loss_rpn_box_reg: 0.0156 (0.0182)  time: 0.1683  data: 0.0067  max mem: 1817\n",
      "Epoch: [4]  [26006/26007]  eta: 0:00:00  lr: 0.010000  loss: 0.1561 (0.1962)  loss_classifier: 0.1212 (0.1467)  loss_box_reg: 0.0119 (0.0222)  loss_objectness: 0.0013 (0.0091)  loss_rpn_box_reg: 0.0115 (0.0182)  time: 0.1673  data: 0.0064  max mem: 1817\n",
      "Epoch: [4] Total time: 1:12:48 (0.1680 s / it)\n",
      "creating index...\n",
      "index created!\n",
      "Test:  [   0/2890]  eta: 0:03:01  model_time: 0.0349 (0.0349)  evaluator_time: 0.0040 (0.0040)  time: 0.0628  data: 0.0090  max mem: 1817\n",
      "Test:  [ 100/2890]  eta: 0:02:14  model_time: 0.0329 (0.0344)  evaluator_time: 0.0030 (0.0033)  time: 0.0483  data: 0.0092  max mem: 1817\n",
      "Test:  [ 200/2890]  eta: 0:02:08  model_time: 0.0339 (0.0338)  evaluator_time: 0.0030 (0.0034)  time: 0.0476  data: 0.0090  max mem: 1817\n",
      "Test:  [ 300/2890]  eta: 0:02:03  model_time: 0.0359 (0.0338)  evaluator_time: 0.0040 (0.0034)  time: 0.0509  data: 0.0093  max mem: 1817\n",
      "Test:  [ 400/2890]  eta: 0:01:59  model_time: 0.0352 (0.0340)  evaluator_time: 0.0040 (0.0035)  time: 0.0502  data: 0.0094  max mem: 1817\n",
      "Test:  [ 500/2890]  eta: 0:01:55  model_time: 0.0329 (0.0341)  evaluator_time: 0.0030 (0.0035)  time: 0.0469  data: 0.0093  max mem: 1817\n",
      "Test:  [ 600/2890]  eta: 0:01:50  model_time: 0.0339 (0.0340)  evaluator_time: 0.0030 (0.0035)  time: 0.0478  data: 0.0090  max mem: 1817\n",
      "Test:  [ 700/2890]  eta: 0:01:45  model_time: 0.0339 (0.0340)  evaluator_time: 0.0030 (0.0035)  time: 0.0490  data: 0.0096  max mem: 1817\n"
     ]
    },
    {
     "name": "stdout",
     "output_type": "stream",
     "text": [
      "Test:  [ 800/2890]  eta: 0:01:40  model_time: 0.0329 (0.0339)  evaluator_time: 0.0030 (0.0035)  time: 0.0473  data: 0.0097  max mem: 1817\n",
      "Test:  [ 900/2890]  eta: 0:01:35  model_time: 0.0339 (0.0339)  evaluator_time: 0.0030 (0.0035)  time: 0.0480  data: 0.0093  max mem: 1817\n",
      "Test:  [1000/2890]  eta: 0:01:30  model_time: 0.0329 (0.0339)  evaluator_time: 0.0030 (0.0035)  time: 0.0472  data: 0.0095  max mem: 1817\n",
      "Test:  [1100/2890]  eta: 0:01:26  model_time: 0.0339 (0.0339)  evaluator_time: 0.0040 (0.0035)  time: 0.0493  data: 0.0094  max mem: 1817\n",
      "Test:  [1200/2890]  eta: 0:01:21  model_time: 0.0349 (0.0340)  evaluator_time: 0.0030 (0.0036)  time: 0.0502  data: 0.0099  max mem: 1817\n",
      "Test:  [1300/2890]  eta: 0:01:16  model_time: 0.0349 (0.0341)  evaluator_time: 0.0030 (0.0036)  time: 0.0483  data: 0.0088  max mem: 1817\n",
      "Test:  [1400/2890]  eta: 0:01:11  model_time: 0.0349 (0.0342)  evaluator_time: 0.0040 (0.0036)  time: 0.0496  data: 0.0093  max mem: 1817\n",
      "Test:  [1500/2890]  eta: 0:01:07  model_time: 0.0349 (0.0341)  evaluator_time: 0.0030 (0.0036)  time: 0.0510  data: 0.0095  max mem: 1817\n",
      "Test:  [1600/2890]  eta: 0:01:02  model_time: 0.0319 (0.0341)  evaluator_time: 0.0040 (0.0036)  time: 0.0478  data: 0.0090  max mem: 1817\n",
      "Test:  [1700/2890]  eta: 0:00:57  model_time: 0.0319 (0.0341)  evaluator_time: 0.0030 (0.0036)  time: 0.0461  data: 0.0088  max mem: 1817\n",
      "Test:  [1800/2890]  eta: 0:00:52  model_time: 0.0349 (0.0341)  evaluator_time: 0.0030 (0.0036)  time: 0.0479  data: 0.0088  max mem: 1817\n",
      "Test:  [1900/2890]  eta: 0:00:47  model_time: 0.0339 (0.0340)  evaluator_time: 0.0040 (0.0036)  time: 0.0493  data: 0.0098  max mem: 1817\n",
      "Test:  [2000/2890]  eta: 0:00:42  model_time: 0.0339 (0.0340)  evaluator_time: 0.0030 (0.0036)  time: 0.0485  data: 0.0091  max mem: 1817\n",
      "Test:  [2100/2890]  eta: 0:00:37  model_time: 0.0339 (0.0340)  evaluator_time: 0.0040 (0.0036)  time: 0.0479  data: 0.0095  max mem: 1817\n",
      "Test:  [2200/2890]  eta: 0:00:33  model_time: 0.0329 (0.0340)  evaluator_time: 0.0040 (0.0036)  time: 0.0473  data: 0.0091  max mem: 1817\n",
      "Test:  [2300/2890]  eta: 0:00:28  model_time: 0.0339 (0.0340)  evaluator_time: 0.0040 (0.0036)  time: 0.0482  data: 0.0093  max mem: 1817\n",
      "Test:  [2400/2890]  eta: 0:00:23  model_time: 0.0339 (0.0340)  evaluator_time: 0.0030 (0.0036)  time: 0.0502  data: 0.0090  max mem: 1817\n",
      "Test:  [2500/2890]  eta: 0:00:18  model_time: 0.0319 (0.0340)  evaluator_time: 0.0040 (0.0036)  time: 0.0469  data: 0.0096  max mem: 1817\n",
      "Test:  [2600/2890]  eta: 0:00:13  model_time: 0.0339 (0.0340)  evaluator_time: 0.0030 (0.0036)  time: 0.0491  data: 0.0099  max mem: 1817\n",
      "Test:  [2700/2890]  eta: 0:00:09  model_time: 0.0339 (0.0340)  evaluator_time: 0.0030 (0.0036)  time: 0.0480  data: 0.0093  max mem: 1817\n",
      "Test:  [2800/2890]  eta: 0:00:04  model_time: 0.0329 (0.0340)  evaluator_time: 0.0030 (0.0036)  time: 0.0476  data: 0.0095  max mem: 1817\n",
      "Test:  [2889/2890]  eta: 0:00:00  model_time: 0.0339 (0.0340)  evaluator_time: 0.0030 (0.0036)  time: 0.0477  data: 0.0090  max mem: 1817\n",
      "Test: Total time: 0:02:18 (0.0481 s / it)\n",
      "Averaged stats: model_time: 0.0339 (0.0340)  evaluator_time: 0.0030 (0.0036)\n",
      "Accumulating evaluation results...\n",
      "DONE (t=2.06s).\n",
      "IoU metric: bbox\n",
      " Average Precision  (AP) @[ IoU=0.50:0.95 | area=   all | maxDets=100 ] = 0.131\n",
      " Average Precision  (AP) @[ IoU=0.50      | area=   all | maxDets=100 ] = 0.207\n",
      " Average Precision  (AP) @[ IoU=0.75      | area=   all | maxDets=100 ] = 0.145\n",
      " Average Precision  (AP) @[ IoU=0.50:0.95 | area= small | maxDets=100 ] = -1.000\n",
      " Average Precision  (AP) @[ IoU=0.50:0.95 | area=medium | maxDets=100 ] = 0.000\n",
      " Average Precision  (AP) @[ IoU=0.50:0.95 | area= large | maxDets=100 ] = 0.131\n",
      " Average Recall     (AR) @[ IoU=0.50:0.95 | area=   all | maxDets=  1 ] = 0.289\n",
      " Average Recall     (AR) @[ IoU=0.50:0.95 | area=   all | maxDets= 10 ] = 0.291\n",
      " Average Recall     (AR) @[ IoU=0.50:0.95 | area=   all | maxDets=100 ] = 0.291\n",
      " Average Recall     (AR) @[ IoU=0.50:0.95 | area= small | maxDets=100 ] = -1.000\n",
      " Average Recall     (AR) @[ IoU=0.50:0.95 | area=medium | maxDets=100 ] = 0.000\n",
      " Average Recall     (AR) @[ IoU=0.50:0.95 | area= large | maxDets=100 ] = 0.292\n"
     ]
    }
   ],
   "source": [
    "for epoch in range(epochs):\n",
    "    train_one_epoch(model, optimizer, train_loader, device, epoch, print_freq=1000)\n",
    "    evaluate(model, val_loader, device)\n",
    "    \n",
    "    # overwrite model weights file\n",
    "    torch.save(model.state_dict(), MODEL_PATH)"
   ]
  },
  {
   "cell_type": "code",
   "execution_count": null,
   "metadata": {},
   "outputs": [],
   "source": []
  }
 ],
 "metadata": {
  "accelerator": "GPU",
  "colab": {
   "authorship_tag": "ABX9TyMEED9oymhB2SYDFZhAXOf8",
   "collapsed_sections": [],
   "include_colab_link": true,
   "name": "food_classification_v1.ipynb",
   "private_outputs": true,
   "provenance": [],
   "toc_visible": true
  },
  "kernelspec": {
   "display_name": "Python 3",
   "language": "python",
   "name": "python3"
  },
  "language_info": {
   "codemirror_mode": {
    "name": "ipython",
    "version": 3
   },
   "file_extension": ".py",
   "mimetype": "text/x-python",
   "name": "python",
   "nbconvert_exporter": "python",
   "pygments_lexer": "ipython3",
   "version": "3.7.5"
  }
 },
 "nbformat": 4,
 "nbformat_minor": 1
}
