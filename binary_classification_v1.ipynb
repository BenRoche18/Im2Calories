{
  "nbformat": 4,
  "nbformat_minor": 0,
  "metadata": {
    "colab": {
      "name": "binary_classification_v1.ipynb",
      "provenance": [],
      "collapsed_sections": [],
      "toc_visible": true,
      "authorship_tag": "ABX9TyO13/h0zKJvn4b6qAXwFws2",
      "include_colab_link": true
    },
    "kernelspec": {
      "name": "python3",
      "display_name": "Python 3"
    },
    "accelerator": "GPU",
    "widgets": {
      "application/vnd.jupyter.widget-state+json": {
        "12e1730f6096437ea936fe8b28f2f63a": {
          "model_module": "@jupyter-widgets/controls",
          "model_name": "HBoxModel",
          "state": {
            "_view_name": "HBoxView",
            "_dom_classes": [],
            "_model_name": "HBoxModel",
            "_view_module": "@jupyter-widgets/controls",
            "_model_module_version": "1.5.0",
            "_view_count": null,
            "_view_module_version": "1.5.0",
            "box_style": "",
            "layout": "IPY_MODEL_f4ad1fccc149495c8f023dd9399439d4",
            "_model_module": "@jupyter-widgets/controls",
            "children": [
              "IPY_MODEL_313181398a91408a9749fa65d30ec4c3",
              "IPY_MODEL_6273aa7ddf194682b466889b07d020c7"
            ]
          }
        },
        "f4ad1fccc149495c8f023dd9399439d4": {
          "model_module": "@jupyter-widgets/base",
          "model_name": "LayoutModel",
          "state": {
            "_view_name": "LayoutView",
            "grid_template_rows": null,
            "right": null,
            "justify_content": null,
            "_view_module": "@jupyter-widgets/base",
            "overflow": null,
            "_model_module_version": "1.2.0",
            "_view_count": null,
            "flex_flow": null,
            "width": null,
            "min_width": null,
            "border": null,
            "align_items": null,
            "bottom": null,
            "_model_module": "@jupyter-widgets/base",
            "top": null,
            "grid_column": null,
            "overflow_y": null,
            "overflow_x": null,
            "grid_auto_flow": null,
            "grid_area": null,
            "grid_template_columns": null,
            "flex": null,
            "_model_name": "LayoutModel",
            "justify_items": null,
            "grid_row": null,
            "max_height": null,
            "align_content": null,
            "visibility": null,
            "align_self": null,
            "height": null,
            "min_height": null,
            "padding": null,
            "grid_auto_rows": null,
            "grid_gap": null,
            "max_width": null,
            "order": null,
            "_view_module_version": "1.2.0",
            "grid_template_areas": null,
            "object_position": null,
            "object_fit": null,
            "grid_auto_columns": null,
            "margin": null,
            "display": null,
            "left": null
          }
        },
        "313181398a91408a9749fa65d30ec4c3": {
          "model_module": "@jupyter-widgets/controls",
          "model_name": "IntProgressModel",
          "state": {
            "_view_name": "ProgressView",
            "style": "IPY_MODEL_ba31c54141214402beedc18610082611",
            "_dom_classes": [],
            "description": "Dl Completed...",
            "_model_name": "IntProgressModel",
            "bar_style": "info",
            "max": 1,
            "_view_module": "@jupyter-widgets/controls",
            "_model_module_version": "1.5.0",
            "value": 1,
            "_view_count": null,
            "_view_module_version": "1.5.0",
            "orientation": "horizontal",
            "min": 0,
            "description_tooltip": null,
            "_model_module": "@jupyter-widgets/controls",
            "layout": "IPY_MODEL_afeab297d8a04cebba968afae090c8b3"
          }
        },
        "6273aa7ddf194682b466889b07d020c7": {
          "model_module": "@jupyter-widgets/controls",
          "model_name": "HTMLModel",
          "state": {
            "_view_name": "HTMLView",
            "style": "IPY_MODEL_c5dd0c1c003b4231bcd02fc684ff9913",
            "_dom_classes": [],
            "description": "",
            "_model_name": "HTMLModel",
            "placeholder": "​",
            "_view_module": "@jupyter-widgets/controls",
            "_model_module_version": "1.5.0",
            "value": "0/|/  0% 0/1 [1:19:48&lt;?, ? url/s]",
            "_view_count": null,
            "_view_module_version": "1.5.0",
            "description_tooltip": null,
            "_model_module": "@jupyter-widgets/controls",
            "layout": "IPY_MODEL_567b69122a924ba5af13cdec97f64247"
          }
        },
        "ba31c54141214402beedc18610082611": {
          "model_module": "@jupyter-widgets/controls",
          "model_name": "ProgressStyleModel",
          "state": {
            "_view_name": "StyleView",
            "_model_name": "ProgressStyleModel",
            "description_width": "initial",
            "_view_module": "@jupyter-widgets/base",
            "_model_module_version": "1.5.0",
            "_view_count": null,
            "_view_module_version": "1.2.0",
            "bar_color": null,
            "_model_module": "@jupyter-widgets/controls"
          }
        },
        "afeab297d8a04cebba968afae090c8b3": {
          "model_module": "@jupyter-widgets/base",
          "model_name": "LayoutModel",
          "state": {
            "_view_name": "LayoutView",
            "grid_template_rows": null,
            "right": null,
            "justify_content": null,
            "_view_module": "@jupyter-widgets/base",
            "overflow": null,
            "_model_module_version": "1.2.0",
            "_view_count": null,
            "flex_flow": null,
            "width": null,
            "min_width": null,
            "border": null,
            "align_items": null,
            "bottom": null,
            "_model_module": "@jupyter-widgets/base",
            "top": null,
            "grid_column": null,
            "overflow_y": null,
            "overflow_x": null,
            "grid_auto_flow": null,
            "grid_area": null,
            "grid_template_columns": null,
            "flex": null,
            "_model_name": "LayoutModel",
            "justify_items": null,
            "grid_row": null,
            "max_height": null,
            "align_content": null,
            "visibility": null,
            "align_self": null,
            "height": null,
            "min_height": null,
            "padding": null,
            "grid_auto_rows": null,
            "grid_gap": null,
            "max_width": null,
            "order": null,
            "_view_module_version": "1.2.0",
            "grid_template_areas": null,
            "object_position": null,
            "object_fit": null,
            "grid_auto_columns": null,
            "margin": null,
            "display": null,
            "left": null
          }
        },
        "c5dd0c1c003b4231bcd02fc684ff9913": {
          "model_module": "@jupyter-widgets/controls",
          "model_name": "DescriptionStyleModel",
          "state": {
            "_view_name": "StyleView",
            "_model_name": "DescriptionStyleModel",
            "description_width": "",
            "_view_module": "@jupyter-widgets/base",
            "_model_module_version": "1.5.0",
            "_view_count": null,
            "_view_module_version": "1.2.0",
            "_model_module": "@jupyter-widgets/controls"
          }
        },
        "567b69122a924ba5af13cdec97f64247": {
          "model_module": "@jupyter-widgets/base",
          "model_name": "LayoutModel",
          "state": {
            "_view_name": "LayoutView",
            "grid_template_rows": null,
            "right": null,
            "justify_content": null,
            "_view_module": "@jupyter-widgets/base",
            "overflow": null,
            "_model_module_version": "1.2.0",
            "_view_count": null,
            "flex_flow": null,
            "width": null,
            "min_width": null,
            "border": null,
            "align_items": null,
            "bottom": null,
            "_model_module": "@jupyter-widgets/base",
            "top": null,
            "grid_column": null,
            "overflow_y": null,
            "overflow_x": null,
            "grid_auto_flow": null,
            "grid_area": null,
            "grid_template_columns": null,
            "flex": null,
            "_model_name": "LayoutModel",
            "justify_items": null,
            "grid_row": null,
            "max_height": null,
            "align_content": null,
            "visibility": null,
            "align_self": null,
            "height": null,
            "min_height": null,
            "padding": null,
            "grid_auto_rows": null,
            "grid_gap": null,
            "max_width": null,
            "order": null,
            "_view_module_version": "1.2.0",
            "grid_template_areas": null,
            "object_position": null,
            "object_fit": null,
            "grid_auto_columns": null,
            "margin": null,
            "display": null,
            "left": null
          }
        },
        "94343c1398a249bfa1ac418b7a979158": {
          "model_module": "@jupyter-widgets/controls",
          "model_name": "HBoxModel",
          "state": {
            "_view_name": "HBoxView",
            "_dom_classes": [],
            "_model_name": "HBoxModel",
            "_view_module": "@jupyter-widgets/controls",
            "_model_module_version": "1.5.0",
            "_view_count": null,
            "_view_module_version": "1.5.0",
            "box_style": "",
            "layout": "IPY_MODEL_d34bfaf632404f049ce9114d6695984f",
            "_model_module": "@jupyter-widgets/controls",
            "children": [
              "IPY_MODEL_62d07797b0f24bd480992a8a2ccd4f05",
              "IPY_MODEL_398db793d2864334bc42e84172dc4b6b"
            ]
          }
        },
        "d34bfaf632404f049ce9114d6695984f": {
          "model_module": "@jupyter-widgets/base",
          "model_name": "LayoutModel",
          "state": {
            "_view_name": "LayoutView",
            "grid_template_rows": null,
            "right": null,
            "justify_content": null,
            "_view_module": "@jupyter-widgets/base",
            "overflow": null,
            "_model_module_version": "1.2.0",
            "_view_count": null,
            "flex_flow": null,
            "width": null,
            "min_width": null,
            "border": null,
            "align_items": null,
            "bottom": null,
            "_model_module": "@jupyter-widgets/base",
            "top": null,
            "grid_column": null,
            "overflow_y": null,
            "overflow_x": null,
            "grid_auto_flow": null,
            "grid_area": null,
            "grid_template_columns": null,
            "flex": null,
            "_model_name": "LayoutModel",
            "justify_items": null,
            "grid_row": null,
            "max_height": null,
            "align_content": null,
            "visibility": null,
            "align_self": null,
            "height": null,
            "min_height": null,
            "padding": null,
            "grid_auto_rows": null,
            "grid_gap": null,
            "max_width": null,
            "order": null,
            "_view_module_version": "1.2.0",
            "grid_template_areas": null,
            "object_position": null,
            "object_fit": null,
            "grid_auto_columns": null,
            "margin": null,
            "display": null,
            "left": null
          }
        },
        "62d07797b0f24bd480992a8a2ccd4f05": {
          "model_module": "@jupyter-widgets/controls",
          "model_name": "IntProgressModel",
          "state": {
            "_view_name": "ProgressView",
            "style": "IPY_MODEL_f7900725b3534d7eaf7f8cd1a07cf601",
            "_dom_classes": [],
            "description": "Dl Size...",
            "_model_name": "IntProgressModel",
            "bar_style": "info",
            "max": 1,
            "_view_module": "@jupyter-widgets/controls",
            "_model_module_version": "1.5.0",
            "value": 1,
            "_view_count": null,
            "_view_module_version": "1.5.0",
            "orientation": "horizontal",
            "min": 0,
            "description_tooltip": null,
            "_model_module": "@jupyter-widgets/controls",
            "layout": "IPY_MODEL_1c4dabc76aac459a879af6c0f191014c"
          }
        },
        "398db793d2864334bc42e84172dc4b6b": {
          "model_module": "@jupyter-widgets/controls",
          "model_name": "HTMLModel",
          "state": {
            "_view_name": "HTMLView",
            "style": "IPY_MODEL_943532c7273d407a945834001da30bd2",
            "_dom_classes": [],
            "description": "",
            "_model_name": "HTMLModel",
            "placeholder": "​",
            "_view_module": "@jupyter-widgets/controls",
            "_model_module_version": "1.5.0",
            "value": "6479/|/ 56% 6479/11551 [1:19:48&lt;1:36:40,  1.14s/ MiB]",
            "_view_count": null,
            "_view_module_version": "1.5.0",
            "description_tooltip": null,
            "_model_module": "@jupyter-widgets/controls",
            "layout": "IPY_MODEL_35c8a8f9d1b54411ada15bd5a4164534"
          }
        },
        "f7900725b3534d7eaf7f8cd1a07cf601": {
          "model_module": "@jupyter-widgets/controls",
          "model_name": "ProgressStyleModel",
          "state": {
            "_view_name": "StyleView",
            "_model_name": "ProgressStyleModel",
            "description_width": "initial",
            "_view_module": "@jupyter-widgets/base",
            "_model_module_version": "1.5.0",
            "_view_count": null,
            "_view_module_version": "1.2.0",
            "bar_color": null,
            "_model_module": "@jupyter-widgets/controls"
          }
        },
        "1c4dabc76aac459a879af6c0f191014c": {
          "model_module": "@jupyter-widgets/base",
          "model_name": "LayoutModel",
          "state": {
            "_view_name": "LayoutView",
            "grid_template_rows": null,
            "right": null,
            "justify_content": null,
            "_view_module": "@jupyter-widgets/base",
            "overflow": null,
            "_model_module_version": "1.2.0",
            "_view_count": null,
            "flex_flow": null,
            "width": null,
            "min_width": null,
            "border": null,
            "align_items": null,
            "bottom": null,
            "_model_module": "@jupyter-widgets/base",
            "top": null,
            "grid_column": null,
            "overflow_y": null,
            "overflow_x": null,
            "grid_auto_flow": null,
            "grid_area": null,
            "grid_template_columns": null,
            "flex": null,
            "_model_name": "LayoutModel",
            "justify_items": null,
            "grid_row": null,
            "max_height": null,
            "align_content": null,
            "visibility": null,
            "align_self": null,
            "height": null,
            "min_height": null,
            "padding": null,
            "grid_auto_rows": null,
            "grid_gap": null,
            "max_width": null,
            "order": null,
            "_view_module_version": "1.2.0",
            "grid_template_areas": null,
            "object_position": null,
            "object_fit": null,
            "grid_auto_columns": null,
            "margin": null,
            "display": null,
            "left": null
          }
        },
        "943532c7273d407a945834001da30bd2": {
          "model_module": "@jupyter-widgets/controls",
          "model_name": "DescriptionStyleModel",
          "state": {
            "_view_name": "StyleView",
            "_model_name": "DescriptionStyleModel",
            "description_width": "",
            "_view_module": "@jupyter-widgets/base",
            "_model_module_version": "1.5.0",
            "_view_count": null,
            "_view_module_version": "1.2.0",
            "_model_module": "@jupyter-widgets/controls"
          }
        },
        "35c8a8f9d1b54411ada15bd5a4164534": {
          "model_module": "@jupyter-widgets/base",
          "model_name": "LayoutModel",
          "state": {
            "_view_name": "LayoutView",
            "grid_template_rows": null,
            "right": null,
            "justify_content": null,
            "_view_module": "@jupyter-widgets/base",
            "overflow": null,
            "_model_module_version": "1.2.0",
            "_view_count": null,
            "flex_flow": null,
            "width": null,
            "min_width": null,
            "border": null,
            "align_items": null,
            "bottom": null,
            "_model_module": "@jupyter-widgets/base",
            "top": null,
            "grid_column": null,
            "overflow_y": null,
            "overflow_x": null,
            "grid_auto_flow": null,
            "grid_area": null,
            "grid_template_columns": null,
            "flex": null,
            "_model_name": "LayoutModel",
            "justify_items": null,
            "grid_row": null,
            "max_height": null,
            "align_content": null,
            "visibility": null,
            "align_self": null,
            "height": null,
            "min_height": null,
            "padding": null,
            "grid_auto_rows": null,
            "grid_gap": null,
            "max_width": null,
            "order": null,
            "_view_module_version": "1.2.0",
            "grid_template_areas": null,
            "object_position": null,
            "object_fit": null,
            "grid_auto_columns": null,
            "margin": null,
            "display": null,
            "left": null
          }
        }
      }
    }
  },
  "cells": [
    {
      "cell_type": "markdown",
      "metadata": {
        "id": "view-in-github",
        "colab_type": "text"
      },
      "source": [
        "<a href=\"https://colab.research.google.com/github/BenRoche18/Im2Calories/blob/master/binary_classification_v1.ipynb\" target=\"_parent\"><img src=\"https://colab.research.google.com/assets/colab-badge.svg\" alt=\"Open In Colab\"/></a>"
      ]
    },
    {
      "cell_type": "markdown",
      "metadata": {
        "id": "jEcUFYXM2aSx",
        "colab_type": "text"
      },
      "source": [
        "# Set up environment"
      ]
    },
    {
      "cell_type": "code",
      "metadata": {
        "id": "dEYIVsXM2Nxf",
        "colab_type": "code",
        "outputId": "cf6ded32-382a-41d2-ac80-cd4ee7967381",
        "colab": {
          "base_uri": "https://localhost:8080/",
          "height": 34
        }
      },
      "source": [
        "%tensorflow_version 2.x\n",
        "import tensorflow as tf\n",
        "import tensorflow_datasets as tfds\n",
        "\n",
        "import os\n",
        "from matplotlib import pyplot as plt\n",
        "import numpy as np"
      ],
      "execution_count": 1,
      "outputs": [
        {
          "output_type": "stream",
          "text": [
            "TensorFlow 2.x selected.\n"
          ],
          "name": "stdout"
        }
      ]
    },
    {
      "cell_type": "markdown",
      "metadata": {
        "id": "Kmhg-R4zPWRh",
        "colab_type": "text"
      },
      "source": [
        "**Mount google drive**\n",
        "\n",
        "Mount google drive that contains project files and set to working directory."
      ]
    },
    {
      "cell_type": "code",
      "metadata": {
        "id": "CpqxfH_tbscH",
        "colab_type": "code",
        "outputId": "fe8c661a-93ed-409e-d430-21c917275e1a",
        "colab": {
          "base_uri": "https://localhost:8080/",
          "height": 34
        }
      },
      "source": [
        "from google.colab import drive\n",
        "drive.mount('/content/drive')\n",
        "\n",
        "PROJECT_DIR = os.path.join(\"drive\", \"My Drive\", \"Im2Calories\")\n",
        "os.chdir(PROJECT_DIR)"
      ],
      "execution_count": 2,
      "outputs": [
        {
          "output_type": "stream",
          "text": [
            "Drive already mounted at /content/drive; to attempt to forcibly remount, call drive.mount(\"/content/drive\", force_remount=True).\n"
          ],
          "name": "stdout"
        }
      ]
    },
    {
      "cell_type": "markdown",
      "metadata": {
        "id": "qfcRypx06pmo",
        "colab_type": "text"
      },
      "source": [
        "**Enable GPU**\n",
        "\n"
      ]
    },
    {
      "cell_type": "code",
      "metadata": {
        "id": "4DcUfW8x6fLB",
        "colab_type": "code",
        "outputId": "192615b0-3642-4412-89f5-8a8d7ace6cab",
        "colab": {
          "base_uri": "https://localhost:8080/",
          "height": 34
        }
      },
      "source": [
        "device_name = tf.test.gpu_device_name()\n",
        "if device_name != '/device:GPU:0':\n",
        "  print('GPU device not found')\n",
        "print('Found GPU at: {}'.format(device_name))"
      ],
      "execution_count": 3,
      "outputs": [
        {
          "output_type": "stream",
          "text": [
            "Found GPU at: /device:GPU:0\n"
          ],
          "name": "stdout"
        }
      ]
    },
    {
      "cell_type": "markdown",
      "metadata": {
        "id": "bPtReFx-_XqJ",
        "colab_type": "text"
      },
      "source": [
        "**Declare parameters**"
      ]
    },
    {
      "cell_type": "code",
      "metadata": {
        "id": "x1sTuOAH_bfA",
        "colab_type": "code",
        "colab": {}
      },
      "source": [
        "INPUT_SIZE = 299\n",
        "SHUFFLE_BUFFER_SIZE = 1000\n",
        "BATCH_SIZE = 32\n",
        "EPOCHS = 1\n",
        "LEARNING_RATE = 0.0001\n",
        "\n",
        "optimizer = tf.keras.optimizers.Adam(LEARNING_RATE)\n",
        "loss_func = \"binary_crossentropy\""
      ],
      "execution_count": 0,
      "outputs": []
    },
    {
      "cell_type": "markdown",
      "metadata": {
        "id": "Ybq9Go2B5S6h",
        "colab_type": "text"
      },
      "source": [
        "# Input data"
      ]
    },
    {
      "cell_type": "markdown",
      "metadata": {
        "id": "vOwIdJoF7TFx",
        "colab_type": "text"
      },
      "source": [
        "**Download 'non-food' dataset**\n",
        "\n",
        "I will use a downsampled ImageNet dataset for the 'non-food' images since it's free to access and has the broadest variety of images. However the images are limited to a resolution of 64x64 and they aren't labelled, so the 51 food classes will be treated as 'non-food'."
      ]
    },
    {
      "cell_type": "code",
      "metadata": {
        "id": "W1hA4nrp7REK",
        "colab_type": "code",
        "outputId": "4235c219-80ae-4cd1-c16e-ec371bf5a845",
        "colab": {
          "base_uri": "https://localhost:8080/",
          "height": 98,
          "referenced_widgets": [
            "12e1730f6096437ea936fe8b28f2f63a",
            "f4ad1fccc149495c8f023dd9399439d4",
            "313181398a91408a9749fa65d30ec4c3",
            "6273aa7ddf194682b466889b07d020c7",
            "ba31c54141214402beedc18610082611",
            "afeab297d8a04cebba968afae090c8b3",
            "c5dd0c1c003b4231bcd02fc684ff9913",
            "567b69122a924ba5af13cdec97f64247",
            "94343c1398a249bfa1ac418b7a979158",
            "d34bfaf632404f049ce9114d6695984f",
            "62d07797b0f24bd480992a8a2ccd4f05",
            "398db793d2864334bc42e84172dc4b6b",
            "f7900725b3534d7eaf7f8cd1a07cf601",
            "1c4dabc76aac459a879af6c0f191014c",
            "943532c7273d407a945834001da30bd2",
            "35c8a8f9d1b54411ada15bd5a4164534"
          ]
        }
      },
      "source": [
        "non_food_train_raw = tfds.load(\"downsampled_imagenet/64x64\", split=\"train\")\n",
        "non_food_val_raw = tfds.load(\"downsampled_imagenet/64x64\", split=\"validation\")"
      ],
      "execution_count": 0,
      "outputs": [
        {
          "output_type": "stream",
          "text": [
            "\u001b[1mDownloading and preparing dataset downsampled_imagenet (11.73 GiB) to /root/tensorflow_datasets/downsampled_imagenet/64x64/1.0.0...\u001b[0m\n"
          ],
          "name": "stdout"
        },
        {
          "output_type": "display_data",
          "data": {
            "application/vnd.jupyter.widget-view+json": {
              "model_id": "12e1730f6096437ea936fe8b28f2f63a",
              "version_minor": 0,
              "version_major": 2
            },
            "text/plain": [
              "HBox(children=(IntProgress(value=1, bar_style='info', description='Dl Completed...', max=1, style=ProgressStyl…"
            ]
          },
          "metadata": {
            "tags": []
          }
        },
        {
          "output_type": "display_data",
          "data": {
            "application/vnd.jupyter.widget-view+json": {
              "model_id": "94343c1398a249bfa1ac418b7a979158",
              "version_minor": 0,
              "version_major": 2
            },
            "text/plain": [
              "HBox(children=(IntProgress(value=1, bar_style='info', description='Dl Size...', max=1, style=ProgressStyle(des…"
            ]
          },
          "metadata": {
            "tags": []
          }
        }
      ]
    },
    {
      "cell_type": "markdown",
      "metadata": {
        "colab_type": "text",
        "id": "LmSAfiLl98I8"
      },
      "source": [
        "**Download 'food' dataset**\n",
        "\n",
        "I will the Food-101 dataset for the 'food' images."
      ]
    },
    {
      "cell_type": "code",
      "metadata": {
        "colab_type": "code",
        "id": "PzyWzpfl98I-",
        "colab": {}
      },
      "source": [
        "food_train_raw = tfds.load(\"food101\", split=\"train[:80]\")\n",
        "food_val_raw = tfds.load(\"food101\", split=\"train[80:]\")"
      ],
      "execution_count": 0,
      "outputs": []
    },
    {
      "cell_type": "markdown",
      "metadata": {
        "id": "BNhBUBxVAebI",
        "colab_type": "text"
      },
      "source": [
        "**Reduce datasets**\n",
        "\n",
        "As this is only a binary classification, it is unnecessary to use the full datasets and we also need to ensure there are the same number of 'non-food' images as food images."
      ]
    },
    {
      "cell_type": "code",
      "metadata": {
        "id": "vMqNHyyaA1VB",
        "colab_type": "code",
        "colab": {}
      },
      "source": [
        "TRAINING_SIZE = 100000\n",
        "VAL_SIZE = 10000\n",
        "\n",
        "food_train_raw = food_train_raw.shuffle(SHUFFLE_BUFFER_SIZE).take(TRAINING_SIZE//2)\n",
        "non_food_train_raw = non_food_train_raw.shuffle(SHUFFLE_BUFFER_SIZE).take(TRAINING_SIZE//2)\n",
        "food_val_raw = food_val_raw.shuffle(SHUFFLE_BUFFER_SIZE).take(VAL_SIZE//2)\n",
        "non_food_val_raw = non_food_val_raw.shuffle(SHUFFLE_BUFFER_SIZE).take(VAL_SIZE//2)"
      ],
      "execution_count": 0,
      "outputs": []
    },
    {
      "cell_type": "markdown",
      "metadata": {
        "id": "70946PYe-nIY",
        "colab_type": "text"
      },
      "source": [
        "**Format and label the images**\n",
        "\n",
        "Next, I will format the images for input into a convolutional neural network by rescaling the values between 0 & 1 and resizing to model input size. I will also label the data by labelling food images 1 and non-food images 0."
      ]
    },
    {
      "cell_type": "code",
      "metadata": {
        "id": "14UAPmrR_KDY",
        "colab_type": "code",
        "colab": {}
      },
      "source": [
        "def formatImage(img):\n",
        "  img = tf.cast(img, tf.float32)\n",
        "  img /= 255\n",
        "  img = tf.image.resize_with_pad(img, INPUT_SIZE, INPUT_SIZE)\n",
        "  return img\n",
        "\n",
        "def formatNonFood(features):\n",
        "  img = features[\"image\"]\n",
        "  img = formatImage(img)\n",
        "  return img, 0\n",
        "\n",
        "def formatFood(features):\n",
        "  img = features[\"image\"]\n",
        "  img = formatImage(img)\n",
        "  return img, 1\n",
        "\n",
        "food_train_raw = food_train_raw.map(formatFood)\n",
        "food_val_raw = food_val_raw.map(formatFood)\n",
        "non_food_train_raw = non_food_train_raw.map(formatNonFood)\n",
        "non_food_val_raw = non_food_val_raw.map(formatNonFood)"
      ],
      "execution_count": 0,
      "outputs": []
    },
    {
      "cell_type": "markdown",
      "metadata": {
        "id": "UU6JVwIGBkIJ",
        "colab_type": "text"
      },
      "source": [
        "**Merge datasets**\n",
        "\n",
        "Concatenate the food and 'non-food' datsets."
      ]
    },
    {
      "cell_type": "code",
      "metadata": {
        "id": "xhlEPa1RBvRO",
        "colab_type": "code",
        "colab": {}
      },
      "source": [
        "train_raw = food_train_raw.concatenate(non_food_train_raw)\n",
        "val_raw = food_val_raw.concatenate(non_food_val_raw)"
      ],
      "execution_count": 0,
      "outputs": []
    },
    {
      "cell_type": "markdown",
      "metadata": {
        "id": "kUC3hsGZDdTm",
        "colab_type": "text"
      },
      "source": [
        "**Prepare dataset**\n",
        "\n",
        "Shuffle and batch the images ready for training on the model."
      ]
    },
    {
      "cell_type": "code",
      "metadata": {
        "id": "jrBsSHs4DcSo",
        "colab_type": "code",
        "colab": {}
      },
      "source": [
        "train_batches = train_raw.shuffle(TRAINING_SIZE).batch(BATCH_SIZE, drop_remainder=True)\n",
        "val_batches = val_raw.batch(BATCH_SIZE, drop_remainder=True) "
      ],
      "execution_count": 0,
      "outputs": []
    },
    {
      "cell_type": "markdown",
      "metadata": {
        "id": "oWHmXNUfDpUO",
        "colab_type": "text"
      },
      "source": [
        "**Show example images**\n",
        "\n",
        "Randomly select and display 20 images from the dataset along with their class (i.e. food or 'non-food')."
      ]
    },
    {
      "cell_type": "code",
      "metadata": {
        "id": "SXl07ZJTD8tO",
        "colab_type": "code",
        "colab": {}
      },
      "source": [
        "cols, rows = 4, 5\n",
        "fig = plt.figure(figsize=(20,10))\n",
        "fig.suptitle(\"Random images from dataset\")\n",
        "\n",
        "examples = train_batches.unbatch().batch(20).as_numpy_iterator()\n",
        "\n",
        "images, labels = next(examples)\n",
        "\n",
        "for i in range(1, cols*rows+1):\n",
        "  fig.add_subplot(rows, cols, i)\n",
        "\n",
        "  img = images[i-1]\n",
        "\n",
        "  if labels[i-1] == 1:\n",
        "    plt.title(\"food\")\n",
        "  else:\n",
        "    plt.title(\"non-food\")\n",
        "\n",
        "  plt.axis(\"off\")\n",
        "  plt.imshow(img, interpolation=\"nearest\")\n",
        "plt.show()"
      ],
      "execution_count": 0,
      "outputs": []
    },
    {
      "cell_type": "markdown",
      "metadata": {
        "id": "xF2Zt_e65WJp",
        "colab_type": "text"
      },
      "source": [
        "# Model\n",
        "\n",
        "In order to train a binary classifier we take a pretrainied Inception model on the ImageNet dataset and replace the classification head with a single logistic node."
      ]
    },
    {
      "cell_type": "code",
      "metadata": {
        "id": "iFQiupNaFUm-",
        "colab_type": "code",
        "colab": {}
      },
      "source": [
        "base_model = tf.keras.applications.InceptionV3(include_top=False)\n",
        "base_model.trainable = False\n",
        "\n",
        "model = tf.keras.Sequential([\n",
        "  base_model,\n",
        "  tf.keras.layers.GlobalAveragePooling2D(),\n",
        "  tf.keras.layers.Dense(1, activation='sigmoid')\n",
        "])\n",
        "\n",
        "model.compile(optimizer=optimizer, loss=loss_func, metrics=[\"accuracy\"])\n",
        "\n",
        "model.summary()"
      ],
      "execution_count": 0,
      "outputs": []
    },
    {
      "cell_type": "markdown",
      "metadata": {
        "id": "-HQWf8t86NXY",
        "colab_type": "text"
      },
      "source": [
        "# Training"
      ]
    },
    {
      "cell_type": "markdown",
      "metadata": {
        "id": "1ucNVGPST-IC",
        "colab_type": "text"
      },
      "source": [
        "**Train the classification head**\n",
        "\n",
        "I now train the classification head of the model on the dataset as the feature extractor part of the model has been frozen."
      ]
    },
    {
      "cell_type": "code",
      "metadata": {
        "id": "vKIYeeP3Hd_2",
        "colab_type": "code",
        "colab": {}
      },
      "source": [
        "history = model.fit(train_batches, validation_data=val_batches, epochs=EPOCHS)"
      ],
      "execution_count": 0,
      "outputs": []
    },
    {
      "cell_type": "markdown",
      "metadata": {
        "id": "KKUjlhEoH1Qd",
        "colab_type": "text"
      },
      "source": [
        "**Save model weights**"
      ]
    },
    {
      "cell_type": "code",
      "metadata": {
        "id": "jMoglSi_H38O",
        "colab_type": "code",
        "colab": {}
      },
      "source": [
        "MODEL_PATH = os.path.join(\"models\", \"binary_classifier_v1.h5\")\n",
        "model.save(MODEL_PATH, overwrite=True)"
      ],
      "execution_count": 0,
      "outputs": []
    },
    {
      "cell_type": "markdown",
      "metadata": {
        "id": "DeJ2ByasT4iT",
        "colab_type": "text"
      },
      "source": [
        "# Evaluate"
      ]
    }
  ]
}